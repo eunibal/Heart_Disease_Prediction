{
 "cells": [
  {
   "cell_type": "markdown",
   "id": "06379459-4954-4ecf-8f42-392075c4b6ef",
   "metadata": {},
   "source": [
    "# Group Project Proposal: Predicting Heart Disease"
   ]
  },
  {
   "cell_type": "markdown",
   "id": "e5f4ab54-ba8d-432d-905a-bda6fb2576f4",
   "metadata": {},
   "source": [
    "# Introduction"
   ]
  },
  {
   "cell_type": "markdown",
   "id": "078f37d3-72ad-42d2-83de-52b07d3cc541",
   "metadata": {},
   "source": [
    "Coronary artery disease, a type of heart disease, is defined by >50% narrowing of the vessel's diameter. Blood pressure is defined by the force of blood against the walls of the arteries, measured in mmHg. Typically, a low maximum heart rate and high resting  blood pressure are associated with health risks, including a higher likelihood of heart disease (Sandvik et al., 1995; Wu et al., 2015). Thus, our group poses the following question: Can resting blood pressure (on admission to the hospital) and maximum heart rate achieved predict heart disease?\n",
    "\n",
    "For our project, we are using the Heart Disease dataset from the UC Irvine Machine Learning Repository (Janosi et al., 1988). The database contains 76 attributes, but all published experiments use only a subset of 14. The data consists of both categorical and integer variable types. There is very little missing data, and the variables we will be looking at do not contain any mising data. In this project, we will be exploring the data to see how different variables interact. "
   ]
  },
  {
   "cell_type": "markdown",
   "id": "ec23a8be-7f91-4d81-9772-02c4827122c0",
   "metadata": {
    "tags": []
   },
   "source": [
    "# 1. Import Libraries"
   ]
  },
  {
   "cell_type": "code",
   "execution_count": 91,
   "id": "8a838818-3adc-4c32-a05f-8561107b0971",
   "metadata": {
    "tags": []
   },
   "outputs": [],
   "source": [
    "#installing -U altair "
   ]
  },
  {
   "cell_type": "code",
   "execution_count": 92,
   "id": "48b9b5f9-0778-4209-9d5f-5644a6262613",
   "metadata": {
    "tags": []
   },
   "outputs": [
    {
     "name": "stdout",
     "output_type": "stream",
     "text": [
      "Requirement already satisfied: altair in /opt/conda/lib/python3.10/site-packages (5.2.0)\n",
      "Requirement already satisfied: packaging in /opt/conda/lib/python3.10/site-packages (from altair) (23.0)\n",
      "Requirement already satisfied: pandas>=0.25 in /opt/conda/lib/python3.10/site-packages (from altair) (1.5.3)\n",
      "Requirement already satisfied: jinja2 in /opt/conda/lib/python3.10/site-packages (from altair) (3.1.2)\n",
      "Requirement already satisfied: numpy in /opt/conda/lib/python3.10/site-packages (from altair) (1.23.5)\n",
      "Requirement already satisfied: typing-extensions>=4.0.1 in /opt/conda/lib/python3.10/site-packages (from altair) (4.4.0)\n",
      "Requirement already satisfied: toolz in /opt/conda/lib/python3.10/site-packages (from altair) (0.12.0)\n",
      "Requirement already satisfied: jsonschema>=3.0 in /opt/conda/lib/python3.10/site-packages (from altair) (4.17.3)\n",
      "Requirement already satisfied: attrs>=17.4.0 in /opt/conda/lib/python3.10/site-packages (from jsonschema>=3.0->altair) (22.2.0)\n",
      "Requirement already satisfied: pyrsistent!=0.17.0,!=0.17.1,!=0.17.2,>=0.14.0 in /opt/conda/lib/python3.10/site-packages (from jsonschema>=3.0->altair) (0.19.3)\n",
      "Requirement already satisfied: python-dateutil>=2.8.1 in /opt/conda/lib/python3.10/site-packages (from pandas>=0.25->altair) (2.8.2)\n",
      "Requirement already satisfied: pytz>=2020.1 in /opt/conda/lib/python3.10/site-packages (from pandas>=0.25->altair) (2022.7.1)\n",
      "Requirement already satisfied: MarkupSafe>=2.0 in /opt/conda/lib/python3.10/site-packages (from jinja2->altair) (2.1.2)\n",
      "Requirement already satisfied: six>=1.5 in /opt/conda/lib/python3.10/site-packages (from python-dateutil>=2.8.1->pandas>=0.25->altair) (1.16.0)\n"
     ]
    }
   ],
   "source": [
    "!pip install  -U altair"
   ]
  },
  {
   "cell_type": "code",
   "execution_count": 93,
   "id": "c9cce622-ae44-40f8-b876-200b7207ab82",
   "metadata": {
    "tags": []
   },
   "outputs": [
    {
     "name": "stdout",
     "output_type": "stream",
     "text": [
      "Requirement already satisfied: ucimlrepo in /opt/conda/lib/python3.10/site-packages (0.0.3)\n"
     ]
    }
   ],
   "source": [
    "#pip installs and necessary libraries \n",
    "!pip install ucimlrepo"
   ]
  },
  {
   "cell_type": "markdown",
   "id": "f9a65ef2-0541-4110-9123-8cb44f9965e1",
   "metadata": {},
   "source": [
    "In this step, we'll import the following libraries: Altair, which provides statistical visualization for Python, Pandas for cleaning, manipulating, and analyzing data, and NumPy to access large datasets with efficiency and less storage capacity.  \n",
    "We'll also utilize the Scikit-learn library to access its machine learning and statistical modelling capabilities."
   ]
  },
  {
   "cell_type": "code",
   "execution_count": 94,
   "id": "5712c25e-df40-4704-8248-aa0cb67065d7",
   "metadata": {
    "tags": []
   },
   "outputs": [],
   "source": [
    "import altair as alt\n",
    "import pandas as pd\n",
    "import numpy as np\n",
    "from sklearn.model_selection import (\n",
    "    GridSearchCV,\n",
    "    RandomizedSearchCV,\n",
    "    cross_validate,\n",
    "    train_test_split,\n",
    ")\n",
    "from sklearn.preprocessing import StandardScaler\n",
    "from sklearn.compose import make_column_transformer\n",
    "from sklearn.neighbors import KNeighborsClassifier\n",
    "from sklearn.pipeline import make_pipeline"
   ]
  },
  {
   "cell_type": "code",
   "execution_count": 95,
   "id": "6e982656-236d-424c-829e-d3e0f7d01d95",
   "metadata": {
    "tags": []
   },
   "outputs": [],
   "source": [
    "from ucimlrepo import fetch_ucirepo "
   ]
  },
  {
   "cell_type": "markdown",
   "id": "6d2cb7f0-b83f-4805-9194-b5e60f0f37af",
   "metadata": {},
   "source": [
    "# 2. Uploading the data"
   ]
  },
  {
   "cell_type": "code",
   "execution_count": 96,
   "id": "5d636c65-39d9-4022-9150-818fe220fea0",
   "metadata": {
    "tags": []
   },
   "outputs": [],
   "source": [
    "#uploading the data "
   ]
  },
  {
   "cell_type": "markdown",
   "id": "7ec56ad0-ea63-45b4-b632-bf098e55b4eb",
   "metadata": {},
   "source": [
    "Here, we're trying to access the description of the dataset variables and other vital information for further manipulation and analysis. As an example, by running the metadata() function, our group fetched details about certain column specifications (demographics: \"Age\" and \"Sex), the URL, and database locations. "
   ]
  },
  {
   "cell_type": "code",
   "execution_count": 97,
   "id": "eda596d9-0aea-4b24-8765-752213d7d986",
   "metadata": {
    "tags": []
   },
   "outputs": [
    {
     "data": {
      "text/plain": [
       "{'uci_id': 45,\n",
       " 'name': 'Heart Disease',\n",
       " 'repository_url': 'https://archive.ics.uci.edu/dataset/45/heart+disease',\n",
       " 'data_url': 'https://archive.ics.uci.edu/static/public/45/data.csv',\n",
       " 'abstract': '4 databases: Cleveland, Hungary, Switzerland, and the VA Long Beach',\n",
       " 'area': 'Health and Medicine',\n",
       " 'tasks': ['Classification'],\n",
       " 'characteristics': ['Multivariate'],\n",
       " 'num_instances': 303,\n",
       " 'num_features': 13,\n",
       " 'feature_types': ['Categorical', 'Integer', 'Real'],\n",
       " 'demographics': ['Age', 'Sex'],\n",
       " 'target_col': ['num'],\n",
       " 'index_col': None,\n",
       " 'has_missing_values': 'yes',\n",
       " 'missing_values_symbol': 'NaN',\n",
       " 'year_of_dataset_creation': 1989,\n",
       " 'last_updated': 'Fri Nov 03 2023',\n",
       " 'dataset_doi': '10.24432/C52P4X',\n",
       " 'creators': ['Andras Janosi',\n",
       "  'William Steinbrunn',\n",
       "  'Matthias Pfisterer',\n",
       "  'Robert Detrano'],\n",
       " 'intro_paper': {'title': 'International application of a new probability algorithm for the diagnosis of coronary artery disease.',\n",
       "  'authors': 'R. Detrano, A. Jánosi, W. Steinbrunn, M. Pfisterer, J. Schmid, S. Sandhu, K. Guppy, S. Lee, V. Froelicher',\n",
       "  'published_in': 'American Journal of Cardiology',\n",
       "  'year': 1989,\n",
       "  'url': 'https://www.semanticscholar.org/paper/a7d714f8f87bfc41351eb5ae1e5472f0ebbe0574',\n",
       "  'doi': None},\n",
       " 'additional_info': {'summary': 'This database contains 76 attributes, but all published experiments refer to using a subset of 14 of them.  In particular, the Cleveland database is the only one that has been used by ML researchers to date.  The \"goal\" field refers to the presence of heart disease in the patient.  It is integer valued from 0 (no presence) to 4. Experiments with the Cleveland database have concentrated on simply attempting to distinguish presence (values 1,2,3,4) from absence (value 0).  \\n   \\nThe names and social security numbers of the patients were recently removed from the database, replaced with dummy values.\\n\\nOne file has been \"processed\", that one containing the Cleveland database.  All four unprocessed files also exist in this directory.\\n\\nTo see Test Costs (donated by Peter Turney), please see the folder \"Costs\" ',\n",
       "  'purpose': None,\n",
       "  'funded_by': None,\n",
       "  'instances_represent': None,\n",
       "  'recommended_data_splits': None,\n",
       "  'sensitive_data': None,\n",
       "  'preprocessing_description': None,\n",
       "  'variable_info': 'Only 14 attributes used:\\r\\n      1. #3  (age)       \\r\\n      2. #4  (sex)       \\r\\n      3. #9  (cp)        \\r\\n      4. #10 (trestbps)  \\r\\n      5. #12 (chol)      \\r\\n      6. #16 (fbs)       \\r\\n      7. #19 (restecg)   \\r\\n      8. #32 (thalach)   \\r\\n      9. #38 (exang)     \\r\\n      10. #40 (oldpeak)   \\r\\n      11. #41 (slope)     \\r\\n      12. #44 (ca)        \\r\\n      13. #51 (thal)      \\r\\n      14. #58 (num)       (the predicted attribute)\\r\\n\\r\\nComplete attribute documentation:\\r\\n      1 id: patient identification number\\r\\n      2 ccf: social security number (I replaced this with a dummy value of 0)\\r\\n      3 age: age in years\\r\\n      4 sex: sex (1 = male; 0 = female)\\r\\n      5 painloc: chest pain location (1 = substernal; 0 = otherwise)\\r\\n      6 painexer (1 = provoked by exertion; 0 = otherwise)\\r\\n      7 relrest (1 = relieved after rest; 0 = otherwise)\\r\\n      8 pncaden (sum of 5, 6, and 7)\\r\\n      9 cp: chest pain type\\r\\n        -- Value 1: typical angina\\r\\n        -- Value 2: atypical angina\\r\\n        -- Value 3: non-anginal pain\\r\\n        -- Value 4: asymptomatic\\r\\n     10 trestbps: resting blood pressure (in mm Hg on admission to the hospital)\\r\\n     11 htn\\r\\n     12 chol: serum cholestoral in mg/dl\\r\\n     13 smoke: I believe this is 1 = yes; 0 = no (is or is not a smoker)\\r\\n     14 cigs (cigarettes per day)\\r\\n     15 years (number of years as a smoker)\\r\\n     16 fbs: (fasting blood sugar > 120 mg/dl)  (1 = true; 0 = false)\\r\\n     17 dm (1 = history of diabetes; 0 = no such history)\\r\\n     18 famhist: family history of coronary artery disease (1 = yes; 0 = no)\\r\\n     19 restecg: resting electrocardiographic results\\r\\n        -- Value 0: normal\\r\\n        -- Value 1: having ST-T wave abnormality (T wave inversions and/or ST elevation or depression of > 0.05 mV)\\r\\n        -- Value 2: showing probable or definite left ventricular hypertrophy by Estes\\' criteria\\r\\n     20 ekgmo (month of exercise ECG reading)\\r\\n     21 ekgday(day of exercise ECG reading)\\r\\n     22 ekgyr (year of exercise ECG reading)\\r\\n     23 dig (digitalis used furing exercise ECG: 1 = yes; 0 = no)\\r\\n     24 prop (Beta blocker used during exercise ECG: 1 = yes; 0 = no)\\r\\n     25 nitr (nitrates used during exercise ECG: 1 = yes; 0 = no)\\r\\n     26 pro (calcium channel blocker used during exercise ECG: 1 = yes; 0 = no)\\r\\n     27 diuretic (diuretic used used during exercise ECG: 1 = yes; 0 = no)\\r\\n     28 proto: exercise protocol\\r\\n          1 = Bruce     \\r\\n          2 = Kottus\\r\\n          3 = McHenry\\r\\n          4 = fast Balke\\r\\n          5 = Balke\\r\\n          6 = Noughton \\r\\n          7 = bike 150 kpa min/min  (Not sure if \"kpa min/min\" is what was written!)\\r\\n          8 = bike 125 kpa min/min  \\r\\n          9 = bike 100 kpa min/min\\r\\n         10 = bike 75 kpa min/min\\r\\n         11 = bike 50 kpa min/min\\r\\n         12 = arm ergometer\\r\\n     29 thaldur: duration of exercise test in minutes\\r\\n     30 thaltime: time when ST measure depression was noted\\r\\n     31 met: mets achieved\\r\\n     32 thalach: maximum heart rate achieved\\r\\n     33 thalrest: resting heart rate\\r\\n     34 tpeakbps: peak exercise blood pressure (first of 2 parts)\\r\\n     35 tpeakbpd: peak exercise blood pressure (second of 2 parts)\\r\\n     36 dummy\\r\\n     37 trestbpd: resting blood pressure\\r\\n     38 exang: exercise induced angina (1 = yes; 0 = no)\\r\\n     39 xhypo: (1 = yes; 0 = no)\\r\\n     40 oldpeak = ST depression induced by exercise relative to rest\\r\\n     41 slope: the slope of the peak exercise ST segment\\r\\n        -- Value 1: upsloping\\r\\n        -- Value 2: flat\\r\\n        -- Value 3: downsloping\\r\\n     42 rldv5: height at rest\\r\\n     43 rldv5e: height at peak exercise\\r\\n     44 ca: number of major vessels (0-3) colored by flourosopy\\r\\n     45 restckm: irrelevant\\r\\n     46 exerckm: irrelevant\\r\\n     47 restef: rest raidonuclid (sp?) ejection fraction\\r\\n     48 restwm: rest wall (sp?) motion abnormality\\r\\n        0 = none\\r\\n        1 = mild or moderate\\r\\n        2 = moderate or severe\\r\\n        3 = akinesis or dyskmem (sp?)\\r\\n     49 exeref: exercise radinalid (sp?) ejection fraction\\r\\n     50 exerwm: exercise wall (sp?) motion \\r\\n     51 thal: 3 = normal; 6 = fixed defect; 7 = reversable defect\\r\\n     52 thalsev: not used\\r\\n     53 thalpul: not used\\r\\n     54 earlobe: not used\\r\\n     55 cmo: month of cardiac cath (sp?)  (perhaps \"call\")\\r\\n     56 cday: day of cardiac cath (sp?)\\r\\n     57 cyr: year of cardiac cath (sp?)\\r\\n     58 num: diagnosis of heart disease (angiographic disease status)\\r\\n        -- Value 0: < 50% diameter narrowing\\r\\n        -- Value 1: > 50% diameter narrowing\\r\\n        (in any major vessel: attributes 59 through 68 are vessels)\\r\\n     59 lmt\\r\\n     60 ladprox\\r\\n     61 laddist\\r\\n     62 diag\\r\\n     63 cxmain\\r\\n     64 ramus\\r\\n     65 om1\\r\\n     66 om2\\r\\n     67 rcaprox\\r\\n     68 rcadist\\r\\n     69 lvx1: not used\\r\\n     70 lvx2: not used\\r\\n     71 lvx3: not used\\r\\n     72 lvx4: not used\\r\\n     73 lvf: not used\\r\\n     74 cathef: not used\\r\\n     75 junk: not used\\r\\n     76 name: last name of patient  (I replaced this with the dummy string \"name\")',\n",
       "  'citation': None}}"
      ]
     },
     "execution_count": 97,
     "metadata": {},
     "output_type": "execute_result"
    }
   ],
   "source": [
    "# fetch dataset \n",
    "heart_disease = fetch_ucirepo(id=45) \n",
    "  \n",
    "# data (as pandas dataframes) \n",
    "X = heart_disease.data.features \n",
    "y = heart_disease.data.targets \n",
    "  \n",
    "# metadata \n",
    "heart_disease.metadata"
   ]
  },
  {
   "cell_type": "markdown",
   "id": "d25d564b-6cc8-4270-8c52-943200266265",
   "metadata": {},
   "source": [
    "***Fig.1***: Exploring Heart Disease Dataset: Fetching Data, Extracting Features (X) and Targets (y), and Examining Metadata Information."
   ]
  },
  {
   "cell_type": "code",
   "execution_count": 98,
   "id": "67ab91d2-f845-460f-b016-556f2985d51f",
   "metadata": {
    "tags": []
   },
   "outputs": [
    {
     "data": {
      "text/html": [
       "<div>\n",
       "<style scoped>\n",
       "    .dataframe tbody tr th:only-of-type {\n",
       "        vertical-align: middle;\n",
       "    }\n",
       "\n",
       "    .dataframe tbody tr th {\n",
       "        vertical-align: top;\n",
       "    }\n",
       "\n",
       "    .dataframe thead th {\n",
       "        text-align: right;\n",
       "    }\n",
       "</style>\n",
       "<table border=\"1\" class=\"dataframe\">\n",
       "  <thead>\n",
       "    <tr style=\"text-align: right;\">\n",
       "      <th></th>\n",
       "      <th>name</th>\n",
       "      <th>role</th>\n",
       "      <th>type</th>\n",
       "      <th>demographic</th>\n",
       "      <th>description</th>\n",
       "      <th>units</th>\n",
       "      <th>missing_values</th>\n",
       "    </tr>\n",
       "  </thead>\n",
       "  <tbody>\n",
       "    <tr>\n",
       "      <th>0</th>\n",
       "      <td>age</td>\n",
       "      <td>Feature</td>\n",
       "      <td>Integer</td>\n",
       "      <td>Age</td>\n",
       "      <td>None</td>\n",
       "      <td>years</td>\n",
       "      <td>no</td>\n",
       "    </tr>\n",
       "    <tr>\n",
       "      <th>1</th>\n",
       "      <td>sex</td>\n",
       "      <td>Feature</td>\n",
       "      <td>Categorical</td>\n",
       "      <td>Sex</td>\n",
       "      <td>None</td>\n",
       "      <td>None</td>\n",
       "      <td>no</td>\n",
       "    </tr>\n",
       "    <tr>\n",
       "      <th>2</th>\n",
       "      <td>cp</td>\n",
       "      <td>Feature</td>\n",
       "      <td>Categorical</td>\n",
       "      <td>None</td>\n",
       "      <td>None</td>\n",
       "      <td>None</td>\n",
       "      <td>no</td>\n",
       "    </tr>\n",
       "    <tr>\n",
       "      <th>3</th>\n",
       "      <td>trestbps</td>\n",
       "      <td>Feature</td>\n",
       "      <td>Integer</td>\n",
       "      <td>None</td>\n",
       "      <td>resting blood pressure (on admission to the ho...</td>\n",
       "      <td>mm Hg</td>\n",
       "      <td>no</td>\n",
       "    </tr>\n",
       "    <tr>\n",
       "      <th>4</th>\n",
       "      <td>chol</td>\n",
       "      <td>Feature</td>\n",
       "      <td>Integer</td>\n",
       "      <td>None</td>\n",
       "      <td>serum cholestoral</td>\n",
       "      <td>mg/dl</td>\n",
       "      <td>no</td>\n",
       "    </tr>\n",
       "  </tbody>\n",
       "</table>\n",
       "</div>"
      ],
      "text/plain": [
       "       name     role         type demographic  \\\n",
       "0       age  Feature      Integer         Age   \n",
       "1       sex  Feature  Categorical         Sex   \n",
       "2        cp  Feature  Categorical        None   \n",
       "3  trestbps  Feature      Integer        None   \n",
       "4      chol  Feature      Integer        None   \n",
       "\n",
       "                                         description  units missing_values  \n",
       "0                                               None  years             no  \n",
       "1                                               None   None             no  \n",
       "2                                               None   None             no  \n",
       "3  resting blood pressure (on admission to the ho...  mm Hg             no  \n",
       "4                                  serum cholestoral  mg/dl             no  "
      ]
     },
     "execution_count": 98,
     "metadata": {},
     "output_type": "execute_result"
    }
   ],
   "source": [
    "# variable information \n",
    "heart_disease.variables.head(5)"
   ]
  },
  {
   "cell_type": "markdown",
   "id": "4cc13128-c256-4738-b0ce-007383d6e14c",
   "metadata": {},
   "source": [
    "***Table 1***: First 5 rows of the original Heart Disease dataset used in this report "
   ]
  },
  {
   "cell_type": "code",
   "execution_count": 99,
   "id": "974a1a7b-26b1-40fd-a305-acaad8303b56",
   "metadata": {
    "tags": []
   },
   "outputs": [],
   "source": [
    "#set dataset url to a variable and read in the dataset "
   ]
  },
  {
   "cell_type": "code",
   "execution_count": 100,
   "id": "a774298e-25c5-4dcc-92d5-74d2c57fa4ef",
   "metadata": {
    "tags": []
   },
   "outputs": [
    {
     "data": {
      "text/html": [
       "<div>\n",
       "<style scoped>\n",
       "    .dataframe tbody tr th:only-of-type {\n",
       "        vertical-align: middle;\n",
       "    }\n",
       "\n",
       "    .dataframe tbody tr th {\n",
       "        vertical-align: top;\n",
       "    }\n",
       "\n",
       "    .dataframe thead th {\n",
       "        text-align: right;\n",
       "    }\n",
       "</style>\n",
       "<table border=\"1\" class=\"dataframe\">\n",
       "  <thead>\n",
       "    <tr style=\"text-align: right;\">\n",
       "      <th></th>\n",
       "      <th>age</th>\n",
       "      <th>sex</th>\n",
       "      <th>cp</th>\n",
       "      <th>trestbps</th>\n",
       "      <th>chol</th>\n",
       "      <th>fbs</th>\n",
       "      <th>restecg</th>\n",
       "      <th>thalach</th>\n",
       "      <th>exang</th>\n",
       "      <th>oldpeak</th>\n",
       "      <th>slope</th>\n",
       "      <th>ca</th>\n",
       "      <th>thal</th>\n",
       "      <th>num</th>\n",
       "    </tr>\n",
       "  </thead>\n",
       "  <tbody>\n",
       "    <tr>\n",
       "      <th>0</th>\n",
       "      <td>63</td>\n",
       "      <td>1</td>\n",
       "      <td>1</td>\n",
       "      <td>145</td>\n",
       "      <td>233</td>\n",
       "      <td>1</td>\n",
       "      <td>2</td>\n",
       "      <td>150</td>\n",
       "      <td>0</td>\n",
       "      <td>2.3</td>\n",
       "      <td>3</td>\n",
       "      <td>0.0</td>\n",
       "      <td>6.0</td>\n",
       "      <td>0</td>\n",
       "    </tr>\n",
       "    <tr>\n",
       "      <th>1</th>\n",
       "      <td>67</td>\n",
       "      <td>1</td>\n",
       "      <td>4</td>\n",
       "      <td>160</td>\n",
       "      <td>286</td>\n",
       "      <td>0</td>\n",
       "      <td>2</td>\n",
       "      <td>108</td>\n",
       "      <td>1</td>\n",
       "      <td>1.5</td>\n",
       "      <td>2</td>\n",
       "      <td>3.0</td>\n",
       "      <td>3.0</td>\n",
       "      <td>2</td>\n",
       "    </tr>\n",
       "    <tr>\n",
       "      <th>2</th>\n",
       "      <td>67</td>\n",
       "      <td>1</td>\n",
       "      <td>4</td>\n",
       "      <td>120</td>\n",
       "      <td>229</td>\n",
       "      <td>0</td>\n",
       "      <td>2</td>\n",
       "      <td>129</td>\n",
       "      <td>1</td>\n",
       "      <td>2.6</td>\n",
       "      <td>2</td>\n",
       "      <td>2.0</td>\n",
       "      <td>7.0</td>\n",
       "      <td>1</td>\n",
       "    </tr>\n",
       "    <tr>\n",
       "      <th>3</th>\n",
       "      <td>37</td>\n",
       "      <td>1</td>\n",
       "      <td>3</td>\n",
       "      <td>130</td>\n",
       "      <td>250</td>\n",
       "      <td>0</td>\n",
       "      <td>0</td>\n",
       "      <td>187</td>\n",
       "      <td>0</td>\n",
       "      <td>3.5</td>\n",
       "      <td>3</td>\n",
       "      <td>0.0</td>\n",
       "      <td>3.0</td>\n",
       "      <td>0</td>\n",
       "    </tr>\n",
       "    <tr>\n",
       "      <th>4</th>\n",
       "      <td>41</td>\n",
       "      <td>0</td>\n",
       "      <td>2</td>\n",
       "      <td>130</td>\n",
       "      <td>204</td>\n",
       "      <td>0</td>\n",
       "      <td>2</td>\n",
       "      <td>172</td>\n",
       "      <td>0</td>\n",
       "      <td>1.4</td>\n",
       "      <td>1</td>\n",
       "      <td>0.0</td>\n",
       "      <td>3.0</td>\n",
       "      <td>0</td>\n",
       "    </tr>\n",
       "  </tbody>\n",
       "</table>\n",
       "</div>"
      ],
      "text/plain": [
       "   age  sex  cp  trestbps  chol  fbs  restecg  thalach  exang  oldpeak  slope  \\\n",
       "0   63    1   1       145   233    1        2      150      0      2.3      3   \n",
       "1   67    1   4       160   286    0        2      108      1      1.5      2   \n",
       "2   67    1   4       120   229    0        2      129      1      2.6      2   \n",
       "3   37    1   3       130   250    0        0      187      0      3.5      3   \n",
       "4   41    0   2       130   204    0        2      172      0      1.4      1   \n",
       "\n",
       "    ca  thal  num  \n",
       "0  0.0   6.0    0  \n",
       "1  3.0   3.0    2  \n",
       "2  2.0   7.0    1  \n",
       "3  0.0   3.0    0  \n",
       "4  0.0   3.0    0  "
      ]
     },
     "execution_count": 100,
     "metadata": {},
     "output_type": "execute_result"
    }
   ],
   "source": [
    "url = \"https://archive.ics.uci.edu/static/public/45/data.csv\"\n",
    "heart_disease = pd.read_csv(url)\n",
    "heart_disease = pd.DataFrame(heart_disease)\n",
    "heart_disease.head(5)"
   ]
  },
  {
   "cell_type": "markdown",
   "id": "0f8d1a3d-f1b6-4aa2-9803-2ac54b9a3758",
   "metadata": {},
   "source": [
    "***Table 2:*** First 5 rows of the variables from the original Heart disease dataset"
   ]
  },
  {
   "cell_type": "markdown",
   "id": "d06d209e-c6e7-4f1e-bf87-5872ee71337e",
   "metadata": {},
   "source": [
    "# 3. Cleaning data "
   ]
  },
  {
   "cell_type": "markdown",
   "id": "135dc56c-5aa0-4bda-8dd7-ee73a2e14ac6",
   "metadata": {
    "tags": []
   },
   "source": [
    "Selecting columns and cleaning/removing NAN"
   ]
  },
  {
   "cell_type": "code",
   "execution_count": 101,
   "id": "5b2f8bac-b74c-4c28-b088-f33920483e9b",
   "metadata": {
    "tags": []
   },
   "outputs": [
    {
     "data": {
      "text/plain": [
       "Index(['age', 'sex', 'cp', 'trestbps', 'chol', 'fbs', 'restecg', 'thalach',\n",
       "       'exang', 'oldpeak', 'slope', 'ca', 'thal', 'num'],\n",
       "      dtype='object')"
      ]
     },
     "execution_count": 101,
     "metadata": {},
     "output_type": "execute_result"
    }
   ],
   "source": [
    "heart_disease.columns "
   ]
  },
  {
   "cell_type": "markdown",
   "id": "0bd38a73-25a0-4f64-8db5-c331eef2b602",
   "metadata": {},
   "source": [
    "***Fig.2***: Heart Disease Dataset Columns: Displaying the Features and Targets Present in the Dataset."
   ]
  },
  {
   "cell_type": "markdown",
   "id": "6299d9a0-e7b9-4642-9fdd-7fd0e2bd25c6",
   "metadata": {},
   "source": [
    "Since we're mostly interested in the \"trestbps\", \"chol\", and \"num\" variables to answer our research question, we'll be filtering the data set to only include these columns."
   ]
  },
  {
   "cell_type": "code",
   "execution_count": 102,
   "id": "6ddac784-0d7f-435b-bb79-eec42176344c",
   "metadata": {
    "tags": []
   },
   "outputs": [],
   "source": [
    "heart_disease_filtered = heart_disease.loc[:,['trestbps', 'chol', 'num']]"
   ]
  },
  {
   "cell_type": "code",
   "execution_count": 103,
   "id": "cf7132ab-c829-471b-ae29-f6c88da86586",
   "metadata": {
    "tags": []
   },
   "outputs": [
    {
     "data": {
      "text/html": [
       "<div>\n",
       "<style scoped>\n",
       "    .dataframe tbody tr th:only-of-type {\n",
       "        vertical-align: middle;\n",
       "    }\n",
       "\n",
       "    .dataframe tbody tr th {\n",
       "        vertical-align: top;\n",
       "    }\n",
       "\n",
       "    .dataframe thead th {\n",
       "        text-align: right;\n",
       "    }\n",
       "</style>\n",
       "<table border=\"1\" class=\"dataframe\">\n",
       "  <thead>\n",
       "    <tr style=\"text-align: right;\">\n",
       "      <th></th>\n",
       "      <th>trestbps</th>\n",
       "      <th>chol</th>\n",
       "      <th>num</th>\n",
       "    </tr>\n",
       "  </thead>\n",
       "  <tbody>\n",
       "    <tr>\n",
       "      <th>0</th>\n",
       "      <td>145</td>\n",
       "      <td>233</td>\n",
       "      <td>0</td>\n",
       "    </tr>\n",
       "    <tr>\n",
       "      <th>1</th>\n",
       "      <td>160</td>\n",
       "      <td>286</td>\n",
       "      <td>2</td>\n",
       "    </tr>\n",
       "    <tr>\n",
       "      <th>2</th>\n",
       "      <td>120</td>\n",
       "      <td>229</td>\n",
       "      <td>1</td>\n",
       "    </tr>\n",
       "    <tr>\n",
       "      <th>3</th>\n",
       "      <td>130</td>\n",
       "      <td>250</td>\n",
       "      <td>0</td>\n",
       "    </tr>\n",
       "    <tr>\n",
       "      <th>4</th>\n",
       "      <td>130</td>\n",
       "      <td>204</td>\n",
       "      <td>0</td>\n",
       "    </tr>\n",
       "  </tbody>\n",
       "</table>\n",
       "</div>"
      ],
      "text/plain": [
       "   trestbps  chol  num\n",
       "0       145   233    0\n",
       "1       160   286    2\n",
       "2       120   229    1\n",
       "3       130   250    0\n",
       "4       130   204    0"
      ]
     },
     "execution_count": 103,
     "metadata": {},
     "output_type": "execute_result"
    }
   ],
   "source": [
    "heart_disease_filtered.head(5)"
   ]
  },
  {
   "cell_type": "markdown",
   "id": "4b904362-3b1d-4d32-8e5c-eddcdc5c6901",
   "metadata": {},
   "source": [
    "***Table 3***: the loaded data set after it was filtered to only contain the Serum Cholestoral, resting blood pressure, and diagnosis values. "
   ]
  },
  {
   "cell_type": "markdown",
   "id": "5ddff94e-0c20-4e94-a029-4448c48ff2eb",
   "metadata": {},
   "source": [
    "# 4. Data splitting "
   ]
  },
  {
   "cell_type": "markdown",
   "id": "e174f211-dec5-4cd4-ac31-096aea547226",
   "metadata": {},
   "source": [
    "In this step, we split the data into training and testing sets randomly with state 123"
   ]
  },
  {
   "cell_type": "code",
   "execution_count": 104,
   "id": "9484e5db-343a-445e-81b7-8affecc0d92e",
   "metadata": {
    "tags": []
   },
   "outputs": [
    {
     "data": {
      "text/html": [
       "<div>\n",
       "<style scoped>\n",
       "    .dataframe tbody tr th:only-of-type {\n",
       "        vertical-align: middle;\n",
       "    }\n",
       "\n",
       "    .dataframe tbody tr th {\n",
       "        vertical-align: top;\n",
       "    }\n",
       "\n",
       "    .dataframe thead th {\n",
       "        text-align: right;\n",
       "    }\n",
       "</style>\n",
       "<table border=\"1\" class=\"dataframe\">\n",
       "  <thead>\n",
       "    <tr style=\"text-align: right;\">\n",
       "      <th></th>\n",
       "      <th>trestbps</th>\n",
       "      <th>chol</th>\n",
       "      <th>num</th>\n",
       "    </tr>\n",
       "  </thead>\n",
       "  <tbody>\n",
       "    <tr>\n",
       "      <th>36</th>\n",
       "      <td>120</td>\n",
       "      <td>177</td>\n",
       "      <td>3</td>\n",
       "    </tr>\n",
       "    <tr>\n",
       "      <th>148</th>\n",
       "      <td>128</td>\n",
       "      <td>308</td>\n",
       "      <td>0</td>\n",
       "    </tr>\n",
       "    <tr>\n",
       "      <th>21</th>\n",
       "      <td>150</td>\n",
       "      <td>283</td>\n",
       "      <td>0</td>\n",
       "    </tr>\n",
       "    <tr>\n",
       "      <th>187</th>\n",
       "      <td>160</td>\n",
       "      <td>246</td>\n",
       "      <td>2</td>\n",
       "    </tr>\n",
       "    <tr>\n",
       "      <th>161</th>\n",
       "      <td>125</td>\n",
       "      <td>304</td>\n",
       "      <td>4</td>\n",
       "    </tr>\n",
       "  </tbody>\n",
       "</table>\n",
       "</div>"
      ],
      "text/plain": [
       "     trestbps  chol  num\n",
       "36        120   177    3\n",
       "148       128   308    0\n",
       "21        150   283    0\n",
       "187       160   246    2\n",
       "161       125   304    4"
      ]
     },
     "execution_count": 104,
     "metadata": {},
     "output_type": "execute_result"
    }
   ],
   "source": [
    "heart_traindata, heart_testdata = train_test_split(heart_disease_filtered, test_size=0.25, random_state=123)\n",
    "heart_traindata.head(5)"
   ]
  },
  {
   "cell_type": "markdown",
   "id": "88a21d67-181c-4fc9-8f7c-acef241480ec",
   "metadata": {
    "tags": []
   },
   "source": [
    "***Table 4***: the training values from the filtered, splitted data set"
   ]
  },
  {
   "cell_type": "code",
   "execution_count": 105,
   "id": "79e3d996-055b-4b30-b591-3c6542a3226b",
   "metadata": {
    "tags": []
   },
   "outputs": [
    {
     "data": {
      "text/html": [
       "<div>\n",
       "<style scoped>\n",
       "    .dataframe tbody tr th:only-of-type {\n",
       "        vertical-align: middle;\n",
       "    }\n",
       "\n",
       "    .dataframe tbody tr th {\n",
       "        vertical-align: top;\n",
       "    }\n",
       "\n",
       "    .dataframe thead th {\n",
       "        text-align: right;\n",
       "    }\n",
       "</style>\n",
       "<table border=\"1\" class=\"dataframe\">\n",
       "  <thead>\n",
       "    <tr style=\"text-align: right;\">\n",
       "      <th></th>\n",
       "      <th>trestbps</th>\n",
       "      <th>chol</th>\n",
       "      <th>num</th>\n",
       "    </tr>\n",
       "  </thead>\n",
       "  <tbody>\n",
       "    <tr>\n",
       "      <th>11</th>\n",
       "      <td>140</td>\n",
       "      <td>294</td>\n",
       "      <td>0</td>\n",
       "    </tr>\n",
       "    <tr>\n",
       "      <th>292</th>\n",
       "      <td>120</td>\n",
       "      <td>169</td>\n",
       "      <td>2</td>\n",
       "    </tr>\n",
       "    <tr>\n",
       "      <th>269</th>\n",
       "      <td>130</td>\n",
       "      <td>180</td>\n",
       "      <td>0</td>\n",
       "    </tr>\n",
       "    <tr>\n",
       "      <th>268</th>\n",
       "      <td>152</td>\n",
       "      <td>223</td>\n",
       "      <td>1</td>\n",
       "    </tr>\n",
       "    <tr>\n",
       "      <th>94</th>\n",
       "      <td>135</td>\n",
       "      <td>252</td>\n",
       "      <td>0</td>\n",
       "    </tr>\n",
       "  </tbody>\n",
       "</table>\n",
       "</div>"
      ],
      "text/plain": [
       "     trestbps  chol  num\n",
       "11        140   294    0\n",
       "292       120   169    2\n",
       "269       130   180    0\n",
       "268       152   223    1\n",
       "94        135   252    0"
      ]
     },
     "execution_count": 105,
     "metadata": {},
     "output_type": "execute_result"
    }
   ],
   "source": [
    "heart_traindata, heart_testdata = train_test_split(heart_disease_filtered, test_size=0.25, random_state=123)\n",
    "heart_testdata.head(5)"
   ]
  },
  {
   "cell_type": "markdown",
   "id": "557549eb-8a80-4990-9202-99a8c83c5e93",
   "metadata": {},
   "source": [
    "***Table 5***: the testing values from the filtered, splitted data set"
   ]
  },
  {
   "cell_type": "markdown",
   "id": "93e8da3a-c4d6-4dd4-8807-9665dc6fe878",
   "metadata": {},
   "source": [
    "# 5. Exploring the Dataset "
   ]
  },
  {
   "cell_type": "code",
   "execution_count": 106,
   "id": "ab748475-1096-4ad6-972d-821dc4e416d8",
   "metadata": {
    "tags": []
   },
   "outputs": [],
   "source": [
    "#Playing with data and ploting to explore"
   ]
  },
  {
   "cell_type": "markdown",
   "id": "79457841-dcfd-4a16-8b92-47950a483a02",
   "metadata": {},
   "source": [
    "In this section of our analysis, we're plotting each of the two independent variables (resting blood pressure and cholesterol) against the dependent variable (heart disease diagnosis) to observe a visual relationship."
   ]
  },
  {
   "cell_type": "code",
   "execution_count": 107,
   "id": "4d43e1fd-41bf-4f8c-804f-f73d31bca344",
   "metadata": {
    "tags": []
   },
   "outputs": [
    {
     "data": {
      "text/html": [
       "\n",
       "<style>\n",
       "  #altair-viz-a0dd3965b49546a8a428bae03b8578e9.vega-embed {\n",
       "    width: 100%;\n",
       "    display: flex;\n",
       "  }\n",
       "\n",
       "  #altair-viz-a0dd3965b49546a8a428bae03b8578e9.vega-embed details,\n",
       "  #altair-viz-a0dd3965b49546a8a428bae03b8578e9.vega-embed details summary {\n",
       "    position: relative;\n",
       "  }\n",
       "</style>\n",
       "<div id=\"altair-viz-a0dd3965b49546a8a428bae03b8578e9\"></div>\n",
       "<script type=\"text/javascript\">\n",
       "  var VEGA_DEBUG = (typeof VEGA_DEBUG == \"undefined\") ? {} : VEGA_DEBUG;\n",
       "  (function(spec, embedOpt){\n",
       "    let outputDiv = document.currentScript.previousElementSibling;\n",
       "    if (outputDiv.id !== \"altair-viz-a0dd3965b49546a8a428bae03b8578e9\") {\n",
       "      outputDiv = document.getElementById(\"altair-viz-a0dd3965b49546a8a428bae03b8578e9\");\n",
       "    }\n",
       "    const paths = {\n",
       "      \"vega\": \"https://cdn.jsdelivr.net/npm/vega@5?noext\",\n",
       "      \"vega-lib\": \"https://cdn.jsdelivr.net/npm/vega-lib?noext\",\n",
       "      \"vega-lite\": \"https://cdn.jsdelivr.net/npm/vega-lite@5.16.3?noext\",\n",
       "      \"vega-embed\": \"https://cdn.jsdelivr.net/npm/vega-embed@6?noext\",\n",
       "    };\n",
       "\n",
       "    function maybeLoadScript(lib, version) {\n",
       "      var key = `${lib.replace(\"-\", \"\")}_version`;\n",
       "      return (VEGA_DEBUG[key] == version) ?\n",
       "        Promise.resolve(paths[lib]) :\n",
       "        new Promise(function(resolve, reject) {\n",
       "          var s = document.createElement('script');\n",
       "          document.getElementsByTagName(\"head\")[0].appendChild(s);\n",
       "          s.async = true;\n",
       "          s.onload = () => {\n",
       "            VEGA_DEBUG[key] = version;\n",
       "            return resolve(paths[lib]);\n",
       "          };\n",
       "          s.onerror = () => reject(`Error loading script: ${paths[lib]}`);\n",
       "          s.src = paths[lib];\n",
       "        });\n",
       "    }\n",
       "\n",
       "    function showError(err) {\n",
       "      outputDiv.innerHTML = `<div class=\"error\" style=\"color:red;\">${err}</div>`;\n",
       "      throw err;\n",
       "    }\n",
       "\n",
       "    function displayChart(vegaEmbed) {\n",
       "      vegaEmbed(outputDiv, spec, embedOpt)\n",
       "        .catch(err => showError(`Javascript Error: ${err.message}<br>This usually means there's a typo in your chart specification. See the javascript console for the full traceback.`));\n",
       "    }\n",
       "\n",
       "    if(typeof define === \"function\" && define.amd) {\n",
       "      requirejs.config({paths});\n",
       "      require([\"vega-embed\"], displayChart, err => showError(`Error loading script: ${err.message}`));\n",
       "    } else {\n",
       "      maybeLoadScript(\"vega\", \"5\")\n",
       "        .then(() => maybeLoadScript(\"vega-lite\", \"5.16.3\"))\n",
       "        .then(() => maybeLoadScript(\"vega-embed\", \"6\"))\n",
       "        .catch(showError)\n",
       "        .then(() => displayChart(vegaEmbed));\n",
       "    }\n",
       "  })({\"config\": {\"view\": {\"continuousWidth\": 300, \"continuousHeight\": 300}}, \"data\": {\"name\": \"data-f244ff16a5a2bbf94257f78cfd427499\"}, \"mark\": {\"type\": \"point\"}, \"encoding\": {\"x\": {\"field\": \"trestbps\", \"title\": \"Resting bp (mmHg)\", \"type\": \"quantitative\"}, \"y\": {\"field\": \"num\", \"title\": \"Heart Disease Symptoms\", \"type\": \"nominal\"}}, \"title\": \"Resting Blood Pressure vs. Heart Disease Symptoms\", \"$schema\": \"https://vega.github.io/schema/vega-lite/v5.16.3.json\", \"datasets\": {\"data-f244ff16a5a2bbf94257f78cfd427499\": [{\"trestbps\": 120, \"chol\": 177, \"num\": 3}, {\"trestbps\": 128, \"chol\": 308, \"num\": 0}, {\"trestbps\": 150, \"chol\": 283, \"num\": 0}, {\"trestbps\": 160, \"chol\": 246, \"num\": 2}, {\"trestbps\": 125, \"chol\": 304, \"num\": 4}, {\"trestbps\": 130, \"chol\": 263, \"num\": 2}, {\"trestbps\": 120, \"chol\": 236, \"num\": 0}, {\"trestbps\": 112, \"chol\": 149, \"num\": 0}, {\"trestbps\": 140, \"chol\": 321, \"num\": 0}, {\"trestbps\": 110, \"chol\": 335, \"num\": 2}, {\"trestbps\": 150, \"chol\": 240, \"num\": 0}, {\"trestbps\": 120, \"chol\": 354, \"num\": 0}, {\"trestbps\": 110, \"chol\": 214, \"num\": 0}, {\"trestbps\": 120, \"chol\": 226, \"num\": 0}, {\"trestbps\": 180, \"chol\": 327, \"num\": 2}, {\"trestbps\": 160, \"chol\": 269, \"num\": 3}, {\"trestbps\": 130, \"chol\": 204, \"num\": 0}, {\"trestbps\": 145, \"chol\": 174, \"num\": 4}, {\"trestbps\": 170, \"chol\": 225, \"num\": 2}, {\"trestbps\": 138, \"chol\": 223, \"num\": 0}, {\"trestbps\": 102, \"chol\": 265, \"num\": 0}, {\"trestbps\": 129, \"chol\": 196, \"num\": 0}, {\"trestbps\": 192, \"chol\": 283, \"num\": 1}, {\"trestbps\": 132, \"chol\": 342, \"num\": 0}, {\"trestbps\": 125, \"chol\": 212, \"num\": 3}, {\"trestbps\": 150, \"chol\": 276, \"num\": 1}, {\"trestbps\": 130, \"chol\": 233, \"num\": 0}, {\"trestbps\": 124, \"chol\": 266, \"num\": 1}, {\"trestbps\": 160, \"chol\": 164, \"num\": 3}, {\"trestbps\": 132, \"chol\": 224, \"num\": 3}, {\"trestbps\": 140, \"chol\": 394, \"num\": 0}, {\"trestbps\": 120, \"chol\": 295, \"num\": 0}, {\"trestbps\": 120, \"chol\": 281, \"num\": 3}, {\"trestbps\": 130, \"chol\": 234, \"num\": 0}, {\"trestbps\": 140, \"chol\": 192, \"num\": 0}, {\"trestbps\": 140, \"chol\": 311, \"num\": 2}, {\"trestbps\": 150, \"chol\": 247, \"num\": 0}, {\"trestbps\": 150, \"chol\": 270, \"num\": 3}, {\"trestbps\": 101, \"chol\": 197, \"num\": 0}, {\"trestbps\": 120, \"chol\": 249, \"num\": 1}, {\"trestbps\": 135, \"chol\": 234, \"num\": 0}, {\"trestbps\": 112, \"chol\": 250, \"num\": 0}, {\"trestbps\": 140, \"chol\": 185, \"num\": 1}, {\"trestbps\": 125, \"chol\": 220, \"num\": 0}, {\"trestbps\": 136, \"chol\": 315, \"num\": 2}, {\"trestbps\": 120, \"chol\": 220, \"num\": 0}, {\"trestbps\": 118, \"chol\": 186, \"num\": 0}, {\"trestbps\": 150, \"chol\": 231, \"num\": 1}, {\"trestbps\": 130, \"chol\": 204, \"num\": 0}, {\"trestbps\": 115, \"chol\": 260, \"num\": 0}, {\"trestbps\": 110, \"chol\": 239, \"num\": 3}, {\"trestbps\": 108, \"chol\": 267, \"num\": 0}, {\"trestbps\": 134, \"chol\": 271, \"num\": 0}, {\"trestbps\": 140, \"chol\": 235, \"num\": 0}, {\"trestbps\": 128, \"chol\": 259, \"num\": 3}, {\"trestbps\": 115, \"chol\": 564, \"num\": 0}, {\"trestbps\": 120, \"chol\": 215, \"num\": 0}, {\"trestbps\": 120, \"chol\": 157, \"num\": 0}, {\"trestbps\": 128, \"chol\": 263, \"num\": 0}, {\"trestbps\": 100, \"chol\": 222, \"num\": 0}, {\"trestbps\": 105, \"chol\": 240, \"num\": 0}, {\"trestbps\": 94, \"chol\": 227, \"num\": 0}, {\"trestbps\": 120, \"chol\": 198, \"num\": 1}, {\"trestbps\": 130, \"chol\": 231, \"num\": 0}, {\"trestbps\": 112, \"chol\": 204, \"num\": 0}, {\"trestbps\": 128, \"chol\": 216, \"num\": 1}, {\"trestbps\": 120, \"chol\": 240, \"num\": 0}, {\"trestbps\": 100, \"chol\": 234, \"num\": 2}, {\"trestbps\": 126, \"chol\": 218, \"num\": 2}, {\"trestbps\": 130, \"chol\": 236, \"num\": 1}, {\"trestbps\": 120, \"chol\": 258, \"num\": 0}, {\"trestbps\": 115, \"chol\": 303, \"num\": 0}, {\"trestbps\": 105, \"chol\": 198, \"num\": 0}, {\"trestbps\": 150, \"chol\": 258, \"num\": 3}, {\"trestbps\": 138, \"chol\": 220, \"num\": 0}, {\"trestbps\": 130, \"chol\": 131, \"num\": 3}, {\"trestbps\": 124, \"chol\": 197, \"num\": 1}, {\"trestbps\": 130, \"chol\": 269, \"num\": 0}, {\"trestbps\": 156, \"chol\": 245, \"num\": 0}, {\"trestbps\": 120, \"chol\": 263, \"num\": 0}, {\"trestbps\": 132, \"chol\": 247, \"num\": 1}, {\"trestbps\": 140, \"chol\": 241, \"num\": 1}, {\"trestbps\": 120, \"chol\": 211, \"num\": 0}, {\"trestbps\": 160, \"chol\": 228, \"num\": 0}, {\"trestbps\": 112, \"chol\": 160, \"num\": 0}, {\"trestbps\": 100, \"chol\": 299, \"num\": 3}, {\"trestbps\": 120, \"chol\": 193, \"num\": 0}, {\"trestbps\": 122, \"chol\": 213, \"num\": 0}, {\"trestbps\": 130, \"chol\": 254, \"num\": 2}, {\"trestbps\": 140, \"chol\": 308, \"num\": 0}, {\"trestbps\": 125, \"chol\": 273, \"num\": 0}, {\"trestbps\": 134, \"chol\": 409, \"num\": 2}, {\"trestbps\": 130, \"chol\": 303, \"num\": 0}, {\"trestbps\": 135, \"chol\": 254, \"num\": 2}, {\"trestbps\": 124, \"chol\": 255, \"num\": 0}, {\"trestbps\": 130, \"chol\": 197, \"num\": 0}, {\"trestbps\": 135, \"chol\": 304, \"num\": 0}, {\"trestbps\": 120, \"chol\": 260, \"num\": 2}, {\"trestbps\": 140, \"chol\": 299, \"num\": 1}, {\"trestbps\": 170, \"chol\": 288, \"num\": 1}, {\"trestbps\": 138, \"chol\": 234, \"num\": 0}, {\"trestbps\": 140, \"chol\": 195, \"num\": 0}, {\"trestbps\": 134, \"chol\": 234, \"num\": 2}, {\"trestbps\": 130, \"chol\": 330, \"num\": 1}, {\"trestbps\": 110, \"chol\": 235, \"num\": 0}, {\"trestbps\": 144, \"chol\": 200, \"num\": 3}, {\"trestbps\": 145, \"chol\": 282, \"num\": 2}, {\"trestbps\": 130, \"chol\": 305, \"num\": 2}, {\"trestbps\": 108, \"chol\": 141, \"num\": 0}, {\"trestbps\": 146, \"chol\": 278, \"num\": 0}, {\"trestbps\": 138, \"chol\": 166, \"num\": 4}, {\"trestbps\": 128, \"chol\": 205, \"num\": 3}, {\"trestbps\": 140, \"chol\": 197, \"num\": 0}, {\"trestbps\": 125, \"chol\": 300, \"num\": 1}, {\"trestbps\": 100, \"chol\": 248, \"num\": 0}, {\"trestbps\": 145, \"chol\": 233, \"num\": 0}, {\"trestbps\": 130, \"chol\": 283, \"num\": 2}, {\"trestbps\": 112, \"chol\": 230, \"num\": 4}, {\"trestbps\": 160, \"chol\": 289, \"num\": 4}, {\"trestbps\": 150, \"chol\": 225, \"num\": 4}, {\"trestbps\": 125, \"chol\": 213, \"num\": 0}, {\"trestbps\": 150, \"chol\": 168, \"num\": 0}, {\"trestbps\": 110, \"chol\": 175, \"num\": 0}, {\"trestbps\": 122, \"chol\": 286, \"num\": 3}, {\"trestbps\": 118, \"chol\": 219, \"num\": 3}, {\"trestbps\": 120, \"chol\": 188, \"num\": 3}, {\"trestbps\": 140, \"chol\": 261, \"num\": 0}, {\"trestbps\": 110, \"chol\": 229, \"num\": 1}, {\"trestbps\": 154, \"chol\": 232, \"num\": 1}, {\"trestbps\": 138, \"chol\": 294, \"num\": 2}, {\"trestbps\": 118, \"chol\": 242, \"num\": 0}, {\"trestbps\": 140, \"chol\": 211, \"num\": 0}, {\"trestbps\": 170, \"chol\": 227, \"num\": 0}, {\"trestbps\": 110, \"chol\": 197, \"num\": 1}, {\"trestbps\": 145, \"chol\": 307, \"num\": 1}, {\"trestbps\": 140, \"chol\": 254, \"num\": 2}, {\"trestbps\": 108, \"chol\": 243, \"num\": 1}, {\"trestbps\": 132, \"chol\": 353, \"num\": 3}, {\"trestbps\": 150, \"chol\": 226, \"num\": 0}, {\"trestbps\": 148, \"chol\": 244, \"num\": 0}, {\"trestbps\": 140, \"chol\": 221, \"num\": 0}, {\"trestbps\": 120, \"chol\": 244, \"num\": 0}, {\"trestbps\": 150, \"chol\": 407, \"num\": 4}, {\"trestbps\": 120, \"chol\": 231, \"num\": 4}, {\"trestbps\": 172, \"chol\": 199, \"num\": 0}, {\"trestbps\": 128, \"chol\": 216, \"num\": 0}, {\"trestbps\": 140, \"chol\": 203, \"num\": 1}, {\"trestbps\": 140, \"chol\": 268, \"num\": 3}, {\"trestbps\": 94, \"chol\": 199, \"num\": 0}, {\"trestbps\": 152, \"chol\": 277, \"num\": 0}, {\"trestbps\": 118, \"chol\": 149, \"num\": 1}, {\"trestbps\": 160, \"chol\": 201, \"num\": 0}, {\"trestbps\": 138, \"chol\": 175, \"num\": 0}, {\"trestbps\": 110, \"chol\": 265, \"num\": 0}, {\"trestbps\": 138, \"chol\": 243, \"num\": 0}, {\"trestbps\": 102, \"chol\": 318, \"num\": 0}, {\"trestbps\": 125, \"chol\": 245, \"num\": 0}, {\"trestbps\": 150, \"chol\": 232, \"num\": 0}, {\"trestbps\": 130, \"chol\": 250, \"num\": 0}, {\"trestbps\": 138, \"chol\": 257, \"num\": 0}, {\"trestbps\": 132, \"chol\": 184, \"num\": 1}, {\"trestbps\": 138, \"chol\": 271, \"num\": 0}, {\"trestbps\": 128, \"chol\": 208, \"num\": 0}, {\"trestbps\": 140, \"chol\": 417, \"num\": 0}, {\"trestbps\": 120, \"chol\": 269, \"num\": 0}, {\"trestbps\": 138, \"chol\": 183, \"num\": 0}, {\"trestbps\": 174, \"chol\": 249, \"num\": 1}, {\"trestbps\": 120, \"chol\": 177, \"num\": 0}, {\"trestbps\": 160, \"chol\": 286, \"num\": 2}, {\"trestbps\": 150, \"chol\": 244, \"num\": 1}, {\"trestbps\": 130, \"chol\": 275, \"num\": 0}, {\"trestbps\": 130, \"chol\": 256, \"num\": 2}, {\"trestbps\": 130, \"chol\": 197, \"num\": 0}, {\"trestbps\": 140, \"chol\": 233, \"num\": 1}, {\"trestbps\": 130, \"chol\": 214, \"num\": 0}, {\"trestbps\": 130, \"chol\": 315, \"num\": 0}, {\"trestbps\": 120, \"chol\": 219, \"num\": 0}, {\"trestbps\": 178, \"chol\": 270, \"num\": 0}, {\"trestbps\": 118, \"chol\": 182, \"num\": 0}, {\"trestbps\": 120, \"chol\": 240, \"num\": 0}, {\"trestbps\": 150, \"chol\": 212, \"num\": 0}, {\"trestbps\": 124, \"chol\": 209, \"num\": 0}, {\"trestbps\": 120, \"chol\": 178, \"num\": 0}, {\"trestbps\": 120, \"chol\": 209, \"num\": 0}, {\"trestbps\": 122, \"chol\": 192, \"num\": 0}, {\"trestbps\": 120, \"chol\": 246, \"num\": 3}, {\"trestbps\": 155, \"chol\": 269, \"num\": 0}, {\"trestbps\": 134, \"chol\": 204, \"num\": 1}, {\"trestbps\": 140, \"chol\": 293, \"num\": 2}, {\"trestbps\": 114, \"chol\": 318, \"num\": 4}, {\"trestbps\": 165, \"chol\": 289, \"num\": 4}, {\"trestbps\": 142, \"chol\": 309, \"num\": 3}, {\"trestbps\": 120, \"chol\": 188, \"num\": 2}, {\"trestbps\": 110, \"chol\": 264, \"num\": 1}, {\"trestbps\": 126, \"chol\": 282, \"num\": 1}, {\"trestbps\": 125, \"chol\": 258, \"num\": 1}, {\"trestbps\": 130, \"chol\": 330, \"num\": 3}, {\"trestbps\": 178, \"chol\": 228, \"num\": 3}, {\"trestbps\": 124, \"chol\": 274, \"num\": 3}, {\"trestbps\": 122, \"chol\": 222, \"num\": 0}, {\"trestbps\": 135, \"chol\": 250, \"num\": 0}, {\"trestbps\": 108, \"chol\": 233, \"num\": 0}, {\"trestbps\": 152, \"chol\": 212, \"num\": 1}, {\"trestbps\": 120, \"chol\": 325, \"num\": 0}, {\"trestbps\": 150, \"chol\": 243, \"num\": 0}, {\"trestbps\": 120, \"chol\": 229, \"num\": 1}, {\"trestbps\": 170, \"chol\": 326, \"num\": 2}, {\"trestbps\": 130, \"chol\": 262, \"num\": 0}, {\"trestbps\": 140, \"chol\": 187, \"num\": 2}, {\"trestbps\": 120, \"chol\": 295, \"num\": 0}, {\"trestbps\": 125, \"chol\": 249, \"num\": 1}, {\"trestbps\": 108, \"chol\": 269, \"num\": 1}, {\"trestbps\": 140, \"chol\": 335, \"num\": 1}, {\"trestbps\": 110, \"chol\": 248, \"num\": 1}, {\"trestbps\": 150, \"chol\": 243, \"num\": 4}, {\"trestbps\": 200, \"chol\": 288, \"num\": 3}, {\"trestbps\": 132, \"chol\": 341, \"num\": 2}, {\"trestbps\": 110, \"chol\": 239, \"num\": 2}, {\"trestbps\": 118, \"chol\": 210, \"num\": 0}, {\"trestbps\": 112, \"chol\": 230, \"num\": 1}, {\"trestbps\": 110, \"chol\": 172, \"num\": 1}, {\"trestbps\": 140, \"chol\": 217, \"num\": 3}, {\"trestbps\": 140, \"chol\": 177, \"num\": 2}, {\"trestbps\": 180, \"chol\": 274, \"num\": 3}, {\"trestbps\": 140, \"chol\": 239, \"num\": 0}, {\"trestbps\": 136, \"chol\": 196, \"num\": 0}, {\"trestbps\": 134, \"chol\": 201, \"num\": 0}]}}, {\"mode\": \"vega-lite\"});\n",
       "</script>"
      ],
      "text/plain": [
       "alt.Chart(...)"
      ]
     },
     "execution_count": 107,
     "metadata": {},
     "output_type": "execute_result"
    }
   ],
   "source": [
    "trestbps_plot = alt.Chart(heart_traindata).mark_point().encode(\n",
    "    x = alt.X('trestbps').title('Resting bp (mmHg)'),\n",
    "    y = alt.Y('num:N').title('Heart Disease Symptoms'),\n",
    "    \n",
    ").properties(title='Resting Blood Pressure vs. Heart Disease Symptoms')\n",
    "trestbps_plot\n",
    "#looks at the resting blood pressure upon entering the hospital and Heart Disease Symptoms"
   ]
  },
  {
   "cell_type": "markdown",
   "id": "8bb522f1-07de-43e5-a697-4e7dd38c8555",
   "metadata": {
    "tags": []
   },
   "source": [
    "***Fig.3***: Scatter plot of the Serum Resting blood pressure vs heart disease symptoms "
   ]
  },
  {
   "cell_type": "code",
   "execution_count": 109,
   "id": "6c324967-b2a8-4a9d-84c4-51918ba58416",
   "metadata": {
    "tags": []
   },
   "outputs": [
    {
     "data": {
      "text/html": [
       "\n",
       "<style>\n",
       "  #altair-viz-3f2e1019657f48d2b419e98680b6c113.vega-embed {\n",
       "    width: 100%;\n",
       "    display: flex;\n",
       "  }\n",
       "\n",
       "  #altair-viz-3f2e1019657f48d2b419e98680b6c113.vega-embed details,\n",
       "  #altair-viz-3f2e1019657f48d2b419e98680b6c113.vega-embed details summary {\n",
       "    position: relative;\n",
       "  }\n",
       "</style>\n",
       "<div id=\"altair-viz-3f2e1019657f48d2b419e98680b6c113\"></div>\n",
       "<script type=\"text/javascript\">\n",
       "  var VEGA_DEBUG = (typeof VEGA_DEBUG == \"undefined\") ? {} : VEGA_DEBUG;\n",
       "  (function(spec, embedOpt){\n",
       "    let outputDiv = document.currentScript.previousElementSibling;\n",
       "    if (outputDiv.id !== \"altair-viz-3f2e1019657f48d2b419e98680b6c113\") {\n",
       "      outputDiv = document.getElementById(\"altair-viz-3f2e1019657f48d2b419e98680b6c113\");\n",
       "    }\n",
       "    const paths = {\n",
       "      \"vega\": \"https://cdn.jsdelivr.net/npm/vega@5?noext\",\n",
       "      \"vega-lib\": \"https://cdn.jsdelivr.net/npm/vega-lib?noext\",\n",
       "      \"vega-lite\": \"https://cdn.jsdelivr.net/npm/vega-lite@5.16.3?noext\",\n",
       "      \"vega-embed\": \"https://cdn.jsdelivr.net/npm/vega-embed@6?noext\",\n",
       "    };\n",
       "\n",
       "    function maybeLoadScript(lib, version) {\n",
       "      var key = `${lib.replace(\"-\", \"\")}_version`;\n",
       "      return (VEGA_DEBUG[key] == version) ?\n",
       "        Promise.resolve(paths[lib]) :\n",
       "        new Promise(function(resolve, reject) {\n",
       "          var s = document.createElement('script');\n",
       "          document.getElementsByTagName(\"head\")[0].appendChild(s);\n",
       "          s.async = true;\n",
       "          s.onload = () => {\n",
       "            VEGA_DEBUG[key] = version;\n",
       "            return resolve(paths[lib]);\n",
       "          };\n",
       "          s.onerror = () => reject(`Error loading script: ${paths[lib]}`);\n",
       "          s.src = paths[lib];\n",
       "        });\n",
       "    }\n",
       "\n",
       "    function showError(err) {\n",
       "      outputDiv.innerHTML = `<div class=\"error\" style=\"color:red;\">${err}</div>`;\n",
       "      throw err;\n",
       "    }\n",
       "\n",
       "    function displayChart(vegaEmbed) {\n",
       "      vegaEmbed(outputDiv, spec, embedOpt)\n",
       "        .catch(err => showError(`Javascript Error: ${err.message}<br>This usually means there's a typo in your chart specification. See the javascript console for the full traceback.`));\n",
       "    }\n",
       "\n",
       "    if(typeof define === \"function\" && define.amd) {\n",
       "      requirejs.config({paths});\n",
       "      require([\"vega-embed\"], displayChart, err => showError(`Error loading script: ${err.message}`));\n",
       "    } else {\n",
       "      maybeLoadScript(\"vega\", \"5\")\n",
       "        .then(() => maybeLoadScript(\"vega-lite\", \"5.16.3\"))\n",
       "        .then(() => maybeLoadScript(\"vega-embed\", \"6\"))\n",
       "        .catch(showError)\n",
       "        .then(() => displayChart(vegaEmbed));\n",
       "    }\n",
       "  })({\"config\": {\"view\": {\"continuousWidth\": 300, \"continuousHeight\": 300}}, \"data\": {\"name\": \"data-f244ff16a5a2bbf94257f78cfd427499\"}, \"mark\": {\"type\": \"point\"}, \"encoding\": {\"x\": {\"field\": \"chol\", \"title\": \"Serum Cholestoral (mg/dl)\", \"type\": \"quantitative\"}, \"y\": {\"field\": \"num\", \"title\": \"Heart Disease Symptoms\", \"type\": \"nominal\"}}, \"title\": \"Serum Cholestoral (mg/dl) vs. Heart Disease Symptoms\", \"$schema\": \"https://vega.github.io/schema/vega-lite/v5.16.3.json\", \"datasets\": {\"data-f244ff16a5a2bbf94257f78cfd427499\": [{\"trestbps\": 120, \"chol\": 177, \"num\": 3}, {\"trestbps\": 128, \"chol\": 308, \"num\": 0}, {\"trestbps\": 150, \"chol\": 283, \"num\": 0}, {\"trestbps\": 160, \"chol\": 246, \"num\": 2}, {\"trestbps\": 125, \"chol\": 304, \"num\": 4}, {\"trestbps\": 130, \"chol\": 263, \"num\": 2}, {\"trestbps\": 120, \"chol\": 236, \"num\": 0}, {\"trestbps\": 112, \"chol\": 149, \"num\": 0}, {\"trestbps\": 140, \"chol\": 321, \"num\": 0}, {\"trestbps\": 110, \"chol\": 335, \"num\": 2}, {\"trestbps\": 150, \"chol\": 240, \"num\": 0}, {\"trestbps\": 120, \"chol\": 354, \"num\": 0}, {\"trestbps\": 110, \"chol\": 214, \"num\": 0}, {\"trestbps\": 120, \"chol\": 226, \"num\": 0}, {\"trestbps\": 180, \"chol\": 327, \"num\": 2}, {\"trestbps\": 160, \"chol\": 269, \"num\": 3}, {\"trestbps\": 130, \"chol\": 204, \"num\": 0}, {\"trestbps\": 145, \"chol\": 174, \"num\": 4}, {\"trestbps\": 170, \"chol\": 225, \"num\": 2}, {\"trestbps\": 138, \"chol\": 223, \"num\": 0}, {\"trestbps\": 102, \"chol\": 265, \"num\": 0}, {\"trestbps\": 129, \"chol\": 196, \"num\": 0}, {\"trestbps\": 192, \"chol\": 283, \"num\": 1}, {\"trestbps\": 132, \"chol\": 342, \"num\": 0}, {\"trestbps\": 125, \"chol\": 212, \"num\": 3}, {\"trestbps\": 150, \"chol\": 276, \"num\": 1}, {\"trestbps\": 130, \"chol\": 233, \"num\": 0}, {\"trestbps\": 124, \"chol\": 266, \"num\": 1}, {\"trestbps\": 160, \"chol\": 164, \"num\": 3}, {\"trestbps\": 132, \"chol\": 224, \"num\": 3}, {\"trestbps\": 140, \"chol\": 394, \"num\": 0}, {\"trestbps\": 120, \"chol\": 295, \"num\": 0}, {\"trestbps\": 120, \"chol\": 281, \"num\": 3}, {\"trestbps\": 130, \"chol\": 234, \"num\": 0}, {\"trestbps\": 140, \"chol\": 192, \"num\": 0}, {\"trestbps\": 140, \"chol\": 311, \"num\": 2}, {\"trestbps\": 150, \"chol\": 247, \"num\": 0}, {\"trestbps\": 150, \"chol\": 270, \"num\": 3}, {\"trestbps\": 101, \"chol\": 197, \"num\": 0}, {\"trestbps\": 120, \"chol\": 249, \"num\": 1}, {\"trestbps\": 135, \"chol\": 234, \"num\": 0}, {\"trestbps\": 112, \"chol\": 250, \"num\": 0}, {\"trestbps\": 140, \"chol\": 185, \"num\": 1}, {\"trestbps\": 125, \"chol\": 220, \"num\": 0}, {\"trestbps\": 136, \"chol\": 315, \"num\": 2}, {\"trestbps\": 120, \"chol\": 220, \"num\": 0}, {\"trestbps\": 118, \"chol\": 186, \"num\": 0}, {\"trestbps\": 150, \"chol\": 231, \"num\": 1}, {\"trestbps\": 130, \"chol\": 204, \"num\": 0}, {\"trestbps\": 115, \"chol\": 260, \"num\": 0}, {\"trestbps\": 110, \"chol\": 239, \"num\": 3}, {\"trestbps\": 108, \"chol\": 267, \"num\": 0}, {\"trestbps\": 134, \"chol\": 271, \"num\": 0}, {\"trestbps\": 140, \"chol\": 235, \"num\": 0}, {\"trestbps\": 128, \"chol\": 259, \"num\": 3}, {\"trestbps\": 115, \"chol\": 564, \"num\": 0}, {\"trestbps\": 120, \"chol\": 215, \"num\": 0}, {\"trestbps\": 120, \"chol\": 157, \"num\": 0}, {\"trestbps\": 128, \"chol\": 263, \"num\": 0}, {\"trestbps\": 100, \"chol\": 222, \"num\": 0}, {\"trestbps\": 105, \"chol\": 240, \"num\": 0}, {\"trestbps\": 94, \"chol\": 227, \"num\": 0}, {\"trestbps\": 120, \"chol\": 198, \"num\": 1}, {\"trestbps\": 130, \"chol\": 231, \"num\": 0}, {\"trestbps\": 112, \"chol\": 204, \"num\": 0}, {\"trestbps\": 128, \"chol\": 216, \"num\": 1}, {\"trestbps\": 120, \"chol\": 240, \"num\": 0}, {\"trestbps\": 100, \"chol\": 234, \"num\": 2}, {\"trestbps\": 126, \"chol\": 218, \"num\": 2}, {\"trestbps\": 130, \"chol\": 236, \"num\": 1}, {\"trestbps\": 120, \"chol\": 258, \"num\": 0}, {\"trestbps\": 115, \"chol\": 303, \"num\": 0}, {\"trestbps\": 105, \"chol\": 198, \"num\": 0}, {\"trestbps\": 150, \"chol\": 258, \"num\": 3}, {\"trestbps\": 138, \"chol\": 220, \"num\": 0}, {\"trestbps\": 130, \"chol\": 131, \"num\": 3}, {\"trestbps\": 124, \"chol\": 197, \"num\": 1}, {\"trestbps\": 130, \"chol\": 269, \"num\": 0}, {\"trestbps\": 156, \"chol\": 245, \"num\": 0}, {\"trestbps\": 120, \"chol\": 263, \"num\": 0}, {\"trestbps\": 132, \"chol\": 247, \"num\": 1}, {\"trestbps\": 140, \"chol\": 241, \"num\": 1}, {\"trestbps\": 120, \"chol\": 211, \"num\": 0}, {\"trestbps\": 160, \"chol\": 228, \"num\": 0}, {\"trestbps\": 112, \"chol\": 160, \"num\": 0}, {\"trestbps\": 100, \"chol\": 299, \"num\": 3}, {\"trestbps\": 120, \"chol\": 193, \"num\": 0}, {\"trestbps\": 122, \"chol\": 213, \"num\": 0}, {\"trestbps\": 130, \"chol\": 254, \"num\": 2}, {\"trestbps\": 140, \"chol\": 308, \"num\": 0}, {\"trestbps\": 125, \"chol\": 273, \"num\": 0}, {\"trestbps\": 134, \"chol\": 409, \"num\": 2}, {\"trestbps\": 130, \"chol\": 303, \"num\": 0}, {\"trestbps\": 135, \"chol\": 254, \"num\": 2}, {\"trestbps\": 124, \"chol\": 255, \"num\": 0}, {\"trestbps\": 130, \"chol\": 197, \"num\": 0}, {\"trestbps\": 135, \"chol\": 304, \"num\": 0}, {\"trestbps\": 120, \"chol\": 260, \"num\": 2}, {\"trestbps\": 140, \"chol\": 299, \"num\": 1}, {\"trestbps\": 170, \"chol\": 288, \"num\": 1}, {\"trestbps\": 138, \"chol\": 234, \"num\": 0}, {\"trestbps\": 140, \"chol\": 195, \"num\": 0}, {\"trestbps\": 134, \"chol\": 234, \"num\": 2}, {\"trestbps\": 130, \"chol\": 330, \"num\": 1}, {\"trestbps\": 110, \"chol\": 235, \"num\": 0}, {\"trestbps\": 144, \"chol\": 200, \"num\": 3}, {\"trestbps\": 145, \"chol\": 282, \"num\": 2}, {\"trestbps\": 130, \"chol\": 305, \"num\": 2}, {\"trestbps\": 108, \"chol\": 141, \"num\": 0}, {\"trestbps\": 146, \"chol\": 278, \"num\": 0}, {\"trestbps\": 138, \"chol\": 166, \"num\": 4}, {\"trestbps\": 128, \"chol\": 205, \"num\": 3}, {\"trestbps\": 140, \"chol\": 197, \"num\": 0}, {\"trestbps\": 125, \"chol\": 300, \"num\": 1}, {\"trestbps\": 100, \"chol\": 248, \"num\": 0}, {\"trestbps\": 145, \"chol\": 233, \"num\": 0}, {\"trestbps\": 130, \"chol\": 283, \"num\": 2}, {\"trestbps\": 112, \"chol\": 230, \"num\": 4}, {\"trestbps\": 160, \"chol\": 289, \"num\": 4}, {\"trestbps\": 150, \"chol\": 225, \"num\": 4}, {\"trestbps\": 125, \"chol\": 213, \"num\": 0}, {\"trestbps\": 150, \"chol\": 168, \"num\": 0}, {\"trestbps\": 110, \"chol\": 175, \"num\": 0}, {\"trestbps\": 122, \"chol\": 286, \"num\": 3}, {\"trestbps\": 118, \"chol\": 219, \"num\": 3}, {\"trestbps\": 120, \"chol\": 188, \"num\": 3}, {\"trestbps\": 140, \"chol\": 261, \"num\": 0}, {\"trestbps\": 110, \"chol\": 229, \"num\": 1}, {\"trestbps\": 154, \"chol\": 232, \"num\": 1}, {\"trestbps\": 138, \"chol\": 294, \"num\": 2}, {\"trestbps\": 118, \"chol\": 242, \"num\": 0}, {\"trestbps\": 140, \"chol\": 211, \"num\": 0}, {\"trestbps\": 170, \"chol\": 227, \"num\": 0}, {\"trestbps\": 110, \"chol\": 197, \"num\": 1}, {\"trestbps\": 145, \"chol\": 307, \"num\": 1}, {\"trestbps\": 140, \"chol\": 254, \"num\": 2}, {\"trestbps\": 108, \"chol\": 243, \"num\": 1}, {\"trestbps\": 132, \"chol\": 353, \"num\": 3}, {\"trestbps\": 150, \"chol\": 226, \"num\": 0}, {\"trestbps\": 148, \"chol\": 244, \"num\": 0}, {\"trestbps\": 140, \"chol\": 221, \"num\": 0}, {\"trestbps\": 120, \"chol\": 244, \"num\": 0}, {\"trestbps\": 150, \"chol\": 407, \"num\": 4}, {\"trestbps\": 120, \"chol\": 231, \"num\": 4}, {\"trestbps\": 172, \"chol\": 199, \"num\": 0}, {\"trestbps\": 128, \"chol\": 216, \"num\": 0}, {\"trestbps\": 140, \"chol\": 203, \"num\": 1}, {\"trestbps\": 140, \"chol\": 268, \"num\": 3}, {\"trestbps\": 94, \"chol\": 199, \"num\": 0}, {\"trestbps\": 152, \"chol\": 277, \"num\": 0}, {\"trestbps\": 118, \"chol\": 149, \"num\": 1}, {\"trestbps\": 160, \"chol\": 201, \"num\": 0}, {\"trestbps\": 138, \"chol\": 175, \"num\": 0}, {\"trestbps\": 110, \"chol\": 265, \"num\": 0}, {\"trestbps\": 138, \"chol\": 243, \"num\": 0}, {\"trestbps\": 102, \"chol\": 318, \"num\": 0}, {\"trestbps\": 125, \"chol\": 245, \"num\": 0}, {\"trestbps\": 150, \"chol\": 232, \"num\": 0}, {\"trestbps\": 130, \"chol\": 250, \"num\": 0}, {\"trestbps\": 138, \"chol\": 257, \"num\": 0}, {\"trestbps\": 132, \"chol\": 184, \"num\": 1}, {\"trestbps\": 138, \"chol\": 271, \"num\": 0}, {\"trestbps\": 128, \"chol\": 208, \"num\": 0}, {\"trestbps\": 140, \"chol\": 417, \"num\": 0}, {\"trestbps\": 120, \"chol\": 269, \"num\": 0}, {\"trestbps\": 138, \"chol\": 183, \"num\": 0}, {\"trestbps\": 174, \"chol\": 249, \"num\": 1}, {\"trestbps\": 120, \"chol\": 177, \"num\": 0}, {\"trestbps\": 160, \"chol\": 286, \"num\": 2}, {\"trestbps\": 150, \"chol\": 244, \"num\": 1}, {\"trestbps\": 130, \"chol\": 275, \"num\": 0}, {\"trestbps\": 130, \"chol\": 256, \"num\": 2}, {\"trestbps\": 130, \"chol\": 197, \"num\": 0}, {\"trestbps\": 140, \"chol\": 233, \"num\": 1}, {\"trestbps\": 130, \"chol\": 214, \"num\": 0}, {\"trestbps\": 130, \"chol\": 315, \"num\": 0}, {\"trestbps\": 120, \"chol\": 219, \"num\": 0}, {\"trestbps\": 178, \"chol\": 270, \"num\": 0}, {\"trestbps\": 118, \"chol\": 182, \"num\": 0}, {\"trestbps\": 120, \"chol\": 240, \"num\": 0}, {\"trestbps\": 150, \"chol\": 212, \"num\": 0}, {\"trestbps\": 124, \"chol\": 209, \"num\": 0}, {\"trestbps\": 120, \"chol\": 178, \"num\": 0}, {\"trestbps\": 120, \"chol\": 209, \"num\": 0}, {\"trestbps\": 122, \"chol\": 192, \"num\": 0}, {\"trestbps\": 120, \"chol\": 246, \"num\": 3}, {\"trestbps\": 155, \"chol\": 269, \"num\": 0}, {\"trestbps\": 134, \"chol\": 204, \"num\": 1}, {\"trestbps\": 140, \"chol\": 293, \"num\": 2}, {\"trestbps\": 114, \"chol\": 318, \"num\": 4}, {\"trestbps\": 165, \"chol\": 289, \"num\": 4}, {\"trestbps\": 142, \"chol\": 309, \"num\": 3}, {\"trestbps\": 120, \"chol\": 188, \"num\": 2}, {\"trestbps\": 110, \"chol\": 264, \"num\": 1}, {\"trestbps\": 126, \"chol\": 282, \"num\": 1}, {\"trestbps\": 125, \"chol\": 258, \"num\": 1}, {\"trestbps\": 130, \"chol\": 330, \"num\": 3}, {\"trestbps\": 178, \"chol\": 228, \"num\": 3}, {\"trestbps\": 124, \"chol\": 274, \"num\": 3}, {\"trestbps\": 122, \"chol\": 222, \"num\": 0}, {\"trestbps\": 135, \"chol\": 250, \"num\": 0}, {\"trestbps\": 108, \"chol\": 233, \"num\": 0}, {\"trestbps\": 152, \"chol\": 212, \"num\": 1}, {\"trestbps\": 120, \"chol\": 325, \"num\": 0}, {\"trestbps\": 150, \"chol\": 243, \"num\": 0}, {\"trestbps\": 120, \"chol\": 229, \"num\": 1}, {\"trestbps\": 170, \"chol\": 326, \"num\": 2}, {\"trestbps\": 130, \"chol\": 262, \"num\": 0}, {\"trestbps\": 140, \"chol\": 187, \"num\": 2}, {\"trestbps\": 120, \"chol\": 295, \"num\": 0}, {\"trestbps\": 125, \"chol\": 249, \"num\": 1}, {\"trestbps\": 108, \"chol\": 269, \"num\": 1}, {\"trestbps\": 140, \"chol\": 335, \"num\": 1}, {\"trestbps\": 110, \"chol\": 248, \"num\": 1}, {\"trestbps\": 150, \"chol\": 243, \"num\": 4}, {\"trestbps\": 200, \"chol\": 288, \"num\": 3}, {\"trestbps\": 132, \"chol\": 341, \"num\": 2}, {\"trestbps\": 110, \"chol\": 239, \"num\": 2}, {\"trestbps\": 118, \"chol\": 210, \"num\": 0}, {\"trestbps\": 112, \"chol\": 230, \"num\": 1}, {\"trestbps\": 110, \"chol\": 172, \"num\": 1}, {\"trestbps\": 140, \"chol\": 217, \"num\": 3}, {\"trestbps\": 140, \"chol\": 177, \"num\": 2}, {\"trestbps\": 180, \"chol\": 274, \"num\": 3}, {\"trestbps\": 140, \"chol\": 239, \"num\": 0}, {\"trestbps\": 136, \"chol\": 196, \"num\": 0}, {\"trestbps\": 134, \"chol\": 201, \"num\": 0}]}}, {\"mode\": \"vega-lite\"});\n",
       "</script>"
      ],
      "text/plain": [
       "alt.Chart(...)"
      ]
     },
     "execution_count": 109,
     "metadata": {},
     "output_type": "execute_result"
    }
   ],
   "source": [
    "chol_plot = alt.Chart(heart_traindata).mark_point().encode(\n",
    "    x = alt.X('chol').title('Serum Cholestoral (mg/dl)'),\n",
    "    y = alt.Y('num:N').title('Heart Disease Symptoms'),\n",
    ").properties(title='Serum Cholestoral (mg/dl) vs. Heart Disease Symptoms')\n",
    "chol_plot"
   ]
  },
  {
   "cell_type": "markdown",
   "id": "7fd7b4d8-1196-4195-8370-00b6a2400d84",
   "metadata": {
    "tags": []
   },
   "source": [
    "***Fig.4***: Scatter plot of the Serum cholestrol vs heart disease symptoms "
   ]
  },
  {
   "cell_type": "code",
   "execution_count": 110,
   "id": "c4a1e47c-7ab8-4beb-b8da-188ac4a221c8",
   "metadata": {
    "tags": []
   },
   "outputs": [],
   "source": [
    "# also may be good to make 2 plots faceted with number of cases with 0  and the other as cases with num recorded between 1-4"
   ]
  },
  {
   "cell_type": "code",
   "execution_count": 111,
   "id": "2d4621ed-c5bd-447d-9813-5612094fb0c5",
   "metadata": {
    "tags": []
   },
   "outputs": [
    {
     "data": {
      "text/html": [
       "<div>\n",
       "<style scoped>\n",
       "    .dataframe tbody tr th:only-of-type {\n",
       "        vertical-align: middle;\n",
       "    }\n",
       "\n",
       "    .dataframe tbody tr th {\n",
       "        vertical-align: top;\n",
       "    }\n",
       "\n",
       "    .dataframe thead th {\n",
       "        text-align: right;\n",
       "    }\n",
       "</style>\n",
       "<table border=\"1\" class=\"dataframe\">\n",
       "  <thead>\n",
       "    <tr style=\"text-align: right;\">\n",
       "      <th></th>\n",
       "      <th>trestbps</th>\n",
       "      <th>chol</th>\n",
       "      <th>num</th>\n",
       "    </tr>\n",
       "    <tr>\n",
       "      <th>num</th>\n",
       "      <th></th>\n",
       "      <th></th>\n",
       "      <th></th>\n",
       "    </tr>\n",
       "  </thead>\n",
       "  <tbody>\n",
       "    <tr>\n",
       "      <th>0</th>\n",
       "      <td>128.639344</td>\n",
       "      <td>240.295082</td>\n",
       "      <td>122</td>\n",
       "    </tr>\n",
       "    <tr>\n",
       "      <th>1</th>\n",
       "      <td>132.512821</td>\n",
       "      <td>242.666667</td>\n",
       "      <td>39</td>\n",
       "    </tr>\n",
       "    <tr>\n",
       "      <th>2</th>\n",
       "      <td>136.785714</td>\n",
       "      <td>271.285714</td>\n",
       "      <td>28</td>\n",
       "    </tr>\n",
       "    <tr>\n",
       "      <th>3</th>\n",
       "      <td>137.148148</td>\n",
       "      <td>246.962963</td>\n",
       "      <td>27</td>\n",
       "    </tr>\n",
       "    <tr>\n",
       "      <th>4</th>\n",
       "      <td>139.000000</td>\n",
       "      <td>261.454545</td>\n",
       "      <td>11</td>\n",
       "    </tr>\n",
       "  </tbody>\n",
       "</table>\n",
       "</div>"
      ],
      "text/plain": [
       "       trestbps        chol  num\n",
       "num                             \n",
       "0    128.639344  240.295082  122\n",
       "1    132.512821  242.666667   39\n",
       "2    136.785714  271.285714   28\n",
       "3    137.148148  246.962963   27\n",
       "4    139.000000  261.454545   11"
      ]
     },
     "execution_count": 111,
     "metadata": {},
     "output_type": "execute_result"
    }
   ],
   "source": [
    "summary_table=heart_traindata[[\"trestbps\",\"chol\",\"num\"]].groupby(\"num\").agg({\n",
    "    \"trestbps\":\"mean\",\n",
    "    \"chol\":\"mean\",\n",
    "    \"num\":\"count\",\n",
    "})\n",
    "summary_table"
   ]
  },
  {
   "cell_type": "markdown",
   "id": "95fe224b-2613-47a4-a792-6ab088eb797a",
   "metadata": {},
   "source": [
    "***Table 6***: Mean Values and Count of Resting Blood Pressure and Serum Cholestoral Grouped by num \"the probability of a heart disease symptoms\" in the Heart Disease Training Data."
   ]
  },
  {
   "cell_type": "markdown",
   "id": "d0a780a1-9c96-42c9-88f2-4232e345e1f4",
   "metadata": {},
   "source": [
    "# 5.1 Describing the Variables in the data set "
   ]
  },
  {
   "cell_type": "code",
   "execution_count": 112,
   "id": "aefd3e0c-477b-4872-b96a-285c48d89575",
   "metadata": {
    "tags": []
   },
   "outputs": [
    {
     "name": "stdout",
     "output_type": "stream",
     "text": [
      "<class 'pandas.core.frame.DataFrame'>\n",
      "RangeIndex: 303 entries, 0 to 302\n",
      "Data columns (total 14 columns):\n",
      " #   Column    Non-Null Count  Dtype  \n",
      "---  ------    --------------  -----  \n",
      " 0   age       303 non-null    int64  \n",
      " 1   sex       303 non-null    int64  \n",
      " 2   cp        303 non-null    int64  \n",
      " 3   trestbps  303 non-null    int64  \n",
      " 4   chol      303 non-null    int64  \n",
      " 5   fbs       303 non-null    int64  \n",
      " 6   restecg   303 non-null    int64  \n",
      " 7   thalach   303 non-null    int64  \n",
      " 8   exang     303 non-null    int64  \n",
      " 9   oldpeak   303 non-null    float64\n",
      " 10  slope     303 non-null    int64  \n",
      " 11  ca        299 non-null    float64\n",
      " 12  thal      301 non-null    float64\n",
      " 13  num       303 non-null    int64  \n",
      "dtypes: float64(3), int64(11)\n",
      "memory usage: 33.3 KB\n"
     ]
    }
   ],
   "source": [
    "heart_disease.info()\n",
    "#preview the dataframe"
   ]
  },
  {
   "cell_type": "markdown",
   "id": "d9230e4d-e3d9-46c7-b456-4020ce082ea9",
   "metadata": {},
   "source": [
    "***Fig.5***: "
   ]
  },
  {
   "cell_type": "code",
   "execution_count": 113,
   "id": "5849d1fd-b6cf-4315-b9bb-df3f1b94a8dc",
   "metadata": {
    "tags": []
   },
   "outputs": [
    {
     "data": {
      "text/plain": [
       "array([0, 2, 1, 3, 4])"
      ]
     },
     "execution_count": 113,
     "metadata": {},
     "output_type": "execute_result"
    }
   ],
   "source": [
    "#looking unqiue values in target variable\n",
    "heart_disease['num'].unique()"
   ]
  },
  {
   "cell_type": "markdown",
   "id": "1554c9ab-3630-4c51-ab25-9878b4a49a03",
   "metadata": {},
   "source": [
    "***Fig.6***: the classes in the variable num \"the presence of symptoms of Heart Disease\""
   ]
  },
  {
   "cell_type": "code",
   "execution_count": 114,
   "id": "edfd4458-714e-4dbf-bb92-253fdab44927",
   "metadata": {
    "tags": []
   },
   "outputs": [
    {
     "data": {
      "text/plain": [
       "0    164\n",
       "1     55\n",
       "2     36\n",
       "3     35\n",
       "4     13\n",
       "Name: num, dtype: int64"
      ]
     },
     "execution_count": 114,
     "metadata": {},
     "output_type": "execute_result"
    }
   ],
   "source": [
    "#counts of how many observations are in each diagnosis class\n",
    "heart_disease['num'].value_counts()"
   ]
  },
  {
   "cell_type": "markdown",
   "id": "8e122490-7aa1-4b2d-8ab3-f865ec35b376",
   "metadata": {},
   "source": [
    "***Fig.7***: The percentage of observations in each diagnosis class"
   ]
  },
  {
   "cell_type": "code",
   "execution_count": 115,
   "id": "0d450a72-85ec-489e-bf5e-fac69c05cbf0",
   "metadata": {
    "tags": []
   },
   "outputs": [
    {
     "data": {
      "text/plain": [
       "num\n",
       "0    54.125413\n",
       "1    18.151815\n",
       "2    11.881188\n",
       "3    11.551155\n",
       "4     4.290429\n",
       "dtype: float64"
      ]
     },
     "execution_count": 115,
     "metadata": {},
     "output_type": "execute_result"
    }
   ],
   "source": [
    "#exploring how balanced the data is by checking the percentage of observations in each class\n",
    "100 * heart_disease.groupby('num').size() / heart_disease.shape[0]"
   ]
  },
  {
   "cell_type": "markdown",
   "id": "a5b43a8a-be9a-48dd-b2f3-9ba8cc28e44a",
   "metadata": {},
   "source": [
    "***Fig.8***: The percentage of observations in each Heart Disease Symptoms class after grouping the classes 1-4 into one class (1)"
   ]
  },
  {
   "cell_type": "markdown",
   "id": "21a9c1dc-9677-4903-874b-e638c245949d",
   "metadata": {
    "tags": []
   },
   "source": [
    "From the counts we can see the data seems unbalanced and suggests we should either:\n",
    "A) combine num (1-4) together and leave 0 so the data will be sorted as 0 and 1\n",
    "with 0 being no symptoms and 1 being any sign of symptoms of heart disease\n",
    "or B) create more data to balance the data set."
   ]
  },
  {
   "cell_type": "code",
   "execution_count": 116,
   "id": "33a85560-2617-4b79-8268-7209aa40c7a7",
   "metadata": {
    "tags": []
   },
   "outputs": [
    {
     "data": {
      "text/html": [
       "\n",
       "<style>\n",
       "  #altair-viz-212f91f3953f446dbe9aa76e6625429c.vega-embed {\n",
       "    width: 100%;\n",
       "    display: flex;\n",
       "  }\n",
       "\n",
       "  #altair-viz-212f91f3953f446dbe9aa76e6625429c.vega-embed details,\n",
       "  #altair-viz-212f91f3953f446dbe9aa76e6625429c.vega-embed details summary {\n",
       "    position: relative;\n",
       "  }\n",
       "</style>\n",
       "<div id=\"altair-viz-212f91f3953f446dbe9aa76e6625429c\"></div>\n",
       "<script type=\"text/javascript\">\n",
       "  var VEGA_DEBUG = (typeof VEGA_DEBUG == \"undefined\") ? {} : VEGA_DEBUG;\n",
       "  (function(spec, embedOpt){\n",
       "    let outputDiv = document.currentScript.previousElementSibling;\n",
       "    if (outputDiv.id !== \"altair-viz-212f91f3953f446dbe9aa76e6625429c\") {\n",
       "      outputDiv = document.getElementById(\"altair-viz-212f91f3953f446dbe9aa76e6625429c\");\n",
       "    }\n",
       "    const paths = {\n",
       "      \"vega\": \"https://cdn.jsdelivr.net/npm/vega@5?noext\",\n",
       "      \"vega-lib\": \"https://cdn.jsdelivr.net/npm/vega-lib?noext\",\n",
       "      \"vega-lite\": \"https://cdn.jsdelivr.net/npm/vega-lite@5.16.3?noext\",\n",
       "      \"vega-embed\": \"https://cdn.jsdelivr.net/npm/vega-embed@6?noext\",\n",
       "    };\n",
       "\n",
       "    function maybeLoadScript(lib, version) {\n",
       "      var key = `${lib.replace(\"-\", \"\")}_version`;\n",
       "      return (VEGA_DEBUG[key] == version) ?\n",
       "        Promise.resolve(paths[lib]) :\n",
       "        new Promise(function(resolve, reject) {\n",
       "          var s = document.createElement('script');\n",
       "          document.getElementsByTagName(\"head\")[0].appendChild(s);\n",
       "          s.async = true;\n",
       "          s.onload = () => {\n",
       "            VEGA_DEBUG[key] = version;\n",
       "            return resolve(paths[lib]);\n",
       "          };\n",
       "          s.onerror = () => reject(`Error loading script: ${paths[lib]}`);\n",
       "          s.src = paths[lib];\n",
       "        });\n",
       "    }\n",
       "\n",
       "    function showError(err) {\n",
       "      outputDiv.innerHTML = `<div class=\"error\" style=\"color:red;\">${err}</div>`;\n",
       "      throw err;\n",
       "    }\n",
       "\n",
       "    function displayChart(vegaEmbed) {\n",
       "      vegaEmbed(outputDiv, spec, embedOpt)\n",
       "        .catch(err => showError(`Javascript Error: ${err.message}<br>This usually means there's a typo in your chart specification. See the javascript console for the full traceback.`));\n",
       "    }\n",
       "\n",
       "    if(typeof define === \"function\" && define.amd) {\n",
       "      requirejs.config({paths});\n",
       "      require([\"vega-embed\"], displayChart, err => showError(`Error loading script: ${err.message}`));\n",
       "    } else {\n",
       "      maybeLoadScript(\"vega\", \"5\")\n",
       "        .then(() => maybeLoadScript(\"vega-lite\", \"5.16.3\"))\n",
       "        .then(() => maybeLoadScript(\"vega-embed\", \"6\"))\n",
       "        .catch(showError)\n",
       "        .then(() => displayChart(vegaEmbed));\n",
       "    }\n",
       "  })({\"config\": {\"view\": {\"continuousWidth\": 300, \"continuousHeight\": 300}}, \"data\": {\"name\": \"data-9e6ddf12bc48ba267478d547b68f0b96\"}, \"mark\": {\"type\": \"circle\", \"opacity\": 0.7}, \"encoding\": {\"color\": {\"field\": \"num\", \"title\": \"Symptoms of Heart Disease\", \"type\": \"nominal\"}, \"x\": {\"field\": \"trestbps\", \"title\": \"Resting bp (mmHg)\", \"type\": \"quantitative\"}, \"y\": {\"field\": \"chol\", \"title\": \"Serum Cholestoral (mg/dl)\", \"type\": \"quantitative\"}}, \"title\": \"chol vs. trest bps\", \"$schema\": \"https://vega.github.io/schema/vega-lite/v5.16.3.json\", \"datasets\": {\"data-9e6ddf12bc48ba267478d547b68f0b96\": [{\"age\": 63, \"sex\": 1, \"cp\": 1, \"trestbps\": 145, \"chol\": 233, \"fbs\": 1, \"restecg\": 2, \"thalach\": 150, \"exang\": 0, \"oldpeak\": 2.3, \"slope\": 3, \"ca\": 0.0, \"thal\": 6.0, \"num\": 0}, {\"age\": 67, \"sex\": 1, \"cp\": 4, \"trestbps\": 160, \"chol\": 286, \"fbs\": 0, \"restecg\": 2, \"thalach\": 108, \"exang\": 1, \"oldpeak\": 1.5, \"slope\": 2, \"ca\": 3.0, \"thal\": 3.0, \"num\": 2}, {\"age\": 67, \"sex\": 1, \"cp\": 4, \"trestbps\": 120, \"chol\": 229, \"fbs\": 0, \"restecg\": 2, \"thalach\": 129, \"exang\": 1, \"oldpeak\": 2.6, \"slope\": 2, \"ca\": 2.0, \"thal\": 7.0, \"num\": 1}, {\"age\": 37, \"sex\": 1, \"cp\": 3, \"trestbps\": 130, \"chol\": 250, \"fbs\": 0, \"restecg\": 0, \"thalach\": 187, \"exang\": 0, \"oldpeak\": 3.5, \"slope\": 3, \"ca\": 0.0, \"thal\": 3.0, \"num\": 0}, {\"age\": 41, \"sex\": 0, \"cp\": 2, \"trestbps\": 130, \"chol\": 204, \"fbs\": 0, \"restecg\": 2, \"thalach\": 172, \"exang\": 0, \"oldpeak\": 1.4, \"slope\": 1, \"ca\": 0.0, \"thal\": 3.0, \"num\": 0}, {\"age\": 56, \"sex\": 1, \"cp\": 2, \"trestbps\": 120, \"chol\": 236, \"fbs\": 0, \"restecg\": 0, \"thalach\": 178, \"exang\": 0, \"oldpeak\": 0.8, \"slope\": 1, \"ca\": 0.0, \"thal\": 3.0, \"num\": 0}, {\"age\": 62, \"sex\": 0, \"cp\": 4, \"trestbps\": 140, \"chol\": 268, \"fbs\": 0, \"restecg\": 2, \"thalach\": 160, \"exang\": 0, \"oldpeak\": 3.6, \"slope\": 3, \"ca\": 2.0, \"thal\": 3.0, \"num\": 3}, {\"age\": 57, \"sex\": 0, \"cp\": 4, \"trestbps\": 120, \"chol\": 354, \"fbs\": 0, \"restecg\": 0, \"thalach\": 163, \"exang\": 1, \"oldpeak\": 0.6, \"slope\": 1, \"ca\": 0.0, \"thal\": 3.0, \"num\": 0}, {\"age\": 63, \"sex\": 1, \"cp\": 4, \"trestbps\": 130, \"chol\": 254, \"fbs\": 0, \"restecg\": 2, \"thalach\": 147, \"exang\": 0, \"oldpeak\": 1.4, \"slope\": 2, \"ca\": 1.0, \"thal\": 7.0, \"num\": 2}, {\"age\": 53, \"sex\": 1, \"cp\": 4, \"trestbps\": 140, \"chol\": 203, \"fbs\": 1, \"restecg\": 2, \"thalach\": 155, \"exang\": 1, \"oldpeak\": 3.1, \"slope\": 3, \"ca\": 0.0, \"thal\": 7.0, \"num\": 1}, {\"age\": 57, \"sex\": 1, \"cp\": 4, \"trestbps\": 140, \"chol\": 192, \"fbs\": 0, \"restecg\": 0, \"thalach\": 148, \"exang\": 0, \"oldpeak\": 0.4, \"slope\": 2, \"ca\": 0.0, \"thal\": 6.0, \"num\": 0}, {\"age\": 56, \"sex\": 0, \"cp\": 2, \"trestbps\": 140, \"chol\": 294, \"fbs\": 0, \"restecg\": 2, \"thalach\": 153, \"exang\": 0, \"oldpeak\": 1.3, \"slope\": 2, \"ca\": 0.0, \"thal\": 3.0, \"num\": 0}, {\"age\": 56, \"sex\": 1, \"cp\": 3, \"trestbps\": 130, \"chol\": 256, \"fbs\": 1, \"restecg\": 2, \"thalach\": 142, \"exang\": 1, \"oldpeak\": 0.6, \"slope\": 2, \"ca\": 1.0, \"thal\": 6.0, \"num\": 2}, {\"age\": 44, \"sex\": 1, \"cp\": 2, \"trestbps\": 120, \"chol\": 263, \"fbs\": 0, \"restecg\": 0, \"thalach\": 173, \"exang\": 0, \"oldpeak\": 0.0, \"slope\": 1, \"ca\": 0.0, \"thal\": 7.0, \"num\": 0}, {\"age\": 52, \"sex\": 1, \"cp\": 3, \"trestbps\": 172, \"chol\": 199, \"fbs\": 1, \"restecg\": 0, \"thalach\": 162, \"exang\": 0, \"oldpeak\": 0.5, \"slope\": 1, \"ca\": 0.0, \"thal\": 7.0, \"num\": 0}, {\"age\": 57, \"sex\": 1, \"cp\": 3, \"trestbps\": 150, \"chol\": 168, \"fbs\": 0, \"restecg\": 0, \"thalach\": 174, \"exang\": 0, \"oldpeak\": 1.6, \"slope\": 1, \"ca\": 0.0, \"thal\": 3.0, \"num\": 0}, {\"age\": 48, \"sex\": 1, \"cp\": 2, \"trestbps\": 110, \"chol\": 229, \"fbs\": 0, \"restecg\": 0, \"thalach\": 168, \"exang\": 0, \"oldpeak\": 1.0, \"slope\": 3, \"ca\": 0.0, \"thal\": 7.0, \"num\": 1}, {\"age\": 54, \"sex\": 1, \"cp\": 4, \"trestbps\": 140, \"chol\": 239, \"fbs\": 0, \"restecg\": 0, \"thalach\": 160, \"exang\": 0, \"oldpeak\": 1.2, \"slope\": 1, \"ca\": 0.0, \"thal\": 3.0, \"num\": 0}, {\"age\": 48, \"sex\": 0, \"cp\": 3, \"trestbps\": 130, \"chol\": 275, \"fbs\": 0, \"restecg\": 0, \"thalach\": 139, \"exang\": 0, \"oldpeak\": 0.2, \"slope\": 1, \"ca\": 0.0, \"thal\": 3.0, \"num\": 0}, {\"age\": 49, \"sex\": 1, \"cp\": 2, \"trestbps\": 130, \"chol\": 266, \"fbs\": 0, \"restecg\": 0, \"thalach\": 171, \"exang\": 0, \"oldpeak\": 0.6, \"slope\": 1, \"ca\": 0.0, \"thal\": 3.0, \"num\": 0}, {\"age\": 64, \"sex\": 1, \"cp\": 1, \"trestbps\": 110, \"chol\": 211, \"fbs\": 0, \"restecg\": 2, \"thalach\": 144, \"exang\": 1, \"oldpeak\": 1.8, \"slope\": 2, \"ca\": 0.0, \"thal\": 3.0, \"num\": 0}, {\"age\": 58, \"sex\": 0, \"cp\": 1, \"trestbps\": 150, \"chol\": 283, \"fbs\": 1, \"restecg\": 2, \"thalach\": 162, \"exang\": 0, \"oldpeak\": 1.0, \"slope\": 1, \"ca\": 0.0, \"thal\": 3.0, \"num\": 0}, {\"age\": 58, \"sex\": 1, \"cp\": 2, \"trestbps\": 120, \"chol\": 284, \"fbs\": 0, \"restecg\": 2, \"thalach\": 160, \"exang\": 0, \"oldpeak\": 1.8, \"slope\": 2, \"ca\": 0.0, \"thal\": 3.0, \"num\": 1}, {\"age\": 58, \"sex\": 1, \"cp\": 3, \"trestbps\": 132, \"chol\": 224, \"fbs\": 0, \"restecg\": 2, \"thalach\": 173, \"exang\": 0, \"oldpeak\": 3.2, \"slope\": 1, \"ca\": 2.0, \"thal\": 7.0, \"num\": 3}, {\"age\": 60, \"sex\": 1, \"cp\": 4, \"trestbps\": 130, \"chol\": 206, \"fbs\": 0, \"restecg\": 2, \"thalach\": 132, \"exang\": 1, \"oldpeak\": 2.4, \"slope\": 2, \"ca\": 2.0, \"thal\": 7.0, \"num\": 4}, {\"age\": 50, \"sex\": 0, \"cp\": 3, \"trestbps\": 120, \"chol\": 219, \"fbs\": 0, \"restecg\": 0, \"thalach\": 158, \"exang\": 0, \"oldpeak\": 1.6, \"slope\": 2, \"ca\": 0.0, \"thal\": 3.0, \"num\": 0}, {\"age\": 58, \"sex\": 0, \"cp\": 3, \"trestbps\": 120, \"chol\": 340, \"fbs\": 0, \"restecg\": 0, \"thalach\": 172, \"exang\": 0, \"oldpeak\": 0.0, \"slope\": 1, \"ca\": 0.0, \"thal\": 3.0, \"num\": 0}, {\"age\": 66, \"sex\": 0, \"cp\": 1, \"trestbps\": 150, \"chol\": 226, \"fbs\": 0, \"restecg\": 0, \"thalach\": 114, \"exang\": 0, \"oldpeak\": 2.6, \"slope\": 3, \"ca\": 0.0, \"thal\": 3.0, \"num\": 0}, {\"age\": 43, \"sex\": 1, \"cp\": 4, \"trestbps\": 150, \"chol\": 247, \"fbs\": 0, \"restecg\": 0, \"thalach\": 171, \"exang\": 0, \"oldpeak\": 1.5, \"slope\": 1, \"ca\": 0.0, \"thal\": 3.0, \"num\": 0}, {\"age\": 40, \"sex\": 1, \"cp\": 4, \"trestbps\": 110, \"chol\": 167, \"fbs\": 0, \"restecg\": 2, \"thalach\": 114, \"exang\": 1, \"oldpeak\": 2.0, \"slope\": 2, \"ca\": 0.0, \"thal\": 7.0, \"num\": 3}, {\"age\": 69, \"sex\": 0, \"cp\": 1, \"trestbps\": 140, \"chol\": 239, \"fbs\": 0, \"restecg\": 0, \"thalach\": 151, \"exang\": 0, \"oldpeak\": 1.8, \"slope\": 1, \"ca\": 2.0, \"thal\": 3.0, \"num\": 0}, {\"age\": 60, \"sex\": 1, \"cp\": 4, \"trestbps\": 117, \"chol\": 230, \"fbs\": 1, \"restecg\": 0, \"thalach\": 160, \"exang\": 1, \"oldpeak\": 1.4, \"slope\": 1, \"ca\": 2.0, \"thal\": 7.0, \"num\": 2}, {\"age\": 64, \"sex\": 1, \"cp\": 3, \"trestbps\": 140, \"chol\": 335, \"fbs\": 0, \"restecg\": 0, \"thalach\": 158, \"exang\": 0, \"oldpeak\": 0.0, \"slope\": 1, \"ca\": 0.0, \"thal\": 3.0, \"num\": 1}, {\"age\": 59, \"sex\": 1, \"cp\": 4, \"trestbps\": 135, \"chol\": 234, \"fbs\": 0, \"restecg\": 0, \"thalach\": 161, \"exang\": 0, \"oldpeak\": 0.5, \"slope\": 2, \"ca\": 0.0, \"thal\": 7.0, \"num\": 0}, {\"age\": 44, \"sex\": 1, \"cp\": 3, \"trestbps\": 130, \"chol\": 233, \"fbs\": 0, \"restecg\": 0, \"thalach\": 179, \"exang\": 1, \"oldpeak\": 0.4, \"slope\": 1, \"ca\": 0.0, \"thal\": 3.0, \"num\": 0}, {\"age\": 42, \"sex\": 1, \"cp\": 4, \"trestbps\": 140, \"chol\": 226, \"fbs\": 0, \"restecg\": 0, \"thalach\": 178, \"exang\": 0, \"oldpeak\": 0.0, \"slope\": 1, \"ca\": 0.0, \"thal\": 3.0, \"num\": 0}, {\"age\": 43, \"sex\": 1, \"cp\": 4, \"trestbps\": 120, \"chol\": 177, \"fbs\": 0, \"restecg\": 2, \"thalach\": 120, \"exang\": 1, \"oldpeak\": 2.5, \"slope\": 2, \"ca\": 0.0, \"thal\": 7.0, \"num\": 3}, {\"age\": 57, \"sex\": 1, \"cp\": 4, \"trestbps\": 150, \"chol\": 276, \"fbs\": 0, \"restecg\": 2, \"thalach\": 112, \"exang\": 1, \"oldpeak\": 0.6, \"slope\": 2, \"ca\": 1.0, \"thal\": 6.0, \"num\": 1}, {\"age\": 55, \"sex\": 1, \"cp\": 4, \"trestbps\": 132, \"chol\": 353, \"fbs\": 0, \"restecg\": 0, \"thalach\": 132, \"exang\": 1, \"oldpeak\": 1.2, \"slope\": 2, \"ca\": 1.0, \"thal\": 7.0, \"num\": 3}, {\"age\": 61, \"sex\": 1, \"cp\": 3, \"trestbps\": 150, \"chol\": 243, \"fbs\": 1, \"restecg\": 0, \"thalach\": 137, \"exang\": 1, \"oldpeak\": 1.0, \"slope\": 2, \"ca\": 0.0, \"thal\": 3.0, \"num\": 0}, {\"age\": 65, \"sex\": 0, \"cp\": 4, \"trestbps\": 150, \"chol\": 225, \"fbs\": 0, \"restecg\": 2, \"thalach\": 114, \"exang\": 0, \"oldpeak\": 1.0, \"slope\": 2, \"ca\": 3.0, \"thal\": 7.0, \"num\": 4}, {\"age\": 40, \"sex\": 1, \"cp\": 1, \"trestbps\": 140, \"chol\": 199, \"fbs\": 0, \"restecg\": 0, \"thalach\": 178, \"exang\": 1, \"oldpeak\": 1.4, \"slope\": 1, \"ca\": 0.0, \"thal\": 7.0, \"num\": 0}, {\"age\": 71, \"sex\": 0, \"cp\": 2, \"trestbps\": 160, \"chol\": 302, \"fbs\": 0, \"restecg\": 0, \"thalach\": 162, \"exang\": 0, \"oldpeak\": 0.4, \"slope\": 1, \"ca\": 2.0, \"thal\": 3.0, \"num\": 0}, {\"age\": 59, \"sex\": 1, \"cp\": 3, \"trestbps\": 150, \"chol\": 212, \"fbs\": 1, \"restecg\": 0, \"thalach\": 157, \"exang\": 0, \"oldpeak\": 1.6, \"slope\": 1, \"ca\": 0.0, \"thal\": 3.0, \"num\": 0}, {\"age\": 61, \"sex\": 0, \"cp\": 4, \"trestbps\": 130, \"chol\": 330, \"fbs\": 0, \"restecg\": 2, \"thalach\": 169, \"exang\": 0, \"oldpeak\": 0.0, \"slope\": 1, \"ca\": 0.0, \"thal\": 3.0, \"num\": 1}, {\"age\": 58, \"sex\": 1, \"cp\": 3, \"trestbps\": 112, \"chol\": 230, \"fbs\": 0, \"restecg\": 2, \"thalach\": 165, \"exang\": 0, \"oldpeak\": 2.5, \"slope\": 2, \"ca\": 1.0, \"thal\": 7.0, \"num\": 4}, {\"age\": 51, \"sex\": 1, \"cp\": 3, \"trestbps\": 110, \"chol\": 175, \"fbs\": 0, \"restecg\": 0, \"thalach\": 123, \"exang\": 0, \"oldpeak\": 0.6, \"slope\": 1, \"ca\": 0.0, \"thal\": 3.0, \"num\": 0}, {\"age\": 50, \"sex\": 1, \"cp\": 4, \"trestbps\": 150, \"chol\": 243, \"fbs\": 0, \"restecg\": 2, \"thalach\": 128, \"exang\": 0, \"oldpeak\": 2.6, \"slope\": 2, \"ca\": 0.0, \"thal\": 7.0, \"num\": 4}, {\"age\": 65, \"sex\": 0, \"cp\": 3, \"trestbps\": 140, \"chol\": 417, \"fbs\": 1, \"restecg\": 2, \"thalach\": 157, \"exang\": 0, \"oldpeak\": 0.8, \"slope\": 1, \"ca\": 1.0, \"thal\": 3.0, \"num\": 0}, {\"age\": 53, \"sex\": 1, \"cp\": 3, \"trestbps\": 130, \"chol\": 197, \"fbs\": 1, \"restecg\": 2, \"thalach\": 152, \"exang\": 0, \"oldpeak\": 1.2, \"slope\": 3, \"ca\": 0.0, \"thal\": 3.0, \"num\": 0}, {\"age\": 41, \"sex\": 0, \"cp\": 2, \"trestbps\": 105, \"chol\": 198, \"fbs\": 0, \"restecg\": 0, \"thalach\": 168, \"exang\": 0, \"oldpeak\": 0.0, \"slope\": 1, \"ca\": 1.0, \"thal\": 3.0, \"num\": 0}, {\"age\": 65, \"sex\": 1, \"cp\": 4, \"trestbps\": 120, \"chol\": 177, \"fbs\": 0, \"restecg\": 0, \"thalach\": 140, \"exang\": 0, \"oldpeak\": 0.4, \"slope\": 1, \"ca\": 0.0, \"thal\": 7.0, \"num\": 0}, {\"age\": 44, \"sex\": 1, \"cp\": 4, \"trestbps\": 112, \"chol\": 290, \"fbs\": 0, \"restecg\": 2, \"thalach\": 153, \"exang\": 0, \"oldpeak\": 0.0, \"slope\": 1, \"ca\": 1.0, \"thal\": 3.0, \"num\": 2}, {\"age\": 44, \"sex\": 1, \"cp\": 2, \"trestbps\": 130, \"chol\": 219, \"fbs\": 0, \"restecg\": 2, \"thalach\": 188, \"exang\": 0, \"oldpeak\": 0.0, \"slope\": 1, \"ca\": 0.0, \"thal\": 3.0, \"num\": 0}, {\"age\": 60, \"sex\": 1, \"cp\": 4, \"trestbps\": 130, \"chol\": 253, \"fbs\": 0, \"restecg\": 0, \"thalach\": 144, \"exang\": 1, \"oldpeak\": 1.4, \"slope\": 1, \"ca\": 1.0, \"thal\": 7.0, \"num\": 1}, {\"age\": 54, \"sex\": 1, \"cp\": 4, \"trestbps\": 124, \"chol\": 266, \"fbs\": 0, \"restecg\": 2, \"thalach\": 109, \"exang\": 1, \"oldpeak\": 2.2, \"slope\": 2, \"ca\": 1.0, \"thal\": 7.0, \"num\": 1}, {\"age\": 50, \"sex\": 1, \"cp\": 3, \"trestbps\": 140, \"chol\": 233, \"fbs\": 0, \"restecg\": 0, \"thalach\": 163, \"exang\": 0, \"oldpeak\": 0.6, \"slope\": 2, \"ca\": 1.0, \"thal\": 7.0, \"num\": 1}, {\"age\": 41, \"sex\": 1, \"cp\": 4, \"trestbps\": 110, \"chol\": 172, \"fbs\": 0, \"restecg\": 2, \"thalach\": 158, \"exang\": 0, \"oldpeak\": 0.0, \"slope\": 1, \"ca\": 0.0, \"thal\": 7.0, \"num\": 1}, {\"age\": 54, \"sex\": 1, \"cp\": 3, \"trestbps\": 125, \"chol\": 273, \"fbs\": 0, \"restecg\": 2, \"thalach\": 152, \"exang\": 0, \"oldpeak\": 0.5, \"slope\": 3, \"ca\": 1.0, \"thal\": 3.0, \"num\": 0}, {\"age\": 51, \"sex\": 1, \"cp\": 1, \"trestbps\": 125, \"chol\": 213, \"fbs\": 0, \"restecg\": 2, \"thalach\": 125, \"exang\": 1, \"oldpeak\": 1.4, \"slope\": 1, \"ca\": 1.0, \"thal\": 3.0, \"num\": 0}, {\"age\": 51, \"sex\": 0, \"cp\": 4, \"trestbps\": 130, \"chol\": 305, \"fbs\": 0, \"restecg\": 0, \"thalach\": 142, \"exang\": 1, \"oldpeak\": 1.2, \"slope\": 2, \"ca\": 0.0, \"thal\": 7.0, \"num\": 2}, {\"age\": 46, \"sex\": 0, \"cp\": 3, \"trestbps\": 142, \"chol\": 177, \"fbs\": 0, \"restecg\": 2, \"thalach\": 160, \"exang\": 1, \"oldpeak\": 1.4, \"slope\": 3, \"ca\": 0.0, \"thal\": 3.0, \"num\": 0}, {\"age\": 58, \"sex\": 1, \"cp\": 4, \"trestbps\": 128, \"chol\": 216, \"fbs\": 0, \"restecg\": 2, \"thalach\": 131, \"exang\": 1, \"oldpeak\": 2.2, \"slope\": 2, \"ca\": 3.0, \"thal\": 7.0, \"num\": 1}, {\"age\": 54, \"sex\": 0, \"cp\": 3, \"trestbps\": 135, \"chol\": 304, \"fbs\": 1, \"restecg\": 0, \"thalach\": 170, \"exang\": 0, \"oldpeak\": 0.0, \"slope\": 1, \"ca\": 0.0, \"thal\": 3.0, \"num\": 0}, {\"age\": 54, \"sex\": 1, \"cp\": 4, \"trestbps\": 120, \"chol\": 188, \"fbs\": 0, \"restecg\": 0, \"thalach\": 113, \"exang\": 0, \"oldpeak\": 1.4, \"slope\": 2, \"ca\": 1.0, \"thal\": 7.0, \"num\": 2}, {\"age\": 60, \"sex\": 1, \"cp\": 4, \"trestbps\": 145, \"chol\": 282, \"fbs\": 0, \"restecg\": 2, \"thalach\": 142, \"exang\": 1, \"oldpeak\": 2.8, \"slope\": 2, \"ca\": 2.0, \"thal\": 7.0, \"num\": 2}, {\"age\": 60, \"sex\": 1, \"cp\": 3, \"trestbps\": 140, \"chol\": 185, \"fbs\": 0, \"restecg\": 2, \"thalach\": 155, \"exang\": 0, \"oldpeak\": 3.0, \"slope\": 2, \"ca\": 0.0, \"thal\": 3.0, \"num\": 1}, {\"age\": 54, \"sex\": 1, \"cp\": 3, \"trestbps\": 150, \"chol\": 232, \"fbs\": 0, \"restecg\": 2, \"thalach\": 165, \"exang\": 0, \"oldpeak\": 1.6, \"slope\": 1, \"ca\": 0.0, \"thal\": 7.0, \"num\": 0}, {\"age\": 59, \"sex\": 1, \"cp\": 4, \"trestbps\": 170, \"chol\": 326, \"fbs\": 0, \"restecg\": 2, \"thalach\": 140, \"exang\": 1, \"oldpeak\": 3.4, \"slope\": 3, \"ca\": 0.0, \"thal\": 7.0, \"num\": 2}, {\"age\": 46, \"sex\": 1, \"cp\": 3, \"trestbps\": 150, \"chol\": 231, \"fbs\": 0, \"restecg\": 0, \"thalach\": 147, \"exang\": 0, \"oldpeak\": 3.6, \"slope\": 2, \"ca\": 0.0, \"thal\": 3.0, \"num\": 1}, {\"age\": 65, \"sex\": 0, \"cp\": 3, \"trestbps\": 155, \"chol\": 269, \"fbs\": 0, \"restecg\": 0, \"thalach\": 148, \"exang\": 0, \"oldpeak\": 0.8, \"slope\": 1, \"ca\": 0.0, \"thal\": 3.0, \"num\": 0}, {\"age\": 67, \"sex\": 1, \"cp\": 4, \"trestbps\": 125, \"chol\": 254, \"fbs\": 1, \"restecg\": 0, \"thalach\": 163, \"exang\": 0, \"oldpeak\": 0.2, \"slope\": 2, \"ca\": 2.0, \"thal\": 7.0, \"num\": 3}, {\"age\": 62, \"sex\": 1, \"cp\": 4, \"trestbps\": 120, \"chol\": 267, \"fbs\": 0, \"restecg\": 0, \"thalach\": 99, \"exang\": 1, \"oldpeak\": 1.8, \"slope\": 2, \"ca\": 2.0, \"thal\": 7.0, \"num\": 1}, {\"age\": 65, \"sex\": 1, \"cp\": 4, \"trestbps\": 110, \"chol\": 248, \"fbs\": 0, \"restecg\": 2, \"thalach\": 158, \"exang\": 0, \"oldpeak\": 0.6, \"slope\": 1, \"ca\": 2.0, \"thal\": 6.0, \"num\": 1}, {\"age\": 44, \"sex\": 1, \"cp\": 4, \"trestbps\": 110, \"chol\": 197, \"fbs\": 0, \"restecg\": 2, \"thalach\": 177, \"exang\": 0, \"oldpeak\": 0.0, \"slope\": 1, \"ca\": 1.0, \"thal\": 3.0, \"num\": 1}, {\"age\": 65, \"sex\": 0, \"cp\": 3, \"trestbps\": 160, \"chol\": 360, \"fbs\": 0, \"restecg\": 2, \"thalach\": 151, \"exang\": 0, \"oldpeak\": 0.8, \"slope\": 1, \"ca\": 0.0, \"thal\": 3.0, \"num\": 0}, {\"age\": 60, \"sex\": 1, \"cp\": 4, \"trestbps\": 125, \"chol\": 258, \"fbs\": 0, \"restecg\": 2, \"thalach\": 141, \"exang\": 1, \"oldpeak\": 2.8, \"slope\": 2, \"ca\": 1.0, \"thal\": 7.0, \"num\": 1}, {\"age\": 51, \"sex\": 0, \"cp\": 3, \"trestbps\": 140, \"chol\": 308, \"fbs\": 0, \"restecg\": 2, \"thalach\": 142, \"exang\": 0, \"oldpeak\": 1.5, \"slope\": 1, \"ca\": 1.0, \"thal\": 3.0, \"num\": 0}, {\"age\": 48, \"sex\": 1, \"cp\": 2, \"trestbps\": 130, \"chol\": 245, \"fbs\": 0, \"restecg\": 2, \"thalach\": 180, \"exang\": 0, \"oldpeak\": 0.2, \"slope\": 2, \"ca\": 0.0, \"thal\": 3.0, \"num\": 0}, {\"age\": 58, \"sex\": 1, \"cp\": 4, \"trestbps\": 150, \"chol\": 270, \"fbs\": 0, \"restecg\": 2, \"thalach\": 111, \"exang\": 1, \"oldpeak\": 0.8, \"slope\": 1, \"ca\": 0.0, \"thal\": 7.0, \"num\": 3}, {\"age\": 45, \"sex\": 1, \"cp\": 4, \"trestbps\": 104, \"chol\": 208, \"fbs\": 0, \"restecg\": 2, \"thalach\": 148, \"exang\": 1, \"oldpeak\": 3.0, \"slope\": 2, \"ca\": 0.0, \"thal\": 3.0, \"num\": 0}, {\"age\": 53, \"sex\": 0, \"cp\": 4, \"trestbps\": 130, \"chol\": 264, \"fbs\": 0, \"restecg\": 2, \"thalach\": 143, \"exang\": 0, \"oldpeak\": 0.4, \"slope\": 2, \"ca\": 0.0, \"thal\": 3.0, \"num\": 0}, {\"age\": 39, \"sex\": 1, \"cp\": 3, \"trestbps\": 140, \"chol\": 321, \"fbs\": 0, \"restecg\": 2, \"thalach\": 182, \"exang\": 0, \"oldpeak\": 0.0, \"slope\": 1, \"ca\": 0.0, \"thal\": 3.0, \"num\": 0}, {\"age\": 68, \"sex\": 1, \"cp\": 3, \"trestbps\": 180, \"chol\": 274, \"fbs\": 1, \"restecg\": 2, \"thalach\": 150, \"exang\": 1, \"oldpeak\": 1.6, \"slope\": 2, \"ca\": 0.0, \"thal\": 7.0, \"num\": 3}, {\"age\": 52, \"sex\": 1, \"cp\": 2, \"trestbps\": 120, \"chol\": 325, \"fbs\": 0, \"restecg\": 0, \"thalach\": 172, \"exang\": 0, \"oldpeak\": 0.2, \"slope\": 1, \"ca\": 0.0, \"thal\": 3.0, \"num\": 0}, {\"age\": 44, \"sex\": 1, \"cp\": 3, \"trestbps\": 140, \"chol\": 235, \"fbs\": 0, \"restecg\": 2, \"thalach\": 180, \"exang\": 0, \"oldpeak\": 0.0, \"slope\": 1, \"ca\": 0.0, \"thal\": 3.0, \"num\": 0}, {\"age\": 47, \"sex\": 1, \"cp\": 3, \"trestbps\": 138, \"chol\": 257, \"fbs\": 0, \"restecg\": 2, \"thalach\": 156, \"exang\": 0, \"oldpeak\": 0.0, \"slope\": 1, \"ca\": 0.0, \"thal\": 3.0, \"num\": 0}, {\"age\": 53, \"sex\": 0, \"cp\": 3, \"trestbps\": 128, \"chol\": 216, \"fbs\": 0, \"restecg\": 2, \"thalach\": 115, \"exang\": 0, \"oldpeak\": 0.0, \"slope\": 1, \"ca\": 0.0, \"thal\": null, \"num\": 0}, {\"age\": 53, \"sex\": 0, \"cp\": 4, \"trestbps\": 138, \"chol\": 234, \"fbs\": 0, \"restecg\": 2, \"thalach\": 160, \"exang\": 0, \"oldpeak\": 0.0, \"slope\": 1, \"ca\": 0.0, \"thal\": 3.0, \"num\": 0}, {\"age\": 51, \"sex\": 0, \"cp\": 3, \"trestbps\": 130, \"chol\": 256, \"fbs\": 0, \"restecg\": 2, \"thalach\": 149, \"exang\": 0, \"oldpeak\": 0.5, \"slope\": 1, \"ca\": 0.0, \"thal\": 3.0, \"num\": 0}, {\"age\": 66, \"sex\": 1, \"cp\": 4, \"trestbps\": 120, \"chol\": 302, \"fbs\": 0, \"restecg\": 2, \"thalach\": 151, \"exang\": 0, \"oldpeak\": 0.4, \"slope\": 2, \"ca\": 0.0, \"thal\": 3.0, \"num\": 0}, {\"age\": 62, \"sex\": 0, \"cp\": 4, \"trestbps\": 160, \"chol\": 164, \"fbs\": 0, \"restecg\": 2, \"thalach\": 145, \"exang\": 0, \"oldpeak\": 6.2, \"slope\": 3, \"ca\": 3.0, \"thal\": 7.0, \"num\": 3}, {\"age\": 62, \"sex\": 1, \"cp\": 3, \"trestbps\": 130, \"chol\": 231, \"fbs\": 0, \"restecg\": 0, \"thalach\": 146, \"exang\": 0, \"oldpeak\": 1.8, \"slope\": 2, \"ca\": 3.0, \"thal\": 7.0, \"num\": 0}, {\"age\": 44, \"sex\": 0, \"cp\": 3, \"trestbps\": 108, \"chol\": 141, \"fbs\": 0, \"restecg\": 0, \"thalach\": 175, \"exang\": 0, \"oldpeak\": 0.6, \"slope\": 2, \"ca\": 0.0, \"thal\": 3.0, \"num\": 0}, {\"age\": 63, \"sex\": 0, \"cp\": 3, \"trestbps\": 135, \"chol\": 252, \"fbs\": 0, \"restecg\": 2, \"thalach\": 172, \"exang\": 0, \"oldpeak\": 0.0, \"slope\": 1, \"ca\": 0.0, \"thal\": 3.0, \"num\": 0}, {\"age\": 52, \"sex\": 1, \"cp\": 4, \"trestbps\": 128, \"chol\": 255, \"fbs\": 0, \"restecg\": 0, \"thalach\": 161, \"exang\": 1, \"oldpeak\": 0.0, \"slope\": 1, \"ca\": 1.0, \"thal\": 7.0, \"num\": 1}, {\"age\": 59, \"sex\": 1, \"cp\": 4, \"trestbps\": 110, \"chol\": 239, \"fbs\": 0, \"restecg\": 2, \"thalach\": 142, \"exang\": 1, \"oldpeak\": 1.2, \"slope\": 2, \"ca\": 1.0, \"thal\": 7.0, \"num\": 2}, {\"age\": 60, \"sex\": 0, \"cp\": 4, \"trestbps\": 150, \"chol\": 258, \"fbs\": 0, \"restecg\": 2, \"thalach\": 157, \"exang\": 0, \"oldpeak\": 2.6, \"slope\": 2, \"ca\": 2.0, \"thal\": 7.0, \"num\": 3}, {\"age\": 52, \"sex\": 1, \"cp\": 2, \"trestbps\": 134, \"chol\": 201, \"fbs\": 0, \"restecg\": 0, \"thalach\": 158, \"exang\": 0, \"oldpeak\": 0.8, \"slope\": 1, \"ca\": 1.0, \"thal\": 3.0, \"num\": 0}, {\"age\": 48, \"sex\": 1, \"cp\": 4, \"trestbps\": 122, \"chol\": 222, \"fbs\": 0, \"restecg\": 2, \"thalach\": 186, \"exang\": 0, \"oldpeak\": 0.0, \"slope\": 1, \"ca\": 0.0, \"thal\": 3.0, \"num\": 0}, {\"age\": 45, \"sex\": 1, \"cp\": 4, \"trestbps\": 115, \"chol\": 260, \"fbs\": 0, \"restecg\": 2, \"thalach\": 185, \"exang\": 0, \"oldpeak\": 0.0, \"slope\": 1, \"ca\": 0.0, \"thal\": 3.0, \"num\": 0}, {\"age\": 34, \"sex\": 1, \"cp\": 1, \"trestbps\": 118, \"chol\": 182, \"fbs\": 0, \"restecg\": 2, \"thalach\": 174, \"exang\": 0, \"oldpeak\": 0.0, \"slope\": 1, \"ca\": 0.0, \"thal\": 3.0, \"num\": 0}, {\"age\": 57, \"sex\": 0, \"cp\": 4, \"trestbps\": 128, \"chol\": 303, \"fbs\": 0, \"restecg\": 2, \"thalach\": 159, \"exang\": 0, \"oldpeak\": 0.0, \"slope\": 1, \"ca\": 1.0, \"thal\": 3.0, \"num\": 0}, {\"age\": 71, \"sex\": 0, \"cp\": 3, \"trestbps\": 110, \"chol\": 265, \"fbs\": 1, \"restecg\": 2, \"thalach\": 130, \"exang\": 0, \"oldpeak\": 0.0, \"slope\": 1, \"ca\": 1.0, \"thal\": 3.0, \"num\": 0}, {\"age\": 49, \"sex\": 1, \"cp\": 3, \"trestbps\": 120, \"chol\": 188, \"fbs\": 0, \"restecg\": 0, \"thalach\": 139, \"exang\": 0, \"oldpeak\": 2.0, \"slope\": 2, \"ca\": 3.0, \"thal\": 7.0, \"num\": 3}, {\"age\": 54, \"sex\": 1, \"cp\": 2, \"trestbps\": 108, \"chol\": 309, \"fbs\": 0, \"restecg\": 0, \"thalach\": 156, \"exang\": 0, \"oldpeak\": 0.0, \"slope\": 1, \"ca\": 0.0, \"thal\": 7.0, \"num\": 0}, {\"age\": 59, \"sex\": 1, \"cp\": 4, \"trestbps\": 140, \"chol\": 177, \"fbs\": 0, \"restecg\": 0, \"thalach\": 162, \"exang\": 1, \"oldpeak\": 0.0, \"slope\": 1, \"ca\": 1.0, \"thal\": 7.0, \"num\": 2}, {\"age\": 57, \"sex\": 1, \"cp\": 3, \"trestbps\": 128, \"chol\": 229, \"fbs\": 0, \"restecg\": 2, \"thalach\": 150, \"exang\": 0, \"oldpeak\": 0.4, \"slope\": 2, \"ca\": 1.0, \"thal\": 7.0, \"num\": 1}, {\"age\": 61, \"sex\": 1, \"cp\": 4, \"trestbps\": 120, \"chol\": 260, \"fbs\": 0, \"restecg\": 0, \"thalach\": 140, \"exang\": 1, \"oldpeak\": 3.6, \"slope\": 2, \"ca\": 1.0, \"thal\": 7.0, \"num\": 2}, {\"age\": 39, \"sex\": 1, \"cp\": 4, \"trestbps\": 118, \"chol\": 219, \"fbs\": 0, \"restecg\": 0, \"thalach\": 140, \"exang\": 0, \"oldpeak\": 1.2, \"slope\": 2, \"ca\": 0.0, \"thal\": 7.0, \"num\": 3}, {\"age\": 61, \"sex\": 0, \"cp\": 4, \"trestbps\": 145, \"chol\": 307, \"fbs\": 0, \"restecg\": 2, \"thalach\": 146, \"exang\": 1, \"oldpeak\": 1.0, \"slope\": 2, \"ca\": 0.0, \"thal\": 7.0, \"num\": 1}, {\"age\": 56, \"sex\": 1, \"cp\": 4, \"trestbps\": 125, \"chol\": 249, \"fbs\": 1, \"restecg\": 2, \"thalach\": 144, \"exang\": 1, \"oldpeak\": 1.2, \"slope\": 2, \"ca\": 1.0, \"thal\": 3.0, \"num\": 1}, {\"age\": 52, \"sex\": 1, \"cp\": 1, \"trestbps\": 118, \"chol\": 186, \"fbs\": 0, \"restecg\": 2, \"thalach\": 190, \"exang\": 0, \"oldpeak\": 0.0, \"slope\": 2, \"ca\": 0.0, \"thal\": 6.0, \"num\": 0}, {\"age\": 43, \"sex\": 0, \"cp\": 4, \"trestbps\": 132, \"chol\": 341, \"fbs\": 1, \"restecg\": 2, \"thalach\": 136, \"exang\": 1, \"oldpeak\": 3.0, \"slope\": 2, \"ca\": 0.0, \"thal\": 7.0, \"num\": 2}, {\"age\": 62, \"sex\": 0, \"cp\": 3, \"trestbps\": 130, \"chol\": 263, \"fbs\": 0, \"restecg\": 0, \"thalach\": 97, \"exang\": 0, \"oldpeak\": 1.2, \"slope\": 2, \"ca\": 1.0, \"thal\": 7.0, \"num\": 2}, {\"age\": 41, \"sex\": 1, \"cp\": 2, \"trestbps\": 135, \"chol\": 203, \"fbs\": 0, \"restecg\": 0, \"thalach\": 132, \"exang\": 0, \"oldpeak\": 0.0, \"slope\": 2, \"ca\": 0.0, \"thal\": 6.0, \"num\": 0}, {\"age\": 58, \"sex\": 1, \"cp\": 3, \"trestbps\": 140, \"chol\": 211, \"fbs\": 1, \"restecg\": 2, \"thalach\": 165, \"exang\": 0, \"oldpeak\": 0.0, \"slope\": 1, \"ca\": 0.0, \"thal\": 3.0, \"num\": 0}, {\"age\": 35, \"sex\": 0, \"cp\": 4, \"trestbps\": 138, \"chol\": 183, \"fbs\": 0, \"restecg\": 0, \"thalach\": 182, \"exang\": 0, \"oldpeak\": 1.4, \"slope\": 1, \"ca\": 0.0, \"thal\": 3.0, \"num\": 0}, {\"age\": 63, \"sex\": 1, \"cp\": 4, \"trestbps\": 130, \"chol\": 330, \"fbs\": 1, \"restecg\": 2, \"thalach\": 132, \"exang\": 1, \"oldpeak\": 1.8, \"slope\": 1, \"ca\": 3.0, \"thal\": 7.0, \"num\": 3}, {\"age\": 65, \"sex\": 1, \"cp\": 4, \"trestbps\": 135, \"chol\": 254, \"fbs\": 0, \"restecg\": 2, \"thalach\": 127, \"exang\": 0, \"oldpeak\": 2.8, \"slope\": 2, \"ca\": 1.0, \"thal\": 7.0, \"num\": 2}, {\"age\": 48, \"sex\": 1, \"cp\": 4, \"trestbps\": 130, \"chol\": 256, \"fbs\": 1, \"restecg\": 2, \"thalach\": 150, \"exang\": 1, \"oldpeak\": 0.0, \"slope\": 1, \"ca\": 2.0, \"thal\": 7.0, \"num\": 3}, {\"age\": 63, \"sex\": 0, \"cp\": 4, \"trestbps\": 150, \"chol\": 407, \"fbs\": 0, \"restecg\": 2, \"thalach\": 154, \"exang\": 0, \"oldpeak\": 4.0, \"slope\": 2, \"ca\": 3.0, \"thal\": 7.0, \"num\": 4}, {\"age\": 51, \"sex\": 1, \"cp\": 3, \"trestbps\": 100, \"chol\": 222, \"fbs\": 0, \"restecg\": 0, \"thalach\": 143, \"exang\": 1, \"oldpeak\": 1.2, \"slope\": 2, \"ca\": 0.0, \"thal\": 3.0, \"num\": 0}, {\"age\": 55, \"sex\": 1, \"cp\": 4, \"trestbps\": 140, \"chol\": 217, \"fbs\": 0, \"restecg\": 0, \"thalach\": 111, \"exang\": 1, \"oldpeak\": 5.6, \"slope\": 3, \"ca\": 0.0, \"thal\": 7.0, \"num\": 3}, {\"age\": 65, \"sex\": 1, \"cp\": 1, \"trestbps\": 138, \"chol\": 282, \"fbs\": 1, \"restecg\": 2, \"thalach\": 174, \"exang\": 0, \"oldpeak\": 1.4, \"slope\": 2, \"ca\": 1.0, \"thal\": 3.0, \"num\": 1}, {\"age\": 45, \"sex\": 0, \"cp\": 2, \"trestbps\": 130, \"chol\": 234, \"fbs\": 0, \"restecg\": 2, \"thalach\": 175, \"exang\": 0, \"oldpeak\": 0.6, \"slope\": 2, \"ca\": 0.0, \"thal\": 3.0, \"num\": 0}, {\"age\": 56, \"sex\": 0, \"cp\": 4, \"trestbps\": 200, \"chol\": 288, \"fbs\": 1, \"restecg\": 2, \"thalach\": 133, \"exang\": 1, \"oldpeak\": 4.0, \"slope\": 3, \"ca\": 2.0, \"thal\": 7.0, \"num\": 3}, {\"age\": 54, \"sex\": 1, \"cp\": 4, \"trestbps\": 110, \"chol\": 239, \"fbs\": 0, \"restecg\": 0, \"thalach\": 126, \"exang\": 1, \"oldpeak\": 2.8, \"slope\": 2, \"ca\": 1.0, \"thal\": 7.0, \"num\": 3}, {\"age\": 44, \"sex\": 1, \"cp\": 2, \"trestbps\": 120, \"chol\": 220, \"fbs\": 0, \"restecg\": 0, \"thalach\": 170, \"exang\": 0, \"oldpeak\": 0.0, \"slope\": 1, \"ca\": 0.0, \"thal\": 3.0, \"num\": 0}, {\"age\": 62, \"sex\": 0, \"cp\": 4, \"trestbps\": 124, \"chol\": 209, \"fbs\": 0, \"restecg\": 0, \"thalach\": 163, \"exang\": 0, \"oldpeak\": 0.0, \"slope\": 1, \"ca\": 0.0, \"thal\": 3.0, \"num\": 0}, {\"age\": 54, \"sex\": 1, \"cp\": 3, \"trestbps\": 120, \"chol\": 258, \"fbs\": 0, \"restecg\": 2, \"thalach\": 147, \"exang\": 0, \"oldpeak\": 0.4, \"slope\": 2, \"ca\": 0.0, \"thal\": 7.0, \"num\": 0}, {\"age\": 51, \"sex\": 1, \"cp\": 3, \"trestbps\": 94, \"chol\": 227, \"fbs\": 0, \"restecg\": 0, \"thalach\": 154, \"exang\": 1, \"oldpeak\": 0.0, \"slope\": 1, \"ca\": 1.0, \"thal\": 7.0, \"num\": 0}, {\"age\": 29, \"sex\": 1, \"cp\": 2, \"trestbps\": 130, \"chol\": 204, \"fbs\": 0, \"restecg\": 2, \"thalach\": 202, \"exang\": 0, \"oldpeak\": 0.0, \"slope\": 1, \"ca\": 0.0, \"thal\": 3.0, \"num\": 0}, {\"age\": 51, \"sex\": 1, \"cp\": 4, \"trestbps\": 140, \"chol\": 261, \"fbs\": 0, \"restecg\": 2, \"thalach\": 186, \"exang\": 1, \"oldpeak\": 0.0, \"slope\": 1, \"ca\": 0.0, \"thal\": 3.0, \"num\": 0}, {\"age\": 43, \"sex\": 0, \"cp\": 3, \"trestbps\": 122, \"chol\": 213, \"fbs\": 0, \"restecg\": 0, \"thalach\": 165, \"exang\": 0, \"oldpeak\": 0.2, \"slope\": 2, \"ca\": 0.0, \"thal\": 3.0, \"num\": 0}, {\"age\": 55, \"sex\": 0, \"cp\": 2, \"trestbps\": 135, \"chol\": 250, \"fbs\": 0, \"restecg\": 2, \"thalach\": 161, \"exang\": 0, \"oldpeak\": 1.4, \"slope\": 2, \"ca\": 0.0, \"thal\": 3.0, \"num\": 0}, {\"age\": 70, \"sex\": 1, \"cp\": 4, \"trestbps\": 145, \"chol\": 174, \"fbs\": 0, \"restecg\": 0, \"thalach\": 125, \"exang\": 1, \"oldpeak\": 2.6, \"slope\": 3, \"ca\": 0.0, \"thal\": 7.0, \"num\": 4}, {\"age\": 62, \"sex\": 1, \"cp\": 2, \"trestbps\": 120, \"chol\": 281, \"fbs\": 0, \"restecg\": 2, \"thalach\": 103, \"exang\": 0, \"oldpeak\": 1.4, \"slope\": 2, \"ca\": 1.0, \"thal\": 7.0, \"num\": 3}, {\"age\": 35, \"sex\": 1, \"cp\": 4, \"trestbps\": 120, \"chol\": 198, \"fbs\": 0, \"restecg\": 0, \"thalach\": 130, \"exang\": 1, \"oldpeak\": 1.6, \"slope\": 2, \"ca\": 0.0, \"thal\": 7.0, \"num\": 1}, {\"age\": 51, \"sex\": 1, \"cp\": 3, \"trestbps\": 125, \"chol\": 245, \"fbs\": 1, \"restecg\": 2, \"thalach\": 166, \"exang\": 0, \"oldpeak\": 2.4, \"slope\": 2, \"ca\": 0.0, \"thal\": 3.0, \"num\": 0}, {\"age\": 59, \"sex\": 1, \"cp\": 2, \"trestbps\": 140, \"chol\": 221, \"fbs\": 0, \"restecg\": 0, \"thalach\": 164, \"exang\": 1, \"oldpeak\": 0.0, \"slope\": 1, \"ca\": 0.0, \"thal\": 3.0, \"num\": 0}, {\"age\": 59, \"sex\": 1, \"cp\": 1, \"trestbps\": 170, \"chol\": 288, \"fbs\": 0, \"restecg\": 2, \"thalach\": 159, \"exang\": 0, \"oldpeak\": 0.2, \"slope\": 2, \"ca\": 0.0, \"thal\": 7.0, \"num\": 1}, {\"age\": 52, \"sex\": 1, \"cp\": 2, \"trestbps\": 128, \"chol\": 205, \"fbs\": 1, \"restecg\": 0, \"thalach\": 184, \"exang\": 0, \"oldpeak\": 0.0, \"slope\": 1, \"ca\": 0.0, \"thal\": 3.0, \"num\": 0}, {\"age\": 64, \"sex\": 1, \"cp\": 3, \"trestbps\": 125, \"chol\": 309, \"fbs\": 0, \"restecg\": 0, \"thalach\": 131, \"exang\": 1, \"oldpeak\": 1.8, \"slope\": 2, \"ca\": 0.0, \"thal\": 7.0, \"num\": 1}, {\"age\": 58, \"sex\": 1, \"cp\": 3, \"trestbps\": 105, \"chol\": 240, \"fbs\": 0, \"restecg\": 2, \"thalach\": 154, \"exang\": 1, \"oldpeak\": 0.6, \"slope\": 2, \"ca\": 0.0, \"thal\": 7.0, \"num\": 0}, {\"age\": 47, \"sex\": 1, \"cp\": 3, \"trestbps\": 108, \"chol\": 243, \"fbs\": 0, \"restecg\": 0, \"thalach\": 152, \"exang\": 0, \"oldpeak\": 0.0, \"slope\": 1, \"ca\": 0.0, \"thal\": 3.0, \"num\": 1}, {\"age\": 57, \"sex\": 1, \"cp\": 4, \"trestbps\": 165, \"chol\": 289, \"fbs\": 1, \"restecg\": 2, \"thalach\": 124, \"exang\": 0, \"oldpeak\": 1.0, \"slope\": 2, \"ca\": 3.0, \"thal\": 7.0, \"num\": 4}, {\"age\": 41, \"sex\": 1, \"cp\": 3, \"trestbps\": 112, \"chol\": 250, \"fbs\": 0, \"restecg\": 0, \"thalach\": 179, \"exang\": 0, \"oldpeak\": 0.0, \"slope\": 1, \"ca\": 0.0, \"thal\": 3.0, \"num\": 0}, {\"age\": 45, \"sex\": 1, \"cp\": 2, \"trestbps\": 128, \"chol\": 308, \"fbs\": 0, \"restecg\": 2, \"thalach\": 170, \"exang\": 0, \"oldpeak\": 0.0, \"slope\": 1, \"ca\": 0.0, \"thal\": 3.0, \"num\": 0}, {\"age\": 60, \"sex\": 0, \"cp\": 3, \"trestbps\": 102, \"chol\": 318, \"fbs\": 0, \"restecg\": 0, \"thalach\": 160, \"exang\": 0, \"oldpeak\": 0.0, \"slope\": 1, \"ca\": 1.0, \"thal\": 3.0, \"num\": 0}, {\"age\": 52, \"sex\": 1, \"cp\": 1, \"trestbps\": 152, \"chol\": 298, \"fbs\": 1, \"restecg\": 0, \"thalach\": 178, \"exang\": 0, \"oldpeak\": 1.2, \"slope\": 2, \"ca\": 0.0, \"thal\": 7.0, \"num\": 0}, {\"age\": 42, \"sex\": 0, \"cp\": 4, \"trestbps\": 102, \"chol\": 265, \"fbs\": 0, \"restecg\": 2, \"thalach\": 122, \"exang\": 0, \"oldpeak\": 0.6, \"slope\": 2, \"ca\": 0.0, \"thal\": 3.0, \"num\": 0}, {\"age\": 67, \"sex\": 0, \"cp\": 3, \"trestbps\": 115, \"chol\": 564, \"fbs\": 0, \"restecg\": 2, \"thalach\": 160, \"exang\": 0, \"oldpeak\": 1.6, \"slope\": 2, \"ca\": 0.0, \"thal\": 7.0, \"num\": 0}, {\"age\": 55, \"sex\": 1, \"cp\": 4, \"trestbps\": 160, \"chol\": 289, \"fbs\": 0, \"restecg\": 2, \"thalach\": 145, \"exang\": 1, \"oldpeak\": 0.8, \"slope\": 2, \"ca\": 1.0, \"thal\": 7.0, \"num\": 4}, {\"age\": 64, \"sex\": 1, \"cp\": 4, \"trestbps\": 120, \"chol\": 246, \"fbs\": 0, \"restecg\": 2, \"thalach\": 96, \"exang\": 1, \"oldpeak\": 2.2, \"slope\": 3, \"ca\": 1.0, \"thal\": 3.0, \"num\": 3}, {\"age\": 70, \"sex\": 1, \"cp\": 4, \"trestbps\": 130, \"chol\": 322, \"fbs\": 0, \"restecg\": 2, \"thalach\": 109, \"exang\": 0, \"oldpeak\": 2.4, \"slope\": 2, \"ca\": 3.0, \"thal\": 3.0, \"num\": 1}, {\"age\": 51, \"sex\": 1, \"cp\": 4, \"trestbps\": 140, \"chol\": 299, \"fbs\": 0, \"restecg\": 0, \"thalach\": 173, \"exang\": 1, \"oldpeak\": 1.6, \"slope\": 1, \"ca\": 0.0, \"thal\": 7.0, \"num\": 1}, {\"age\": 58, \"sex\": 1, \"cp\": 4, \"trestbps\": 125, \"chol\": 300, \"fbs\": 0, \"restecg\": 2, \"thalach\": 171, \"exang\": 0, \"oldpeak\": 0.0, \"slope\": 1, \"ca\": 2.0, \"thal\": 7.0, \"num\": 1}, {\"age\": 60, \"sex\": 1, \"cp\": 4, \"trestbps\": 140, \"chol\": 293, \"fbs\": 0, \"restecg\": 2, \"thalach\": 170, \"exang\": 0, \"oldpeak\": 1.2, \"slope\": 2, \"ca\": 2.0, \"thal\": 7.0, \"num\": 2}, {\"age\": 68, \"sex\": 1, \"cp\": 3, \"trestbps\": 118, \"chol\": 277, \"fbs\": 0, \"restecg\": 0, \"thalach\": 151, \"exang\": 0, \"oldpeak\": 1.0, \"slope\": 1, \"ca\": 1.0, \"thal\": 7.0, \"num\": 0}, {\"age\": 46, \"sex\": 1, \"cp\": 2, \"trestbps\": 101, \"chol\": 197, \"fbs\": 1, \"restecg\": 0, \"thalach\": 156, \"exang\": 0, \"oldpeak\": 0.0, \"slope\": 1, \"ca\": 0.0, \"thal\": 7.0, \"num\": 0}, {\"age\": 77, \"sex\": 1, \"cp\": 4, \"trestbps\": 125, \"chol\": 304, \"fbs\": 0, \"restecg\": 2, \"thalach\": 162, \"exang\": 1, \"oldpeak\": 0.0, \"slope\": 1, \"ca\": 3.0, \"thal\": 3.0, \"num\": 4}, {\"age\": 54, \"sex\": 0, \"cp\": 3, \"trestbps\": 110, \"chol\": 214, \"fbs\": 0, \"restecg\": 0, \"thalach\": 158, \"exang\": 0, \"oldpeak\": 1.6, \"slope\": 2, \"ca\": 0.0, \"thal\": 3.0, \"num\": 0}, {\"age\": 58, \"sex\": 0, \"cp\": 4, \"trestbps\": 100, \"chol\": 248, \"fbs\": 0, \"restecg\": 2, \"thalach\": 122, \"exang\": 0, \"oldpeak\": 1.0, \"slope\": 2, \"ca\": 0.0, \"thal\": 3.0, \"num\": 0}, {\"age\": 48, \"sex\": 1, \"cp\": 3, \"trestbps\": 124, \"chol\": 255, \"fbs\": 1, \"restecg\": 0, \"thalach\": 175, \"exang\": 0, \"oldpeak\": 0.0, \"slope\": 1, \"ca\": 2.0, \"thal\": 3.0, \"num\": 0}, {\"age\": 57, \"sex\": 1, \"cp\": 4, \"trestbps\": 132, \"chol\": 207, \"fbs\": 0, \"restecg\": 0, \"thalach\": 168, \"exang\": 1, \"oldpeak\": 0.0, \"slope\": 1, \"ca\": 0.0, \"thal\": 7.0, \"num\": 0}, {\"age\": 52, \"sex\": 1, \"cp\": 3, \"trestbps\": 138, \"chol\": 223, \"fbs\": 0, \"restecg\": 0, \"thalach\": 169, \"exang\": 0, \"oldpeak\": 0.0, \"slope\": 1, \"ca\": null, \"thal\": 3.0, \"num\": 0}, {\"age\": 54, \"sex\": 0, \"cp\": 2, \"trestbps\": 132, \"chol\": 288, \"fbs\": 1, \"restecg\": 2, \"thalach\": 159, \"exang\": 1, \"oldpeak\": 0.0, \"slope\": 1, \"ca\": 1.0, \"thal\": 3.0, \"num\": 0}, {\"age\": 35, \"sex\": 1, \"cp\": 4, \"trestbps\": 126, \"chol\": 282, \"fbs\": 0, \"restecg\": 2, \"thalach\": 156, \"exang\": 1, \"oldpeak\": 0.0, \"slope\": 1, \"ca\": 0.0, \"thal\": 7.0, \"num\": 1}, {\"age\": 45, \"sex\": 0, \"cp\": 2, \"trestbps\": 112, \"chol\": 160, \"fbs\": 0, \"restecg\": 0, \"thalach\": 138, \"exang\": 0, \"oldpeak\": 0.0, \"slope\": 2, \"ca\": 0.0, \"thal\": 3.0, \"num\": 0}, {\"age\": 70, \"sex\": 1, \"cp\": 3, \"trestbps\": 160, \"chol\": 269, \"fbs\": 0, \"restecg\": 0, \"thalach\": 112, \"exang\": 1, \"oldpeak\": 2.9, \"slope\": 2, \"ca\": 1.0, \"thal\": 7.0, \"num\": 3}, {\"age\": 53, \"sex\": 1, \"cp\": 4, \"trestbps\": 142, \"chol\": 226, \"fbs\": 0, \"restecg\": 2, \"thalach\": 111, \"exang\": 1, \"oldpeak\": 0.0, \"slope\": 1, \"ca\": 0.0, \"thal\": 7.0, \"num\": 0}, {\"age\": 59, \"sex\": 0, \"cp\": 4, \"trestbps\": 174, \"chol\": 249, \"fbs\": 0, \"restecg\": 0, \"thalach\": 143, \"exang\": 1, \"oldpeak\": 0.0, \"slope\": 2, \"ca\": 0.0, \"thal\": 3.0, \"num\": 1}, {\"age\": 62, \"sex\": 0, \"cp\": 4, \"trestbps\": 140, \"chol\": 394, \"fbs\": 0, \"restecg\": 2, \"thalach\": 157, \"exang\": 0, \"oldpeak\": 1.2, \"slope\": 2, \"ca\": 0.0, \"thal\": 3.0, \"num\": 0}, {\"age\": 64, \"sex\": 1, \"cp\": 4, \"trestbps\": 145, \"chol\": 212, \"fbs\": 0, \"restecg\": 2, \"thalach\": 132, \"exang\": 0, \"oldpeak\": 2.0, \"slope\": 2, \"ca\": 2.0, \"thal\": 6.0, \"num\": 4}, {\"age\": 57, \"sex\": 1, \"cp\": 4, \"trestbps\": 152, \"chol\": 274, \"fbs\": 0, \"restecg\": 0, \"thalach\": 88, \"exang\": 1, \"oldpeak\": 1.2, \"slope\": 2, \"ca\": 1.0, \"thal\": 7.0, \"num\": 1}, {\"age\": 52, \"sex\": 1, \"cp\": 4, \"trestbps\": 108, \"chol\": 233, \"fbs\": 1, \"restecg\": 0, \"thalach\": 147, \"exang\": 0, \"oldpeak\": 0.1, \"slope\": 1, \"ca\": 3.0, \"thal\": 7.0, \"num\": 0}, {\"age\": 56, \"sex\": 1, \"cp\": 4, \"trestbps\": 132, \"chol\": 184, \"fbs\": 0, \"restecg\": 2, \"thalach\": 105, \"exang\": 1, \"oldpeak\": 2.1, \"slope\": 2, \"ca\": 1.0, \"thal\": 6.0, \"num\": 1}, {\"age\": 43, \"sex\": 1, \"cp\": 3, \"trestbps\": 130, \"chol\": 315, \"fbs\": 0, \"restecg\": 0, \"thalach\": 162, \"exang\": 0, \"oldpeak\": 1.9, \"slope\": 1, \"ca\": 1.0, \"thal\": 3.0, \"num\": 0}, {\"age\": 53, \"sex\": 1, \"cp\": 3, \"trestbps\": 130, \"chol\": 246, \"fbs\": 1, \"restecg\": 2, \"thalach\": 173, \"exang\": 0, \"oldpeak\": 0.0, \"slope\": 1, \"ca\": 3.0, \"thal\": 3.0, \"num\": 0}, {\"age\": 48, \"sex\": 1, \"cp\": 4, \"trestbps\": 124, \"chol\": 274, \"fbs\": 0, \"restecg\": 2, \"thalach\": 166, \"exang\": 0, \"oldpeak\": 0.5, \"slope\": 2, \"ca\": 0.0, \"thal\": 7.0, \"num\": 3}, {\"age\": 56, \"sex\": 0, \"cp\": 4, \"trestbps\": 134, \"chol\": 409, \"fbs\": 0, \"restecg\": 2, \"thalach\": 150, \"exang\": 1, \"oldpeak\": 1.9, \"slope\": 2, \"ca\": 2.0, \"thal\": 7.0, \"num\": 2}, {\"age\": 42, \"sex\": 1, \"cp\": 1, \"trestbps\": 148, \"chol\": 244, \"fbs\": 0, \"restecg\": 2, \"thalach\": 178, \"exang\": 0, \"oldpeak\": 0.8, \"slope\": 1, \"ca\": 2.0, \"thal\": 3.0, \"num\": 0}, {\"age\": 59, \"sex\": 1, \"cp\": 1, \"trestbps\": 178, \"chol\": 270, \"fbs\": 0, \"restecg\": 2, \"thalach\": 145, \"exang\": 0, \"oldpeak\": 4.2, \"slope\": 3, \"ca\": 0.0, \"thal\": 7.0, \"num\": 0}, {\"age\": 60, \"sex\": 0, \"cp\": 4, \"trestbps\": 158, \"chol\": 305, \"fbs\": 0, \"restecg\": 2, \"thalach\": 161, \"exang\": 0, \"oldpeak\": 0.0, \"slope\": 1, \"ca\": 0.0, \"thal\": 3.0, \"num\": 1}, {\"age\": 63, \"sex\": 0, \"cp\": 2, \"trestbps\": 140, \"chol\": 195, \"fbs\": 0, \"restecg\": 0, \"thalach\": 179, \"exang\": 0, \"oldpeak\": 0.0, \"slope\": 1, \"ca\": 2.0, \"thal\": 3.0, \"num\": 0}, {\"age\": 42, \"sex\": 1, \"cp\": 3, \"trestbps\": 120, \"chol\": 240, \"fbs\": 1, \"restecg\": 0, \"thalach\": 194, \"exang\": 0, \"oldpeak\": 0.8, \"slope\": 3, \"ca\": 0.0, \"thal\": 7.0, \"num\": 0}, {\"age\": 66, \"sex\": 1, \"cp\": 2, \"trestbps\": 160, \"chol\": 246, \"fbs\": 0, \"restecg\": 0, \"thalach\": 120, \"exang\": 1, \"oldpeak\": 0.0, \"slope\": 2, \"ca\": 3.0, \"thal\": 6.0, \"num\": 2}, {\"age\": 54, \"sex\": 1, \"cp\": 2, \"trestbps\": 192, \"chol\": 283, \"fbs\": 0, \"restecg\": 2, \"thalach\": 195, \"exang\": 0, \"oldpeak\": 0.0, \"slope\": 1, \"ca\": 1.0, \"thal\": 7.0, \"num\": 1}, {\"age\": 69, \"sex\": 1, \"cp\": 3, \"trestbps\": 140, \"chol\": 254, \"fbs\": 0, \"restecg\": 2, \"thalach\": 146, \"exang\": 0, \"oldpeak\": 2.0, \"slope\": 2, \"ca\": 3.0, \"thal\": 7.0, \"num\": 2}, {\"age\": 50, \"sex\": 1, \"cp\": 3, \"trestbps\": 129, \"chol\": 196, \"fbs\": 0, \"restecg\": 0, \"thalach\": 163, \"exang\": 0, \"oldpeak\": 0.0, \"slope\": 1, \"ca\": 0.0, \"thal\": 3.0, \"num\": 0}, {\"age\": 51, \"sex\": 1, \"cp\": 4, \"trestbps\": 140, \"chol\": 298, \"fbs\": 0, \"restecg\": 0, \"thalach\": 122, \"exang\": 1, \"oldpeak\": 4.2, \"slope\": 2, \"ca\": 3.0, \"thal\": 7.0, \"num\": 3}, {\"age\": 43, \"sex\": 1, \"cp\": 4, \"trestbps\": 132, \"chol\": 247, \"fbs\": 1, \"restecg\": 2, \"thalach\": 143, \"exang\": 1, \"oldpeak\": 0.1, \"slope\": 2, \"ca\": null, \"thal\": 7.0, \"num\": 1}, {\"age\": 62, \"sex\": 0, \"cp\": 4, \"trestbps\": 138, \"chol\": 294, \"fbs\": 1, \"restecg\": 0, \"thalach\": 106, \"exang\": 0, \"oldpeak\": 1.9, \"slope\": 2, \"ca\": 3.0, \"thal\": 3.0, \"num\": 2}, {\"age\": 68, \"sex\": 0, \"cp\": 3, \"trestbps\": 120, \"chol\": 211, \"fbs\": 0, \"restecg\": 2, \"thalach\": 115, \"exang\": 0, \"oldpeak\": 1.5, \"slope\": 2, \"ca\": 0.0, \"thal\": 3.0, \"num\": 0}, {\"age\": 67, \"sex\": 1, \"cp\": 4, \"trestbps\": 100, \"chol\": 299, \"fbs\": 0, \"restecg\": 2, \"thalach\": 125, \"exang\": 1, \"oldpeak\": 0.9, \"slope\": 2, \"ca\": 2.0, \"thal\": 3.0, \"num\": 3}, {\"age\": 69, \"sex\": 1, \"cp\": 1, \"trestbps\": 160, \"chol\": 234, \"fbs\": 1, \"restecg\": 2, \"thalach\": 131, \"exang\": 0, \"oldpeak\": 0.1, \"slope\": 2, \"ca\": 1.0, \"thal\": 3.0, \"num\": 0}, {\"age\": 45, \"sex\": 0, \"cp\": 4, \"trestbps\": 138, \"chol\": 236, \"fbs\": 0, \"restecg\": 2, \"thalach\": 152, \"exang\": 1, \"oldpeak\": 0.2, \"slope\": 2, \"ca\": 0.0, \"thal\": 3.0, \"num\": 0}, {\"age\": 50, \"sex\": 0, \"cp\": 2, \"trestbps\": 120, \"chol\": 244, \"fbs\": 0, \"restecg\": 0, \"thalach\": 162, \"exang\": 0, \"oldpeak\": 1.1, \"slope\": 1, \"ca\": 0.0, \"thal\": 3.0, \"num\": 0}, {\"age\": 59, \"sex\": 1, \"cp\": 1, \"trestbps\": 160, \"chol\": 273, \"fbs\": 0, \"restecg\": 2, \"thalach\": 125, \"exang\": 0, \"oldpeak\": 0.0, \"slope\": 1, \"ca\": 0.0, \"thal\": 3.0, \"num\": 1}, {\"age\": 50, \"sex\": 0, \"cp\": 4, \"trestbps\": 110, \"chol\": 254, \"fbs\": 0, \"restecg\": 2, \"thalach\": 159, \"exang\": 0, \"oldpeak\": 0.0, \"slope\": 1, \"ca\": 0.0, \"thal\": 3.0, \"num\": 0}, {\"age\": 64, \"sex\": 0, \"cp\": 4, \"trestbps\": 180, \"chol\": 325, \"fbs\": 0, \"restecg\": 0, \"thalach\": 154, \"exang\": 1, \"oldpeak\": 0.0, \"slope\": 1, \"ca\": 0.0, \"thal\": 3.0, \"num\": 0}, {\"age\": 57, \"sex\": 1, \"cp\": 3, \"trestbps\": 150, \"chol\": 126, \"fbs\": 1, \"restecg\": 0, \"thalach\": 173, \"exang\": 0, \"oldpeak\": 0.2, \"slope\": 1, \"ca\": 1.0, \"thal\": 7.0, \"num\": 0}, {\"age\": 64, \"sex\": 0, \"cp\": 3, \"trestbps\": 140, \"chol\": 313, \"fbs\": 0, \"restecg\": 0, \"thalach\": 133, \"exang\": 0, \"oldpeak\": 0.2, \"slope\": 1, \"ca\": 0.0, \"thal\": 7.0, \"num\": 0}, {\"age\": 43, \"sex\": 1, \"cp\": 4, \"trestbps\": 110, \"chol\": 211, \"fbs\": 0, \"restecg\": 0, \"thalach\": 161, \"exang\": 0, \"oldpeak\": 0.0, \"slope\": 1, \"ca\": 0.0, \"thal\": 7.0, \"num\": 0}, {\"age\": 45, \"sex\": 1, \"cp\": 4, \"trestbps\": 142, \"chol\": 309, \"fbs\": 0, \"restecg\": 2, \"thalach\": 147, \"exang\": 1, \"oldpeak\": 0.0, \"slope\": 2, \"ca\": 3.0, \"thal\": 7.0, \"num\": 3}, {\"age\": 58, \"sex\": 1, \"cp\": 4, \"trestbps\": 128, \"chol\": 259, \"fbs\": 0, \"restecg\": 2, \"thalach\": 130, \"exang\": 1, \"oldpeak\": 3.0, \"slope\": 2, \"ca\": 2.0, \"thal\": 7.0, \"num\": 3}, {\"age\": 50, \"sex\": 1, \"cp\": 4, \"trestbps\": 144, \"chol\": 200, \"fbs\": 0, \"restecg\": 2, \"thalach\": 126, \"exang\": 1, \"oldpeak\": 0.9, \"slope\": 2, \"ca\": 0.0, \"thal\": 7.0, \"num\": 3}, {\"age\": 55, \"sex\": 1, \"cp\": 2, \"trestbps\": 130, \"chol\": 262, \"fbs\": 0, \"restecg\": 0, \"thalach\": 155, \"exang\": 0, \"oldpeak\": 0.0, \"slope\": 1, \"ca\": 0.0, \"thal\": 3.0, \"num\": 0}, {\"age\": 62, \"sex\": 0, \"cp\": 4, \"trestbps\": 150, \"chol\": 244, \"fbs\": 0, \"restecg\": 0, \"thalach\": 154, \"exang\": 1, \"oldpeak\": 1.4, \"slope\": 2, \"ca\": 0.0, \"thal\": 3.0, \"num\": 1}, {\"age\": 37, \"sex\": 0, \"cp\": 3, \"trestbps\": 120, \"chol\": 215, \"fbs\": 0, \"restecg\": 0, \"thalach\": 170, \"exang\": 0, \"oldpeak\": 0.0, \"slope\": 1, \"ca\": 0.0, \"thal\": 3.0, \"num\": 0}, {\"age\": 38, \"sex\": 1, \"cp\": 1, \"trestbps\": 120, \"chol\": 231, \"fbs\": 0, \"restecg\": 0, \"thalach\": 182, \"exang\": 1, \"oldpeak\": 3.8, \"slope\": 2, \"ca\": 0.0, \"thal\": 7.0, \"num\": 4}, {\"age\": 41, \"sex\": 1, \"cp\": 3, \"trestbps\": 130, \"chol\": 214, \"fbs\": 0, \"restecg\": 2, \"thalach\": 168, \"exang\": 0, \"oldpeak\": 2.0, \"slope\": 2, \"ca\": 0.0, \"thal\": 3.0, \"num\": 0}, {\"age\": 66, \"sex\": 0, \"cp\": 4, \"trestbps\": 178, \"chol\": 228, \"fbs\": 1, \"restecg\": 0, \"thalach\": 165, \"exang\": 1, \"oldpeak\": 1.0, \"slope\": 2, \"ca\": 2.0, \"thal\": 7.0, \"num\": 3}, {\"age\": 52, \"sex\": 1, \"cp\": 4, \"trestbps\": 112, \"chol\": 230, \"fbs\": 0, \"restecg\": 0, \"thalach\": 160, \"exang\": 0, \"oldpeak\": 0.0, \"slope\": 1, \"ca\": 1.0, \"thal\": 3.0, \"num\": 1}, {\"age\": 56, \"sex\": 1, \"cp\": 1, \"trestbps\": 120, \"chol\": 193, \"fbs\": 0, \"restecg\": 2, \"thalach\": 162, \"exang\": 0, \"oldpeak\": 1.9, \"slope\": 2, \"ca\": 0.0, \"thal\": 7.0, \"num\": 0}, {\"age\": 46, \"sex\": 0, \"cp\": 2, \"trestbps\": 105, \"chol\": 204, \"fbs\": 0, \"restecg\": 0, \"thalach\": 172, \"exang\": 0, \"oldpeak\": 0.0, \"slope\": 1, \"ca\": 0.0, \"thal\": 3.0, \"num\": 0}, {\"age\": 46, \"sex\": 0, \"cp\": 4, \"trestbps\": 138, \"chol\": 243, \"fbs\": 0, \"restecg\": 2, \"thalach\": 152, \"exang\": 1, \"oldpeak\": 0.0, \"slope\": 2, \"ca\": 0.0, \"thal\": 3.0, \"num\": 0}, {\"age\": 64, \"sex\": 0, \"cp\": 4, \"trestbps\": 130, \"chol\": 303, \"fbs\": 0, \"restecg\": 0, \"thalach\": 122, \"exang\": 0, \"oldpeak\": 2.0, \"slope\": 2, \"ca\": 2.0, \"thal\": 3.0, \"num\": 0}, {\"age\": 59, \"sex\": 1, \"cp\": 4, \"trestbps\": 138, \"chol\": 271, \"fbs\": 0, \"restecg\": 2, \"thalach\": 182, \"exang\": 0, \"oldpeak\": 0.0, \"slope\": 1, \"ca\": 0.0, \"thal\": 3.0, \"num\": 0}, {\"age\": 41, \"sex\": 0, \"cp\": 3, \"trestbps\": 112, \"chol\": 268, \"fbs\": 0, \"restecg\": 2, \"thalach\": 172, \"exang\": 1, \"oldpeak\": 0.0, \"slope\": 1, \"ca\": 0.0, \"thal\": 3.0, \"num\": 0}, {\"age\": 54, \"sex\": 0, \"cp\": 3, \"trestbps\": 108, \"chol\": 267, \"fbs\": 0, \"restecg\": 2, \"thalach\": 167, \"exang\": 0, \"oldpeak\": 0.0, \"slope\": 1, \"ca\": 0.0, \"thal\": 3.0, \"num\": 0}, {\"age\": 39, \"sex\": 0, \"cp\": 3, \"trestbps\": 94, \"chol\": 199, \"fbs\": 0, \"restecg\": 0, \"thalach\": 179, \"exang\": 0, \"oldpeak\": 0.0, \"slope\": 1, \"ca\": 0.0, \"thal\": 3.0, \"num\": 0}, {\"age\": 53, \"sex\": 1, \"cp\": 4, \"trestbps\": 123, \"chol\": 282, \"fbs\": 0, \"restecg\": 0, \"thalach\": 95, \"exang\": 1, \"oldpeak\": 2.0, \"slope\": 2, \"ca\": 2.0, \"thal\": 7.0, \"num\": 3}, {\"age\": 63, \"sex\": 0, \"cp\": 4, \"trestbps\": 108, \"chol\": 269, \"fbs\": 0, \"restecg\": 0, \"thalach\": 169, \"exang\": 1, \"oldpeak\": 1.8, \"slope\": 2, \"ca\": 2.0, \"thal\": 3.0, \"num\": 1}, {\"age\": 34, \"sex\": 0, \"cp\": 2, \"trestbps\": 118, \"chol\": 210, \"fbs\": 0, \"restecg\": 0, \"thalach\": 192, \"exang\": 0, \"oldpeak\": 0.7, \"slope\": 1, \"ca\": 0.0, \"thal\": 3.0, \"num\": 0}, {\"age\": 47, \"sex\": 1, \"cp\": 4, \"trestbps\": 112, \"chol\": 204, \"fbs\": 0, \"restecg\": 0, \"thalach\": 143, \"exang\": 0, \"oldpeak\": 0.1, \"slope\": 1, \"ca\": 0.0, \"thal\": 3.0, \"num\": 0}, {\"age\": 67, \"sex\": 0, \"cp\": 3, \"trestbps\": 152, \"chol\": 277, \"fbs\": 0, \"restecg\": 0, \"thalach\": 172, \"exang\": 0, \"oldpeak\": 0.0, \"slope\": 1, \"ca\": 1.0, \"thal\": 3.0, \"num\": 0}, {\"age\": 54, \"sex\": 1, \"cp\": 4, \"trestbps\": 110, \"chol\": 206, \"fbs\": 0, \"restecg\": 2, \"thalach\": 108, \"exang\": 1, \"oldpeak\": 0.0, \"slope\": 2, \"ca\": 1.0, \"thal\": 3.0, \"num\": 3}, {\"age\": 66, \"sex\": 1, \"cp\": 4, \"trestbps\": 112, \"chol\": 212, \"fbs\": 0, \"restecg\": 2, \"thalach\": 132, \"exang\": 1, \"oldpeak\": 0.1, \"slope\": 1, \"ca\": 1.0, \"thal\": 3.0, \"num\": 2}, {\"age\": 52, \"sex\": 0, \"cp\": 3, \"trestbps\": 136, \"chol\": 196, \"fbs\": 0, \"restecg\": 2, \"thalach\": 169, \"exang\": 0, \"oldpeak\": 0.1, \"slope\": 2, \"ca\": 0.0, \"thal\": 3.0, \"num\": 0}, {\"age\": 55, \"sex\": 0, \"cp\": 4, \"trestbps\": 180, \"chol\": 327, \"fbs\": 0, \"restecg\": 1, \"thalach\": 117, \"exang\": 1, \"oldpeak\": 3.4, \"slope\": 2, \"ca\": 0.0, \"thal\": 3.0, \"num\": 2}, {\"age\": 49, \"sex\": 1, \"cp\": 3, \"trestbps\": 118, \"chol\": 149, \"fbs\": 0, \"restecg\": 2, \"thalach\": 126, \"exang\": 0, \"oldpeak\": 0.8, \"slope\": 1, \"ca\": 3.0, \"thal\": 3.0, \"num\": 1}, {\"age\": 74, \"sex\": 0, \"cp\": 2, \"trestbps\": 120, \"chol\": 269, \"fbs\": 0, \"restecg\": 2, \"thalach\": 121, \"exang\": 1, \"oldpeak\": 0.2, \"slope\": 1, \"ca\": 1.0, \"thal\": 3.0, \"num\": 0}, {\"age\": 54, \"sex\": 0, \"cp\": 3, \"trestbps\": 160, \"chol\": 201, \"fbs\": 0, \"restecg\": 0, \"thalach\": 163, \"exang\": 0, \"oldpeak\": 0.0, \"slope\": 1, \"ca\": 1.0, \"thal\": 3.0, \"num\": 0}, {\"age\": 54, \"sex\": 1, \"cp\": 4, \"trestbps\": 122, \"chol\": 286, \"fbs\": 0, \"restecg\": 2, \"thalach\": 116, \"exang\": 1, \"oldpeak\": 3.2, \"slope\": 2, \"ca\": 2.0, \"thal\": 3.0, \"num\": 3}, {\"age\": 56, \"sex\": 1, \"cp\": 4, \"trestbps\": 130, \"chol\": 283, \"fbs\": 1, \"restecg\": 2, \"thalach\": 103, \"exang\": 1, \"oldpeak\": 1.6, \"slope\": 3, \"ca\": 0.0, \"thal\": 7.0, \"num\": 2}, {\"age\": 46, \"sex\": 1, \"cp\": 4, \"trestbps\": 120, \"chol\": 249, \"fbs\": 0, \"restecg\": 2, \"thalach\": 144, \"exang\": 0, \"oldpeak\": 0.8, \"slope\": 1, \"ca\": 0.0, \"thal\": 7.0, \"num\": 1}, {\"age\": 49, \"sex\": 0, \"cp\": 2, \"trestbps\": 134, \"chol\": 271, \"fbs\": 0, \"restecg\": 0, \"thalach\": 162, \"exang\": 0, \"oldpeak\": 0.0, \"slope\": 2, \"ca\": 0.0, \"thal\": 3.0, \"num\": 0}, {\"age\": 42, \"sex\": 1, \"cp\": 2, \"trestbps\": 120, \"chol\": 295, \"fbs\": 0, \"restecg\": 0, \"thalach\": 162, \"exang\": 0, \"oldpeak\": 0.0, \"slope\": 1, \"ca\": 0.0, \"thal\": 3.0, \"num\": 0}, {\"age\": 41, \"sex\": 1, \"cp\": 2, \"trestbps\": 110, \"chol\": 235, \"fbs\": 0, \"restecg\": 0, \"thalach\": 153, \"exang\": 0, \"oldpeak\": 0.0, \"slope\": 1, \"ca\": 0.0, \"thal\": 3.0, \"num\": 0}, {\"age\": 41, \"sex\": 0, \"cp\": 2, \"trestbps\": 126, \"chol\": 306, \"fbs\": 0, \"restecg\": 0, \"thalach\": 163, \"exang\": 0, \"oldpeak\": 0.0, \"slope\": 1, \"ca\": 0.0, \"thal\": 3.0, \"num\": 0}, {\"age\": 49, \"sex\": 0, \"cp\": 4, \"trestbps\": 130, \"chol\": 269, \"fbs\": 0, \"restecg\": 0, \"thalach\": 163, \"exang\": 0, \"oldpeak\": 0.0, \"slope\": 1, \"ca\": 0.0, \"thal\": 3.0, \"num\": 0}, {\"age\": 61, \"sex\": 1, \"cp\": 1, \"trestbps\": 134, \"chol\": 234, \"fbs\": 0, \"restecg\": 0, \"thalach\": 145, \"exang\": 0, \"oldpeak\": 2.6, \"slope\": 2, \"ca\": 2.0, \"thal\": 3.0, \"num\": 2}, {\"age\": 60, \"sex\": 0, \"cp\": 3, \"trestbps\": 120, \"chol\": 178, \"fbs\": 1, \"restecg\": 0, \"thalach\": 96, \"exang\": 0, \"oldpeak\": 0.0, \"slope\": 1, \"ca\": 0.0, \"thal\": 3.0, \"num\": 0}, {\"age\": 67, \"sex\": 1, \"cp\": 4, \"trestbps\": 120, \"chol\": 237, \"fbs\": 0, \"restecg\": 0, \"thalach\": 71, \"exang\": 0, \"oldpeak\": 1.0, \"slope\": 2, \"ca\": 0.0, \"thal\": 3.0, \"num\": 2}, {\"age\": 58, \"sex\": 1, \"cp\": 4, \"trestbps\": 100, \"chol\": 234, \"fbs\": 0, \"restecg\": 0, \"thalach\": 156, \"exang\": 0, \"oldpeak\": 0.1, \"slope\": 1, \"ca\": 1.0, \"thal\": 7.0, \"num\": 2}, {\"age\": 47, \"sex\": 1, \"cp\": 4, \"trestbps\": 110, \"chol\": 275, \"fbs\": 0, \"restecg\": 2, \"thalach\": 118, \"exang\": 1, \"oldpeak\": 1.0, \"slope\": 2, \"ca\": 1.0, \"thal\": 3.0, \"num\": 1}, {\"age\": 52, \"sex\": 1, \"cp\": 4, \"trestbps\": 125, \"chol\": 212, \"fbs\": 0, \"restecg\": 0, \"thalach\": 168, \"exang\": 0, \"oldpeak\": 1.0, \"slope\": 1, \"ca\": 2.0, \"thal\": 7.0, \"num\": 3}, {\"age\": 62, \"sex\": 1, \"cp\": 2, \"trestbps\": 128, \"chol\": 208, \"fbs\": 1, \"restecg\": 2, \"thalach\": 140, \"exang\": 0, \"oldpeak\": 0.0, \"slope\": 1, \"ca\": 0.0, \"thal\": 3.0, \"num\": 0}, {\"age\": 57, \"sex\": 1, \"cp\": 4, \"trestbps\": 110, \"chol\": 201, \"fbs\": 0, \"restecg\": 0, \"thalach\": 126, \"exang\": 1, \"oldpeak\": 1.5, \"slope\": 2, \"ca\": 0.0, \"thal\": 6.0, \"num\": 0}, {\"age\": 58, \"sex\": 1, \"cp\": 4, \"trestbps\": 146, \"chol\": 218, \"fbs\": 0, \"restecg\": 0, \"thalach\": 105, \"exang\": 0, \"oldpeak\": 2.0, \"slope\": 2, \"ca\": 1.0, \"thal\": 7.0, \"num\": 1}, {\"age\": 64, \"sex\": 1, \"cp\": 4, \"trestbps\": 128, \"chol\": 263, \"fbs\": 0, \"restecg\": 0, \"thalach\": 105, \"exang\": 1, \"oldpeak\": 0.2, \"slope\": 2, \"ca\": 1.0, \"thal\": 7.0, \"num\": 0}, {\"age\": 51, \"sex\": 0, \"cp\": 3, \"trestbps\": 120, \"chol\": 295, \"fbs\": 0, \"restecg\": 2, \"thalach\": 157, \"exang\": 0, \"oldpeak\": 0.6, \"slope\": 1, \"ca\": 0.0, \"thal\": 3.0, \"num\": 0}, {\"age\": 43, \"sex\": 1, \"cp\": 4, \"trestbps\": 115, \"chol\": 303, \"fbs\": 0, \"restecg\": 0, \"thalach\": 181, \"exang\": 0, \"oldpeak\": 1.2, \"slope\": 2, \"ca\": 0.0, \"thal\": 3.0, \"num\": 0}, {\"age\": 42, \"sex\": 0, \"cp\": 3, \"trestbps\": 120, \"chol\": 209, \"fbs\": 0, \"restecg\": 0, \"thalach\": 173, \"exang\": 0, \"oldpeak\": 0.0, \"slope\": 2, \"ca\": 0.0, \"thal\": 3.0, \"num\": 0}, {\"age\": 67, \"sex\": 0, \"cp\": 4, \"trestbps\": 106, \"chol\": 223, \"fbs\": 0, \"restecg\": 0, \"thalach\": 142, \"exang\": 0, \"oldpeak\": 0.3, \"slope\": 1, \"ca\": 2.0, \"thal\": 3.0, \"num\": 0}, {\"age\": 76, \"sex\": 0, \"cp\": 3, \"trestbps\": 140, \"chol\": 197, \"fbs\": 0, \"restecg\": 1, \"thalach\": 116, \"exang\": 0, \"oldpeak\": 1.1, \"slope\": 2, \"ca\": 0.0, \"thal\": 3.0, \"num\": 0}, {\"age\": 70, \"sex\": 1, \"cp\": 2, \"trestbps\": 156, \"chol\": 245, \"fbs\": 0, \"restecg\": 2, \"thalach\": 143, \"exang\": 0, \"oldpeak\": 0.0, \"slope\": 1, \"ca\": 0.0, \"thal\": 3.0, \"num\": 0}, {\"age\": 57, \"sex\": 1, \"cp\": 2, \"trestbps\": 124, \"chol\": 261, \"fbs\": 0, \"restecg\": 0, \"thalach\": 141, \"exang\": 0, \"oldpeak\": 0.3, \"slope\": 1, \"ca\": 0.0, \"thal\": 7.0, \"num\": 1}, {\"age\": 44, \"sex\": 0, \"cp\": 3, \"trestbps\": 118, \"chol\": 242, \"fbs\": 0, \"restecg\": 0, \"thalach\": 149, \"exang\": 0, \"oldpeak\": 0.3, \"slope\": 2, \"ca\": 1.0, \"thal\": 3.0, \"num\": 0}, {\"age\": 58, \"sex\": 0, \"cp\": 2, \"trestbps\": 136, \"chol\": 319, \"fbs\": 1, \"restecg\": 2, \"thalach\": 152, \"exang\": 0, \"oldpeak\": 0.0, \"slope\": 1, \"ca\": 2.0, \"thal\": 3.0, \"num\": 3}, {\"age\": 60, \"sex\": 0, \"cp\": 1, \"trestbps\": 150, \"chol\": 240, \"fbs\": 0, \"restecg\": 0, \"thalach\": 171, \"exang\": 0, \"oldpeak\": 0.9, \"slope\": 1, \"ca\": 0.0, \"thal\": 3.0, \"num\": 0}, {\"age\": 44, \"sex\": 1, \"cp\": 3, \"trestbps\": 120, \"chol\": 226, \"fbs\": 0, \"restecg\": 0, \"thalach\": 169, \"exang\": 0, \"oldpeak\": 0.0, \"slope\": 1, \"ca\": 0.0, \"thal\": 3.0, \"num\": 0}, {\"age\": 61, \"sex\": 1, \"cp\": 4, \"trestbps\": 138, \"chol\": 166, \"fbs\": 0, \"restecg\": 2, \"thalach\": 125, \"exang\": 1, \"oldpeak\": 3.6, \"slope\": 2, \"ca\": 1.0, \"thal\": 3.0, \"num\": 4}, {\"age\": 42, \"sex\": 1, \"cp\": 4, \"trestbps\": 136, \"chol\": 315, \"fbs\": 0, \"restecg\": 0, \"thalach\": 125, \"exang\": 1, \"oldpeak\": 1.8, \"slope\": 2, \"ca\": 0.0, \"thal\": 6.0, \"num\": 2}, {\"age\": 52, \"sex\": 1, \"cp\": 4, \"trestbps\": 128, \"chol\": 204, \"fbs\": 1, \"restecg\": 0, \"thalach\": 156, \"exang\": 1, \"oldpeak\": 1.0, \"slope\": 2, \"ca\": 0.0, \"thal\": null, \"num\": 2}, {\"age\": 59, \"sex\": 1, \"cp\": 3, \"trestbps\": 126, \"chol\": 218, \"fbs\": 1, \"restecg\": 0, \"thalach\": 134, \"exang\": 0, \"oldpeak\": 2.2, \"slope\": 2, \"ca\": 1.0, \"thal\": 6.0, \"num\": 2}, {\"age\": 40, \"sex\": 1, \"cp\": 4, \"trestbps\": 152, \"chol\": 223, \"fbs\": 0, \"restecg\": 0, \"thalach\": 181, \"exang\": 0, \"oldpeak\": 0.0, \"slope\": 1, \"ca\": 0.0, \"thal\": 7.0, \"num\": 1}, {\"age\": 42, \"sex\": 1, \"cp\": 3, \"trestbps\": 130, \"chol\": 180, \"fbs\": 0, \"restecg\": 0, \"thalach\": 150, \"exang\": 0, \"oldpeak\": 0.0, \"slope\": 1, \"ca\": 0.0, \"thal\": 3.0, \"num\": 0}, {\"age\": 61, \"sex\": 1, \"cp\": 4, \"trestbps\": 140, \"chol\": 207, \"fbs\": 0, \"restecg\": 2, \"thalach\": 138, \"exang\": 1, \"oldpeak\": 1.9, \"slope\": 1, \"ca\": 1.0, \"thal\": 7.0, \"num\": 1}, {\"age\": 66, \"sex\": 1, \"cp\": 4, \"trestbps\": 160, \"chol\": 228, \"fbs\": 0, \"restecg\": 2, \"thalach\": 138, \"exang\": 0, \"oldpeak\": 2.3, \"slope\": 1, \"ca\": 0.0, \"thal\": 6.0, \"num\": 0}, {\"age\": 46, \"sex\": 1, \"cp\": 4, \"trestbps\": 140, \"chol\": 311, \"fbs\": 0, \"restecg\": 0, \"thalach\": 120, \"exang\": 1, \"oldpeak\": 1.8, \"slope\": 2, \"ca\": 2.0, \"thal\": 7.0, \"num\": 2}, {\"age\": 71, \"sex\": 0, \"cp\": 4, \"trestbps\": 112, \"chol\": 149, \"fbs\": 0, \"restecg\": 0, \"thalach\": 125, \"exang\": 0, \"oldpeak\": 1.6, \"slope\": 2, \"ca\": 0.0, \"thal\": 3.0, \"num\": 0}, {\"age\": 59, \"sex\": 1, \"cp\": 1, \"trestbps\": 134, \"chol\": 204, \"fbs\": 0, \"restecg\": 0, \"thalach\": 162, \"exang\": 0, \"oldpeak\": 0.8, \"slope\": 1, \"ca\": 2.0, \"thal\": 3.0, \"num\": 1}, {\"age\": 64, \"sex\": 1, \"cp\": 1, \"trestbps\": 170, \"chol\": 227, \"fbs\": 0, \"restecg\": 2, \"thalach\": 155, \"exang\": 0, \"oldpeak\": 0.6, \"slope\": 2, \"ca\": 0.0, \"thal\": 7.0, \"num\": 0}, {\"age\": 66, \"sex\": 0, \"cp\": 3, \"trestbps\": 146, \"chol\": 278, \"fbs\": 0, \"restecg\": 2, \"thalach\": 152, \"exang\": 0, \"oldpeak\": 0.0, \"slope\": 2, \"ca\": 1.0, \"thal\": 3.0, \"num\": 0}, {\"age\": 39, \"sex\": 0, \"cp\": 3, \"trestbps\": 138, \"chol\": 220, \"fbs\": 0, \"restecg\": 0, \"thalach\": 152, \"exang\": 0, \"oldpeak\": 0.0, \"slope\": 2, \"ca\": 0.0, \"thal\": 3.0, \"num\": 0}, {\"age\": 57, \"sex\": 1, \"cp\": 2, \"trestbps\": 154, \"chol\": 232, \"fbs\": 0, \"restecg\": 2, \"thalach\": 164, \"exang\": 0, \"oldpeak\": 0.0, \"slope\": 1, \"ca\": 1.0, \"thal\": 3.0, \"num\": 1}, {\"age\": 58, \"sex\": 0, \"cp\": 4, \"trestbps\": 130, \"chol\": 197, \"fbs\": 0, \"restecg\": 0, \"thalach\": 131, \"exang\": 0, \"oldpeak\": 0.6, \"slope\": 2, \"ca\": 0.0, \"thal\": 3.0, \"num\": 0}, {\"age\": 57, \"sex\": 1, \"cp\": 4, \"trestbps\": 110, \"chol\": 335, \"fbs\": 0, \"restecg\": 0, \"thalach\": 143, \"exang\": 1, \"oldpeak\": 3.0, \"slope\": 2, \"ca\": 1.0, \"thal\": 7.0, \"num\": 2}, {\"age\": 47, \"sex\": 1, \"cp\": 3, \"trestbps\": 130, \"chol\": 253, \"fbs\": 0, \"restecg\": 0, \"thalach\": 179, \"exang\": 0, \"oldpeak\": 0.0, \"slope\": 1, \"ca\": 0.0, \"thal\": 3.0, \"num\": 0}, {\"age\": 55, \"sex\": 0, \"cp\": 4, \"trestbps\": 128, \"chol\": 205, \"fbs\": 0, \"restecg\": 1, \"thalach\": 130, \"exang\": 1, \"oldpeak\": 2.0, \"slope\": 2, \"ca\": 1.0, \"thal\": 7.0, \"num\": 3}, {\"age\": 35, \"sex\": 1, \"cp\": 2, \"trestbps\": 122, \"chol\": 192, \"fbs\": 0, \"restecg\": 0, \"thalach\": 174, \"exang\": 0, \"oldpeak\": 0.0, \"slope\": 1, \"ca\": 0.0, \"thal\": 3.0, \"num\": 0}, {\"age\": 61, \"sex\": 1, \"cp\": 4, \"trestbps\": 148, \"chol\": 203, \"fbs\": 0, \"restecg\": 0, \"thalach\": 161, \"exang\": 0, \"oldpeak\": 0.0, \"slope\": 1, \"ca\": 1.0, \"thal\": 7.0, \"num\": 2}, {\"age\": 58, \"sex\": 1, \"cp\": 4, \"trestbps\": 114, \"chol\": 318, \"fbs\": 0, \"restecg\": 1, \"thalach\": 140, \"exang\": 0, \"oldpeak\": 4.4, \"slope\": 3, \"ca\": 3.0, \"thal\": 6.0, \"num\": 4}, {\"age\": 58, \"sex\": 0, \"cp\": 4, \"trestbps\": 170, \"chol\": 225, \"fbs\": 1, \"restecg\": 2, \"thalach\": 146, \"exang\": 1, \"oldpeak\": 2.8, \"slope\": 2, \"ca\": 2.0, \"thal\": 6.0, \"num\": 2}, {\"age\": 58, \"sex\": 1, \"cp\": 2, \"trestbps\": 125, \"chol\": 220, \"fbs\": 0, \"restecg\": 0, \"thalach\": 144, \"exang\": 0, \"oldpeak\": 0.4, \"slope\": 2, \"ca\": null, \"thal\": 7.0, \"num\": 0}, {\"age\": 56, \"sex\": 1, \"cp\": 2, \"trestbps\": 130, \"chol\": 221, \"fbs\": 0, \"restecg\": 2, \"thalach\": 163, \"exang\": 0, \"oldpeak\": 0.0, \"slope\": 1, \"ca\": 0.0, \"thal\": 7.0, \"num\": 0}, {\"age\": 56, \"sex\": 1, \"cp\": 2, \"trestbps\": 120, \"chol\": 240, \"fbs\": 0, \"restecg\": 0, \"thalach\": 169, \"exang\": 0, \"oldpeak\": 0.0, \"slope\": 3, \"ca\": 0.0, \"thal\": 3.0, \"num\": 0}, {\"age\": 67, \"sex\": 1, \"cp\": 3, \"trestbps\": 152, \"chol\": 212, \"fbs\": 0, \"restecg\": 2, \"thalach\": 150, \"exang\": 0, \"oldpeak\": 0.8, \"slope\": 2, \"ca\": 0.0, \"thal\": 7.0, \"num\": 1}, {\"age\": 55, \"sex\": 0, \"cp\": 2, \"trestbps\": 132, \"chol\": 342, \"fbs\": 0, \"restecg\": 0, \"thalach\": 166, \"exang\": 0, \"oldpeak\": 1.2, \"slope\": 1, \"ca\": 0.0, \"thal\": 3.0, \"num\": 0}, {\"age\": 44, \"sex\": 1, \"cp\": 4, \"trestbps\": 120, \"chol\": 169, \"fbs\": 0, \"restecg\": 0, \"thalach\": 144, \"exang\": 1, \"oldpeak\": 2.8, \"slope\": 3, \"ca\": 0.0, \"thal\": 6.0, \"num\": 2}, {\"age\": 63, \"sex\": 1, \"cp\": 4, \"trestbps\": 140, \"chol\": 187, \"fbs\": 0, \"restecg\": 2, \"thalach\": 144, \"exang\": 1, \"oldpeak\": 4.0, \"slope\": 1, \"ca\": 2.0, \"thal\": 7.0, \"num\": 2}, {\"age\": 63, \"sex\": 0, \"cp\": 4, \"trestbps\": 124, \"chol\": 197, \"fbs\": 0, \"restecg\": 0, \"thalach\": 136, \"exang\": 1, \"oldpeak\": 0.0, \"slope\": 2, \"ca\": 0.0, \"thal\": 3.0, \"num\": 1}, {\"age\": 41, \"sex\": 1, \"cp\": 2, \"trestbps\": 120, \"chol\": 157, \"fbs\": 0, \"restecg\": 0, \"thalach\": 182, \"exang\": 0, \"oldpeak\": 0.0, \"slope\": 1, \"ca\": 0.0, \"thal\": 3.0, \"num\": 0}, {\"age\": 59, \"sex\": 1, \"cp\": 4, \"trestbps\": 164, \"chol\": 176, \"fbs\": 1, \"restecg\": 2, \"thalach\": 90, \"exang\": 0, \"oldpeak\": 1.0, \"slope\": 2, \"ca\": 2.0, \"thal\": 6.0, \"num\": 3}, {\"age\": 57, \"sex\": 0, \"cp\": 4, \"trestbps\": 140, \"chol\": 241, \"fbs\": 0, \"restecg\": 0, \"thalach\": 123, \"exang\": 1, \"oldpeak\": 0.2, \"slope\": 2, \"ca\": 0.0, \"thal\": 7.0, \"num\": 1}, {\"age\": 45, \"sex\": 1, \"cp\": 1, \"trestbps\": 110, \"chol\": 264, \"fbs\": 0, \"restecg\": 0, \"thalach\": 132, \"exang\": 0, \"oldpeak\": 1.2, \"slope\": 2, \"ca\": 0.0, \"thal\": 7.0, \"num\": 1}, {\"age\": 68, \"sex\": 1, \"cp\": 4, \"trestbps\": 144, \"chol\": 193, \"fbs\": 1, \"restecg\": 0, \"thalach\": 141, \"exang\": 0, \"oldpeak\": 3.4, \"slope\": 2, \"ca\": 2.0, \"thal\": 7.0, \"num\": 2}, {\"age\": 57, \"sex\": 1, \"cp\": 4, \"trestbps\": 130, \"chol\": 131, \"fbs\": 0, \"restecg\": 0, \"thalach\": 115, \"exang\": 1, \"oldpeak\": 1.2, \"slope\": 2, \"ca\": 1.0, \"thal\": 7.0, \"num\": 3}, {\"age\": 57, \"sex\": 0, \"cp\": 2, \"trestbps\": 130, \"chol\": 236, \"fbs\": 0, \"restecg\": 2, \"thalach\": 174, \"exang\": 0, \"oldpeak\": 0.0, \"slope\": 2, \"ca\": 1.0, \"thal\": 3.0, \"num\": 1}, {\"age\": 38, \"sex\": 1, \"cp\": 3, \"trestbps\": 138, \"chol\": 175, \"fbs\": 0, \"restecg\": 0, \"thalach\": 173, \"exang\": 0, \"oldpeak\": 0.0, \"slope\": 1, \"ca\": null, \"thal\": 3.0, \"num\": 0}]}}, {\"mode\": \"vega-lite\"});\n",
       "</script>"
      ],
      "text/plain": [
       "alt.Chart(...)"
      ]
     },
     "execution_count": 116,
     "metadata": {},
     "output_type": "execute_result"
    }
   ],
   "source": [
    "perim_concav = alt.Chart(heart_disease).mark_circle(opacity =0.7).encode(\n",
    "    x=alt.X(\"trestbps\").title(\"Resting bp (mmHg)\"),\n",
    "    y=alt.Y(\"chol\").title(\"Serum Cholestoral (mg/dl)\"),\n",
    "    color=alt.Color(\"num:N\").title(\"Symptoms of Heart Disease\")\n",
    ").properties(title='chol vs. trest bps')\n",
    "perim_concav"
   ]
  },
  {
   "cell_type": "markdown",
   "id": "239fc0d9-43b6-46c8-990f-8a82b397e7a7",
   "metadata": {},
   "source": [
    "***Fig.9***: Scatter Plot of the Relationship between Serum Cholestoral and Resting blood pressure Coloured based on the presence of Heart Disease symptoms. The higher the class number the more symptoms (0= no symptoms and 4= many symptoms)"
   ]
  },
  {
   "cell_type": "markdown",
   "id": "5b92c097-a5a5-4fbd-ab1f-e6ac3447b419",
   "metadata": {
    "tags": []
   },
   "source": [
    "From the plot we can see that trest_bp and chol have great overalap and the 2 variables together may not be good predictors"
   ]
  },
  {
   "cell_type": "markdown",
   "id": "54c0f0cd-c455-4411-8e6e-a0c464c517cb",
   "metadata": {
    "tags": []
   },
   "source": [
    "Therefore, we will go with option 1 to regroup the data in the num varibale to only two classes, 1. 0 for no heart disease symptoms and 2. 1 for symptoms present. "
   ]
  },
  {
   "cell_type": "markdown",
   "id": "12f8b493-cdac-4c1d-b9e9-2037bc222e3e",
   "metadata": {},
   "source": [
    "# 5.2 Re-grouping of Data"
   ]
  },
  {
   "cell_type": "code",
   "execution_count": 117,
   "id": "2adf4c8e-0c2c-456c-939d-e71ebf79b5f4",
   "metadata": {
    "tags": []
   },
   "outputs": [],
   "source": [
    "heart_disease['num'] = heart_disease['num'].replace({\n",
    "    2 : 1,\n",
    "    3 : 1,\n",
    "    4 : 1\n",
    "})"
   ]
  },
  {
   "cell_type": "code",
   "execution_count": 118,
   "id": "05ea917f-0357-4c78-9a0c-3bc8b964db13",
   "metadata": {
    "tags": []
   },
   "outputs": [
    {
     "data": {
      "text/plain": [
       "0      0\n",
       "1      1\n",
       "2      1\n",
       "3      0\n",
       "4      0\n",
       "      ..\n",
       "298    1\n",
       "299    1\n",
       "300    1\n",
       "301    1\n",
       "302    0\n",
       "Name: num, Length: 303, dtype: int64"
      ]
     },
     "execution_count": 118,
     "metadata": {},
     "output_type": "execute_result"
    }
   ],
   "source": [
    "#viewing the modified dataset \n",
    "heart_disease[\"num\"]"
   ]
  },
  {
   "cell_type": "markdown",
   "id": "cf2e7854-8ca5-46e7-9172-07e93b319c35",
   "metadata": {},
   "source": [
    "***Fig.10***: Viewing the modified dataset of the vairable "
   ]
  },
  {
   "cell_type": "code",
   "execution_count": 119,
   "id": "de2ae4c8-9062-468f-90ac-dc868e2deab4",
   "metadata": {
    "tags": []
   },
   "outputs": [
    {
     "data": {
      "text/plain": [
       "array([0, 1])"
      ]
     },
     "execution_count": 119,
     "metadata": {},
     "output_type": "execute_result"
    }
   ],
   "source": [
    "#ensuring all values are changed to 0 or 1 for column \"num\"\n",
    "heart_disease['num'].unique()"
   ]
  },
  {
   "cell_type": "markdown",
   "id": "4b203f0a-3e5e-4296-a0aa-94af5fb043ae",
   "metadata": {},
   "source": [
    "***Fig.11***: Unique values in the 'num' column of the heart_disease dataset after ensuring they are either 0 or 1."
   ]
  },
  {
   "cell_type": "code",
   "execution_count": 120,
   "id": "b9b2d416-a5a2-4a22-992a-32b1dec66b74",
   "metadata": {
    "tags": []
   },
   "outputs": [
    {
     "data": {
      "text/plain": [
       "num\n",
       "0    54.125413\n",
       "1    45.874587\n",
       "dtype: float64"
      ]
     },
     "execution_count": 120,
     "metadata": {},
     "output_type": "execute_result"
    }
   ],
   "source": [
    "#checking percentage of observations in each class\n",
    "100 * heart_disease.groupby('num').size() / heart_disease.shape[0]"
   ]
  },
  {
   "cell_type": "markdown",
   "id": "39bb78be-df37-4dc8-9968-409f0563900b",
   "metadata": {},
   "source": [
    "***Fig.12***: Class distribution percentages in the 'heart_disease' dataset."
   ]
  },
  {
   "cell_type": "code",
   "execution_count": 121,
   "id": "e9b8b92a-f7fd-40f7-9c64-660d08bb8f1c",
   "metadata": {
    "tags": []
   },
   "outputs": [
    {
     "data": {
      "text/plain": [
       "0    164\n",
       "1    139\n",
       "Name: num, dtype: int64"
      ]
     },
     "execution_count": 121,
     "metadata": {},
     "output_type": "execute_result"
    }
   ],
   "source": [
    "#data looks balanced now!\n",
    "heart_disease['num'].value_counts()"
   ]
  },
  {
   "cell_type": "markdown",
   "id": "daedf9d1-b85b-4fa6-9e3f-cc532e957bef",
   "metadata": {},
   "source": [
    "***Fig.13***: Balanced distribution of classes in the 'heart_disease' dataset."
   ]
  },
  {
   "cell_type": "markdown",
   "id": "f15d1cf3-80e4-4952-8838-2dabfd87e52e",
   "metadata": {},
   "source": [
    "# 5.3 Choosing the two variables to use"
   ]
  },
  {
   "cell_type": "code",
   "execution_count": 122,
   "id": "a267b500-f9ab-4e76-a9a4-5b2376a277bb",
   "metadata": {
    "tags": []
   },
   "outputs": [
    {
     "data": {
      "text/html": [
       "\n",
       "<style>\n",
       "  #altair-viz-55a8cbae3f9f433fbca2cbef2453df39.vega-embed {\n",
       "    width: 100%;\n",
       "    display: flex;\n",
       "  }\n",
       "\n",
       "  #altair-viz-55a8cbae3f9f433fbca2cbef2453df39.vega-embed details,\n",
       "  #altair-viz-55a8cbae3f9f433fbca2cbef2453df39.vega-embed details summary {\n",
       "    position: relative;\n",
       "  }\n",
       "</style>\n",
       "<div id=\"altair-viz-55a8cbae3f9f433fbca2cbef2453df39\"></div>\n",
       "<script type=\"text/javascript\">\n",
       "  var VEGA_DEBUG = (typeof VEGA_DEBUG == \"undefined\") ? {} : VEGA_DEBUG;\n",
       "  (function(spec, embedOpt){\n",
       "    let outputDiv = document.currentScript.previousElementSibling;\n",
       "    if (outputDiv.id !== \"altair-viz-55a8cbae3f9f433fbca2cbef2453df39\") {\n",
       "      outputDiv = document.getElementById(\"altair-viz-55a8cbae3f9f433fbca2cbef2453df39\");\n",
       "    }\n",
       "    const paths = {\n",
       "      \"vega\": \"https://cdn.jsdelivr.net/npm/vega@5?noext\",\n",
       "      \"vega-lib\": \"https://cdn.jsdelivr.net/npm/vega-lib?noext\",\n",
       "      \"vega-lite\": \"https://cdn.jsdelivr.net/npm/vega-lite@5.16.3?noext\",\n",
       "      \"vega-embed\": \"https://cdn.jsdelivr.net/npm/vega-embed@6?noext\",\n",
       "    };\n",
       "\n",
       "    function maybeLoadScript(lib, version) {\n",
       "      var key = `${lib.replace(\"-\", \"\")}_version`;\n",
       "      return (VEGA_DEBUG[key] == version) ?\n",
       "        Promise.resolve(paths[lib]) :\n",
       "        new Promise(function(resolve, reject) {\n",
       "          var s = document.createElement('script');\n",
       "          document.getElementsByTagName(\"head\")[0].appendChild(s);\n",
       "          s.async = true;\n",
       "          s.onload = () => {\n",
       "            VEGA_DEBUG[key] = version;\n",
       "            return resolve(paths[lib]);\n",
       "          };\n",
       "          s.onerror = () => reject(`Error loading script: ${paths[lib]}`);\n",
       "          s.src = paths[lib];\n",
       "        });\n",
       "    }\n",
       "\n",
       "    function showError(err) {\n",
       "      outputDiv.innerHTML = `<div class=\"error\" style=\"color:red;\">${err}</div>`;\n",
       "      throw err;\n",
       "    }\n",
       "\n",
       "    function displayChart(vegaEmbed) {\n",
       "      vegaEmbed(outputDiv, spec, embedOpt)\n",
       "        .catch(err => showError(`Javascript Error: ${err.message}<br>This usually means there's a typo in your chart specification. See the javascript console for the full traceback.`));\n",
       "    }\n",
       "\n",
       "    if(typeof define === \"function\" && define.amd) {\n",
       "      requirejs.config({paths});\n",
       "      require([\"vega-embed\"], displayChart, err => showError(`Error loading script: ${err.message}`));\n",
       "    } else {\n",
       "      maybeLoadScript(\"vega\", \"5\")\n",
       "        .then(() => maybeLoadScript(\"vega-lite\", \"5.16.3\"))\n",
       "        .then(() => maybeLoadScript(\"vega-embed\", \"6\"))\n",
       "        .catch(showError)\n",
       "        .then(() => displayChart(vegaEmbed));\n",
       "    }\n",
       "  })({\"config\": {\"view\": {\"continuousWidth\": 300, \"continuousHeight\": 300}}, \"data\": {\"name\": \"data-bcd6aa413879de1627245d500593a33e\"}, \"mark\": {\"type\": \"circle\", \"opacity\": 0.7}, \"encoding\": {\"color\": {\"field\": \"num\", \"title\": \"Symptoms of Heart Disease\", \"type\": \"nominal\"}, \"x\": {\"field\": \"trestbps\", \"title\": \"Resting blood pressure (mmHg)\", \"type\": \"quantitative\"}, \"y\": {\"field\": \"chol\", \"title\": \"Serum Cholestoral (mg/dl)\", \"type\": \"quantitative\"}}, \"title\": \"Relationship between re-grouped Serum Cholestoral and Resting blood pressure\", \"$schema\": \"https://vega.github.io/schema/vega-lite/v5.16.3.json\", \"datasets\": {\"data-bcd6aa413879de1627245d500593a33e\": [{\"age\": 63, \"sex\": 1, \"cp\": 1, \"trestbps\": 145, \"chol\": 233, \"fbs\": 1, \"restecg\": 2, \"thalach\": 150, \"exang\": 0, \"oldpeak\": 2.3, \"slope\": 3, \"ca\": 0.0, \"thal\": 6.0, \"num\": 0}, {\"age\": 67, \"sex\": 1, \"cp\": 4, \"trestbps\": 160, \"chol\": 286, \"fbs\": 0, \"restecg\": 2, \"thalach\": 108, \"exang\": 1, \"oldpeak\": 1.5, \"slope\": 2, \"ca\": 3.0, \"thal\": 3.0, \"num\": 1}, {\"age\": 67, \"sex\": 1, \"cp\": 4, \"trestbps\": 120, \"chol\": 229, \"fbs\": 0, \"restecg\": 2, \"thalach\": 129, \"exang\": 1, \"oldpeak\": 2.6, \"slope\": 2, \"ca\": 2.0, \"thal\": 7.0, \"num\": 1}, {\"age\": 37, \"sex\": 1, \"cp\": 3, \"trestbps\": 130, \"chol\": 250, \"fbs\": 0, \"restecg\": 0, \"thalach\": 187, \"exang\": 0, \"oldpeak\": 3.5, \"slope\": 3, \"ca\": 0.0, \"thal\": 3.0, \"num\": 0}, {\"age\": 41, \"sex\": 0, \"cp\": 2, \"trestbps\": 130, \"chol\": 204, \"fbs\": 0, \"restecg\": 2, \"thalach\": 172, \"exang\": 0, \"oldpeak\": 1.4, \"slope\": 1, \"ca\": 0.0, \"thal\": 3.0, \"num\": 0}, {\"age\": 56, \"sex\": 1, \"cp\": 2, \"trestbps\": 120, \"chol\": 236, \"fbs\": 0, \"restecg\": 0, \"thalach\": 178, \"exang\": 0, \"oldpeak\": 0.8, \"slope\": 1, \"ca\": 0.0, \"thal\": 3.0, \"num\": 0}, {\"age\": 62, \"sex\": 0, \"cp\": 4, \"trestbps\": 140, \"chol\": 268, \"fbs\": 0, \"restecg\": 2, \"thalach\": 160, \"exang\": 0, \"oldpeak\": 3.6, \"slope\": 3, \"ca\": 2.0, \"thal\": 3.0, \"num\": 1}, {\"age\": 57, \"sex\": 0, \"cp\": 4, \"trestbps\": 120, \"chol\": 354, \"fbs\": 0, \"restecg\": 0, \"thalach\": 163, \"exang\": 1, \"oldpeak\": 0.6, \"slope\": 1, \"ca\": 0.0, \"thal\": 3.0, \"num\": 0}, {\"age\": 63, \"sex\": 1, \"cp\": 4, \"trestbps\": 130, \"chol\": 254, \"fbs\": 0, \"restecg\": 2, \"thalach\": 147, \"exang\": 0, \"oldpeak\": 1.4, \"slope\": 2, \"ca\": 1.0, \"thal\": 7.0, \"num\": 1}, {\"age\": 53, \"sex\": 1, \"cp\": 4, \"trestbps\": 140, \"chol\": 203, \"fbs\": 1, \"restecg\": 2, \"thalach\": 155, \"exang\": 1, \"oldpeak\": 3.1, \"slope\": 3, \"ca\": 0.0, \"thal\": 7.0, \"num\": 1}, {\"age\": 57, \"sex\": 1, \"cp\": 4, \"trestbps\": 140, \"chol\": 192, \"fbs\": 0, \"restecg\": 0, \"thalach\": 148, \"exang\": 0, \"oldpeak\": 0.4, \"slope\": 2, \"ca\": 0.0, \"thal\": 6.0, \"num\": 0}, {\"age\": 56, \"sex\": 0, \"cp\": 2, \"trestbps\": 140, \"chol\": 294, \"fbs\": 0, \"restecg\": 2, \"thalach\": 153, \"exang\": 0, \"oldpeak\": 1.3, \"slope\": 2, \"ca\": 0.0, \"thal\": 3.0, \"num\": 0}, {\"age\": 56, \"sex\": 1, \"cp\": 3, \"trestbps\": 130, \"chol\": 256, \"fbs\": 1, \"restecg\": 2, \"thalach\": 142, \"exang\": 1, \"oldpeak\": 0.6, \"slope\": 2, \"ca\": 1.0, \"thal\": 6.0, \"num\": 1}, {\"age\": 44, \"sex\": 1, \"cp\": 2, \"trestbps\": 120, \"chol\": 263, \"fbs\": 0, \"restecg\": 0, \"thalach\": 173, \"exang\": 0, \"oldpeak\": 0.0, \"slope\": 1, \"ca\": 0.0, \"thal\": 7.0, \"num\": 0}, {\"age\": 52, \"sex\": 1, \"cp\": 3, \"trestbps\": 172, \"chol\": 199, \"fbs\": 1, \"restecg\": 0, \"thalach\": 162, \"exang\": 0, \"oldpeak\": 0.5, \"slope\": 1, \"ca\": 0.0, \"thal\": 7.0, \"num\": 0}, {\"age\": 57, \"sex\": 1, \"cp\": 3, \"trestbps\": 150, \"chol\": 168, \"fbs\": 0, \"restecg\": 0, \"thalach\": 174, \"exang\": 0, \"oldpeak\": 1.6, \"slope\": 1, \"ca\": 0.0, \"thal\": 3.0, \"num\": 0}, {\"age\": 48, \"sex\": 1, \"cp\": 2, \"trestbps\": 110, \"chol\": 229, \"fbs\": 0, \"restecg\": 0, \"thalach\": 168, \"exang\": 0, \"oldpeak\": 1.0, \"slope\": 3, \"ca\": 0.0, \"thal\": 7.0, \"num\": 1}, {\"age\": 54, \"sex\": 1, \"cp\": 4, \"trestbps\": 140, \"chol\": 239, \"fbs\": 0, \"restecg\": 0, \"thalach\": 160, \"exang\": 0, \"oldpeak\": 1.2, \"slope\": 1, \"ca\": 0.0, \"thal\": 3.0, \"num\": 0}, {\"age\": 48, \"sex\": 0, \"cp\": 3, \"trestbps\": 130, \"chol\": 275, \"fbs\": 0, \"restecg\": 0, \"thalach\": 139, \"exang\": 0, \"oldpeak\": 0.2, \"slope\": 1, \"ca\": 0.0, \"thal\": 3.0, \"num\": 0}, {\"age\": 49, \"sex\": 1, \"cp\": 2, \"trestbps\": 130, \"chol\": 266, \"fbs\": 0, \"restecg\": 0, \"thalach\": 171, \"exang\": 0, \"oldpeak\": 0.6, \"slope\": 1, \"ca\": 0.0, \"thal\": 3.0, \"num\": 0}, {\"age\": 64, \"sex\": 1, \"cp\": 1, \"trestbps\": 110, \"chol\": 211, \"fbs\": 0, \"restecg\": 2, \"thalach\": 144, \"exang\": 1, \"oldpeak\": 1.8, \"slope\": 2, \"ca\": 0.0, \"thal\": 3.0, \"num\": 0}, {\"age\": 58, \"sex\": 0, \"cp\": 1, \"trestbps\": 150, \"chol\": 283, \"fbs\": 1, \"restecg\": 2, \"thalach\": 162, \"exang\": 0, \"oldpeak\": 1.0, \"slope\": 1, \"ca\": 0.0, \"thal\": 3.0, \"num\": 0}, {\"age\": 58, \"sex\": 1, \"cp\": 2, \"trestbps\": 120, \"chol\": 284, \"fbs\": 0, \"restecg\": 2, \"thalach\": 160, \"exang\": 0, \"oldpeak\": 1.8, \"slope\": 2, \"ca\": 0.0, \"thal\": 3.0, \"num\": 1}, {\"age\": 58, \"sex\": 1, \"cp\": 3, \"trestbps\": 132, \"chol\": 224, \"fbs\": 0, \"restecg\": 2, \"thalach\": 173, \"exang\": 0, \"oldpeak\": 3.2, \"slope\": 1, \"ca\": 2.0, \"thal\": 7.0, \"num\": 1}, {\"age\": 60, \"sex\": 1, \"cp\": 4, \"trestbps\": 130, \"chol\": 206, \"fbs\": 0, \"restecg\": 2, \"thalach\": 132, \"exang\": 1, \"oldpeak\": 2.4, \"slope\": 2, \"ca\": 2.0, \"thal\": 7.0, \"num\": 1}, {\"age\": 50, \"sex\": 0, \"cp\": 3, \"trestbps\": 120, \"chol\": 219, \"fbs\": 0, \"restecg\": 0, \"thalach\": 158, \"exang\": 0, \"oldpeak\": 1.6, \"slope\": 2, \"ca\": 0.0, \"thal\": 3.0, \"num\": 0}, {\"age\": 58, \"sex\": 0, \"cp\": 3, \"trestbps\": 120, \"chol\": 340, \"fbs\": 0, \"restecg\": 0, \"thalach\": 172, \"exang\": 0, \"oldpeak\": 0.0, \"slope\": 1, \"ca\": 0.0, \"thal\": 3.0, \"num\": 0}, {\"age\": 66, \"sex\": 0, \"cp\": 1, \"trestbps\": 150, \"chol\": 226, \"fbs\": 0, \"restecg\": 0, \"thalach\": 114, \"exang\": 0, \"oldpeak\": 2.6, \"slope\": 3, \"ca\": 0.0, \"thal\": 3.0, \"num\": 0}, {\"age\": 43, \"sex\": 1, \"cp\": 4, \"trestbps\": 150, \"chol\": 247, \"fbs\": 0, \"restecg\": 0, \"thalach\": 171, \"exang\": 0, \"oldpeak\": 1.5, \"slope\": 1, \"ca\": 0.0, \"thal\": 3.0, \"num\": 0}, {\"age\": 40, \"sex\": 1, \"cp\": 4, \"trestbps\": 110, \"chol\": 167, \"fbs\": 0, \"restecg\": 2, \"thalach\": 114, \"exang\": 1, \"oldpeak\": 2.0, \"slope\": 2, \"ca\": 0.0, \"thal\": 7.0, \"num\": 1}, {\"age\": 69, \"sex\": 0, \"cp\": 1, \"trestbps\": 140, \"chol\": 239, \"fbs\": 0, \"restecg\": 0, \"thalach\": 151, \"exang\": 0, \"oldpeak\": 1.8, \"slope\": 1, \"ca\": 2.0, \"thal\": 3.0, \"num\": 0}, {\"age\": 60, \"sex\": 1, \"cp\": 4, \"trestbps\": 117, \"chol\": 230, \"fbs\": 1, \"restecg\": 0, \"thalach\": 160, \"exang\": 1, \"oldpeak\": 1.4, \"slope\": 1, \"ca\": 2.0, \"thal\": 7.0, \"num\": 1}, {\"age\": 64, \"sex\": 1, \"cp\": 3, \"trestbps\": 140, \"chol\": 335, \"fbs\": 0, \"restecg\": 0, \"thalach\": 158, \"exang\": 0, \"oldpeak\": 0.0, \"slope\": 1, \"ca\": 0.0, \"thal\": 3.0, \"num\": 1}, {\"age\": 59, \"sex\": 1, \"cp\": 4, \"trestbps\": 135, \"chol\": 234, \"fbs\": 0, \"restecg\": 0, \"thalach\": 161, \"exang\": 0, \"oldpeak\": 0.5, \"slope\": 2, \"ca\": 0.0, \"thal\": 7.0, \"num\": 0}, {\"age\": 44, \"sex\": 1, \"cp\": 3, \"trestbps\": 130, \"chol\": 233, \"fbs\": 0, \"restecg\": 0, \"thalach\": 179, \"exang\": 1, \"oldpeak\": 0.4, \"slope\": 1, \"ca\": 0.0, \"thal\": 3.0, \"num\": 0}, {\"age\": 42, \"sex\": 1, \"cp\": 4, \"trestbps\": 140, \"chol\": 226, \"fbs\": 0, \"restecg\": 0, \"thalach\": 178, \"exang\": 0, \"oldpeak\": 0.0, \"slope\": 1, \"ca\": 0.0, \"thal\": 3.0, \"num\": 0}, {\"age\": 43, \"sex\": 1, \"cp\": 4, \"trestbps\": 120, \"chol\": 177, \"fbs\": 0, \"restecg\": 2, \"thalach\": 120, \"exang\": 1, \"oldpeak\": 2.5, \"slope\": 2, \"ca\": 0.0, \"thal\": 7.0, \"num\": 1}, {\"age\": 57, \"sex\": 1, \"cp\": 4, \"trestbps\": 150, \"chol\": 276, \"fbs\": 0, \"restecg\": 2, \"thalach\": 112, \"exang\": 1, \"oldpeak\": 0.6, \"slope\": 2, \"ca\": 1.0, \"thal\": 6.0, \"num\": 1}, {\"age\": 55, \"sex\": 1, \"cp\": 4, \"trestbps\": 132, \"chol\": 353, \"fbs\": 0, \"restecg\": 0, \"thalach\": 132, \"exang\": 1, \"oldpeak\": 1.2, \"slope\": 2, \"ca\": 1.0, \"thal\": 7.0, \"num\": 1}, {\"age\": 61, \"sex\": 1, \"cp\": 3, \"trestbps\": 150, \"chol\": 243, \"fbs\": 1, \"restecg\": 0, \"thalach\": 137, \"exang\": 1, \"oldpeak\": 1.0, \"slope\": 2, \"ca\": 0.0, \"thal\": 3.0, \"num\": 0}, {\"age\": 65, \"sex\": 0, \"cp\": 4, \"trestbps\": 150, \"chol\": 225, \"fbs\": 0, \"restecg\": 2, \"thalach\": 114, \"exang\": 0, \"oldpeak\": 1.0, \"slope\": 2, \"ca\": 3.0, \"thal\": 7.0, \"num\": 1}, {\"age\": 40, \"sex\": 1, \"cp\": 1, \"trestbps\": 140, \"chol\": 199, \"fbs\": 0, \"restecg\": 0, \"thalach\": 178, \"exang\": 1, \"oldpeak\": 1.4, \"slope\": 1, \"ca\": 0.0, \"thal\": 7.0, \"num\": 0}, {\"age\": 71, \"sex\": 0, \"cp\": 2, \"trestbps\": 160, \"chol\": 302, \"fbs\": 0, \"restecg\": 0, \"thalach\": 162, \"exang\": 0, \"oldpeak\": 0.4, \"slope\": 1, \"ca\": 2.0, \"thal\": 3.0, \"num\": 0}, {\"age\": 59, \"sex\": 1, \"cp\": 3, \"trestbps\": 150, \"chol\": 212, \"fbs\": 1, \"restecg\": 0, \"thalach\": 157, \"exang\": 0, \"oldpeak\": 1.6, \"slope\": 1, \"ca\": 0.0, \"thal\": 3.0, \"num\": 0}, {\"age\": 61, \"sex\": 0, \"cp\": 4, \"trestbps\": 130, \"chol\": 330, \"fbs\": 0, \"restecg\": 2, \"thalach\": 169, \"exang\": 0, \"oldpeak\": 0.0, \"slope\": 1, \"ca\": 0.0, \"thal\": 3.0, \"num\": 1}, {\"age\": 58, \"sex\": 1, \"cp\": 3, \"trestbps\": 112, \"chol\": 230, \"fbs\": 0, \"restecg\": 2, \"thalach\": 165, \"exang\": 0, \"oldpeak\": 2.5, \"slope\": 2, \"ca\": 1.0, \"thal\": 7.0, \"num\": 1}, {\"age\": 51, \"sex\": 1, \"cp\": 3, \"trestbps\": 110, \"chol\": 175, \"fbs\": 0, \"restecg\": 0, \"thalach\": 123, \"exang\": 0, \"oldpeak\": 0.6, \"slope\": 1, \"ca\": 0.0, \"thal\": 3.0, \"num\": 0}, {\"age\": 50, \"sex\": 1, \"cp\": 4, \"trestbps\": 150, \"chol\": 243, \"fbs\": 0, \"restecg\": 2, \"thalach\": 128, \"exang\": 0, \"oldpeak\": 2.6, \"slope\": 2, \"ca\": 0.0, \"thal\": 7.0, \"num\": 1}, {\"age\": 65, \"sex\": 0, \"cp\": 3, \"trestbps\": 140, \"chol\": 417, \"fbs\": 1, \"restecg\": 2, \"thalach\": 157, \"exang\": 0, \"oldpeak\": 0.8, \"slope\": 1, \"ca\": 1.0, \"thal\": 3.0, \"num\": 0}, {\"age\": 53, \"sex\": 1, \"cp\": 3, \"trestbps\": 130, \"chol\": 197, \"fbs\": 1, \"restecg\": 2, \"thalach\": 152, \"exang\": 0, \"oldpeak\": 1.2, \"slope\": 3, \"ca\": 0.0, \"thal\": 3.0, \"num\": 0}, {\"age\": 41, \"sex\": 0, \"cp\": 2, \"trestbps\": 105, \"chol\": 198, \"fbs\": 0, \"restecg\": 0, \"thalach\": 168, \"exang\": 0, \"oldpeak\": 0.0, \"slope\": 1, \"ca\": 1.0, \"thal\": 3.0, \"num\": 0}, {\"age\": 65, \"sex\": 1, \"cp\": 4, \"trestbps\": 120, \"chol\": 177, \"fbs\": 0, \"restecg\": 0, \"thalach\": 140, \"exang\": 0, \"oldpeak\": 0.4, \"slope\": 1, \"ca\": 0.0, \"thal\": 7.0, \"num\": 0}, {\"age\": 44, \"sex\": 1, \"cp\": 4, \"trestbps\": 112, \"chol\": 290, \"fbs\": 0, \"restecg\": 2, \"thalach\": 153, \"exang\": 0, \"oldpeak\": 0.0, \"slope\": 1, \"ca\": 1.0, \"thal\": 3.0, \"num\": 1}, {\"age\": 44, \"sex\": 1, \"cp\": 2, \"trestbps\": 130, \"chol\": 219, \"fbs\": 0, \"restecg\": 2, \"thalach\": 188, \"exang\": 0, \"oldpeak\": 0.0, \"slope\": 1, \"ca\": 0.0, \"thal\": 3.0, \"num\": 0}, {\"age\": 60, \"sex\": 1, \"cp\": 4, \"trestbps\": 130, \"chol\": 253, \"fbs\": 0, \"restecg\": 0, \"thalach\": 144, \"exang\": 1, \"oldpeak\": 1.4, \"slope\": 1, \"ca\": 1.0, \"thal\": 7.0, \"num\": 1}, {\"age\": 54, \"sex\": 1, \"cp\": 4, \"trestbps\": 124, \"chol\": 266, \"fbs\": 0, \"restecg\": 2, \"thalach\": 109, \"exang\": 1, \"oldpeak\": 2.2, \"slope\": 2, \"ca\": 1.0, \"thal\": 7.0, \"num\": 1}, {\"age\": 50, \"sex\": 1, \"cp\": 3, \"trestbps\": 140, \"chol\": 233, \"fbs\": 0, \"restecg\": 0, \"thalach\": 163, \"exang\": 0, \"oldpeak\": 0.6, \"slope\": 2, \"ca\": 1.0, \"thal\": 7.0, \"num\": 1}, {\"age\": 41, \"sex\": 1, \"cp\": 4, \"trestbps\": 110, \"chol\": 172, \"fbs\": 0, \"restecg\": 2, \"thalach\": 158, \"exang\": 0, \"oldpeak\": 0.0, \"slope\": 1, \"ca\": 0.0, \"thal\": 7.0, \"num\": 1}, {\"age\": 54, \"sex\": 1, \"cp\": 3, \"trestbps\": 125, \"chol\": 273, \"fbs\": 0, \"restecg\": 2, \"thalach\": 152, \"exang\": 0, \"oldpeak\": 0.5, \"slope\": 3, \"ca\": 1.0, \"thal\": 3.0, \"num\": 0}, {\"age\": 51, \"sex\": 1, \"cp\": 1, \"trestbps\": 125, \"chol\": 213, \"fbs\": 0, \"restecg\": 2, \"thalach\": 125, \"exang\": 1, \"oldpeak\": 1.4, \"slope\": 1, \"ca\": 1.0, \"thal\": 3.0, \"num\": 0}, {\"age\": 51, \"sex\": 0, \"cp\": 4, \"trestbps\": 130, \"chol\": 305, \"fbs\": 0, \"restecg\": 0, \"thalach\": 142, \"exang\": 1, \"oldpeak\": 1.2, \"slope\": 2, \"ca\": 0.0, \"thal\": 7.0, \"num\": 1}, {\"age\": 46, \"sex\": 0, \"cp\": 3, \"trestbps\": 142, \"chol\": 177, \"fbs\": 0, \"restecg\": 2, \"thalach\": 160, \"exang\": 1, \"oldpeak\": 1.4, \"slope\": 3, \"ca\": 0.0, \"thal\": 3.0, \"num\": 0}, {\"age\": 58, \"sex\": 1, \"cp\": 4, \"trestbps\": 128, \"chol\": 216, \"fbs\": 0, \"restecg\": 2, \"thalach\": 131, \"exang\": 1, \"oldpeak\": 2.2, \"slope\": 2, \"ca\": 3.0, \"thal\": 7.0, \"num\": 1}, {\"age\": 54, \"sex\": 0, \"cp\": 3, \"trestbps\": 135, \"chol\": 304, \"fbs\": 1, \"restecg\": 0, \"thalach\": 170, \"exang\": 0, \"oldpeak\": 0.0, \"slope\": 1, \"ca\": 0.0, \"thal\": 3.0, \"num\": 0}, {\"age\": 54, \"sex\": 1, \"cp\": 4, \"trestbps\": 120, \"chol\": 188, \"fbs\": 0, \"restecg\": 0, \"thalach\": 113, \"exang\": 0, \"oldpeak\": 1.4, \"slope\": 2, \"ca\": 1.0, \"thal\": 7.0, \"num\": 1}, {\"age\": 60, \"sex\": 1, \"cp\": 4, \"trestbps\": 145, \"chol\": 282, \"fbs\": 0, \"restecg\": 2, \"thalach\": 142, \"exang\": 1, \"oldpeak\": 2.8, \"slope\": 2, \"ca\": 2.0, \"thal\": 7.0, \"num\": 1}, {\"age\": 60, \"sex\": 1, \"cp\": 3, \"trestbps\": 140, \"chol\": 185, \"fbs\": 0, \"restecg\": 2, \"thalach\": 155, \"exang\": 0, \"oldpeak\": 3.0, \"slope\": 2, \"ca\": 0.0, \"thal\": 3.0, \"num\": 1}, {\"age\": 54, \"sex\": 1, \"cp\": 3, \"trestbps\": 150, \"chol\": 232, \"fbs\": 0, \"restecg\": 2, \"thalach\": 165, \"exang\": 0, \"oldpeak\": 1.6, \"slope\": 1, \"ca\": 0.0, \"thal\": 7.0, \"num\": 0}, {\"age\": 59, \"sex\": 1, \"cp\": 4, \"trestbps\": 170, \"chol\": 326, \"fbs\": 0, \"restecg\": 2, \"thalach\": 140, \"exang\": 1, \"oldpeak\": 3.4, \"slope\": 3, \"ca\": 0.0, \"thal\": 7.0, \"num\": 1}, {\"age\": 46, \"sex\": 1, \"cp\": 3, \"trestbps\": 150, \"chol\": 231, \"fbs\": 0, \"restecg\": 0, \"thalach\": 147, \"exang\": 0, \"oldpeak\": 3.6, \"slope\": 2, \"ca\": 0.0, \"thal\": 3.0, \"num\": 1}, {\"age\": 65, \"sex\": 0, \"cp\": 3, \"trestbps\": 155, \"chol\": 269, \"fbs\": 0, \"restecg\": 0, \"thalach\": 148, \"exang\": 0, \"oldpeak\": 0.8, \"slope\": 1, \"ca\": 0.0, \"thal\": 3.0, \"num\": 0}, {\"age\": 67, \"sex\": 1, \"cp\": 4, \"trestbps\": 125, \"chol\": 254, \"fbs\": 1, \"restecg\": 0, \"thalach\": 163, \"exang\": 0, \"oldpeak\": 0.2, \"slope\": 2, \"ca\": 2.0, \"thal\": 7.0, \"num\": 1}, {\"age\": 62, \"sex\": 1, \"cp\": 4, \"trestbps\": 120, \"chol\": 267, \"fbs\": 0, \"restecg\": 0, \"thalach\": 99, \"exang\": 1, \"oldpeak\": 1.8, \"slope\": 2, \"ca\": 2.0, \"thal\": 7.0, \"num\": 1}, {\"age\": 65, \"sex\": 1, \"cp\": 4, \"trestbps\": 110, \"chol\": 248, \"fbs\": 0, \"restecg\": 2, \"thalach\": 158, \"exang\": 0, \"oldpeak\": 0.6, \"slope\": 1, \"ca\": 2.0, \"thal\": 6.0, \"num\": 1}, {\"age\": 44, \"sex\": 1, \"cp\": 4, \"trestbps\": 110, \"chol\": 197, \"fbs\": 0, \"restecg\": 2, \"thalach\": 177, \"exang\": 0, \"oldpeak\": 0.0, \"slope\": 1, \"ca\": 1.0, \"thal\": 3.0, \"num\": 1}, {\"age\": 65, \"sex\": 0, \"cp\": 3, \"trestbps\": 160, \"chol\": 360, \"fbs\": 0, \"restecg\": 2, \"thalach\": 151, \"exang\": 0, \"oldpeak\": 0.8, \"slope\": 1, \"ca\": 0.0, \"thal\": 3.0, \"num\": 0}, {\"age\": 60, \"sex\": 1, \"cp\": 4, \"trestbps\": 125, \"chol\": 258, \"fbs\": 0, \"restecg\": 2, \"thalach\": 141, \"exang\": 1, \"oldpeak\": 2.8, \"slope\": 2, \"ca\": 1.0, \"thal\": 7.0, \"num\": 1}, {\"age\": 51, \"sex\": 0, \"cp\": 3, \"trestbps\": 140, \"chol\": 308, \"fbs\": 0, \"restecg\": 2, \"thalach\": 142, \"exang\": 0, \"oldpeak\": 1.5, \"slope\": 1, \"ca\": 1.0, \"thal\": 3.0, \"num\": 0}, {\"age\": 48, \"sex\": 1, \"cp\": 2, \"trestbps\": 130, \"chol\": 245, \"fbs\": 0, \"restecg\": 2, \"thalach\": 180, \"exang\": 0, \"oldpeak\": 0.2, \"slope\": 2, \"ca\": 0.0, \"thal\": 3.0, \"num\": 0}, {\"age\": 58, \"sex\": 1, \"cp\": 4, \"trestbps\": 150, \"chol\": 270, \"fbs\": 0, \"restecg\": 2, \"thalach\": 111, \"exang\": 1, \"oldpeak\": 0.8, \"slope\": 1, \"ca\": 0.0, \"thal\": 7.0, \"num\": 1}, {\"age\": 45, \"sex\": 1, \"cp\": 4, \"trestbps\": 104, \"chol\": 208, \"fbs\": 0, \"restecg\": 2, \"thalach\": 148, \"exang\": 1, \"oldpeak\": 3.0, \"slope\": 2, \"ca\": 0.0, \"thal\": 3.0, \"num\": 0}, {\"age\": 53, \"sex\": 0, \"cp\": 4, \"trestbps\": 130, \"chol\": 264, \"fbs\": 0, \"restecg\": 2, \"thalach\": 143, \"exang\": 0, \"oldpeak\": 0.4, \"slope\": 2, \"ca\": 0.0, \"thal\": 3.0, \"num\": 0}, {\"age\": 39, \"sex\": 1, \"cp\": 3, \"trestbps\": 140, \"chol\": 321, \"fbs\": 0, \"restecg\": 2, \"thalach\": 182, \"exang\": 0, \"oldpeak\": 0.0, \"slope\": 1, \"ca\": 0.0, \"thal\": 3.0, \"num\": 0}, {\"age\": 68, \"sex\": 1, \"cp\": 3, \"trestbps\": 180, \"chol\": 274, \"fbs\": 1, \"restecg\": 2, \"thalach\": 150, \"exang\": 1, \"oldpeak\": 1.6, \"slope\": 2, \"ca\": 0.0, \"thal\": 7.0, \"num\": 1}, {\"age\": 52, \"sex\": 1, \"cp\": 2, \"trestbps\": 120, \"chol\": 325, \"fbs\": 0, \"restecg\": 0, \"thalach\": 172, \"exang\": 0, \"oldpeak\": 0.2, \"slope\": 1, \"ca\": 0.0, \"thal\": 3.0, \"num\": 0}, {\"age\": 44, \"sex\": 1, \"cp\": 3, \"trestbps\": 140, \"chol\": 235, \"fbs\": 0, \"restecg\": 2, \"thalach\": 180, \"exang\": 0, \"oldpeak\": 0.0, \"slope\": 1, \"ca\": 0.0, \"thal\": 3.0, \"num\": 0}, {\"age\": 47, \"sex\": 1, \"cp\": 3, \"trestbps\": 138, \"chol\": 257, \"fbs\": 0, \"restecg\": 2, \"thalach\": 156, \"exang\": 0, \"oldpeak\": 0.0, \"slope\": 1, \"ca\": 0.0, \"thal\": 3.0, \"num\": 0}, {\"age\": 53, \"sex\": 0, \"cp\": 3, \"trestbps\": 128, \"chol\": 216, \"fbs\": 0, \"restecg\": 2, \"thalach\": 115, \"exang\": 0, \"oldpeak\": 0.0, \"slope\": 1, \"ca\": 0.0, \"thal\": null, \"num\": 0}, {\"age\": 53, \"sex\": 0, \"cp\": 4, \"trestbps\": 138, \"chol\": 234, \"fbs\": 0, \"restecg\": 2, \"thalach\": 160, \"exang\": 0, \"oldpeak\": 0.0, \"slope\": 1, \"ca\": 0.0, \"thal\": 3.0, \"num\": 0}, {\"age\": 51, \"sex\": 0, \"cp\": 3, \"trestbps\": 130, \"chol\": 256, \"fbs\": 0, \"restecg\": 2, \"thalach\": 149, \"exang\": 0, \"oldpeak\": 0.5, \"slope\": 1, \"ca\": 0.0, \"thal\": 3.0, \"num\": 0}, {\"age\": 66, \"sex\": 1, \"cp\": 4, \"trestbps\": 120, \"chol\": 302, \"fbs\": 0, \"restecg\": 2, \"thalach\": 151, \"exang\": 0, \"oldpeak\": 0.4, \"slope\": 2, \"ca\": 0.0, \"thal\": 3.0, \"num\": 0}, {\"age\": 62, \"sex\": 0, \"cp\": 4, \"trestbps\": 160, \"chol\": 164, \"fbs\": 0, \"restecg\": 2, \"thalach\": 145, \"exang\": 0, \"oldpeak\": 6.2, \"slope\": 3, \"ca\": 3.0, \"thal\": 7.0, \"num\": 1}, {\"age\": 62, \"sex\": 1, \"cp\": 3, \"trestbps\": 130, \"chol\": 231, \"fbs\": 0, \"restecg\": 0, \"thalach\": 146, \"exang\": 0, \"oldpeak\": 1.8, \"slope\": 2, \"ca\": 3.0, \"thal\": 7.0, \"num\": 0}, {\"age\": 44, \"sex\": 0, \"cp\": 3, \"trestbps\": 108, \"chol\": 141, \"fbs\": 0, \"restecg\": 0, \"thalach\": 175, \"exang\": 0, \"oldpeak\": 0.6, \"slope\": 2, \"ca\": 0.0, \"thal\": 3.0, \"num\": 0}, {\"age\": 63, \"sex\": 0, \"cp\": 3, \"trestbps\": 135, \"chol\": 252, \"fbs\": 0, \"restecg\": 2, \"thalach\": 172, \"exang\": 0, \"oldpeak\": 0.0, \"slope\": 1, \"ca\": 0.0, \"thal\": 3.0, \"num\": 0}, {\"age\": 52, \"sex\": 1, \"cp\": 4, \"trestbps\": 128, \"chol\": 255, \"fbs\": 0, \"restecg\": 0, \"thalach\": 161, \"exang\": 1, \"oldpeak\": 0.0, \"slope\": 1, \"ca\": 1.0, \"thal\": 7.0, \"num\": 1}, {\"age\": 59, \"sex\": 1, \"cp\": 4, \"trestbps\": 110, \"chol\": 239, \"fbs\": 0, \"restecg\": 2, \"thalach\": 142, \"exang\": 1, \"oldpeak\": 1.2, \"slope\": 2, \"ca\": 1.0, \"thal\": 7.0, \"num\": 1}, {\"age\": 60, \"sex\": 0, \"cp\": 4, \"trestbps\": 150, \"chol\": 258, \"fbs\": 0, \"restecg\": 2, \"thalach\": 157, \"exang\": 0, \"oldpeak\": 2.6, \"slope\": 2, \"ca\": 2.0, \"thal\": 7.0, \"num\": 1}, {\"age\": 52, \"sex\": 1, \"cp\": 2, \"trestbps\": 134, \"chol\": 201, \"fbs\": 0, \"restecg\": 0, \"thalach\": 158, \"exang\": 0, \"oldpeak\": 0.8, \"slope\": 1, \"ca\": 1.0, \"thal\": 3.0, \"num\": 0}, {\"age\": 48, \"sex\": 1, \"cp\": 4, \"trestbps\": 122, \"chol\": 222, \"fbs\": 0, \"restecg\": 2, \"thalach\": 186, \"exang\": 0, \"oldpeak\": 0.0, \"slope\": 1, \"ca\": 0.0, \"thal\": 3.0, \"num\": 0}, {\"age\": 45, \"sex\": 1, \"cp\": 4, \"trestbps\": 115, \"chol\": 260, \"fbs\": 0, \"restecg\": 2, \"thalach\": 185, \"exang\": 0, \"oldpeak\": 0.0, \"slope\": 1, \"ca\": 0.0, \"thal\": 3.0, \"num\": 0}, {\"age\": 34, \"sex\": 1, \"cp\": 1, \"trestbps\": 118, \"chol\": 182, \"fbs\": 0, \"restecg\": 2, \"thalach\": 174, \"exang\": 0, \"oldpeak\": 0.0, \"slope\": 1, \"ca\": 0.0, \"thal\": 3.0, \"num\": 0}, {\"age\": 57, \"sex\": 0, \"cp\": 4, \"trestbps\": 128, \"chol\": 303, \"fbs\": 0, \"restecg\": 2, \"thalach\": 159, \"exang\": 0, \"oldpeak\": 0.0, \"slope\": 1, \"ca\": 1.0, \"thal\": 3.0, \"num\": 0}, {\"age\": 71, \"sex\": 0, \"cp\": 3, \"trestbps\": 110, \"chol\": 265, \"fbs\": 1, \"restecg\": 2, \"thalach\": 130, \"exang\": 0, \"oldpeak\": 0.0, \"slope\": 1, \"ca\": 1.0, \"thal\": 3.0, \"num\": 0}, {\"age\": 49, \"sex\": 1, \"cp\": 3, \"trestbps\": 120, \"chol\": 188, \"fbs\": 0, \"restecg\": 0, \"thalach\": 139, \"exang\": 0, \"oldpeak\": 2.0, \"slope\": 2, \"ca\": 3.0, \"thal\": 7.0, \"num\": 1}, {\"age\": 54, \"sex\": 1, \"cp\": 2, \"trestbps\": 108, \"chol\": 309, \"fbs\": 0, \"restecg\": 0, \"thalach\": 156, \"exang\": 0, \"oldpeak\": 0.0, \"slope\": 1, \"ca\": 0.0, \"thal\": 7.0, \"num\": 0}, {\"age\": 59, \"sex\": 1, \"cp\": 4, \"trestbps\": 140, \"chol\": 177, \"fbs\": 0, \"restecg\": 0, \"thalach\": 162, \"exang\": 1, \"oldpeak\": 0.0, \"slope\": 1, \"ca\": 1.0, \"thal\": 7.0, \"num\": 1}, {\"age\": 57, \"sex\": 1, \"cp\": 3, \"trestbps\": 128, \"chol\": 229, \"fbs\": 0, \"restecg\": 2, \"thalach\": 150, \"exang\": 0, \"oldpeak\": 0.4, \"slope\": 2, \"ca\": 1.0, \"thal\": 7.0, \"num\": 1}, {\"age\": 61, \"sex\": 1, \"cp\": 4, \"trestbps\": 120, \"chol\": 260, \"fbs\": 0, \"restecg\": 0, \"thalach\": 140, \"exang\": 1, \"oldpeak\": 3.6, \"slope\": 2, \"ca\": 1.0, \"thal\": 7.0, \"num\": 1}, {\"age\": 39, \"sex\": 1, \"cp\": 4, \"trestbps\": 118, \"chol\": 219, \"fbs\": 0, \"restecg\": 0, \"thalach\": 140, \"exang\": 0, \"oldpeak\": 1.2, \"slope\": 2, \"ca\": 0.0, \"thal\": 7.0, \"num\": 1}, {\"age\": 61, \"sex\": 0, \"cp\": 4, \"trestbps\": 145, \"chol\": 307, \"fbs\": 0, \"restecg\": 2, \"thalach\": 146, \"exang\": 1, \"oldpeak\": 1.0, \"slope\": 2, \"ca\": 0.0, \"thal\": 7.0, \"num\": 1}, {\"age\": 56, \"sex\": 1, \"cp\": 4, \"trestbps\": 125, \"chol\": 249, \"fbs\": 1, \"restecg\": 2, \"thalach\": 144, \"exang\": 1, \"oldpeak\": 1.2, \"slope\": 2, \"ca\": 1.0, \"thal\": 3.0, \"num\": 1}, {\"age\": 52, \"sex\": 1, \"cp\": 1, \"trestbps\": 118, \"chol\": 186, \"fbs\": 0, \"restecg\": 2, \"thalach\": 190, \"exang\": 0, \"oldpeak\": 0.0, \"slope\": 2, \"ca\": 0.0, \"thal\": 6.0, \"num\": 0}, {\"age\": 43, \"sex\": 0, \"cp\": 4, \"trestbps\": 132, \"chol\": 341, \"fbs\": 1, \"restecg\": 2, \"thalach\": 136, \"exang\": 1, \"oldpeak\": 3.0, \"slope\": 2, \"ca\": 0.0, \"thal\": 7.0, \"num\": 1}, {\"age\": 62, \"sex\": 0, \"cp\": 3, \"trestbps\": 130, \"chol\": 263, \"fbs\": 0, \"restecg\": 0, \"thalach\": 97, \"exang\": 0, \"oldpeak\": 1.2, \"slope\": 2, \"ca\": 1.0, \"thal\": 7.0, \"num\": 1}, {\"age\": 41, \"sex\": 1, \"cp\": 2, \"trestbps\": 135, \"chol\": 203, \"fbs\": 0, \"restecg\": 0, \"thalach\": 132, \"exang\": 0, \"oldpeak\": 0.0, \"slope\": 2, \"ca\": 0.0, \"thal\": 6.0, \"num\": 0}, {\"age\": 58, \"sex\": 1, \"cp\": 3, \"trestbps\": 140, \"chol\": 211, \"fbs\": 1, \"restecg\": 2, \"thalach\": 165, \"exang\": 0, \"oldpeak\": 0.0, \"slope\": 1, \"ca\": 0.0, \"thal\": 3.0, \"num\": 0}, {\"age\": 35, \"sex\": 0, \"cp\": 4, \"trestbps\": 138, \"chol\": 183, \"fbs\": 0, \"restecg\": 0, \"thalach\": 182, \"exang\": 0, \"oldpeak\": 1.4, \"slope\": 1, \"ca\": 0.0, \"thal\": 3.0, \"num\": 0}, {\"age\": 63, \"sex\": 1, \"cp\": 4, \"trestbps\": 130, \"chol\": 330, \"fbs\": 1, \"restecg\": 2, \"thalach\": 132, \"exang\": 1, \"oldpeak\": 1.8, \"slope\": 1, \"ca\": 3.0, \"thal\": 7.0, \"num\": 1}, {\"age\": 65, \"sex\": 1, \"cp\": 4, \"trestbps\": 135, \"chol\": 254, \"fbs\": 0, \"restecg\": 2, \"thalach\": 127, \"exang\": 0, \"oldpeak\": 2.8, \"slope\": 2, \"ca\": 1.0, \"thal\": 7.0, \"num\": 1}, {\"age\": 48, \"sex\": 1, \"cp\": 4, \"trestbps\": 130, \"chol\": 256, \"fbs\": 1, \"restecg\": 2, \"thalach\": 150, \"exang\": 1, \"oldpeak\": 0.0, \"slope\": 1, \"ca\": 2.0, \"thal\": 7.0, \"num\": 1}, {\"age\": 63, \"sex\": 0, \"cp\": 4, \"trestbps\": 150, \"chol\": 407, \"fbs\": 0, \"restecg\": 2, \"thalach\": 154, \"exang\": 0, \"oldpeak\": 4.0, \"slope\": 2, \"ca\": 3.0, \"thal\": 7.0, \"num\": 1}, {\"age\": 51, \"sex\": 1, \"cp\": 3, \"trestbps\": 100, \"chol\": 222, \"fbs\": 0, \"restecg\": 0, \"thalach\": 143, \"exang\": 1, \"oldpeak\": 1.2, \"slope\": 2, \"ca\": 0.0, \"thal\": 3.0, \"num\": 0}, {\"age\": 55, \"sex\": 1, \"cp\": 4, \"trestbps\": 140, \"chol\": 217, \"fbs\": 0, \"restecg\": 0, \"thalach\": 111, \"exang\": 1, \"oldpeak\": 5.6, \"slope\": 3, \"ca\": 0.0, \"thal\": 7.0, \"num\": 1}, {\"age\": 65, \"sex\": 1, \"cp\": 1, \"trestbps\": 138, \"chol\": 282, \"fbs\": 1, \"restecg\": 2, \"thalach\": 174, \"exang\": 0, \"oldpeak\": 1.4, \"slope\": 2, \"ca\": 1.0, \"thal\": 3.0, \"num\": 1}, {\"age\": 45, \"sex\": 0, \"cp\": 2, \"trestbps\": 130, \"chol\": 234, \"fbs\": 0, \"restecg\": 2, \"thalach\": 175, \"exang\": 0, \"oldpeak\": 0.6, \"slope\": 2, \"ca\": 0.0, \"thal\": 3.0, \"num\": 0}, {\"age\": 56, \"sex\": 0, \"cp\": 4, \"trestbps\": 200, \"chol\": 288, \"fbs\": 1, \"restecg\": 2, \"thalach\": 133, \"exang\": 1, \"oldpeak\": 4.0, \"slope\": 3, \"ca\": 2.0, \"thal\": 7.0, \"num\": 1}, {\"age\": 54, \"sex\": 1, \"cp\": 4, \"trestbps\": 110, \"chol\": 239, \"fbs\": 0, \"restecg\": 0, \"thalach\": 126, \"exang\": 1, \"oldpeak\": 2.8, \"slope\": 2, \"ca\": 1.0, \"thal\": 7.0, \"num\": 1}, {\"age\": 44, \"sex\": 1, \"cp\": 2, \"trestbps\": 120, \"chol\": 220, \"fbs\": 0, \"restecg\": 0, \"thalach\": 170, \"exang\": 0, \"oldpeak\": 0.0, \"slope\": 1, \"ca\": 0.0, \"thal\": 3.0, \"num\": 0}, {\"age\": 62, \"sex\": 0, \"cp\": 4, \"trestbps\": 124, \"chol\": 209, \"fbs\": 0, \"restecg\": 0, \"thalach\": 163, \"exang\": 0, \"oldpeak\": 0.0, \"slope\": 1, \"ca\": 0.0, \"thal\": 3.0, \"num\": 0}, {\"age\": 54, \"sex\": 1, \"cp\": 3, \"trestbps\": 120, \"chol\": 258, \"fbs\": 0, \"restecg\": 2, \"thalach\": 147, \"exang\": 0, \"oldpeak\": 0.4, \"slope\": 2, \"ca\": 0.0, \"thal\": 7.0, \"num\": 0}, {\"age\": 51, \"sex\": 1, \"cp\": 3, \"trestbps\": 94, \"chol\": 227, \"fbs\": 0, \"restecg\": 0, \"thalach\": 154, \"exang\": 1, \"oldpeak\": 0.0, \"slope\": 1, \"ca\": 1.0, \"thal\": 7.0, \"num\": 0}, {\"age\": 29, \"sex\": 1, \"cp\": 2, \"trestbps\": 130, \"chol\": 204, \"fbs\": 0, \"restecg\": 2, \"thalach\": 202, \"exang\": 0, \"oldpeak\": 0.0, \"slope\": 1, \"ca\": 0.0, \"thal\": 3.0, \"num\": 0}, {\"age\": 51, \"sex\": 1, \"cp\": 4, \"trestbps\": 140, \"chol\": 261, \"fbs\": 0, \"restecg\": 2, \"thalach\": 186, \"exang\": 1, \"oldpeak\": 0.0, \"slope\": 1, \"ca\": 0.0, \"thal\": 3.0, \"num\": 0}, {\"age\": 43, \"sex\": 0, \"cp\": 3, \"trestbps\": 122, \"chol\": 213, \"fbs\": 0, \"restecg\": 0, \"thalach\": 165, \"exang\": 0, \"oldpeak\": 0.2, \"slope\": 2, \"ca\": 0.0, \"thal\": 3.0, \"num\": 0}, {\"age\": 55, \"sex\": 0, \"cp\": 2, \"trestbps\": 135, \"chol\": 250, \"fbs\": 0, \"restecg\": 2, \"thalach\": 161, \"exang\": 0, \"oldpeak\": 1.4, \"slope\": 2, \"ca\": 0.0, \"thal\": 3.0, \"num\": 0}, {\"age\": 70, \"sex\": 1, \"cp\": 4, \"trestbps\": 145, \"chol\": 174, \"fbs\": 0, \"restecg\": 0, \"thalach\": 125, \"exang\": 1, \"oldpeak\": 2.6, \"slope\": 3, \"ca\": 0.0, \"thal\": 7.0, \"num\": 1}, {\"age\": 62, \"sex\": 1, \"cp\": 2, \"trestbps\": 120, \"chol\": 281, \"fbs\": 0, \"restecg\": 2, \"thalach\": 103, \"exang\": 0, \"oldpeak\": 1.4, \"slope\": 2, \"ca\": 1.0, \"thal\": 7.0, \"num\": 1}, {\"age\": 35, \"sex\": 1, \"cp\": 4, \"trestbps\": 120, \"chol\": 198, \"fbs\": 0, \"restecg\": 0, \"thalach\": 130, \"exang\": 1, \"oldpeak\": 1.6, \"slope\": 2, \"ca\": 0.0, \"thal\": 7.0, \"num\": 1}, {\"age\": 51, \"sex\": 1, \"cp\": 3, \"trestbps\": 125, \"chol\": 245, \"fbs\": 1, \"restecg\": 2, \"thalach\": 166, \"exang\": 0, \"oldpeak\": 2.4, \"slope\": 2, \"ca\": 0.0, \"thal\": 3.0, \"num\": 0}, {\"age\": 59, \"sex\": 1, \"cp\": 2, \"trestbps\": 140, \"chol\": 221, \"fbs\": 0, \"restecg\": 0, \"thalach\": 164, \"exang\": 1, \"oldpeak\": 0.0, \"slope\": 1, \"ca\": 0.0, \"thal\": 3.0, \"num\": 0}, {\"age\": 59, \"sex\": 1, \"cp\": 1, \"trestbps\": 170, \"chol\": 288, \"fbs\": 0, \"restecg\": 2, \"thalach\": 159, \"exang\": 0, \"oldpeak\": 0.2, \"slope\": 2, \"ca\": 0.0, \"thal\": 7.0, \"num\": 1}, {\"age\": 52, \"sex\": 1, \"cp\": 2, \"trestbps\": 128, \"chol\": 205, \"fbs\": 1, \"restecg\": 0, \"thalach\": 184, \"exang\": 0, \"oldpeak\": 0.0, \"slope\": 1, \"ca\": 0.0, \"thal\": 3.0, \"num\": 0}, {\"age\": 64, \"sex\": 1, \"cp\": 3, \"trestbps\": 125, \"chol\": 309, \"fbs\": 0, \"restecg\": 0, \"thalach\": 131, \"exang\": 1, \"oldpeak\": 1.8, \"slope\": 2, \"ca\": 0.0, \"thal\": 7.0, \"num\": 1}, {\"age\": 58, \"sex\": 1, \"cp\": 3, \"trestbps\": 105, \"chol\": 240, \"fbs\": 0, \"restecg\": 2, \"thalach\": 154, \"exang\": 1, \"oldpeak\": 0.6, \"slope\": 2, \"ca\": 0.0, \"thal\": 7.0, \"num\": 0}, {\"age\": 47, \"sex\": 1, \"cp\": 3, \"trestbps\": 108, \"chol\": 243, \"fbs\": 0, \"restecg\": 0, \"thalach\": 152, \"exang\": 0, \"oldpeak\": 0.0, \"slope\": 1, \"ca\": 0.0, \"thal\": 3.0, \"num\": 1}, {\"age\": 57, \"sex\": 1, \"cp\": 4, \"trestbps\": 165, \"chol\": 289, \"fbs\": 1, \"restecg\": 2, \"thalach\": 124, \"exang\": 0, \"oldpeak\": 1.0, \"slope\": 2, \"ca\": 3.0, \"thal\": 7.0, \"num\": 1}, {\"age\": 41, \"sex\": 1, \"cp\": 3, \"trestbps\": 112, \"chol\": 250, \"fbs\": 0, \"restecg\": 0, \"thalach\": 179, \"exang\": 0, \"oldpeak\": 0.0, \"slope\": 1, \"ca\": 0.0, \"thal\": 3.0, \"num\": 0}, {\"age\": 45, \"sex\": 1, \"cp\": 2, \"trestbps\": 128, \"chol\": 308, \"fbs\": 0, \"restecg\": 2, \"thalach\": 170, \"exang\": 0, \"oldpeak\": 0.0, \"slope\": 1, \"ca\": 0.0, \"thal\": 3.0, \"num\": 0}, {\"age\": 60, \"sex\": 0, \"cp\": 3, \"trestbps\": 102, \"chol\": 318, \"fbs\": 0, \"restecg\": 0, \"thalach\": 160, \"exang\": 0, \"oldpeak\": 0.0, \"slope\": 1, \"ca\": 1.0, \"thal\": 3.0, \"num\": 0}, {\"age\": 52, \"sex\": 1, \"cp\": 1, \"trestbps\": 152, \"chol\": 298, \"fbs\": 1, \"restecg\": 0, \"thalach\": 178, \"exang\": 0, \"oldpeak\": 1.2, \"slope\": 2, \"ca\": 0.0, \"thal\": 7.0, \"num\": 0}, {\"age\": 42, \"sex\": 0, \"cp\": 4, \"trestbps\": 102, \"chol\": 265, \"fbs\": 0, \"restecg\": 2, \"thalach\": 122, \"exang\": 0, \"oldpeak\": 0.6, \"slope\": 2, \"ca\": 0.0, \"thal\": 3.0, \"num\": 0}, {\"age\": 67, \"sex\": 0, \"cp\": 3, \"trestbps\": 115, \"chol\": 564, \"fbs\": 0, \"restecg\": 2, \"thalach\": 160, \"exang\": 0, \"oldpeak\": 1.6, \"slope\": 2, \"ca\": 0.0, \"thal\": 7.0, \"num\": 0}, {\"age\": 55, \"sex\": 1, \"cp\": 4, \"trestbps\": 160, \"chol\": 289, \"fbs\": 0, \"restecg\": 2, \"thalach\": 145, \"exang\": 1, \"oldpeak\": 0.8, \"slope\": 2, \"ca\": 1.0, \"thal\": 7.0, \"num\": 1}, {\"age\": 64, \"sex\": 1, \"cp\": 4, \"trestbps\": 120, \"chol\": 246, \"fbs\": 0, \"restecg\": 2, \"thalach\": 96, \"exang\": 1, \"oldpeak\": 2.2, \"slope\": 3, \"ca\": 1.0, \"thal\": 3.0, \"num\": 1}, {\"age\": 70, \"sex\": 1, \"cp\": 4, \"trestbps\": 130, \"chol\": 322, \"fbs\": 0, \"restecg\": 2, \"thalach\": 109, \"exang\": 0, \"oldpeak\": 2.4, \"slope\": 2, \"ca\": 3.0, \"thal\": 3.0, \"num\": 1}, {\"age\": 51, \"sex\": 1, \"cp\": 4, \"trestbps\": 140, \"chol\": 299, \"fbs\": 0, \"restecg\": 0, \"thalach\": 173, \"exang\": 1, \"oldpeak\": 1.6, \"slope\": 1, \"ca\": 0.0, \"thal\": 7.0, \"num\": 1}, {\"age\": 58, \"sex\": 1, \"cp\": 4, \"trestbps\": 125, \"chol\": 300, \"fbs\": 0, \"restecg\": 2, \"thalach\": 171, \"exang\": 0, \"oldpeak\": 0.0, \"slope\": 1, \"ca\": 2.0, \"thal\": 7.0, \"num\": 1}, {\"age\": 60, \"sex\": 1, \"cp\": 4, \"trestbps\": 140, \"chol\": 293, \"fbs\": 0, \"restecg\": 2, \"thalach\": 170, \"exang\": 0, \"oldpeak\": 1.2, \"slope\": 2, \"ca\": 2.0, \"thal\": 7.0, \"num\": 1}, {\"age\": 68, \"sex\": 1, \"cp\": 3, \"trestbps\": 118, \"chol\": 277, \"fbs\": 0, \"restecg\": 0, \"thalach\": 151, \"exang\": 0, \"oldpeak\": 1.0, \"slope\": 1, \"ca\": 1.0, \"thal\": 7.0, \"num\": 0}, {\"age\": 46, \"sex\": 1, \"cp\": 2, \"trestbps\": 101, \"chol\": 197, \"fbs\": 1, \"restecg\": 0, \"thalach\": 156, \"exang\": 0, \"oldpeak\": 0.0, \"slope\": 1, \"ca\": 0.0, \"thal\": 7.0, \"num\": 0}, {\"age\": 77, \"sex\": 1, \"cp\": 4, \"trestbps\": 125, \"chol\": 304, \"fbs\": 0, \"restecg\": 2, \"thalach\": 162, \"exang\": 1, \"oldpeak\": 0.0, \"slope\": 1, \"ca\": 3.0, \"thal\": 3.0, \"num\": 1}, {\"age\": 54, \"sex\": 0, \"cp\": 3, \"trestbps\": 110, \"chol\": 214, \"fbs\": 0, \"restecg\": 0, \"thalach\": 158, \"exang\": 0, \"oldpeak\": 1.6, \"slope\": 2, \"ca\": 0.0, \"thal\": 3.0, \"num\": 0}, {\"age\": 58, \"sex\": 0, \"cp\": 4, \"trestbps\": 100, \"chol\": 248, \"fbs\": 0, \"restecg\": 2, \"thalach\": 122, \"exang\": 0, \"oldpeak\": 1.0, \"slope\": 2, \"ca\": 0.0, \"thal\": 3.0, \"num\": 0}, {\"age\": 48, \"sex\": 1, \"cp\": 3, \"trestbps\": 124, \"chol\": 255, \"fbs\": 1, \"restecg\": 0, \"thalach\": 175, \"exang\": 0, \"oldpeak\": 0.0, \"slope\": 1, \"ca\": 2.0, \"thal\": 3.0, \"num\": 0}, {\"age\": 57, \"sex\": 1, \"cp\": 4, \"trestbps\": 132, \"chol\": 207, \"fbs\": 0, \"restecg\": 0, \"thalach\": 168, \"exang\": 1, \"oldpeak\": 0.0, \"slope\": 1, \"ca\": 0.0, \"thal\": 7.0, \"num\": 0}, {\"age\": 52, \"sex\": 1, \"cp\": 3, \"trestbps\": 138, \"chol\": 223, \"fbs\": 0, \"restecg\": 0, \"thalach\": 169, \"exang\": 0, \"oldpeak\": 0.0, \"slope\": 1, \"ca\": null, \"thal\": 3.0, \"num\": 0}, {\"age\": 54, \"sex\": 0, \"cp\": 2, \"trestbps\": 132, \"chol\": 288, \"fbs\": 1, \"restecg\": 2, \"thalach\": 159, \"exang\": 1, \"oldpeak\": 0.0, \"slope\": 1, \"ca\": 1.0, \"thal\": 3.0, \"num\": 0}, {\"age\": 35, \"sex\": 1, \"cp\": 4, \"trestbps\": 126, \"chol\": 282, \"fbs\": 0, \"restecg\": 2, \"thalach\": 156, \"exang\": 1, \"oldpeak\": 0.0, \"slope\": 1, \"ca\": 0.0, \"thal\": 7.0, \"num\": 1}, {\"age\": 45, \"sex\": 0, \"cp\": 2, \"trestbps\": 112, \"chol\": 160, \"fbs\": 0, \"restecg\": 0, \"thalach\": 138, \"exang\": 0, \"oldpeak\": 0.0, \"slope\": 2, \"ca\": 0.0, \"thal\": 3.0, \"num\": 0}, {\"age\": 70, \"sex\": 1, \"cp\": 3, \"trestbps\": 160, \"chol\": 269, \"fbs\": 0, \"restecg\": 0, \"thalach\": 112, \"exang\": 1, \"oldpeak\": 2.9, \"slope\": 2, \"ca\": 1.0, \"thal\": 7.0, \"num\": 1}, {\"age\": 53, \"sex\": 1, \"cp\": 4, \"trestbps\": 142, \"chol\": 226, \"fbs\": 0, \"restecg\": 2, \"thalach\": 111, \"exang\": 1, \"oldpeak\": 0.0, \"slope\": 1, \"ca\": 0.0, \"thal\": 7.0, \"num\": 0}, {\"age\": 59, \"sex\": 0, \"cp\": 4, \"trestbps\": 174, \"chol\": 249, \"fbs\": 0, \"restecg\": 0, \"thalach\": 143, \"exang\": 1, \"oldpeak\": 0.0, \"slope\": 2, \"ca\": 0.0, \"thal\": 3.0, \"num\": 1}, {\"age\": 62, \"sex\": 0, \"cp\": 4, \"trestbps\": 140, \"chol\": 394, \"fbs\": 0, \"restecg\": 2, \"thalach\": 157, \"exang\": 0, \"oldpeak\": 1.2, \"slope\": 2, \"ca\": 0.0, \"thal\": 3.0, \"num\": 0}, {\"age\": 64, \"sex\": 1, \"cp\": 4, \"trestbps\": 145, \"chol\": 212, \"fbs\": 0, \"restecg\": 2, \"thalach\": 132, \"exang\": 0, \"oldpeak\": 2.0, \"slope\": 2, \"ca\": 2.0, \"thal\": 6.0, \"num\": 1}, {\"age\": 57, \"sex\": 1, \"cp\": 4, \"trestbps\": 152, \"chol\": 274, \"fbs\": 0, \"restecg\": 0, \"thalach\": 88, \"exang\": 1, \"oldpeak\": 1.2, \"slope\": 2, \"ca\": 1.0, \"thal\": 7.0, \"num\": 1}, {\"age\": 52, \"sex\": 1, \"cp\": 4, \"trestbps\": 108, \"chol\": 233, \"fbs\": 1, \"restecg\": 0, \"thalach\": 147, \"exang\": 0, \"oldpeak\": 0.1, \"slope\": 1, \"ca\": 3.0, \"thal\": 7.0, \"num\": 0}, {\"age\": 56, \"sex\": 1, \"cp\": 4, \"trestbps\": 132, \"chol\": 184, \"fbs\": 0, \"restecg\": 2, \"thalach\": 105, \"exang\": 1, \"oldpeak\": 2.1, \"slope\": 2, \"ca\": 1.0, \"thal\": 6.0, \"num\": 1}, {\"age\": 43, \"sex\": 1, \"cp\": 3, \"trestbps\": 130, \"chol\": 315, \"fbs\": 0, \"restecg\": 0, \"thalach\": 162, \"exang\": 0, \"oldpeak\": 1.9, \"slope\": 1, \"ca\": 1.0, \"thal\": 3.0, \"num\": 0}, {\"age\": 53, \"sex\": 1, \"cp\": 3, \"trestbps\": 130, \"chol\": 246, \"fbs\": 1, \"restecg\": 2, \"thalach\": 173, \"exang\": 0, \"oldpeak\": 0.0, \"slope\": 1, \"ca\": 3.0, \"thal\": 3.0, \"num\": 0}, {\"age\": 48, \"sex\": 1, \"cp\": 4, \"trestbps\": 124, \"chol\": 274, \"fbs\": 0, \"restecg\": 2, \"thalach\": 166, \"exang\": 0, \"oldpeak\": 0.5, \"slope\": 2, \"ca\": 0.0, \"thal\": 7.0, \"num\": 1}, {\"age\": 56, \"sex\": 0, \"cp\": 4, \"trestbps\": 134, \"chol\": 409, \"fbs\": 0, \"restecg\": 2, \"thalach\": 150, \"exang\": 1, \"oldpeak\": 1.9, \"slope\": 2, \"ca\": 2.0, \"thal\": 7.0, \"num\": 1}, {\"age\": 42, \"sex\": 1, \"cp\": 1, \"trestbps\": 148, \"chol\": 244, \"fbs\": 0, \"restecg\": 2, \"thalach\": 178, \"exang\": 0, \"oldpeak\": 0.8, \"slope\": 1, \"ca\": 2.0, \"thal\": 3.0, \"num\": 0}, {\"age\": 59, \"sex\": 1, \"cp\": 1, \"trestbps\": 178, \"chol\": 270, \"fbs\": 0, \"restecg\": 2, \"thalach\": 145, \"exang\": 0, \"oldpeak\": 4.2, \"slope\": 3, \"ca\": 0.0, \"thal\": 7.0, \"num\": 0}, {\"age\": 60, \"sex\": 0, \"cp\": 4, \"trestbps\": 158, \"chol\": 305, \"fbs\": 0, \"restecg\": 2, \"thalach\": 161, \"exang\": 0, \"oldpeak\": 0.0, \"slope\": 1, \"ca\": 0.0, \"thal\": 3.0, \"num\": 1}, {\"age\": 63, \"sex\": 0, \"cp\": 2, \"trestbps\": 140, \"chol\": 195, \"fbs\": 0, \"restecg\": 0, \"thalach\": 179, \"exang\": 0, \"oldpeak\": 0.0, \"slope\": 1, \"ca\": 2.0, \"thal\": 3.0, \"num\": 0}, {\"age\": 42, \"sex\": 1, \"cp\": 3, \"trestbps\": 120, \"chol\": 240, \"fbs\": 1, \"restecg\": 0, \"thalach\": 194, \"exang\": 0, \"oldpeak\": 0.8, \"slope\": 3, \"ca\": 0.0, \"thal\": 7.0, \"num\": 0}, {\"age\": 66, \"sex\": 1, \"cp\": 2, \"trestbps\": 160, \"chol\": 246, \"fbs\": 0, \"restecg\": 0, \"thalach\": 120, \"exang\": 1, \"oldpeak\": 0.0, \"slope\": 2, \"ca\": 3.0, \"thal\": 6.0, \"num\": 1}, {\"age\": 54, \"sex\": 1, \"cp\": 2, \"trestbps\": 192, \"chol\": 283, \"fbs\": 0, \"restecg\": 2, \"thalach\": 195, \"exang\": 0, \"oldpeak\": 0.0, \"slope\": 1, \"ca\": 1.0, \"thal\": 7.0, \"num\": 1}, {\"age\": 69, \"sex\": 1, \"cp\": 3, \"trestbps\": 140, \"chol\": 254, \"fbs\": 0, \"restecg\": 2, \"thalach\": 146, \"exang\": 0, \"oldpeak\": 2.0, \"slope\": 2, \"ca\": 3.0, \"thal\": 7.0, \"num\": 1}, {\"age\": 50, \"sex\": 1, \"cp\": 3, \"trestbps\": 129, \"chol\": 196, \"fbs\": 0, \"restecg\": 0, \"thalach\": 163, \"exang\": 0, \"oldpeak\": 0.0, \"slope\": 1, \"ca\": 0.0, \"thal\": 3.0, \"num\": 0}, {\"age\": 51, \"sex\": 1, \"cp\": 4, \"trestbps\": 140, \"chol\": 298, \"fbs\": 0, \"restecg\": 0, \"thalach\": 122, \"exang\": 1, \"oldpeak\": 4.2, \"slope\": 2, \"ca\": 3.0, \"thal\": 7.0, \"num\": 1}, {\"age\": 43, \"sex\": 1, \"cp\": 4, \"trestbps\": 132, \"chol\": 247, \"fbs\": 1, \"restecg\": 2, \"thalach\": 143, \"exang\": 1, \"oldpeak\": 0.1, \"slope\": 2, \"ca\": null, \"thal\": 7.0, \"num\": 1}, {\"age\": 62, \"sex\": 0, \"cp\": 4, \"trestbps\": 138, \"chol\": 294, \"fbs\": 1, \"restecg\": 0, \"thalach\": 106, \"exang\": 0, \"oldpeak\": 1.9, \"slope\": 2, \"ca\": 3.0, \"thal\": 3.0, \"num\": 1}, {\"age\": 68, \"sex\": 0, \"cp\": 3, \"trestbps\": 120, \"chol\": 211, \"fbs\": 0, \"restecg\": 2, \"thalach\": 115, \"exang\": 0, \"oldpeak\": 1.5, \"slope\": 2, \"ca\": 0.0, \"thal\": 3.0, \"num\": 0}, {\"age\": 67, \"sex\": 1, \"cp\": 4, \"trestbps\": 100, \"chol\": 299, \"fbs\": 0, \"restecg\": 2, \"thalach\": 125, \"exang\": 1, \"oldpeak\": 0.9, \"slope\": 2, \"ca\": 2.0, \"thal\": 3.0, \"num\": 1}, {\"age\": 69, \"sex\": 1, \"cp\": 1, \"trestbps\": 160, \"chol\": 234, \"fbs\": 1, \"restecg\": 2, \"thalach\": 131, \"exang\": 0, \"oldpeak\": 0.1, \"slope\": 2, \"ca\": 1.0, \"thal\": 3.0, \"num\": 0}, {\"age\": 45, \"sex\": 0, \"cp\": 4, \"trestbps\": 138, \"chol\": 236, \"fbs\": 0, \"restecg\": 2, \"thalach\": 152, \"exang\": 1, \"oldpeak\": 0.2, \"slope\": 2, \"ca\": 0.0, \"thal\": 3.0, \"num\": 0}, {\"age\": 50, \"sex\": 0, \"cp\": 2, \"trestbps\": 120, \"chol\": 244, \"fbs\": 0, \"restecg\": 0, \"thalach\": 162, \"exang\": 0, \"oldpeak\": 1.1, \"slope\": 1, \"ca\": 0.0, \"thal\": 3.0, \"num\": 0}, {\"age\": 59, \"sex\": 1, \"cp\": 1, \"trestbps\": 160, \"chol\": 273, \"fbs\": 0, \"restecg\": 2, \"thalach\": 125, \"exang\": 0, \"oldpeak\": 0.0, \"slope\": 1, \"ca\": 0.0, \"thal\": 3.0, \"num\": 1}, {\"age\": 50, \"sex\": 0, \"cp\": 4, \"trestbps\": 110, \"chol\": 254, \"fbs\": 0, \"restecg\": 2, \"thalach\": 159, \"exang\": 0, \"oldpeak\": 0.0, \"slope\": 1, \"ca\": 0.0, \"thal\": 3.0, \"num\": 0}, {\"age\": 64, \"sex\": 0, \"cp\": 4, \"trestbps\": 180, \"chol\": 325, \"fbs\": 0, \"restecg\": 0, \"thalach\": 154, \"exang\": 1, \"oldpeak\": 0.0, \"slope\": 1, \"ca\": 0.0, \"thal\": 3.0, \"num\": 0}, {\"age\": 57, \"sex\": 1, \"cp\": 3, \"trestbps\": 150, \"chol\": 126, \"fbs\": 1, \"restecg\": 0, \"thalach\": 173, \"exang\": 0, \"oldpeak\": 0.2, \"slope\": 1, \"ca\": 1.0, \"thal\": 7.0, \"num\": 0}, {\"age\": 64, \"sex\": 0, \"cp\": 3, \"trestbps\": 140, \"chol\": 313, \"fbs\": 0, \"restecg\": 0, \"thalach\": 133, \"exang\": 0, \"oldpeak\": 0.2, \"slope\": 1, \"ca\": 0.0, \"thal\": 7.0, \"num\": 0}, {\"age\": 43, \"sex\": 1, \"cp\": 4, \"trestbps\": 110, \"chol\": 211, \"fbs\": 0, \"restecg\": 0, \"thalach\": 161, \"exang\": 0, \"oldpeak\": 0.0, \"slope\": 1, \"ca\": 0.0, \"thal\": 7.0, \"num\": 0}, {\"age\": 45, \"sex\": 1, \"cp\": 4, \"trestbps\": 142, \"chol\": 309, \"fbs\": 0, \"restecg\": 2, \"thalach\": 147, \"exang\": 1, \"oldpeak\": 0.0, \"slope\": 2, \"ca\": 3.0, \"thal\": 7.0, \"num\": 1}, {\"age\": 58, \"sex\": 1, \"cp\": 4, \"trestbps\": 128, \"chol\": 259, \"fbs\": 0, \"restecg\": 2, \"thalach\": 130, \"exang\": 1, \"oldpeak\": 3.0, \"slope\": 2, \"ca\": 2.0, \"thal\": 7.0, \"num\": 1}, {\"age\": 50, \"sex\": 1, \"cp\": 4, \"trestbps\": 144, \"chol\": 200, \"fbs\": 0, \"restecg\": 2, \"thalach\": 126, \"exang\": 1, \"oldpeak\": 0.9, \"slope\": 2, \"ca\": 0.0, \"thal\": 7.0, \"num\": 1}, {\"age\": 55, \"sex\": 1, \"cp\": 2, \"trestbps\": 130, \"chol\": 262, \"fbs\": 0, \"restecg\": 0, \"thalach\": 155, \"exang\": 0, \"oldpeak\": 0.0, \"slope\": 1, \"ca\": 0.0, \"thal\": 3.0, \"num\": 0}, {\"age\": 62, \"sex\": 0, \"cp\": 4, \"trestbps\": 150, \"chol\": 244, \"fbs\": 0, \"restecg\": 0, \"thalach\": 154, \"exang\": 1, \"oldpeak\": 1.4, \"slope\": 2, \"ca\": 0.0, \"thal\": 3.0, \"num\": 1}, {\"age\": 37, \"sex\": 0, \"cp\": 3, \"trestbps\": 120, \"chol\": 215, \"fbs\": 0, \"restecg\": 0, \"thalach\": 170, \"exang\": 0, \"oldpeak\": 0.0, \"slope\": 1, \"ca\": 0.0, \"thal\": 3.0, \"num\": 0}, {\"age\": 38, \"sex\": 1, \"cp\": 1, \"trestbps\": 120, \"chol\": 231, \"fbs\": 0, \"restecg\": 0, \"thalach\": 182, \"exang\": 1, \"oldpeak\": 3.8, \"slope\": 2, \"ca\": 0.0, \"thal\": 7.0, \"num\": 1}, {\"age\": 41, \"sex\": 1, \"cp\": 3, \"trestbps\": 130, \"chol\": 214, \"fbs\": 0, \"restecg\": 2, \"thalach\": 168, \"exang\": 0, \"oldpeak\": 2.0, \"slope\": 2, \"ca\": 0.0, \"thal\": 3.0, \"num\": 0}, {\"age\": 66, \"sex\": 0, \"cp\": 4, \"trestbps\": 178, \"chol\": 228, \"fbs\": 1, \"restecg\": 0, \"thalach\": 165, \"exang\": 1, \"oldpeak\": 1.0, \"slope\": 2, \"ca\": 2.0, \"thal\": 7.0, \"num\": 1}, {\"age\": 52, \"sex\": 1, \"cp\": 4, \"trestbps\": 112, \"chol\": 230, \"fbs\": 0, \"restecg\": 0, \"thalach\": 160, \"exang\": 0, \"oldpeak\": 0.0, \"slope\": 1, \"ca\": 1.0, \"thal\": 3.0, \"num\": 1}, {\"age\": 56, \"sex\": 1, \"cp\": 1, \"trestbps\": 120, \"chol\": 193, \"fbs\": 0, \"restecg\": 2, \"thalach\": 162, \"exang\": 0, \"oldpeak\": 1.9, \"slope\": 2, \"ca\": 0.0, \"thal\": 7.0, \"num\": 0}, {\"age\": 46, \"sex\": 0, \"cp\": 2, \"trestbps\": 105, \"chol\": 204, \"fbs\": 0, \"restecg\": 0, \"thalach\": 172, \"exang\": 0, \"oldpeak\": 0.0, \"slope\": 1, \"ca\": 0.0, \"thal\": 3.0, \"num\": 0}, {\"age\": 46, \"sex\": 0, \"cp\": 4, \"trestbps\": 138, \"chol\": 243, \"fbs\": 0, \"restecg\": 2, \"thalach\": 152, \"exang\": 1, \"oldpeak\": 0.0, \"slope\": 2, \"ca\": 0.0, \"thal\": 3.0, \"num\": 0}, {\"age\": 64, \"sex\": 0, \"cp\": 4, \"trestbps\": 130, \"chol\": 303, \"fbs\": 0, \"restecg\": 0, \"thalach\": 122, \"exang\": 0, \"oldpeak\": 2.0, \"slope\": 2, \"ca\": 2.0, \"thal\": 3.0, \"num\": 0}, {\"age\": 59, \"sex\": 1, \"cp\": 4, \"trestbps\": 138, \"chol\": 271, \"fbs\": 0, \"restecg\": 2, \"thalach\": 182, \"exang\": 0, \"oldpeak\": 0.0, \"slope\": 1, \"ca\": 0.0, \"thal\": 3.0, \"num\": 0}, {\"age\": 41, \"sex\": 0, \"cp\": 3, \"trestbps\": 112, \"chol\": 268, \"fbs\": 0, \"restecg\": 2, \"thalach\": 172, \"exang\": 1, \"oldpeak\": 0.0, \"slope\": 1, \"ca\": 0.0, \"thal\": 3.0, \"num\": 0}, {\"age\": 54, \"sex\": 0, \"cp\": 3, \"trestbps\": 108, \"chol\": 267, \"fbs\": 0, \"restecg\": 2, \"thalach\": 167, \"exang\": 0, \"oldpeak\": 0.0, \"slope\": 1, \"ca\": 0.0, \"thal\": 3.0, \"num\": 0}, {\"age\": 39, \"sex\": 0, \"cp\": 3, \"trestbps\": 94, \"chol\": 199, \"fbs\": 0, \"restecg\": 0, \"thalach\": 179, \"exang\": 0, \"oldpeak\": 0.0, \"slope\": 1, \"ca\": 0.0, \"thal\": 3.0, \"num\": 0}, {\"age\": 53, \"sex\": 1, \"cp\": 4, \"trestbps\": 123, \"chol\": 282, \"fbs\": 0, \"restecg\": 0, \"thalach\": 95, \"exang\": 1, \"oldpeak\": 2.0, \"slope\": 2, \"ca\": 2.0, \"thal\": 7.0, \"num\": 1}, {\"age\": 63, \"sex\": 0, \"cp\": 4, \"trestbps\": 108, \"chol\": 269, \"fbs\": 0, \"restecg\": 0, \"thalach\": 169, \"exang\": 1, \"oldpeak\": 1.8, \"slope\": 2, \"ca\": 2.0, \"thal\": 3.0, \"num\": 1}, {\"age\": 34, \"sex\": 0, \"cp\": 2, \"trestbps\": 118, \"chol\": 210, \"fbs\": 0, \"restecg\": 0, \"thalach\": 192, \"exang\": 0, \"oldpeak\": 0.7, \"slope\": 1, \"ca\": 0.0, \"thal\": 3.0, \"num\": 0}, {\"age\": 47, \"sex\": 1, \"cp\": 4, \"trestbps\": 112, \"chol\": 204, \"fbs\": 0, \"restecg\": 0, \"thalach\": 143, \"exang\": 0, \"oldpeak\": 0.1, \"slope\": 1, \"ca\": 0.0, \"thal\": 3.0, \"num\": 0}, {\"age\": 67, \"sex\": 0, \"cp\": 3, \"trestbps\": 152, \"chol\": 277, \"fbs\": 0, \"restecg\": 0, \"thalach\": 172, \"exang\": 0, \"oldpeak\": 0.0, \"slope\": 1, \"ca\": 1.0, \"thal\": 3.0, \"num\": 0}, {\"age\": 54, \"sex\": 1, \"cp\": 4, \"trestbps\": 110, \"chol\": 206, \"fbs\": 0, \"restecg\": 2, \"thalach\": 108, \"exang\": 1, \"oldpeak\": 0.0, \"slope\": 2, \"ca\": 1.0, \"thal\": 3.0, \"num\": 1}, {\"age\": 66, \"sex\": 1, \"cp\": 4, \"trestbps\": 112, \"chol\": 212, \"fbs\": 0, \"restecg\": 2, \"thalach\": 132, \"exang\": 1, \"oldpeak\": 0.1, \"slope\": 1, \"ca\": 1.0, \"thal\": 3.0, \"num\": 1}, {\"age\": 52, \"sex\": 0, \"cp\": 3, \"trestbps\": 136, \"chol\": 196, \"fbs\": 0, \"restecg\": 2, \"thalach\": 169, \"exang\": 0, \"oldpeak\": 0.1, \"slope\": 2, \"ca\": 0.0, \"thal\": 3.0, \"num\": 0}, {\"age\": 55, \"sex\": 0, \"cp\": 4, \"trestbps\": 180, \"chol\": 327, \"fbs\": 0, \"restecg\": 1, \"thalach\": 117, \"exang\": 1, \"oldpeak\": 3.4, \"slope\": 2, \"ca\": 0.0, \"thal\": 3.0, \"num\": 1}, {\"age\": 49, \"sex\": 1, \"cp\": 3, \"trestbps\": 118, \"chol\": 149, \"fbs\": 0, \"restecg\": 2, \"thalach\": 126, \"exang\": 0, \"oldpeak\": 0.8, \"slope\": 1, \"ca\": 3.0, \"thal\": 3.0, \"num\": 1}, {\"age\": 74, \"sex\": 0, \"cp\": 2, \"trestbps\": 120, \"chol\": 269, \"fbs\": 0, \"restecg\": 2, \"thalach\": 121, \"exang\": 1, \"oldpeak\": 0.2, \"slope\": 1, \"ca\": 1.0, \"thal\": 3.0, \"num\": 0}, {\"age\": 54, \"sex\": 0, \"cp\": 3, \"trestbps\": 160, \"chol\": 201, \"fbs\": 0, \"restecg\": 0, \"thalach\": 163, \"exang\": 0, \"oldpeak\": 0.0, \"slope\": 1, \"ca\": 1.0, \"thal\": 3.0, \"num\": 0}, {\"age\": 54, \"sex\": 1, \"cp\": 4, \"trestbps\": 122, \"chol\": 286, \"fbs\": 0, \"restecg\": 2, \"thalach\": 116, \"exang\": 1, \"oldpeak\": 3.2, \"slope\": 2, \"ca\": 2.0, \"thal\": 3.0, \"num\": 1}, {\"age\": 56, \"sex\": 1, \"cp\": 4, \"trestbps\": 130, \"chol\": 283, \"fbs\": 1, \"restecg\": 2, \"thalach\": 103, \"exang\": 1, \"oldpeak\": 1.6, \"slope\": 3, \"ca\": 0.0, \"thal\": 7.0, \"num\": 1}, {\"age\": 46, \"sex\": 1, \"cp\": 4, \"trestbps\": 120, \"chol\": 249, \"fbs\": 0, \"restecg\": 2, \"thalach\": 144, \"exang\": 0, \"oldpeak\": 0.8, \"slope\": 1, \"ca\": 0.0, \"thal\": 7.0, \"num\": 1}, {\"age\": 49, \"sex\": 0, \"cp\": 2, \"trestbps\": 134, \"chol\": 271, \"fbs\": 0, \"restecg\": 0, \"thalach\": 162, \"exang\": 0, \"oldpeak\": 0.0, \"slope\": 2, \"ca\": 0.0, \"thal\": 3.0, \"num\": 0}, {\"age\": 42, \"sex\": 1, \"cp\": 2, \"trestbps\": 120, \"chol\": 295, \"fbs\": 0, \"restecg\": 0, \"thalach\": 162, \"exang\": 0, \"oldpeak\": 0.0, \"slope\": 1, \"ca\": 0.0, \"thal\": 3.0, \"num\": 0}, {\"age\": 41, \"sex\": 1, \"cp\": 2, \"trestbps\": 110, \"chol\": 235, \"fbs\": 0, \"restecg\": 0, \"thalach\": 153, \"exang\": 0, \"oldpeak\": 0.0, \"slope\": 1, \"ca\": 0.0, \"thal\": 3.0, \"num\": 0}, {\"age\": 41, \"sex\": 0, \"cp\": 2, \"trestbps\": 126, \"chol\": 306, \"fbs\": 0, \"restecg\": 0, \"thalach\": 163, \"exang\": 0, \"oldpeak\": 0.0, \"slope\": 1, \"ca\": 0.0, \"thal\": 3.0, \"num\": 0}, {\"age\": 49, \"sex\": 0, \"cp\": 4, \"trestbps\": 130, \"chol\": 269, \"fbs\": 0, \"restecg\": 0, \"thalach\": 163, \"exang\": 0, \"oldpeak\": 0.0, \"slope\": 1, \"ca\": 0.0, \"thal\": 3.0, \"num\": 0}, {\"age\": 61, \"sex\": 1, \"cp\": 1, \"trestbps\": 134, \"chol\": 234, \"fbs\": 0, \"restecg\": 0, \"thalach\": 145, \"exang\": 0, \"oldpeak\": 2.6, \"slope\": 2, \"ca\": 2.0, \"thal\": 3.0, \"num\": 1}, {\"age\": 60, \"sex\": 0, \"cp\": 3, \"trestbps\": 120, \"chol\": 178, \"fbs\": 1, \"restecg\": 0, \"thalach\": 96, \"exang\": 0, \"oldpeak\": 0.0, \"slope\": 1, \"ca\": 0.0, \"thal\": 3.0, \"num\": 0}, {\"age\": 67, \"sex\": 1, \"cp\": 4, \"trestbps\": 120, \"chol\": 237, \"fbs\": 0, \"restecg\": 0, \"thalach\": 71, \"exang\": 0, \"oldpeak\": 1.0, \"slope\": 2, \"ca\": 0.0, \"thal\": 3.0, \"num\": 1}, {\"age\": 58, \"sex\": 1, \"cp\": 4, \"trestbps\": 100, \"chol\": 234, \"fbs\": 0, \"restecg\": 0, \"thalach\": 156, \"exang\": 0, \"oldpeak\": 0.1, \"slope\": 1, \"ca\": 1.0, \"thal\": 7.0, \"num\": 1}, {\"age\": 47, \"sex\": 1, \"cp\": 4, \"trestbps\": 110, \"chol\": 275, \"fbs\": 0, \"restecg\": 2, \"thalach\": 118, \"exang\": 1, \"oldpeak\": 1.0, \"slope\": 2, \"ca\": 1.0, \"thal\": 3.0, \"num\": 1}, {\"age\": 52, \"sex\": 1, \"cp\": 4, \"trestbps\": 125, \"chol\": 212, \"fbs\": 0, \"restecg\": 0, \"thalach\": 168, \"exang\": 0, \"oldpeak\": 1.0, \"slope\": 1, \"ca\": 2.0, \"thal\": 7.0, \"num\": 1}, {\"age\": 62, \"sex\": 1, \"cp\": 2, \"trestbps\": 128, \"chol\": 208, \"fbs\": 1, \"restecg\": 2, \"thalach\": 140, \"exang\": 0, \"oldpeak\": 0.0, \"slope\": 1, \"ca\": 0.0, \"thal\": 3.0, \"num\": 0}, {\"age\": 57, \"sex\": 1, \"cp\": 4, \"trestbps\": 110, \"chol\": 201, \"fbs\": 0, \"restecg\": 0, \"thalach\": 126, \"exang\": 1, \"oldpeak\": 1.5, \"slope\": 2, \"ca\": 0.0, \"thal\": 6.0, \"num\": 0}, {\"age\": 58, \"sex\": 1, \"cp\": 4, \"trestbps\": 146, \"chol\": 218, \"fbs\": 0, \"restecg\": 0, \"thalach\": 105, \"exang\": 0, \"oldpeak\": 2.0, \"slope\": 2, \"ca\": 1.0, \"thal\": 7.0, \"num\": 1}, {\"age\": 64, \"sex\": 1, \"cp\": 4, \"trestbps\": 128, \"chol\": 263, \"fbs\": 0, \"restecg\": 0, \"thalach\": 105, \"exang\": 1, \"oldpeak\": 0.2, \"slope\": 2, \"ca\": 1.0, \"thal\": 7.0, \"num\": 0}, {\"age\": 51, \"sex\": 0, \"cp\": 3, \"trestbps\": 120, \"chol\": 295, \"fbs\": 0, \"restecg\": 2, \"thalach\": 157, \"exang\": 0, \"oldpeak\": 0.6, \"slope\": 1, \"ca\": 0.0, \"thal\": 3.0, \"num\": 0}, {\"age\": 43, \"sex\": 1, \"cp\": 4, \"trestbps\": 115, \"chol\": 303, \"fbs\": 0, \"restecg\": 0, \"thalach\": 181, \"exang\": 0, \"oldpeak\": 1.2, \"slope\": 2, \"ca\": 0.0, \"thal\": 3.0, \"num\": 0}, {\"age\": 42, \"sex\": 0, \"cp\": 3, \"trestbps\": 120, \"chol\": 209, \"fbs\": 0, \"restecg\": 0, \"thalach\": 173, \"exang\": 0, \"oldpeak\": 0.0, \"slope\": 2, \"ca\": 0.0, \"thal\": 3.0, \"num\": 0}, {\"age\": 67, \"sex\": 0, \"cp\": 4, \"trestbps\": 106, \"chol\": 223, \"fbs\": 0, \"restecg\": 0, \"thalach\": 142, \"exang\": 0, \"oldpeak\": 0.3, \"slope\": 1, \"ca\": 2.0, \"thal\": 3.0, \"num\": 0}, {\"age\": 76, \"sex\": 0, \"cp\": 3, \"trestbps\": 140, \"chol\": 197, \"fbs\": 0, \"restecg\": 1, \"thalach\": 116, \"exang\": 0, \"oldpeak\": 1.1, \"slope\": 2, \"ca\": 0.0, \"thal\": 3.0, \"num\": 0}, {\"age\": 70, \"sex\": 1, \"cp\": 2, \"trestbps\": 156, \"chol\": 245, \"fbs\": 0, \"restecg\": 2, \"thalach\": 143, \"exang\": 0, \"oldpeak\": 0.0, \"slope\": 1, \"ca\": 0.0, \"thal\": 3.0, \"num\": 0}, {\"age\": 57, \"sex\": 1, \"cp\": 2, \"trestbps\": 124, \"chol\": 261, \"fbs\": 0, \"restecg\": 0, \"thalach\": 141, \"exang\": 0, \"oldpeak\": 0.3, \"slope\": 1, \"ca\": 0.0, \"thal\": 7.0, \"num\": 1}, {\"age\": 44, \"sex\": 0, \"cp\": 3, \"trestbps\": 118, \"chol\": 242, \"fbs\": 0, \"restecg\": 0, \"thalach\": 149, \"exang\": 0, \"oldpeak\": 0.3, \"slope\": 2, \"ca\": 1.0, \"thal\": 3.0, \"num\": 0}, {\"age\": 58, \"sex\": 0, \"cp\": 2, \"trestbps\": 136, \"chol\": 319, \"fbs\": 1, \"restecg\": 2, \"thalach\": 152, \"exang\": 0, \"oldpeak\": 0.0, \"slope\": 1, \"ca\": 2.0, \"thal\": 3.0, \"num\": 1}, {\"age\": 60, \"sex\": 0, \"cp\": 1, \"trestbps\": 150, \"chol\": 240, \"fbs\": 0, \"restecg\": 0, \"thalach\": 171, \"exang\": 0, \"oldpeak\": 0.9, \"slope\": 1, \"ca\": 0.0, \"thal\": 3.0, \"num\": 0}, {\"age\": 44, \"sex\": 1, \"cp\": 3, \"trestbps\": 120, \"chol\": 226, \"fbs\": 0, \"restecg\": 0, \"thalach\": 169, \"exang\": 0, \"oldpeak\": 0.0, \"slope\": 1, \"ca\": 0.0, \"thal\": 3.0, \"num\": 0}, {\"age\": 61, \"sex\": 1, \"cp\": 4, \"trestbps\": 138, \"chol\": 166, \"fbs\": 0, \"restecg\": 2, \"thalach\": 125, \"exang\": 1, \"oldpeak\": 3.6, \"slope\": 2, \"ca\": 1.0, \"thal\": 3.0, \"num\": 1}, {\"age\": 42, \"sex\": 1, \"cp\": 4, \"trestbps\": 136, \"chol\": 315, \"fbs\": 0, \"restecg\": 0, \"thalach\": 125, \"exang\": 1, \"oldpeak\": 1.8, \"slope\": 2, \"ca\": 0.0, \"thal\": 6.0, \"num\": 1}, {\"age\": 52, \"sex\": 1, \"cp\": 4, \"trestbps\": 128, \"chol\": 204, \"fbs\": 1, \"restecg\": 0, \"thalach\": 156, \"exang\": 1, \"oldpeak\": 1.0, \"slope\": 2, \"ca\": 0.0, \"thal\": null, \"num\": 1}, {\"age\": 59, \"sex\": 1, \"cp\": 3, \"trestbps\": 126, \"chol\": 218, \"fbs\": 1, \"restecg\": 0, \"thalach\": 134, \"exang\": 0, \"oldpeak\": 2.2, \"slope\": 2, \"ca\": 1.0, \"thal\": 6.0, \"num\": 1}, {\"age\": 40, \"sex\": 1, \"cp\": 4, \"trestbps\": 152, \"chol\": 223, \"fbs\": 0, \"restecg\": 0, \"thalach\": 181, \"exang\": 0, \"oldpeak\": 0.0, \"slope\": 1, \"ca\": 0.0, \"thal\": 7.0, \"num\": 1}, {\"age\": 42, \"sex\": 1, \"cp\": 3, \"trestbps\": 130, \"chol\": 180, \"fbs\": 0, \"restecg\": 0, \"thalach\": 150, \"exang\": 0, \"oldpeak\": 0.0, \"slope\": 1, \"ca\": 0.0, \"thal\": 3.0, \"num\": 0}, {\"age\": 61, \"sex\": 1, \"cp\": 4, \"trestbps\": 140, \"chol\": 207, \"fbs\": 0, \"restecg\": 2, \"thalach\": 138, \"exang\": 1, \"oldpeak\": 1.9, \"slope\": 1, \"ca\": 1.0, \"thal\": 7.0, \"num\": 1}, {\"age\": 66, \"sex\": 1, \"cp\": 4, \"trestbps\": 160, \"chol\": 228, \"fbs\": 0, \"restecg\": 2, \"thalach\": 138, \"exang\": 0, \"oldpeak\": 2.3, \"slope\": 1, \"ca\": 0.0, \"thal\": 6.0, \"num\": 0}, {\"age\": 46, \"sex\": 1, \"cp\": 4, \"trestbps\": 140, \"chol\": 311, \"fbs\": 0, \"restecg\": 0, \"thalach\": 120, \"exang\": 1, \"oldpeak\": 1.8, \"slope\": 2, \"ca\": 2.0, \"thal\": 7.0, \"num\": 1}, {\"age\": 71, \"sex\": 0, \"cp\": 4, \"trestbps\": 112, \"chol\": 149, \"fbs\": 0, \"restecg\": 0, \"thalach\": 125, \"exang\": 0, \"oldpeak\": 1.6, \"slope\": 2, \"ca\": 0.0, \"thal\": 3.0, \"num\": 0}, {\"age\": 59, \"sex\": 1, \"cp\": 1, \"trestbps\": 134, \"chol\": 204, \"fbs\": 0, \"restecg\": 0, \"thalach\": 162, \"exang\": 0, \"oldpeak\": 0.8, \"slope\": 1, \"ca\": 2.0, \"thal\": 3.0, \"num\": 1}, {\"age\": 64, \"sex\": 1, \"cp\": 1, \"trestbps\": 170, \"chol\": 227, \"fbs\": 0, \"restecg\": 2, \"thalach\": 155, \"exang\": 0, \"oldpeak\": 0.6, \"slope\": 2, \"ca\": 0.0, \"thal\": 7.0, \"num\": 0}, {\"age\": 66, \"sex\": 0, \"cp\": 3, \"trestbps\": 146, \"chol\": 278, \"fbs\": 0, \"restecg\": 2, \"thalach\": 152, \"exang\": 0, \"oldpeak\": 0.0, \"slope\": 2, \"ca\": 1.0, \"thal\": 3.0, \"num\": 0}, {\"age\": 39, \"sex\": 0, \"cp\": 3, \"trestbps\": 138, \"chol\": 220, \"fbs\": 0, \"restecg\": 0, \"thalach\": 152, \"exang\": 0, \"oldpeak\": 0.0, \"slope\": 2, \"ca\": 0.0, \"thal\": 3.0, \"num\": 0}, {\"age\": 57, \"sex\": 1, \"cp\": 2, \"trestbps\": 154, \"chol\": 232, \"fbs\": 0, \"restecg\": 2, \"thalach\": 164, \"exang\": 0, \"oldpeak\": 0.0, \"slope\": 1, \"ca\": 1.0, \"thal\": 3.0, \"num\": 1}, {\"age\": 58, \"sex\": 0, \"cp\": 4, \"trestbps\": 130, \"chol\": 197, \"fbs\": 0, \"restecg\": 0, \"thalach\": 131, \"exang\": 0, \"oldpeak\": 0.6, \"slope\": 2, \"ca\": 0.0, \"thal\": 3.0, \"num\": 0}, {\"age\": 57, \"sex\": 1, \"cp\": 4, \"trestbps\": 110, \"chol\": 335, \"fbs\": 0, \"restecg\": 0, \"thalach\": 143, \"exang\": 1, \"oldpeak\": 3.0, \"slope\": 2, \"ca\": 1.0, \"thal\": 7.0, \"num\": 1}, {\"age\": 47, \"sex\": 1, \"cp\": 3, \"trestbps\": 130, \"chol\": 253, \"fbs\": 0, \"restecg\": 0, \"thalach\": 179, \"exang\": 0, \"oldpeak\": 0.0, \"slope\": 1, \"ca\": 0.0, \"thal\": 3.0, \"num\": 0}, {\"age\": 55, \"sex\": 0, \"cp\": 4, \"trestbps\": 128, \"chol\": 205, \"fbs\": 0, \"restecg\": 1, \"thalach\": 130, \"exang\": 1, \"oldpeak\": 2.0, \"slope\": 2, \"ca\": 1.0, \"thal\": 7.0, \"num\": 1}, {\"age\": 35, \"sex\": 1, \"cp\": 2, \"trestbps\": 122, \"chol\": 192, \"fbs\": 0, \"restecg\": 0, \"thalach\": 174, \"exang\": 0, \"oldpeak\": 0.0, \"slope\": 1, \"ca\": 0.0, \"thal\": 3.0, \"num\": 0}, {\"age\": 61, \"sex\": 1, \"cp\": 4, \"trestbps\": 148, \"chol\": 203, \"fbs\": 0, \"restecg\": 0, \"thalach\": 161, \"exang\": 0, \"oldpeak\": 0.0, \"slope\": 1, \"ca\": 1.0, \"thal\": 7.0, \"num\": 1}, {\"age\": 58, \"sex\": 1, \"cp\": 4, \"trestbps\": 114, \"chol\": 318, \"fbs\": 0, \"restecg\": 1, \"thalach\": 140, \"exang\": 0, \"oldpeak\": 4.4, \"slope\": 3, \"ca\": 3.0, \"thal\": 6.0, \"num\": 1}, {\"age\": 58, \"sex\": 0, \"cp\": 4, \"trestbps\": 170, \"chol\": 225, \"fbs\": 1, \"restecg\": 2, \"thalach\": 146, \"exang\": 1, \"oldpeak\": 2.8, \"slope\": 2, \"ca\": 2.0, \"thal\": 6.0, \"num\": 1}, {\"age\": 58, \"sex\": 1, \"cp\": 2, \"trestbps\": 125, \"chol\": 220, \"fbs\": 0, \"restecg\": 0, \"thalach\": 144, \"exang\": 0, \"oldpeak\": 0.4, \"slope\": 2, \"ca\": null, \"thal\": 7.0, \"num\": 0}, {\"age\": 56, \"sex\": 1, \"cp\": 2, \"trestbps\": 130, \"chol\": 221, \"fbs\": 0, \"restecg\": 2, \"thalach\": 163, \"exang\": 0, \"oldpeak\": 0.0, \"slope\": 1, \"ca\": 0.0, \"thal\": 7.0, \"num\": 0}, {\"age\": 56, \"sex\": 1, \"cp\": 2, \"trestbps\": 120, \"chol\": 240, \"fbs\": 0, \"restecg\": 0, \"thalach\": 169, \"exang\": 0, \"oldpeak\": 0.0, \"slope\": 3, \"ca\": 0.0, \"thal\": 3.0, \"num\": 0}, {\"age\": 67, \"sex\": 1, \"cp\": 3, \"trestbps\": 152, \"chol\": 212, \"fbs\": 0, \"restecg\": 2, \"thalach\": 150, \"exang\": 0, \"oldpeak\": 0.8, \"slope\": 2, \"ca\": 0.0, \"thal\": 7.0, \"num\": 1}, {\"age\": 55, \"sex\": 0, \"cp\": 2, \"trestbps\": 132, \"chol\": 342, \"fbs\": 0, \"restecg\": 0, \"thalach\": 166, \"exang\": 0, \"oldpeak\": 1.2, \"slope\": 1, \"ca\": 0.0, \"thal\": 3.0, \"num\": 0}, {\"age\": 44, \"sex\": 1, \"cp\": 4, \"trestbps\": 120, \"chol\": 169, \"fbs\": 0, \"restecg\": 0, \"thalach\": 144, \"exang\": 1, \"oldpeak\": 2.8, \"slope\": 3, \"ca\": 0.0, \"thal\": 6.0, \"num\": 1}, {\"age\": 63, \"sex\": 1, \"cp\": 4, \"trestbps\": 140, \"chol\": 187, \"fbs\": 0, \"restecg\": 2, \"thalach\": 144, \"exang\": 1, \"oldpeak\": 4.0, \"slope\": 1, \"ca\": 2.0, \"thal\": 7.0, \"num\": 1}, {\"age\": 63, \"sex\": 0, \"cp\": 4, \"trestbps\": 124, \"chol\": 197, \"fbs\": 0, \"restecg\": 0, \"thalach\": 136, \"exang\": 1, \"oldpeak\": 0.0, \"slope\": 2, \"ca\": 0.0, \"thal\": 3.0, \"num\": 1}, {\"age\": 41, \"sex\": 1, \"cp\": 2, \"trestbps\": 120, \"chol\": 157, \"fbs\": 0, \"restecg\": 0, \"thalach\": 182, \"exang\": 0, \"oldpeak\": 0.0, \"slope\": 1, \"ca\": 0.0, \"thal\": 3.0, \"num\": 0}, {\"age\": 59, \"sex\": 1, \"cp\": 4, \"trestbps\": 164, \"chol\": 176, \"fbs\": 1, \"restecg\": 2, \"thalach\": 90, \"exang\": 0, \"oldpeak\": 1.0, \"slope\": 2, \"ca\": 2.0, \"thal\": 6.0, \"num\": 1}, {\"age\": 57, \"sex\": 0, \"cp\": 4, \"trestbps\": 140, \"chol\": 241, \"fbs\": 0, \"restecg\": 0, \"thalach\": 123, \"exang\": 1, \"oldpeak\": 0.2, \"slope\": 2, \"ca\": 0.0, \"thal\": 7.0, \"num\": 1}, {\"age\": 45, \"sex\": 1, \"cp\": 1, \"trestbps\": 110, \"chol\": 264, \"fbs\": 0, \"restecg\": 0, \"thalach\": 132, \"exang\": 0, \"oldpeak\": 1.2, \"slope\": 2, \"ca\": 0.0, \"thal\": 7.0, \"num\": 1}, {\"age\": 68, \"sex\": 1, \"cp\": 4, \"trestbps\": 144, \"chol\": 193, \"fbs\": 1, \"restecg\": 0, \"thalach\": 141, \"exang\": 0, \"oldpeak\": 3.4, \"slope\": 2, \"ca\": 2.0, \"thal\": 7.0, \"num\": 1}, {\"age\": 57, \"sex\": 1, \"cp\": 4, \"trestbps\": 130, \"chol\": 131, \"fbs\": 0, \"restecg\": 0, \"thalach\": 115, \"exang\": 1, \"oldpeak\": 1.2, \"slope\": 2, \"ca\": 1.0, \"thal\": 7.0, \"num\": 1}, {\"age\": 57, \"sex\": 0, \"cp\": 2, \"trestbps\": 130, \"chol\": 236, \"fbs\": 0, \"restecg\": 2, \"thalach\": 174, \"exang\": 0, \"oldpeak\": 0.0, \"slope\": 2, \"ca\": 1.0, \"thal\": 3.0, \"num\": 1}, {\"age\": 38, \"sex\": 1, \"cp\": 3, \"trestbps\": 138, \"chol\": 175, \"fbs\": 0, \"restecg\": 0, \"thalach\": 173, \"exang\": 0, \"oldpeak\": 0.0, \"slope\": 1, \"ca\": null, \"thal\": 3.0, \"num\": 0}]}}, {\"mode\": \"vega-lite\"});\n",
       "</script>"
      ],
      "text/plain": [
       "alt.Chart(...)"
      ]
     },
     "execution_count": 122,
     "metadata": {},
     "output_type": "execute_result"
    }
   ],
   "source": [
    "#exploring relationship between chol and trest bps for diagnosis with new groupings\n",
    "regrouped_plot = alt.Chart(heart_disease).mark_circle(opacity =0.7).encode(\n",
    "    x=alt.X(\"trestbps\").title(\"Resting blood pressure (mmHg)\"),\n",
    "    y=alt.Y(\"chol\").title(\"Serum Cholestoral (mg/dl)\"),\n",
    "    color=alt.Color(\"num:N\").title(\"Symptoms of Heart Disease\")\n",
    ").properties(title='Relationship between re-grouped Serum Cholestoral and Resting blood pressure')\n",
    "regrouped_plot\n"
   ]
  },
  {
   "cell_type": "markdown",
   "id": "4d1fa74e-cc8f-4630-9ff2-35638cce7c71",
   "metadata": {},
   "source": [
    "***Fig.14***: Scatter Plot of the Relationship between re-grouped Serum Cholestoral and Resting blood pressure for diagnosis"
   ]
  },
  {
   "cell_type": "markdown",
   "id": "c7dc43bd-769a-435a-a74c-4a3c3980eb21",
   "metadata": {
    "tags": []
   },
   "source": [
    "Since the two variables used so far still look very correlated, we will make correlation matrix to search for different variables"
   ]
  },
  {
   "cell_type": "code",
   "execution_count": 123,
   "id": "7d021454-dd54-4fde-bd9f-7da6e931f979",
   "metadata": {
    "tags": []
   },
   "outputs": [
    {
     "data": {
      "text/html": [
       "<style type=\"text/css\">\n",
       "#T_19651_row0_col0, #T_19651_row1_col1, #T_19651_row2_col2, #T_19651_row3_col3, #T_19651_row4_col4, #T_19651_row5_col5, #T_19651_row6_col6, #T_19651_row7_col7, #T_19651_row8_col8, #T_19651_row9_col9, #T_19651_row10_col10, #T_19651_row11_col11, #T_19651_row12_col12, #T_19651_row13_col13 {\n",
       "  background-color: #b40426;\n",
       "  color: #f1f1f1;\n",
       "}\n",
       "#T_19651_row0_col1, #T_19651_row1_col5 {\n",
       "  background-color: #5470de;\n",
       "  color: #f1f1f1;\n",
       "}\n",
       "#T_19651_row0_col2, #T_19651_row0_col3, #T_19651_row1_col9 {\n",
       "  background-color: #a9c6fd;\n",
       "  color: #000000;\n",
       "}\n",
       "#T_19651_row0_col4, #T_19651_row0_col8, #T_19651_row6_col9 {\n",
       "  background-color: #adc9fd;\n",
       "  color: #000000;\n",
       "}\n",
       "#T_19651_row0_col5, #T_19651_row8_col6, #T_19651_row11_col3 {\n",
       "  background-color: #6b8df0;\n",
       "  color: #f1f1f1;\n",
       "}\n",
       "#T_19651_row0_col6, #T_19651_row1_col0, #T_19651_row3_col6 {\n",
       "  background-color: #80a3fa;\n",
       "  color: #f1f1f1;\n",
       "}\n",
       "#T_19651_row0_col7, #T_19651_row7_col3 {\n",
       "  background-color: #3f53c6;\n",
       "  color: #f1f1f1;\n",
       "}\n",
       "#T_19651_row0_col9 {\n",
       "  background-color: #c3d5f4;\n",
       "  color: #000000;\n",
       "}\n",
       "#T_19651_row0_col10, #T_19651_row3_col9, #T_19651_row13_col1 {\n",
       "  background-color: #bfd3f6;\n",
       "  color: #000000;\n",
       "}\n",
       "#T_19651_row0_col11 {\n",
       "  background-color: #dbdcde;\n",
       "  color: #000000;\n",
       "}\n",
       "#T_19651_row0_col12, #T_19651_row4_col8 {\n",
       "  background-color: #a5c3fe;\n",
       "  color: #000000;\n",
       "}\n",
       "#T_19651_row0_col13, #T_19651_row12_col2 {\n",
       "  background-color: #cfdaea;\n",
       "  color: #000000;\n",
       "}\n",
       "#T_19651_row1_col2, #T_19651_row1_col7, #T_19651_row5_col9 {\n",
       "  background-color: #90b2fe;\n",
       "  color: #000000;\n",
       "}\n",
       "#T_19651_row1_col3, #T_19651_row1_col4, #T_19651_row2_col5, #T_19651_row4_col1, #T_19651_row7_col0, #T_19651_row7_col2, #T_19651_row7_col6, #T_19651_row7_col8, #T_19651_row7_col9, #T_19651_row7_col10, #T_19651_row7_col11, #T_19651_row7_col12, #T_19651_row7_col13, #T_19651_row13_col7 {\n",
       "  background-color: #3b4cc0;\n",
       "  color: #f1f1f1;\n",
       "}\n",
       "#T_19651_row1_col6, #T_19651_row10_col5, #T_19651_row12_col7 {\n",
       "  background-color: #5875e1;\n",
       "  color: #f1f1f1;\n",
       "}\n",
       "#T_19651_row1_col8, #T_19651_row11_col8 {\n",
       "  background-color: #bad0f8;\n",
       "  color: #000000;\n",
       "}\n",
       "#T_19651_row1_col10, #T_19651_row4_col2 {\n",
       "  background-color: #a1c0ff;\n",
       "  color: #000000;\n",
       "}\n",
       "#T_19651_row1_col11 {\n",
       "  background-color: #98b9ff;\n",
       "  color: #000000;\n",
       "}\n",
       "#T_19651_row1_col12 {\n",
       "  background-color: #e1dad6;\n",
       "  color: #000000;\n",
       "}\n",
       "#T_19651_row1_col13 {\n",
       "  background-color: #dadce0;\n",
       "  color: #000000;\n",
       "}\n",
       "#T_19651_row2_col0, #T_19651_row11_col10 {\n",
       "  background-color: #b2ccfb;\n",
       "  color: #000000;\n",
       "}\n",
       "#T_19651_row2_col1, #T_19651_row5_col4 {\n",
       "  background-color: #7295f4;\n",
       "  color: #f1f1f1;\n",
       "}\n",
       "#T_19651_row2_col3 {\n",
       "  background-color: #4257c9;\n",
       "  color: #f1f1f1;\n",
       "}\n",
       "#T_19651_row2_col4, #T_19651_row4_col12 {\n",
       "  background-color: #85a8fc;\n",
       "  color: #f1f1f1;\n",
       "}\n",
       "#T_19651_row2_col6 {\n",
       "  background-color: #6687ed;\n",
       "  color: #f1f1f1;\n",
       "}\n",
       "#T_19651_row2_col7 {\n",
       "  background-color: #4b64d5;\n",
       "  color: #f1f1f1;\n",
       "}\n",
       "#T_19651_row2_col8 {\n",
       "  background-color: #ead5c9;\n",
       "  color: #000000;\n",
       "}\n",
       "#T_19651_row2_col9 {\n",
       "  background-color: #c1d4f4;\n",
       "  color: #000000;\n",
       "}\n",
       "#T_19651_row2_col10, #T_19651_row6_col0 {\n",
       "  background-color: #bcd2f7;\n",
       "  color: #000000;\n",
       "}\n",
       "#T_19651_row2_col11 {\n",
       "  background-color: #bed2f6;\n",
       "  color: #000000;\n",
       "}\n",
       "#T_19651_row2_col12, #T_19651_row9_col0 {\n",
       "  background-color: #c9d7f0;\n",
       "  color: #000000;\n",
       "}\n",
       "#T_19651_row2_col13, #T_19651_row13_col8 {\n",
       "  background-color: #f0cdbb;\n",
       "  color: #000000;\n",
       "}\n",
       "#T_19651_row3_col0, #T_19651_row9_col12, #T_19651_row12_col10 {\n",
       "  background-color: #d9dce1;\n",
       "  color: #000000;\n",
       "}\n",
       "#T_19651_row3_col1 {\n",
       "  background-color: #5d7ce6;\n",
       "  color: #f1f1f1;\n",
       "}\n",
       "#T_19651_row3_col2, #T_19651_row5_col3 {\n",
       "  background-color: #84a7fc;\n",
       "  color: #f1f1f1;\n",
       "}\n",
       "#T_19651_row3_col4, #T_19651_row4_col10, #T_19651_row5_col12 {\n",
       "  background-color: #96b7ff;\n",
       "  color: #000000;\n",
       "}\n",
       "#T_19651_row3_col5 {\n",
       "  background-color: #7ea1fa;\n",
       "  color: #f1f1f1;\n",
       "}\n",
       "#T_19651_row3_col7 {\n",
       "  background-color: #92b4fe;\n",
       "  color: #000000;\n",
       "}\n",
       "#T_19651_row3_col8, #T_19651_row3_col12, #T_19651_row5_col10, #T_19651_row5_col11, #T_19651_row8_col11 {\n",
       "  background-color: #a6c4fe;\n",
       "  color: #000000;\n",
       "}\n",
       "#T_19651_row3_col10 {\n",
       "  background-color: #b3cdfb;\n",
       "  color: #000000;\n",
       "}\n",
       "#T_19651_row3_col11, #T_19651_row5_col7, #T_19651_row8_col1 {\n",
       "  background-color: #9abbff;\n",
       "  color: #000000;\n",
       "}\n",
       "#T_19651_row3_col13, #T_19651_row9_col2, #T_19651_row10_col0 {\n",
       "  background-color: #c0d4f5;\n",
       "  color: #000000;\n",
       "}\n",
       "#T_19651_row4_col0 {\n",
       "  background-color: #cad8ef;\n",
       "  color: #000000;\n",
       "}\n",
       "#T_19651_row4_col3, #T_19651_row9_col6 {\n",
       "  background-color: #7597f6;\n",
       "  color: #f1f1f1;\n",
       "}\n",
       "#T_19651_row4_col5 {\n",
       "  background-color: #4961d2;\n",
       "  color: #f1f1f1;\n",
       "}\n",
       "#T_19651_row4_col6, #T_19651_row6_col7, #T_19651_row6_col12, #T_19651_row9_col3, #T_19651_row13_col4 {\n",
       "  background-color: #88abfd;\n",
       "  color: #000000;\n",
       "}\n",
       "#T_19651_row4_col7, #T_19651_row4_col9 {\n",
       "  background-color: #9bbcff;\n",
       "  color: #000000;\n",
       "}\n",
       "#T_19651_row4_col11, #T_19651_row6_col2 {\n",
       "  background-color: #9fbfff;\n",
       "  color: #000000;\n",
       "}\n",
       "#T_19651_row4_col13 {\n",
       "  background-color: #b1cbfc;\n",
       "  color: #000000;\n",
       "}\n",
       "#T_19651_row5_col0 {\n",
       "  background-color: #b6cefa;\n",
       "  color: #000000;\n",
       "}\n",
       "#T_19651_row5_col1, #T_19651_row9_col4 {\n",
       "  background-color: #7da0f9;\n",
       "  color: #f1f1f1;\n",
       "}\n",
       "#T_19651_row5_col2 {\n",
       "  background-color: #82a6fb;\n",
       "  color: #f1f1f1;\n",
       "}\n",
       "#T_19651_row5_col6 {\n",
       "  background-color: #6788ee;\n",
       "  color: #f1f1f1;\n",
       "}\n",
       "#T_19651_row5_col8, #T_19651_row10_col11 {\n",
       "  background-color: #9dbdff;\n",
       "  color: #000000;\n",
       "}\n",
       "#T_19651_row5_col13, #T_19651_row6_col4, #T_19651_row6_col11 {\n",
       "  background-color: #a2c1ff;\n",
       "  color: #000000;\n",
       "}\n",
       "#T_19651_row6_col1, #T_19651_row12_col3 {\n",
       "  background-color: #7699f6;\n",
       "  color: #f1f1f1;\n",
       "}\n",
       "#T_19651_row6_col3, #T_19651_row10_col1, #T_19651_row11_col6 {\n",
       "  background-color: #7a9df8;\n",
       "  color: #f1f1f1;\n",
       "}\n",
       "#T_19651_row6_col5 {\n",
       "  background-color: #5a78e4;\n",
       "  color: #f1f1f1;\n",
       "}\n",
       "#T_19651_row6_col8 {\n",
       "  background-color: #abc8fd;\n",
       "  color: #000000;\n",
       "}\n",
       "#T_19651_row6_col10, #T_19651_row12_col0 {\n",
       "  background-color: #b7cff9;\n",
       "  color: #000000;\n",
       "}\n",
       "#T_19651_row6_col13, #T_19651_row12_col11 {\n",
       "  background-color: #c4d5f3;\n",
       "  color: #000000;\n",
       "}\n",
       "#T_19651_row7_col1 {\n",
       "  background-color: #6282ea;\n",
       "  color: #f1f1f1;\n",
       "}\n",
       "#T_19651_row7_col4, #T_19651_row10_col4 {\n",
       "  background-color: #6e90f2;\n",
       "  color: #f1f1f1;\n",
       "}\n",
       "#T_19651_row7_col5, #T_19651_row8_col7 {\n",
       "  background-color: #4358cb;\n",
       "  color: #f1f1f1;\n",
       "}\n",
       "#T_19651_row8_col0 {\n",
       "  background-color: #afcafc;\n",
       "  color: #000000;\n",
       "}\n",
       "#T_19651_row8_col2 {\n",
       "  background-color: #e6d7cf;\n",
       "  color: #000000;\n",
       "}\n",
       "#T_19651_row8_col3 {\n",
       "  background-color: #6180e9;\n",
       "  color: #f1f1f1;\n",
       "}\n",
       "#T_19651_row8_col4 {\n",
       "  background-color: #81a4fb;\n",
       "  color: #f1f1f1;\n",
       "}\n",
       "#T_19651_row8_col5, #T_19651_row13_col5 {\n",
       "  background-color: #4e68d8;\n",
       "  color: #f1f1f1;\n",
       "}\n",
       "#T_19651_row8_col9 {\n",
       "  background-color: #d5dbe5;\n",
       "  color: #000000;\n",
       "}\n",
       "#T_19651_row8_col10, #T_19651_row10_col8 {\n",
       "  background-color: #d3dbe7;\n",
       "  color: #000000;\n",
       "}\n",
       "#T_19651_row8_col12, #T_19651_row11_col9 {\n",
       "  background-color: #d6dce4;\n",
       "  color: #000000;\n",
       "}\n",
       "#T_19651_row8_col13 {\n",
       "  background-color: #f2cbb7;\n",
       "  color: #000000;\n",
       "}\n",
       "#T_19651_row9_col1 {\n",
       "  background-color: #8db0fe;\n",
       "  color: #000000;\n",
       "}\n",
       "#T_19651_row9_col5 {\n",
       "  background-color: #485fd1;\n",
       "  color: #f1f1f1;\n",
       "}\n",
       "#T_19651_row9_col7 {\n",
       "  background-color: #4a63d3;\n",
       "  color: #f1f1f1;\n",
       "}\n",
       "#T_19651_row9_col8, #T_19651_row12_col1 {\n",
       "  background-color: #d8dce2;\n",
       "  color: #000000;\n",
       "}\n",
       "#T_19651_row9_col10 {\n",
       "  background-color: #f7af91;\n",
       "  color: #000000;\n",
       "}\n",
       "#T_19651_row9_col11, #T_19651_row10_col12, #T_19651_row13_col0 {\n",
       "  background-color: #cdd9ec;\n",
       "  color: #000000;\n",
       "}\n",
       "#T_19651_row9_col13 {\n",
       "  background-color: #f1ccb8;\n",
       "  color: #000000;\n",
       "}\n",
       "#T_19651_row10_col2 {\n",
       "  background-color: #b5cdfa;\n",
       "  color: #000000;\n",
       "}\n",
       "#T_19651_row10_col3 {\n",
       "  background-color: #7093f3;\n",
       "  color: #f1f1f1;\n",
       "}\n",
       "#T_19651_row10_col6, #T_19651_row13_col3 {\n",
       "  background-color: #7b9ff9;\n",
       "  color: #f1f1f1;\n",
       "}\n",
       "#T_19651_row10_col7 {\n",
       "  background-color: #4055c8;\n",
       "  color: #f1f1f1;\n",
       "}\n",
       "#T_19651_row10_col9 {\n",
       "  background-color: #f7b194;\n",
       "  color: #000000;\n",
       "}\n",
       "#T_19651_row10_col13 {\n",
       "  background-color: #e5d8d1;\n",
       "  color: #000000;\n",
       "}\n",
       "#T_19651_row11_col0 {\n",
       "  background-color: #e7d7ce;\n",
       "  color: #000000;\n",
       "}\n",
       "#T_19651_row11_col1 {\n",
       "  background-color: #8badfd;\n",
       "  color: #000000;\n",
       "}\n",
       "#T_19651_row11_col2 {\n",
       "  background-color: #c7d7f0;\n",
       "  color: #000000;\n",
       "}\n",
       "#T_19651_row11_col4 {\n",
       "  background-color: #93b5fe;\n",
       "  color: #000000;\n",
       "}\n",
       "#T_19651_row11_col5, #T_19651_row12_col4 {\n",
       "  background-color: #7396f5;\n",
       "  color: #f1f1f1;\n",
       "}\n",
       "#T_19651_row11_col7, #T_19651_row12_col5 {\n",
       "  background-color: #5b7ae5;\n",
       "  color: #f1f1f1;\n",
       "}\n",
       "#T_19651_row11_col12 {\n",
       "  background-color: #c6d6f1;\n",
       "  color: #000000;\n",
       "}\n",
       "#T_19651_row11_col13 {\n",
       "  background-color: #f4c6af;\n",
       "  color: #000000;\n",
       "}\n",
       "#T_19651_row12_col6 {\n",
       "  background-color: #5977e3;\n",
       "  color: #f1f1f1;\n",
       "}\n",
       "#T_19651_row12_col8 {\n",
       "  background-color: #e0dbd8;\n",
       "  color: #000000;\n",
       "}\n",
       "#T_19651_row12_col9 {\n",
       "  background-color: #dfdbd9;\n",
       "  color: #000000;\n",
       "}\n",
       "#T_19651_row12_col13 {\n",
       "  background-color: #f7b89c;\n",
       "  color: #000000;\n",
       "}\n",
       "#T_19651_row13_col2 {\n",
       "  background-color: #ebd3c6;\n",
       "  color: #000000;\n",
       "}\n",
       "#T_19651_row13_col6 {\n",
       "  background-color: #86a9fc;\n",
       "  color: #f1f1f1;\n",
       "}\n",
       "#T_19651_row13_col9, #T_19651_row13_col11 {\n",
       "  background-color: #edd1c2;\n",
       "  color: #000000;\n",
       "}\n",
       "#T_19651_row13_col10 {\n",
       "  background-color: #e2dad5;\n",
       "  color: #000000;\n",
       "}\n",
       "#T_19651_row13_col12 {\n",
       "  background-color: #f5c2aa;\n",
       "  color: #000000;\n",
       "}\n",
       "</style>\n",
       "<table id=\"T_19651\">\n",
       "  <thead>\n",
       "    <tr>\n",
       "      <th class=\"blank level0\" >&nbsp;</th>\n",
       "      <th id=\"T_19651_level0_col0\" class=\"col_heading level0 col0\" >age</th>\n",
       "      <th id=\"T_19651_level0_col1\" class=\"col_heading level0 col1\" >sex</th>\n",
       "      <th id=\"T_19651_level0_col2\" class=\"col_heading level0 col2\" >cp</th>\n",
       "      <th id=\"T_19651_level0_col3\" class=\"col_heading level0 col3\" >trestbps</th>\n",
       "      <th id=\"T_19651_level0_col4\" class=\"col_heading level0 col4\" >chol</th>\n",
       "      <th id=\"T_19651_level0_col5\" class=\"col_heading level0 col5\" >fbs</th>\n",
       "      <th id=\"T_19651_level0_col6\" class=\"col_heading level0 col6\" >restecg</th>\n",
       "      <th id=\"T_19651_level0_col7\" class=\"col_heading level0 col7\" >thalach</th>\n",
       "      <th id=\"T_19651_level0_col8\" class=\"col_heading level0 col8\" >exang</th>\n",
       "      <th id=\"T_19651_level0_col9\" class=\"col_heading level0 col9\" >oldpeak</th>\n",
       "      <th id=\"T_19651_level0_col10\" class=\"col_heading level0 col10\" >slope</th>\n",
       "      <th id=\"T_19651_level0_col11\" class=\"col_heading level0 col11\" >ca</th>\n",
       "      <th id=\"T_19651_level0_col12\" class=\"col_heading level0 col12\" >thal</th>\n",
       "      <th id=\"T_19651_level0_col13\" class=\"col_heading level0 col13\" >num</th>\n",
       "    </tr>\n",
       "  </thead>\n",
       "  <tbody>\n",
       "    <tr>\n",
       "      <th id=\"T_19651_level0_row0\" class=\"row_heading level0 row0\" >age</th>\n",
       "      <td id=\"T_19651_row0_col0\" class=\"data row0 col0\" >1.000000</td>\n",
       "      <td id=\"T_19651_row0_col1\" class=\"data row0 col1\" >-0.097542</td>\n",
       "      <td id=\"T_19651_row0_col2\" class=\"data row0 col2\" >0.104139</td>\n",
       "      <td id=\"T_19651_row0_col3\" class=\"data row0 col3\" >0.284946</td>\n",
       "      <td id=\"T_19651_row0_col4\" class=\"data row0 col4\" >0.208950</td>\n",
       "      <td id=\"T_19651_row0_col5\" class=\"data row0 col5\" >0.118530</td>\n",
       "      <td id=\"T_19651_row0_col6\" class=\"data row0 col6\" >0.148868</td>\n",
       "      <td id=\"T_19651_row0_col7\" class=\"data row0 col7\" >-0.393806</td>\n",
       "      <td id=\"T_19651_row0_col8\" class=\"data row0 col8\" >0.091661</td>\n",
       "      <td id=\"T_19651_row0_col9\" class=\"data row0 col9\" >0.203805</td>\n",
       "      <td id=\"T_19651_row0_col10\" class=\"data row0 col10\" >0.161770</td>\n",
       "      <td id=\"T_19651_row0_col11\" class=\"data row0 col11\" >0.362605</td>\n",
       "      <td id=\"T_19651_row0_col12\" class=\"data row0 col12\" >0.127389</td>\n",
       "      <td id=\"T_19651_row0_col13\" class=\"data row0 col13\" >0.223120</td>\n",
       "    </tr>\n",
       "    <tr>\n",
       "      <th id=\"T_19651_level0_row1\" class=\"row_heading level0 row1\" >sex</th>\n",
       "      <td id=\"T_19651_row1_col0\" class=\"data row1 col0\" >-0.097542</td>\n",
       "      <td id=\"T_19651_row1_col1\" class=\"data row1 col1\" >1.000000</td>\n",
       "      <td id=\"T_19651_row1_col2\" class=\"data row1 col2\" >0.010084</td>\n",
       "      <td id=\"T_19651_row1_col3\" class=\"data row1 col3\" >-0.064456</td>\n",
       "      <td id=\"T_19651_row1_col4\" class=\"data row1 col4\" >-0.199915</td>\n",
       "      <td id=\"T_19651_row1_col5\" class=\"data row1 col5\" >0.047862</td>\n",
       "      <td id=\"T_19651_row1_col6\" class=\"data row1 col6\" >0.021647</td>\n",
       "      <td id=\"T_19651_row1_col7\" class=\"data row1 col7\" >-0.048663</td>\n",
       "      <td id=\"T_19651_row1_col8\" class=\"data row1 col8\" >0.146201</td>\n",
       "      <td id=\"T_19651_row1_col9\" class=\"data row1 col9\" >0.102173</td>\n",
       "      <td id=\"T_19651_row1_col10\" class=\"data row1 col10\" >0.037533</td>\n",
       "      <td id=\"T_19651_row1_col11\" class=\"data row1 col11\" >0.093185</td>\n",
       "      <td id=\"T_19651_row1_col12\" class=\"data row1 col12\" >0.380936</td>\n",
       "      <td id=\"T_19651_row1_col13\" class=\"data row1 col13\" >0.276816</td>\n",
       "    </tr>\n",
       "    <tr>\n",
       "      <th id=\"T_19651_level0_row2\" class=\"row_heading level0 row2\" >cp</th>\n",
       "      <td id=\"T_19651_row2_col0\" class=\"data row2 col0\" >0.104139</td>\n",
       "      <td id=\"T_19651_row2_col1\" class=\"data row2 col1\" >0.010084</td>\n",
       "      <td id=\"T_19651_row2_col2\" class=\"data row2 col2\" >1.000000</td>\n",
       "      <td id=\"T_19651_row2_col3\" class=\"data row2 col3\" >-0.036077</td>\n",
       "      <td id=\"T_19651_row2_col4\" class=\"data row2 col4\" >0.072319</td>\n",
       "      <td id=\"T_19651_row2_col5\" class=\"data row2 col5\" >-0.039975</td>\n",
       "      <td id=\"T_19651_row2_col6\" class=\"data row2 col6\" >0.067505</td>\n",
       "      <td id=\"T_19651_row2_col7\" class=\"data row2 col7\" >-0.334422</td>\n",
       "      <td id=\"T_19651_row2_col8\" class=\"data row2 col8\" >0.384060</td>\n",
       "      <td id=\"T_19651_row2_col9\" class=\"data row2 col9\" >0.202277</td>\n",
       "      <td id=\"T_19651_row2_col10\" class=\"data row2 col10\" >0.152050</td>\n",
       "      <td id=\"T_19651_row2_col11\" class=\"data row2 col11\" >0.233214</td>\n",
       "      <td id=\"T_19651_row2_col12\" class=\"data row2 col12\" >0.265246</td>\n",
       "      <td id=\"T_19651_row2_col13\" class=\"data row2 col13\" >0.414446</td>\n",
       "    </tr>\n",
       "    <tr>\n",
       "      <th id=\"T_19651_level0_row3\" class=\"row_heading level0 row3\" >trestbps</th>\n",
       "      <td id=\"T_19651_row3_col0\" class=\"data row3 col0\" >0.284946</td>\n",
       "      <td id=\"T_19651_row3_col1\" class=\"data row3 col1\" >-0.064456</td>\n",
       "      <td id=\"T_19651_row3_col2\" class=\"data row3 col2\" >-0.036077</td>\n",
       "      <td id=\"T_19651_row3_col3\" class=\"data row3 col3\" >1.000000</td>\n",
       "      <td id=\"T_19651_row3_col4\" class=\"data row3 col4\" >0.130120</td>\n",
       "      <td id=\"T_19651_row3_col5\" class=\"data row3 col5\" >0.175340</td>\n",
       "      <td id=\"T_19651_row3_col6\" class=\"data row3 col6\" >0.146560</td>\n",
       "      <td id=\"T_19651_row3_col7\" class=\"data row3 col7\" >-0.045351</td>\n",
       "      <td id=\"T_19651_row3_col8\" class=\"data row3 col8\" >0.064762</td>\n",
       "      <td id=\"T_19651_row3_col9\" class=\"data row3 col9\" >0.189171</td>\n",
       "      <td id=\"T_19651_row3_col10\" class=\"data row3 col10\" >0.117382</td>\n",
       "      <td id=\"T_19651_row3_col11\" class=\"data row3 col11\" >0.098773</td>\n",
       "      <td id=\"T_19651_row3_col12\" class=\"data row3 col12\" >0.133554</td>\n",
       "      <td id=\"T_19651_row3_col13\" class=\"data row3 col13\" >0.150825</td>\n",
       "    </tr>\n",
       "    <tr>\n",
       "      <th id=\"T_19651_level0_row4\" class=\"row_heading level0 row4\" >chol</th>\n",
       "      <td id=\"T_19651_row4_col0\" class=\"data row4 col0\" >0.208950</td>\n",
       "      <td id=\"T_19651_row4_col1\" class=\"data row4 col1\" >-0.199915</td>\n",
       "      <td id=\"T_19651_row4_col2\" class=\"data row4 col2\" >0.072319</td>\n",
       "      <td id=\"T_19651_row4_col3\" class=\"data row4 col3\" >0.130120</td>\n",
       "      <td id=\"T_19651_row4_col4\" class=\"data row4 col4\" >1.000000</td>\n",
       "      <td id=\"T_19651_row4_col5\" class=\"data row4 col5\" >0.009841</td>\n",
       "      <td id=\"T_19651_row4_col6\" class=\"data row4 col6\" >0.171043</td>\n",
       "      <td id=\"T_19651_row4_col7\" class=\"data row4 col7\" >-0.003432</td>\n",
       "      <td id=\"T_19651_row4_col8\" class=\"data row4 col8\" >0.061310</td>\n",
       "      <td id=\"T_19651_row4_col9\" class=\"data row4 col9\" >0.046564</td>\n",
       "      <td id=\"T_19651_row4_col10\" class=\"data row4 col10\" >-0.004062</td>\n",
       "      <td id=\"T_19651_row4_col11\" class=\"data row4 col11\" >0.119000</td>\n",
       "      <td id=\"T_19651_row4_col12\" class=\"data row4 col12\" >0.014214</td>\n",
       "      <td id=\"T_19651_row4_col13\" class=\"data row4 col13\" >0.085164</td>\n",
       "    </tr>\n",
       "    <tr>\n",
       "      <th id=\"T_19651_level0_row5\" class=\"row_heading level0 row5\" >fbs</th>\n",
       "      <td id=\"T_19651_row5_col0\" class=\"data row5 col0\" >0.118530</td>\n",
       "      <td id=\"T_19651_row5_col1\" class=\"data row5 col1\" >0.047862</td>\n",
       "      <td id=\"T_19651_row5_col2\" class=\"data row5 col2\" >-0.039975</td>\n",
       "      <td id=\"T_19651_row5_col3\" class=\"data row5 col3\" >0.175340</td>\n",
       "      <td id=\"T_19651_row5_col4\" class=\"data row5 col4\" >0.009841</td>\n",
       "      <td id=\"T_19651_row5_col5\" class=\"data row5 col5\" >1.000000</td>\n",
       "      <td id=\"T_19651_row5_col6\" class=\"data row5 col6\" >0.069564</td>\n",
       "      <td id=\"T_19651_row5_col7\" class=\"data row5 col7\" >-0.007854</td>\n",
       "      <td id=\"T_19651_row5_col8\" class=\"data row5 col8\" >0.025665</td>\n",
       "      <td id=\"T_19651_row5_col9\" class=\"data row5 col9\" >0.005747</td>\n",
       "      <td id=\"T_19651_row5_col10\" class=\"data row5 col10\" >0.059894</td>\n",
       "      <td id=\"T_19651_row5_col11\" class=\"data row5 col11\" >0.145478</td>\n",
       "      <td id=\"T_19651_row5_col12\" class=\"data row5 col12\" >0.071358</td>\n",
       "      <td id=\"T_19651_row5_col13\" class=\"data row5 col13\" >0.025264</td>\n",
       "    </tr>\n",
       "    <tr>\n",
       "      <th id=\"T_19651_level0_row6\" class=\"row_heading level0 row6\" >restecg</th>\n",
       "      <td id=\"T_19651_row6_col0\" class=\"data row6 col0\" >0.148868</td>\n",
       "      <td id=\"T_19651_row6_col1\" class=\"data row6 col1\" >0.021647</td>\n",
       "      <td id=\"T_19651_row6_col2\" class=\"data row6 col2\" >0.067505</td>\n",
       "      <td id=\"T_19651_row6_col3\" class=\"data row6 col3\" >0.146560</td>\n",
       "      <td id=\"T_19651_row6_col4\" class=\"data row6 col4\" >0.171043</td>\n",
       "      <td id=\"T_19651_row6_col5\" class=\"data row6 col5\" >0.069564</td>\n",
       "      <td id=\"T_19651_row6_col6\" class=\"data row6 col6\" >1.000000</td>\n",
       "      <td id=\"T_19651_row6_col7\" class=\"data row6 col7\" >-0.083389</td>\n",
       "      <td id=\"T_19651_row6_col8\" class=\"data row6 col8\" >0.084867</td>\n",
       "      <td id=\"T_19651_row6_col9\" class=\"data row6 col9\" >0.114133</td>\n",
       "      <td id=\"T_19651_row6_col10\" class=\"data row6 col10\" >0.133946</td>\n",
       "      <td id=\"T_19651_row6_col11\" class=\"data row6 col11\" >0.128343</td>\n",
       "      <td id=\"T_19651_row6_col12\" class=\"data row6 col12\" >0.024531</td>\n",
       "      <td id=\"T_19651_row6_col13\" class=\"data row6 col13\" >0.169202</td>\n",
       "    </tr>\n",
       "    <tr>\n",
       "      <th id=\"T_19651_level0_row7\" class=\"row_heading level0 row7\" >thalach</th>\n",
       "      <td id=\"T_19651_row7_col0\" class=\"data row7 col0\" >-0.393806</td>\n",
       "      <td id=\"T_19651_row7_col1\" class=\"data row7 col1\" >-0.048663</td>\n",
       "      <td id=\"T_19651_row7_col2\" class=\"data row7 col2\" >-0.334422</td>\n",
       "      <td id=\"T_19651_row7_col3\" class=\"data row7 col3\" >-0.045351</td>\n",
       "      <td id=\"T_19651_row7_col4\" class=\"data row7 col4\" >-0.003432</td>\n",
       "      <td id=\"T_19651_row7_col5\" class=\"data row7 col5\" >-0.007854</td>\n",
       "      <td id=\"T_19651_row7_col6\" class=\"data row7 col6\" >-0.083389</td>\n",
       "      <td id=\"T_19651_row7_col7\" class=\"data row7 col7\" >1.000000</td>\n",
       "      <td id=\"T_19651_row7_col8\" class=\"data row7 col8\" >-0.378103</td>\n",
       "      <td id=\"T_19651_row7_col9\" class=\"data row7 col9\" >-0.343085</td>\n",
       "      <td id=\"T_19651_row7_col10\" class=\"data row7 col10\" >-0.385601</td>\n",
       "      <td id=\"T_19651_row7_col11\" class=\"data row7 col11\" >-0.264246</td>\n",
       "      <td id=\"T_19651_row7_col12\" class=\"data row7 col12\" >-0.279631</td>\n",
       "      <td id=\"T_19651_row7_col13\" class=\"data row7 col13\" >-0.417167</td>\n",
       "    </tr>\n",
       "    <tr>\n",
       "      <th id=\"T_19651_level0_row8\" class=\"row_heading level0 row8\" >exang</th>\n",
       "      <td id=\"T_19651_row8_col0\" class=\"data row8 col0\" >0.091661</td>\n",
       "      <td id=\"T_19651_row8_col1\" class=\"data row8 col1\" >0.146201</td>\n",
       "      <td id=\"T_19651_row8_col2\" class=\"data row8 col2\" >0.384060</td>\n",
       "      <td id=\"T_19651_row8_col3\" class=\"data row8 col3\" >0.064762</td>\n",
       "      <td id=\"T_19651_row8_col4\" class=\"data row8 col4\" >0.061310</td>\n",
       "      <td id=\"T_19651_row8_col5\" class=\"data row8 col5\" >0.025665</td>\n",
       "      <td id=\"T_19651_row8_col6\" class=\"data row8 col6\" >0.084867</td>\n",
       "      <td id=\"T_19651_row8_col7\" class=\"data row8 col7\" >-0.378103</td>\n",
       "      <td id=\"T_19651_row8_col8\" class=\"data row8 col8\" >1.000000</td>\n",
       "      <td id=\"T_19651_row8_col9\" class=\"data row8 col9\" >0.288223</td>\n",
       "      <td id=\"T_19651_row8_col10\" class=\"data row8 col10\" >0.257748</td>\n",
       "      <td id=\"T_19651_row8_col11\" class=\"data row8 col11\" >0.145570</td>\n",
       "      <td id=\"T_19651_row8_col12\" class=\"data row8 col12\" >0.329680</td>\n",
       "      <td id=\"T_19651_row8_col13\" class=\"data row8 col13\" >0.431894</td>\n",
       "    </tr>\n",
       "    <tr>\n",
       "      <th id=\"T_19651_level0_row9\" class=\"row_heading level0 row9\" >oldpeak</th>\n",
       "      <td id=\"T_19651_row9_col0\" class=\"data row9 col0\" >0.203805</td>\n",
       "      <td id=\"T_19651_row9_col1\" class=\"data row9 col1\" >0.102173</td>\n",
       "      <td id=\"T_19651_row9_col2\" class=\"data row9 col2\" >0.202277</td>\n",
       "      <td id=\"T_19651_row9_col3\" class=\"data row9 col3\" >0.189171</td>\n",
       "      <td id=\"T_19651_row9_col4\" class=\"data row9 col4\" >0.046564</td>\n",
       "      <td id=\"T_19651_row9_col5\" class=\"data row9 col5\" >0.005747</td>\n",
       "      <td id=\"T_19651_row9_col6\" class=\"data row9 col6\" >0.114133</td>\n",
       "      <td id=\"T_19651_row9_col7\" class=\"data row9 col7\" >-0.343085</td>\n",
       "      <td id=\"T_19651_row9_col8\" class=\"data row9 col8\" >0.288223</td>\n",
       "      <td id=\"T_19651_row9_col9\" class=\"data row9 col9\" >1.000000</td>\n",
       "      <td id=\"T_19651_row9_col10\" class=\"data row9 col10\" >0.577537</td>\n",
       "      <td id=\"T_19651_row9_col11\" class=\"data row9 col11\" >0.295832</td>\n",
       "      <td id=\"T_19651_row9_col12\" class=\"data row9 col12\" >0.341004</td>\n",
       "      <td id=\"T_19651_row9_col13\" class=\"data row9 col13\" >0.424510</td>\n",
       "    </tr>\n",
       "    <tr>\n",
       "      <th id=\"T_19651_level0_row10\" class=\"row_heading level0 row10\" >slope</th>\n",
       "      <td id=\"T_19651_row10_col0\" class=\"data row10 col0\" >0.161770</td>\n",
       "      <td id=\"T_19651_row10_col1\" class=\"data row10 col1\" >0.037533</td>\n",
       "      <td id=\"T_19651_row10_col2\" class=\"data row10 col2\" >0.152050</td>\n",
       "      <td id=\"T_19651_row10_col3\" class=\"data row10 col3\" >0.117382</td>\n",
       "      <td id=\"T_19651_row10_col4\" class=\"data row10 col4\" >-0.004062</td>\n",
       "      <td id=\"T_19651_row10_col5\" class=\"data row10 col5\" >0.059894</td>\n",
       "      <td id=\"T_19651_row10_col6\" class=\"data row10 col6\" >0.133946</td>\n",
       "      <td id=\"T_19651_row10_col7\" class=\"data row10 col7\" >-0.385601</td>\n",
       "      <td id=\"T_19651_row10_col8\" class=\"data row10 col8\" >0.257748</td>\n",
       "      <td id=\"T_19651_row10_col9\" class=\"data row10 col9\" >0.577537</td>\n",
       "      <td id=\"T_19651_row10_col10\" class=\"data row10 col10\" >1.000000</td>\n",
       "      <td id=\"T_19651_row10_col11\" class=\"data row10 col11\" >0.110119</td>\n",
       "      <td id=\"T_19651_row10_col12\" class=\"data row10 col12\" >0.287232</td>\n",
       "      <td id=\"T_19651_row10_col13\" class=\"data row10 col13\" >0.339213</td>\n",
       "    </tr>\n",
       "    <tr>\n",
       "      <th id=\"T_19651_level0_row11\" class=\"row_heading level0 row11\" >ca</th>\n",
       "      <td id=\"T_19651_row11_col0\" class=\"data row11 col0\" >0.362605</td>\n",
       "      <td id=\"T_19651_row11_col1\" class=\"data row11 col1\" >0.093185</td>\n",
       "      <td id=\"T_19651_row11_col2\" class=\"data row11 col2\" >0.233214</td>\n",
       "      <td id=\"T_19651_row11_col3\" class=\"data row11 col3\" >0.098773</td>\n",
       "      <td id=\"T_19651_row11_col4\" class=\"data row11 col4\" >0.119000</td>\n",
       "      <td id=\"T_19651_row11_col5\" class=\"data row11 col5\" >0.145478</td>\n",
       "      <td id=\"T_19651_row11_col6\" class=\"data row11 col6\" >0.128343</td>\n",
       "      <td id=\"T_19651_row11_col7\" class=\"data row11 col7\" >-0.264246</td>\n",
       "      <td id=\"T_19651_row11_col8\" class=\"data row11 col8\" >0.145570</td>\n",
       "      <td id=\"T_19651_row11_col9\" class=\"data row11 col9\" >0.295832</td>\n",
       "      <td id=\"T_19651_row11_col10\" class=\"data row11 col10\" >0.110119</td>\n",
       "      <td id=\"T_19651_row11_col11\" class=\"data row11 col11\" >1.000000</td>\n",
       "      <td id=\"T_19651_row11_col12\" class=\"data row11 col12\" >0.256382</td>\n",
       "      <td id=\"T_19651_row11_col13\" class=\"data row11 col13\" >0.460442</td>\n",
       "    </tr>\n",
       "    <tr>\n",
       "      <th id=\"T_19651_level0_row12\" class=\"row_heading level0 row12\" >thal</th>\n",
       "      <td id=\"T_19651_row12_col0\" class=\"data row12 col0\" >0.127389</td>\n",
       "      <td id=\"T_19651_row12_col1\" class=\"data row12 col1\" >0.380936</td>\n",
       "      <td id=\"T_19651_row12_col2\" class=\"data row12 col2\" >0.265246</td>\n",
       "      <td id=\"T_19651_row12_col3\" class=\"data row12 col3\" >0.133554</td>\n",
       "      <td id=\"T_19651_row12_col4\" class=\"data row12 col4\" >0.014214</td>\n",
       "      <td id=\"T_19651_row12_col5\" class=\"data row12 col5\" >0.071358</td>\n",
       "      <td id=\"T_19651_row12_col6\" class=\"data row12 col6\" >0.024531</td>\n",
       "      <td id=\"T_19651_row12_col7\" class=\"data row12 col7\" >-0.279631</td>\n",
       "      <td id=\"T_19651_row12_col8\" class=\"data row12 col8\" >0.329680</td>\n",
       "      <td id=\"T_19651_row12_col9\" class=\"data row12 col9\" >0.341004</td>\n",
       "      <td id=\"T_19651_row12_col10\" class=\"data row12 col10\" >0.287232</td>\n",
       "      <td id=\"T_19651_row12_col11\" class=\"data row12 col11\" >0.256382</td>\n",
       "      <td id=\"T_19651_row12_col12\" class=\"data row12 col12\" >1.000000</td>\n",
       "      <td id=\"T_19651_row12_col13\" class=\"data row12 col13\" >0.525689</td>\n",
       "    </tr>\n",
       "    <tr>\n",
       "      <th id=\"T_19651_level0_row13\" class=\"row_heading level0 row13\" >num</th>\n",
       "      <td id=\"T_19651_row13_col0\" class=\"data row13 col0\" >0.223120</td>\n",
       "      <td id=\"T_19651_row13_col1\" class=\"data row13 col1\" >0.276816</td>\n",
       "      <td id=\"T_19651_row13_col2\" class=\"data row13 col2\" >0.414446</td>\n",
       "      <td id=\"T_19651_row13_col3\" class=\"data row13 col3\" >0.150825</td>\n",
       "      <td id=\"T_19651_row13_col4\" class=\"data row13 col4\" >0.085164</td>\n",
       "      <td id=\"T_19651_row13_col5\" class=\"data row13 col5\" >0.025264</td>\n",
       "      <td id=\"T_19651_row13_col6\" class=\"data row13 col6\" >0.169202</td>\n",
       "      <td id=\"T_19651_row13_col7\" class=\"data row13 col7\" >-0.417167</td>\n",
       "      <td id=\"T_19651_row13_col8\" class=\"data row13 col8\" >0.431894</td>\n",
       "      <td id=\"T_19651_row13_col9\" class=\"data row13 col9\" >0.424510</td>\n",
       "      <td id=\"T_19651_row13_col10\" class=\"data row13 col10\" >0.339213</td>\n",
       "      <td id=\"T_19651_row13_col11\" class=\"data row13 col11\" >0.460442</td>\n",
       "      <td id=\"T_19651_row13_col12\" class=\"data row13 col12\" >0.525689</td>\n",
       "      <td id=\"T_19651_row13_col13\" class=\"data row13 col13\" >1.000000</td>\n",
       "    </tr>\n",
       "  </tbody>\n",
       "</table>\n"
      ],
      "text/plain": [
       "<pandas.io.formats.style.Styler at 0x7f2e820470d0>"
      ]
     },
     "execution_count": 123,
     "metadata": {},
     "output_type": "execute_result"
    }
   ],
   "source": [
    "#correlation matirx on data frame \n",
    "corr = heart_disease.corr()\n",
    "corr.style.background_gradient(cmap='coolwarm')"
   ]
  },
  {
   "cell_type": "markdown",
   "id": "9c1045a0-405e-42bd-8573-8190b6b778d9",
   "metadata": {},
   "source": [
    "***Fig.15***: Correlation Matrix: Visualizing the Relationship Between Features in the Heart Disease Dataset Using a Coolwarm Color Gradient."
   ]
  },
  {
   "cell_type": "code",
   "execution_count": 124,
   "id": "4221154d-87b4-4557-bca8-92e3603d3a94",
   "metadata": {
    "tags": []
   },
   "outputs": [
    {
     "data": {
      "text/html": [
       "<div>\n",
       "<style scoped>\n",
       "    .dataframe tbody tr th:only-of-type {\n",
       "        vertical-align: middle;\n",
       "    }\n",
       "\n",
       "    .dataframe tbody tr th {\n",
       "        vertical-align: top;\n",
       "    }\n",
       "\n",
       "    .dataframe thead th {\n",
       "        text-align: right;\n",
       "    }\n",
       "</style>\n",
       "<table border=\"1\" class=\"dataframe\">\n",
       "  <thead>\n",
       "    <tr style=\"text-align: right;\">\n",
       "      <th></th>\n",
       "      <th>trestbps</th>\n",
       "      <th>chol</th>\n",
       "      <th>thalach</th>\n",
       "      <th>thal</th>\n",
       "      <th>num</th>\n",
       "    </tr>\n",
       "  </thead>\n",
       "  <tbody>\n",
       "    <tr>\n",
       "      <th>0</th>\n",
       "      <td>145</td>\n",
       "      <td>233</td>\n",
       "      <td>150</td>\n",
       "      <td>6.0</td>\n",
       "      <td>0</td>\n",
       "    </tr>\n",
       "    <tr>\n",
       "      <th>1</th>\n",
       "      <td>160</td>\n",
       "      <td>286</td>\n",
       "      <td>108</td>\n",
       "      <td>3.0</td>\n",
       "      <td>1</td>\n",
       "    </tr>\n",
       "    <tr>\n",
       "      <th>2</th>\n",
       "      <td>120</td>\n",
       "      <td>229</td>\n",
       "      <td>129</td>\n",
       "      <td>7.0</td>\n",
       "      <td>1</td>\n",
       "    </tr>\n",
       "    <tr>\n",
       "      <th>3</th>\n",
       "      <td>130</td>\n",
       "      <td>250</td>\n",
       "      <td>187</td>\n",
       "      <td>3.0</td>\n",
       "      <td>0</td>\n",
       "    </tr>\n",
       "    <tr>\n",
       "      <th>4</th>\n",
       "      <td>130</td>\n",
       "      <td>204</td>\n",
       "      <td>172</td>\n",
       "      <td>3.0</td>\n",
       "      <td>0</td>\n",
       "    </tr>\n",
       "    <tr>\n",
       "      <th>...</th>\n",
       "      <td>...</td>\n",
       "      <td>...</td>\n",
       "      <td>...</td>\n",
       "      <td>...</td>\n",
       "      <td>...</td>\n",
       "    </tr>\n",
       "    <tr>\n",
       "      <th>298</th>\n",
       "      <td>110</td>\n",
       "      <td>264</td>\n",
       "      <td>132</td>\n",
       "      <td>7.0</td>\n",
       "      <td>1</td>\n",
       "    </tr>\n",
       "    <tr>\n",
       "      <th>299</th>\n",
       "      <td>144</td>\n",
       "      <td>193</td>\n",
       "      <td>141</td>\n",
       "      <td>7.0</td>\n",
       "      <td>1</td>\n",
       "    </tr>\n",
       "    <tr>\n",
       "      <th>300</th>\n",
       "      <td>130</td>\n",
       "      <td>131</td>\n",
       "      <td>115</td>\n",
       "      <td>7.0</td>\n",
       "      <td>1</td>\n",
       "    </tr>\n",
       "    <tr>\n",
       "      <th>301</th>\n",
       "      <td>130</td>\n",
       "      <td>236</td>\n",
       "      <td>174</td>\n",
       "      <td>3.0</td>\n",
       "      <td>1</td>\n",
       "    </tr>\n",
       "    <tr>\n",
       "      <th>302</th>\n",
       "      <td>138</td>\n",
       "      <td>175</td>\n",
       "      <td>173</td>\n",
       "      <td>3.0</td>\n",
       "      <td>0</td>\n",
       "    </tr>\n",
       "  </tbody>\n",
       "</table>\n",
       "<p>303 rows × 5 columns</p>\n",
       "</div>"
      ],
      "text/plain": [
       "     trestbps  chol  thalach  thal  num\n",
       "0         145   233      150   6.0    0\n",
       "1         160   286      108   3.0    1\n",
       "2         120   229      129   7.0    1\n",
       "3         130   250      187   3.0    0\n",
       "4         130   204      172   3.0    0\n",
       "..        ...   ...      ...   ...  ...\n",
       "298       110   264      132   7.0    1\n",
       "299       144   193      141   7.0    1\n",
       "300       130   131      115   7.0    1\n",
       "301       130   236      174   3.0    1\n",
       "302       138   175      173   3.0    0\n",
       "\n",
       "[303 rows x 5 columns]"
      ]
     },
     "execution_count": 124,
     "metadata": {},
     "output_type": "execute_result"
    }
   ],
   "source": [
    "clean_heart_disease= heart_disease \n",
    "clean_heart_disease = clean_heart_disease.drop(['age', \"sex\",\"slope\", \"oldpeak\",\"exang\", \"cp\", \"fbs\", \"restecg\", \"ca\"], axis = 1)\n",
    "clean_heart_disease"
   ]
  },
  {
   "cell_type": "markdown",
   "id": "9abec918-9777-4a61-ae5f-1a803c1cbc5b",
   "metadata": {},
   "source": [
    "***Table 6***: Cleaned Heart Disease Dataset: A Subset of the Original Dataset with Selected Columns Dropped for Simplified Analysis."
   ]
  },
  {
   "cell_type": "code",
   "execution_count": 125,
   "id": "9cbf07d2-e943-4d4e-8fe1-42ae4caad818",
   "metadata": {
    "tags": []
   },
   "outputs": [
    {
     "data": {
      "text/html": [
       "\n",
       "<style>\n",
       "  #altair-viz-280859727c9d46bdb397c89ab6db794d.vega-embed {\n",
       "    width: 100%;\n",
       "    display: flex;\n",
       "  }\n",
       "\n",
       "  #altair-viz-280859727c9d46bdb397c89ab6db794d.vega-embed details,\n",
       "  #altair-viz-280859727c9d46bdb397c89ab6db794d.vega-embed details summary {\n",
       "    position: relative;\n",
       "  }\n",
       "</style>\n",
       "<div id=\"altair-viz-280859727c9d46bdb397c89ab6db794d\"></div>\n",
       "<script type=\"text/javascript\">\n",
       "  var VEGA_DEBUG = (typeof VEGA_DEBUG == \"undefined\") ? {} : VEGA_DEBUG;\n",
       "  (function(spec, embedOpt){\n",
       "    let outputDiv = document.currentScript.previousElementSibling;\n",
       "    if (outputDiv.id !== \"altair-viz-280859727c9d46bdb397c89ab6db794d\") {\n",
       "      outputDiv = document.getElementById(\"altair-viz-280859727c9d46bdb397c89ab6db794d\");\n",
       "    }\n",
       "    const paths = {\n",
       "      \"vega\": \"https://cdn.jsdelivr.net/npm/vega@5?noext\",\n",
       "      \"vega-lib\": \"https://cdn.jsdelivr.net/npm/vega-lib?noext\",\n",
       "      \"vega-lite\": \"https://cdn.jsdelivr.net/npm/vega-lite@5.16.3?noext\",\n",
       "      \"vega-embed\": \"https://cdn.jsdelivr.net/npm/vega-embed@6?noext\",\n",
       "    };\n",
       "\n",
       "    function maybeLoadScript(lib, version) {\n",
       "      var key = `${lib.replace(\"-\", \"\")}_version`;\n",
       "      return (VEGA_DEBUG[key] == version) ?\n",
       "        Promise.resolve(paths[lib]) :\n",
       "        new Promise(function(resolve, reject) {\n",
       "          var s = document.createElement('script');\n",
       "          document.getElementsByTagName(\"head\")[0].appendChild(s);\n",
       "          s.async = true;\n",
       "          s.onload = () => {\n",
       "            VEGA_DEBUG[key] = version;\n",
       "            return resolve(paths[lib]);\n",
       "          };\n",
       "          s.onerror = () => reject(`Error loading script: ${paths[lib]}`);\n",
       "          s.src = paths[lib];\n",
       "        });\n",
       "    }\n",
       "\n",
       "    function showError(err) {\n",
       "      outputDiv.innerHTML = `<div class=\"error\" style=\"color:red;\">${err}</div>`;\n",
       "      throw err;\n",
       "    }\n",
       "\n",
       "    function displayChart(vegaEmbed) {\n",
       "      vegaEmbed(outputDiv, spec, embedOpt)\n",
       "        .catch(err => showError(`Javascript Error: ${err.message}<br>This usually means there's a typo in your chart specification. See the javascript console for the full traceback.`));\n",
       "    }\n",
       "\n",
       "    if(typeof define === \"function\" && define.amd) {\n",
       "      requirejs.config({paths});\n",
       "      require([\"vega-embed\"], displayChart, err => showError(`Error loading script: ${err.message}`));\n",
       "    } else {\n",
       "      maybeLoadScript(\"vega\", \"5\")\n",
       "        .then(() => maybeLoadScript(\"vega-lite\", \"5.16.3\"))\n",
       "        .then(() => maybeLoadScript(\"vega-embed\", \"6\"))\n",
       "        .catch(showError)\n",
       "        .then(() => displayChart(vegaEmbed));\n",
       "    }\n",
       "  })({\"config\": {\"view\": {\"continuousWidth\": 300, \"continuousHeight\": 300}}, \"data\": {\"name\": \"data-727cf400ba6425c270c06be88e9d8bb7\"}, \"mark\": {\"type\": \"circle\", \"opacity\": 0.7}, \"encoding\": {\"color\": {\"field\": \"num\", \"title\": \"Heart Disease Symptoms\", \"type\": \"nominal\"}, \"x\": {\"field\": \"thalach\", \"title\": \"Maximum heart rate achieved(bpm\", \"type\": \"quantitative\"}, \"y\": {\"field\": \"chol\", \"title\": \"Serum Cholestoral (mg/dl)\", \"type\": \"quantitative\"}}, \"title\": \"Relationship between Serum Cholestoral and Maximum heart rate achieved\", \"$schema\": \"https://vega.github.io/schema/vega-lite/v5.16.3.json\", \"datasets\": {\"data-727cf400ba6425c270c06be88e9d8bb7\": [{\"trestbps\": 145, \"chol\": 233, \"thalach\": 150, \"thal\": 6.0, \"num\": 0}, {\"trestbps\": 160, \"chol\": 286, \"thalach\": 108, \"thal\": 3.0, \"num\": 1}, {\"trestbps\": 120, \"chol\": 229, \"thalach\": 129, \"thal\": 7.0, \"num\": 1}, {\"trestbps\": 130, \"chol\": 250, \"thalach\": 187, \"thal\": 3.0, \"num\": 0}, {\"trestbps\": 130, \"chol\": 204, \"thalach\": 172, \"thal\": 3.0, \"num\": 0}, {\"trestbps\": 120, \"chol\": 236, \"thalach\": 178, \"thal\": 3.0, \"num\": 0}, {\"trestbps\": 140, \"chol\": 268, \"thalach\": 160, \"thal\": 3.0, \"num\": 1}, {\"trestbps\": 120, \"chol\": 354, \"thalach\": 163, \"thal\": 3.0, \"num\": 0}, {\"trestbps\": 130, \"chol\": 254, \"thalach\": 147, \"thal\": 7.0, \"num\": 1}, {\"trestbps\": 140, \"chol\": 203, \"thalach\": 155, \"thal\": 7.0, \"num\": 1}, {\"trestbps\": 140, \"chol\": 192, \"thalach\": 148, \"thal\": 6.0, \"num\": 0}, {\"trestbps\": 140, \"chol\": 294, \"thalach\": 153, \"thal\": 3.0, \"num\": 0}, {\"trestbps\": 130, \"chol\": 256, \"thalach\": 142, \"thal\": 6.0, \"num\": 1}, {\"trestbps\": 120, \"chol\": 263, \"thalach\": 173, \"thal\": 7.0, \"num\": 0}, {\"trestbps\": 172, \"chol\": 199, \"thalach\": 162, \"thal\": 7.0, \"num\": 0}, {\"trestbps\": 150, \"chol\": 168, \"thalach\": 174, \"thal\": 3.0, \"num\": 0}, {\"trestbps\": 110, \"chol\": 229, \"thalach\": 168, \"thal\": 7.0, \"num\": 1}, {\"trestbps\": 140, \"chol\": 239, \"thalach\": 160, \"thal\": 3.0, \"num\": 0}, {\"trestbps\": 130, \"chol\": 275, \"thalach\": 139, \"thal\": 3.0, \"num\": 0}, {\"trestbps\": 130, \"chol\": 266, \"thalach\": 171, \"thal\": 3.0, \"num\": 0}, {\"trestbps\": 110, \"chol\": 211, \"thalach\": 144, \"thal\": 3.0, \"num\": 0}, {\"trestbps\": 150, \"chol\": 283, \"thalach\": 162, \"thal\": 3.0, \"num\": 0}, {\"trestbps\": 120, \"chol\": 284, \"thalach\": 160, \"thal\": 3.0, \"num\": 1}, {\"trestbps\": 132, \"chol\": 224, \"thalach\": 173, \"thal\": 7.0, \"num\": 1}, {\"trestbps\": 130, \"chol\": 206, \"thalach\": 132, \"thal\": 7.0, \"num\": 1}, {\"trestbps\": 120, \"chol\": 219, \"thalach\": 158, \"thal\": 3.0, \"num\": 0}, {\"trestbps\": 120, \"chol\": 340, \"thalach\": 172, \"thal\": 3.0, \"num\": 0}, {\"trestbps\": 150, \"chol\": 226, \"thalach\": 114, \"thal\": 3.0, \"num\": 0}, {\"trestbps\": 150, \"chol\": 247, \"thalach\": 171, \"thal\": 3.0, \"num\": 0}, {\"trestbps\": 110, \"chol\": 167, \"thalach\": 114, \"thal\": 7.0, \"num\": 1}, {\"trestbps\": 140, \"chol\": 239, \"thalach\": 151, \"thal\": 3.0, \"num\": 0}, {\"trestbps\": 117, \"chol\": 230, \"thalach\": 160, \"thal\": 7.0, \"num\": 1}, {\"trestbps\": 140, \"chol\": 335, \"thalach\": 158, \"thal\": 3.0, \"num\": 1}, {\"trestbps\": 135, \"chol\": 234, \"thalach\": 161, \"thal\": 7.0, \"num\": 0}, {\"trestbps\": 130, \"chol\": 233, \"thalach\": 179, \"thal\": 3.0, \"num\": 0}, {\"trestbps\": 140, \"chol\": 226, \"thalach\": 178, \"thal\": 3.0, \"num\": 0}, {\"trestbps\": 120, \"chol\": 177, \"thalach\": 120, \"thal\": 7.0, \"num\": 1}, {\"trestbps\": 150, \"chol\": 276, \"thalach\": 112, \"thal\": 6.0, \"num\": 1}, {\"trestbps\": 132, \"chol\": 353, \"thalach\": 132, \"thal\": 7.0, \"num\": 1}, {\"trestbps\": 150, \"chol\": 243, \"thalach\": 137, \"thal\": 3.0, \"num\": 0}, {\"trestbps\": 150, \"chol\": 225, \"thalach\": 114, \"thal\": 7.0, \"num\": 1}, {\"trestbps\": 140, \"chol\": 199, \"thalach\": 178, \"thal\": 7.0, \"num\": 0}, {\"trestbps\": 160, \"chol\": 302, \"thalach\": 162, \"thal\": 3.0, \"num\": 0}, {\"trestbps\": 150, \"chol\": 212, \"thalach\": 157, \"thal\": 3.0, \"num\": 0}, {\"trestbps\": 130, \"chol\": 330, \"thalach\": 169, \"thal\": 3.0, \"num\": 1}, {\"trestbps\": 112, \"chol\": 230, \"thalach\": 165, \"thal\": 7.0, \"num\": 1}, {\"trestbps\": 110, \"chol\": 175, \"thalach\": 123, \"thal\": 3.0, \"num\": 0}, {\"trestbps\": 150, \"chol\": 243, \"thalach\": 128, \"thal\": 7.0, \"num\": 1}, {\"trestbps\": 140, \"chol\": 417, \"thalach\": 157, \"thal\": 3.0, \"num\": 0}, {\"trestbps\": 130, \"chol\": 197, \"thalach\": 152, \"thal\": 3.0, \"num\": 0}, {\"trestbps\": 105, \"chol\": 198, \"thalach\": 168, \"thal\": 3.0, \"num\": 0}, {\"trestbps\": 120, \"chol\": 177, \"thalach\": 140, \"thal\": 7.0, \"num\": 0}, {\"trestbps\": 112, \"chol\": 290, \"thalach\": 153, \"thal\": 3.0, \"num\": 1}, {\"trestbps\": 130, \"chol\": 219, \"thalach\": 188, \"thal\": 3.0, \"num\": 0}, {\"trestbps\": 130, \"chol\": 253, \"thalach\": 144, \"thal\": 7.0, \"num\": 1}, {\"trestbps\": 124, \"chol\": 266, \"thalach\": 109, \"thal\": 7.0, \"num\": 1}, {\"trestbps\": 140, \"chol\": 233, \"thalach\": 163, \"thal\": 7.0, \"num\": 1}, {\"trestbps\": 110, \"chol\": 172, \"thalach\": 158, \"thal\": 7.0, \"num\": 1}, {\"trestbps\": 125, \"chol\": 273, \"thalach\": 152, \"thal\": 3.0, \"num\": 0}, {\"trestbps\": 125, \"chol\": 213, \"thalach\": 125, \"thal\": 3.0, \"num\": 0}, {\"trestbps\": 130, \"chol\": 305, \"thalach\": 142, \"thal\": 7.0, \"num\": 1}, {\"trestbps\": 142, \"chol\": 177, \"thalach\": 160, \"thal\": 3.0, \"num\": 0}, {\"trestbps\": 128, \"chol\": 216, \"thalach\": 131, \"thal\": 7.0, \"num\": 1}, {\"trestbps\": 135, \"chol\": 304, \"thalach\": 170, \"thal\": 3.0, \"num\": 0}, {\"trestbps\": 120, \"chol\": 188, \"thalach\": 113, \"thal\": 7.0, \"num\": 1}, {\"trestbps\": 145, \"chol\": 282, \"thalach\": 142, \"thal\": 7.0, \"num\": 1}, {\"trestbps\": 140, \"chol\": 185, \"thalach\": 155, \"thal\": 3.0, \"num\": 1}, {\"trestbps\": 150, \"chol\": 232, \"thalach\": 165, \"thal\": 7.0, \"num\": 0}, {\"trestbps\": 170, \"chol\": 326, \"thalach\": 140, \"thal\": 7.0, \"num\": 1}, {\"trestbps\": 150, \"chol\": 231, \"thalach\": 147, \"thal\": 3.0, \"num\": 1}, {\"trestbps\": 155, \"chol\": 269, \"thalach\": 148, \"thal\": 3.0, \"num\": 0}, {\"trestbps\": 125, \"chol\": 254, \"thalach\": 163, \"thal\": 7.0, \"num\": 1}, {\"trestbps\": 120, \"chol\": 267, \"thalach\": 99, \"thal\": 7.0, \"num\": 1}, {\"trestbps\": 110, \"chol\": 248, \"thalach\": 158, \"thal\": 6.0, \"num\": 1}, {\"trestbps\": 110, \"chol\": 197, \"thalach\": 177, \"thal\": 3.0, \"num\": 1}, {\"trestbps\": 160, \"chol\": 360, \"thalach\": 151, \"thal\": 3.0, \"num\": 0}, {\"trestbps\": 125, \"chol\": 258, \"thalach\": 141, \"thal\": 7.0, \"num\": 1}, {\"trestbps\": 140, \"chol\": 308, \"thalach\": 142, \"thal\": 3.0, \"num\": 0}, {\"trestbps\": 130, \"chol\": 245, \"thalach\": 180, \"thal\": 3.0, \"num\": 0}, {\"trestbps\": 150, \"chol\": 270, \"thalach\": 111, \"thal\": 7.0, \"num\": 1}, {\"trestbps\": 104, \"chol\": 208, \"thalach\": 148, \"thal\": 3.0, \"num\": 0}, {\"trestbps\": 130, \"chol\": 264, \"thalach\": 143, \"thal\": 3.0, \"num\": 0}, {\"trestbps\": 140, \"chol\": 321, \"thalach\": 182, \"thal\": 3.0, \"num\": 0}, {\"trestbps\": 180, \"chol\": 274, \"thalach\": 150, \"thal\": 7.0, \"num\": 1}, {\"trestbps\": 120, \"chol\": 325, \"thalach\": 172, \"thal\": 3.0, \"num\": 0}, {\"trestbps\": 140, \"chol\": 235, \"thalach\": 180, \"thal\": 3.0, \"num\": 0}, {\"trestbps\": 138, \"chol\": 257, \"thalach\": 156, \"thal\": 3.0, \"num\": 0}, {\"trestbps\": 128, \"chol\": 216, \"thalach\": 115, \"thal\": null, \"num\": 0}, {\"trestbps\": 138, \"chol\": 234, \"thalach\": 160, \"thal\": 3.0, \"num\": 0}, {\"trestbps\": 130, \"chol\": 256, \"thalach\": 149, \"thal\": 3.0, \"num\": 0}, {\"trestbps\": 120, \"chol\": 302, \"thalach\": 151, \"thal\": 3.0, \"num\": 0}, {\"trestbps\": 160, \"chol\": 164, \"thalach\": 145, \"thal\": 7.0, \"num\": 1}, {\"trestbps\": 130, \"chol\": 231, \"thalach\": 146, \"thal\": 7.0, \"num\": 0}, {\"trestbps\": 108, \"chol\": 141, \"thalach\": 175, \"thal\": 3.0, \"num\": 0}, {\"trestbps\": 135, \"chol\": 252, \"thalach\": 172, \"thal\": 3.0, \"num\": 0}, {\"trestbps\": 128, \"chol\": 255, \"thalach\": 161, \"thal\": 7.0, \"num\": 1}, {\"trestbps\": 110, \"chol\": 239, \"thalach\": 142, \"thal\": 7.0, \"num\": 1}, {\"trestbps\": 150, \"chol\": 258, \"thalach\": 157, \"thal\": 7.0, \"num\": 1}, {\"trestbps\": 134, \"chol\": 201, \"thalach\": 158, \"thal\": 3.0, \"num\": 0}, {\"trestbps\": 122, \"chol\": 222, \"thalach\": 186, \"thal\": 3.0, \"num\": 0}, {\"trestbps\": 115, \"chol\": 260, \"thalach\": 185, \"thal\": 3.0, \"num\": 0}, {\"trestbps\": 118, \"chol\": 182, \"thalach\": 174, \"thal\": 3.0, \"num\": 0}, {\"trestbps\": 128, \"chol\": 303, \"thalach\": 159, \"thal\": 3.0, \"num\": 0}, {\"trestbps\": 110, \"chol\": 265, \"thalach\": 130, \"thal\": 3.0, \"num\": 0}, {\"trestbps\": 120, \"chol\": 188, \"thalach\": 139, \"thal\": 7.0, \"num\": 1}, {\"trestbps\": 108, \"chol\": 309, \"thalach\": 156, \"thal\": 7.0, \"num\": 0}, {\"trestbps\": 140, \"chol\": 177, \"thalach\": 162, \"thal\": 7.0, \"num\": 1}, {\"trestbps\": 128, \"chol\": 229, \"thalach\": 150, \"thal\": 7.0, \"num\": 1}, {\"trestbps\": 120, \"chol\": 260, \"thalach\": 140, \"thal\": 7.0, \"num\": 1}, {\"trestbps\": 118, \"chol\": 219, \"thalach\": 140, \"thal\": 7.0, \"num\": 1}, {\"trestbps\": 145, \"chol\": 307, \"thalach\": 146, \"thal\": 7.0, \"num\": 1}, {\"trestbps\": 125, \"chol\": 249, \"thalach\": 144, \"thal\": 3.0, \"num\": 1}, {\"trestbps\": 118, \"chol\": 186, \"thalach\": 190, \"thal\": 6.0, \"num\": 0}, {\"trestbps\": 132, \"chol\": 341, \"thalach\": 136, \"thal\": 7.0, \"num\": 1}, {\"trestbps\": 130, \"chol\": 263, \"thalach\": 97, \"thal\": 7.0, \"num\": 1}, {\"trestbps\": 135, \"chol\": 203, \"thalach\": 132, \"thal\": 6.0, \"num\": 0}, {\"trestbps\": 140, \"chol\": 211, \"thalach\": 165, \"thal\": 3.0, \"num\": 0}, {\"trestbps\": 138, \"chol\": 183, \"thalach\": 182, \"thal\": 3.0, \"num\": 0}, {\"trestbps\": 130, \"chol\": 330, \"thalach\": 132, \"thal\": 7.0, \"num\": 1}, {\"trestbps\": 135, \"chol\": 254, \"thalach\": 127, \"thal\": 7.0, \"num\": 1}, {\"trestbps\": 130, \"chol\": 256, \"thalach\": 150, \"thal\": 7.0, \"num\": 1}, {\"trestbps\": 150, \"chol\": 407, \"thalach\": 154, \"thal\": 7.0, \"num\": 1}, {\"trestbps\": 100, \"chol\": 222, \"thalach\": 143, \"thal\": 3.0, \"num\": 0}, {\"trestbps\": 140, \"chol\": 217, \"thalach\": 111, \"thal\": 7.0, \"num\": 1}, {\"trestbps\": 138, \"chol\": 282, \"thalach\": 174, \"thal\": 3.0, \"num\": 1}, {\"trestbps\": 130, \"chol\": 234, \"thalach\": 175, \"thal\": 3.0, \"num\": 0}, {\"trestbps\": 200, \"chol\": 288, \"thalach\": 133, \"thal\": 7.0, \"num\": 1}, {\"trestbps\": 110, \"chol\": 239, \"thalach\": 126, \"thal\": 7.0, \"num\": 1}, {\"trestbps\": 120, \"chol\": 220, \"thalach\": 170, \"thal\": 3.0, \"num\": 0}, {\"trestbps\": 124, \"chol\": 209, \"thalach\": 163, \"thal\": 3.0, \"num\": 0}, {\"trestbps\": 120, \"chol\": 258, \"thalach\": 147, \"thal\": 7.0, \"num\": 0}, {\"trestbps\": 94, \"chol\": 227, \"thalach\": 154, \"thal\": 7.0, \"num\": 0}, {\"trestbps\": 130, \"chol\": 204, \"thalach\": 202, \"thal\": 3.0, \"num\": 0}, {\"trestbps\": 140, \"chol\": 261, \"thalach\": 186, \"thal\": 3.0, \"num\": 0}, {\"trestbps\": 122, \"chol\": 213, \"thalach\": 165, \"thal\": 3.0, \"num\": 0}, {\"trestbps\": 135, \"chol\": 250, \"thalach\": 161, \"thal\": 3.0, \"num\": 0}, {\"trestbps\": 145, \"chol\": 174, \"thalach\": 125, \"thal\": 7.0, \"num\": 1}, {\"trestbps\": 120, \"chol\": 281, \"thalach\": 103, \"thal\": 7.0, \"num\": 1}, {\"trestbps\": 120, \"chol\": 198, \"thalach\": 130, \"thal\": 7.0, \"num\": 1}, {\"trestbps\": 125, \"chol\": 245, \"thalach\": 166, \"thal\": 3.0, \"num\": 0}, {\"trestbps\": 140, \"chol\": 221, \"thalach\": 164, \"thal\": 3.0, \"num\": 0}, {\"trestbps\": 170, \"chol\": 288, \"thalach\": 159, \"thal\": 7.0, \"num\": 1}, {\"trestbps\": 128, \"chol\": 205, \"thalach\": 184, \"thal\": 3.0, \"num\": 0}, {\"trestbps\": 125, \"chol\": 309, \"thalach\": 131, \"thal\": 7.0, \"num\": 1}, {\"trestbps\": 105, \"chol\": 240, \"thalach\": 154, \"thal\": 7.0, \"num\": 0}, {\"trestbps\": 108, \"chol\": 243, \"thalach\": 152, \"thal\": 3.0, \"num\": 1}, {\"trestbps\": 165, \"chol\": 289, \"thalach\": 124, \"thal\": 7.0, \"num\": 1}, {\"trestbps\": 112, \"chol\": 250, \"thalach\": 179, \"thal\": 3.0, \"num\": 0}, {\"trestbps\": 128, \"chol\": 308, \"thalach\": 170, \"thal\": 3.0, \"num\": 0}, {\"trestbps\": 102, \"chol\": 318, \"thalach\": 160, \"thal\": 3.0, \"num\": 0}, {\"trestbps\": 152, \"chol\": 298, \"thalach\": 178, \"thal\": 7.0, \"num\": 0}, {\"trestbps\": 102, \"chol\": 265, \"thalach\": 122, \"thal\": 3.0, \"num\": 0}, {\"trestbps\": 115, \"chol\": 564, \"thalach\": 160, \"thal\": 7.0, \"num\": 0}, {\"trestbps\": 160, \"chol\": 289, \"thalach\": 145, \"thal\": 7.0, \"num\": 1}, {\"trestbps\": 120, \"chol\": 246, \"thalach\": 96, \"thal\": 3.0, \"num\": 1}, {\"trestbps\": 130, \"chol\": 322, \"thalach\": 109, \"thal\": 3.0, \"num\": 1}, {\"trestbps\": 140, \"chol\": 299, \"thalach\": 173, \"thal\": 7.0, \"num\": 1}, {\"trestbps\": 125, \"chol\": 300, \"thalach\": 171, \"thal\": 7.0, \"num\": 1}, {\"trestbps\": 140, \"chol\": 293, \"thalach\": 170, \"thal\": 7.0, \"num\": 1}, {\"trestbps\": 118, \"chol\": 277, \"thalach\": 151, \"thal\": 7.0, \"num\": 0}, {\"trestbps\": 101, \"chol\": 197, \"thalach\": 156, \"thal\": 7.0, \"num\": 0}, {\"trestbps\": 125, \"chol\": 304, \"thalach\": 162, \"thal\": 3.0, \"num\": 1}, {\"trestbps\": 110, \"chol\": 214, \"thalach\": 158, \"thal\": 3.0, \"num\": 0}, {\"trestbps\": 100, \"chol\": 248, \"thalach\": 122, \"thal\": 3.0, \"num\": 0}, {\"trestbps\": 124, \"chol\": 255, \"thalach\": 175, \"thal\": 3.0, \"num\": 0}, {\"trestbps\": 132, \"chol\": 207, \"thalach\": 168, \"thal\": 7.0, \"num\": 0}, {\"trestbps\": 138, \"chol\": 223, \"thalach\": 169, \"thal\": 3.0, \"num\": 0}, {\"trestbps\": 132, \"chol\": 288, \"thalach\": 159, \"thal\": 3.0, \"num\": 0}, {\"trestbps\": 126, \"chol\": 282, \"thalach\": 156, \"thal\": 7.0, \"num\": 1}, {\"trestbps\": 112, \"chol\": 160, \"thalach\": 138, \"thal\": 3.0, \"num\": 0}, {\"trestbps\": 160, \"chol\": 269, \"thalach\": 112, \"thal\": 7.0, \"num\": 1}, {\"trestbps\": 142, \"chol\": 226, \"thalach\": 111, \"thal\": 7.0, \"num\": 0}, {\"trestbps\": 174, \"chol\": 249, \"thalach\": 143, \"thal\": 3.0, \"num\": 1}, {\"trestbps\": 140, \"chol\": 394, \"thalach\": 157, \"thal\": 3.0, \"num\": 0}, {\"trestbps\": 145, \"chol\": 212, \"thalach\": 132, \"thal\": 6.0, \"num\": 1}, {\"trestbps\": 152, \"chol\": 274, \"thalach\": 88, \"thal\": 7.0, \"num\": 1}, {\"trestbps\": 108, \"chol\": 233, \"thalach\": 147, \"thal\": 7.0, \"num\": 0}, {\"trestbps\": 132, \"chol\": 184, \"thalach\": 105, \"thal\": 6.0, \"num\": 1}, {\"trestbps\": 130, \"chol\": 315, \"thalach\": 162, \"thal\": 3.0, \"num\": 0}, {\"trestbps\": 130, \"chol\": 246, \"thalach\": 173, \"thal\": 3.0, \"num\": 0}, {\"trestbps\": 124, \"chol\": 274, \"thalach\": 166, \"thal\": 7.0, \"num\": 1}, {\"trestbps\": 134, \"chol\": 409, \"thalach\": 150, \"thal\": 7.0, \"num\": 1}, {\"trestbps\": 148, \"chol\": 244, \"thalach\": 178, \"thal\": 3.0, \"num\": 0}, {\"trestbps\": 178, \"chol\": 270, \"thalach\": 145, \"thal\": 7.0, \"num\": 0}, {\"trestbps\": 158, \"chol\": 305, \"thalach\": 161, \"thal\": 3.0, \"num\": 1}, {\"trestbps\": 140, \"chol\": 195, \"thalach\": 179, \"thal\": 3.0, \"num\": 0}, {\"trestbps\": 120, \"chol\": 240, \"thalach\": 194, \"thal\": 7.0, \"num\": 0}, {\"trestbps\": 160, \"chol\": 246, \"thalach\": 120, \"thal\": 6.0, \"num\": 1}, {\"trestbps\": 192, \"chol\": 283, \"thalach\": 195, \"thal\": 7.0, \"num\": 1}, {\"trestbps\": 140, \"chol\": 254, \"thalach\": 146, \"thal\": 7.0, \"num\": 1}, {\"trestbps\": 129, \"chol\": 196, \"thalach\": 163, \"thal\": 3.0, \"num\": 0}, {\"trestbps\": 140, \"chol\": 298, \"thalach\": 122, \"thal\": 7.0, \"num\": 1}, {\"trestbps\": 132, \"chol\": 247, \"thalach\": 143, \"thal\": 7.0, \"num\": 1}, {\"trestbps\": 138, \"chol\": 294, \"thalach\": 106, \"thal\": 3.0, \"num\": 1}, {\"trestbps\": 120, \"chol\": 211, \"thalach\": 115, \"thal\": 3.0, \"num\": 0}, {\"trestbps\": 100, \"chol\": 299, \"thalach\": 125, \"thal\": 3.0, \"num\": 1}, {\"trestbps\": 160, \"chol\": 234, \"thalach\": 131, \"thal\": 3.0, \"num\": 0}, {\"trestbps\": 138, \"chol\": 236, \"thalach\": 152, \"thal\": 3.0, \"num\": 0}, {\"trestbps\": 120, \"chol\": 244, \"thalach\": 162, \"thal\": 3.0, \"num\": 0}, {\"trestbps\": 160, \"chol\": 273, \"thalach\": 125, \"thal\": 3.0, \"num\": 1}, {\"trestbps\": 110, \"chol\": 254, \"thalach\": 159, \"thal\": 3.0, \"num\": 0}, {\"trestbps\": 180, \"chol\": 325, \"thalach\": 154, \"thal\": 3.0, \"num\": 0}, {\"trestbps\": 150, \"chol\": 126, \"thalach\": 173, \"thal\": 7.0, \"num\": 0}, {\"trestbps\": 140, \"chol\": 313, \"thalach\": 133, \"thal\": 7.0, \"num\": 0}, {\"trestbps\": 110, \"chol\": 211, \"thalach\": 161, \"thal\": 7.0, \"num\": 0}, {\"trestbps\": 142, \"chol\": 309, \"thalach\": 147, \"thal\": 7.0, \"num\": 1}, {\"trestbps\": 128, \"chol\": 259, \"thalach\": 130, \"thal\": 7.0, \"num\": 1}, {\"trestbps\": 144, \"chol\": 200, \"thalach\": 126, \"thal\": 7.0, \"num\": 1}, {\"trestbps\": 130, \"chol\": 262, \"thalach\": 155, \"thal\": 3.0, \"num\": 0}, {\"trestbps\": 150, \"chol\": 244, \"thalach\": 154, \"thal\": 3.0, \"num\": 1}, {\"trestbps\": 120, \"chol\": 215, \"thalach\": 170, \"thal\": 3.0, \"num\": 0}, {\"trestbps\": 120, \"chol\": 231, \"thalach\": 182, \"thal\": 7.0, \"num\": 1}, {\"trestbps\": 130, \"chol\": 214, \"thalach\": 168, \"thal\": 3.0, \"num\": 0}, {\"trestbps\": 178, \"chol\": 228, \"thalach\": 165, \"thal\": 7.0, \"num\": 1}, {\"trestbps\": 112, \"chol\": 230, \"thalach\": 160, \"thal\": 3.0, \"num\": 1}, {\"trestbps\": 120, \"chol\": 193, \"thalach\": 162, \"thal\": 7.0, \"num\": 0}, {\"trestbps\": 105, \"chol\": 204, \"thalach\": 172, \"thal\": 3.0, \"num\": 0}, {\"trestbps\": 138, \"chol\": 243, \"thalach\": 152, \"thal\": 3.0, \"num\": 0}, {\"trestbps\": 130, \"chol\": 303, \"thalach\": 122, \"thal\": 3.0, \"num\": 0}, {\"trestbps\": 138, \"chol\": 271, \"thalach\": 182, \"thal\": 3.0, \"num\": 0}, {\"trestbps\": 112, \"chol\": 268, \"thalach\": 172, \"thal\": 3.0, \"num\": 0}, {\"trestbps\": 108, \"chol\": 267, \"thalach\": 167, \"thal\": 3.0, \"num\": 0}, {\"trestbps\": 94, \"chol\": 199, \"thalach\": 179, \"thal\": 3.0, \"num\": 0}, {\"trestbps\": 123, \"chol\": 282, \"thalach\": 95, \"thal\": 7.0, \"num\": 1}, {\"trestbps\": 108, \"chol\": 269, \"thalach\": 169, \"thal\": 3.0, \"num\": 1}, {\"trestbps\": 118, \"chol\": 210, \"thalach\": 192, \"thal\": 3.0, \"num\": 0}, {\"trestbps\": 112, \"chol\": 204, \"thalach\": 143, \"thal\": 3.0, \"num\": 0}, {\"trestbps\": 152, \"chol\": 277, \"thalach\": 172, \"thal\": 3.0, \"num\": 0}, {\"trestbps\": 110, \"chol\": 206, \"thalach\": 108, \"thal\": 3.0, \"num\": 1}, {\"trestbps\": 112, \"chol\": 212, \"thalach\": 132, \"thal\": 3.0, \"num\": 1}, {\"trestbps\": 136, \"chol\": 196, \"thalach\": 169, \"thal\": 3.0, \"num\": 0}, {\"trestbps\": 180, \"chol\": 327, \"thalach\": 117, \"thal\": 3.0, \"num\": 1}, {\"trestbps\": 118, \"chol\": 149, \"thalach\": 126, \"thal\": 3.0, \"num\": 1}, {\"trestbps\": 120, \"chol\": 269, \"thalach\": 121, \"thal\": 3.0, \"num\": 0}, {\"trestbps\": 160, \"chol\": 201, \"thalach\": 163, \"thal\": 3.0, \"num\": 0}, {\"trestbps\": 122, \"chol\": 286, \"thalach\": 116, \"thal\": 3.0, \"num\": 1}, {\"trestbps\": 130, \"chol\": 283, \"thalach\": 103, \"thal\": 7.0, \"num\": 1}, {\"trestbps\": 120, \"chol\": 249, \"thalach\": 144, \"thal\": 7.0, \"num\": 1}, {\"trestbps\": 134, \"chol\": 271, \"thalach\": 162, \"thal\": 3.0, \"num\": 0}, {\"trestbps\": 120, \"chol\": 295, \"thalach\": 162, \"thal\": 3.0, \"num\": 0}, {\"trestbps\": 110, \"chol\": 235, \"thalach\": 153, \"thal\": 3.0, \"num\": 0}, {\"trestbps\": 126, \"chol\": 306, \"thalach\": 163, \"thal\": 3.0, \"num\": 0}, {\"trestbps\": 130, \"chol\": 269, \"thalach\": 163, \"thal\": 3.0, \"num\": 0}, {\"trestbps\": 134, \"chol\": 234, \"thalach\": 145, \"thal\": 3.0, \"num\": 1}, {\"trestbps\": 120, \"chol\": 178, \"thalach\": 96, \"thal\": 3.0, \"num\": 0}, {\"trestbps\": 120, \"chol\": 237, \"thalach\": 71, \"thal\": 3.0, \"num\": 1}, {\"trestbps\": 100, \"chol\": 234, \"thalach\": 156, \"thal\": 7.0, \"num\": 1}, {\"trestbps\": 110, \"chol\": 275, \"thalach\": 118, \"thal\": 3.0, \"num\": 1}, {\"trestbps\": 125, \"chol\": 212, \"thalach\": 168, \"thal\": 7.0, \"num\": 1}, {\"trestbps\": 128, \"chol\": 208, \"thalach\": 140, \"thal\": 3.0, \"num\": 0}, {\"trestbps\": 110, \"chol\": 201, \"thalach\": 126, \"thal\": 6.0, \"num\": 0}, {\"trestbps\": 146, \"chol\": 218, \"thalach\": 105, \"thal\": 7.0, \"num\": 1}, {\"trestbps\": 128, \"chol\": 263, \"thalach\": 105, \"thal\": 7.0, \"num\": 0}, {\"trestbps\": 120, \"chol\": 295, \"thalach\": 157, \"thal\": 3.0, \"num\": 0}, {\"trestbps\": 115, \"chol\": 303, \"thalach\": 181, \"thal\": 3.0, \"num\": 0}, {\"trestbps\": 120, \"chol\": 209, \"thalach\": 173, \"thal\": 3.0, \"num\": 0}, {\"trestbps\": 106, \"chol\": 223, \"thalach\": 142, \"thal\": 3.0, \"num\": 0}, {\"trestbps\": 140, \"chol\": 197, \"thalach\": 116, \"thal\": 3.0, \"num\": 0}, {\"trestbps\": 156, \"chol\": 245, \"thalach\": 143, \"thal\": 3.0, \"num\": 0}, {\"trestbps\": 124, \"chol\": 261, \"thalach\": 141, \"thal\": 7.0, \"num\": 1}, {\"trestbps\": 118, \"chol\": 242, \"thalach\": 149, \"thal\": 3.0, \"num\": 0}, {\"trestbps\": 136, \"chol\": 319, \"thalach\": 152, \"thal\": 3.0, \"num\": 1}, {\"trestbps\": 150, \"chol\": 240, \"thalach\": 171, \"thal\": 3.0, \"num\": 0}, {\"trestbps\": 120, \"chol\": 226, \"thalach\": 169, \"thal\": 3.0, \"num\": 0}, {\"trestbps\": 138, \"chol\": 166, \"thalach\": 125, \"thal\": 3.0, \"num\": 1}, {\"trestbps\": 136, \"chol\": 315, \"thalach\": 125, \"thal\": 6.0, \"num\": 1}, {\"trestbps\": 128, \"chol\": 204, \"thalach\": 156, \"thal\": null, \"num\": 1}, {\"trestbps\": 126, \"chol\": 218, \"thalach\": 134, \"thal\": 6.0, \"num\": 1}, {\"trestbps\": 152, \"chol\": 223, \"thalach\": 181, \"thal\": 7.0, \"num\": 1}, {\"trestbps\": 130, \"chol\": 180, \"thalach\": 150, \"thal\": 3.0, \"num\": 0}, {\"trestbps\": 140, \"chol\": 207, \"thalach\": 138, \"thal\": 7.0, \"num\": 1}, {\"trestbps\": 160, \"chol\": 228, \"thalach\": 138, \"thal\": 6.0, \"num\": 0}, {\"trestbps\": 140, \"chol\": 311, \"thalach\": 120, \"thal\": 7.0, \"num\": 1}, {\"trestbps\": 112, \"chol\": 149, \"thalach\": 125, \"thal\": 3.0, \"num\": 0}, {\"trestbps\": 134, \"chol\": 204, \"thalach\": 162, \"thal\": 3.0, \"num\": 1}, {\"trestbps\": 170, \"chol\": 227, \"thalach\": 155, \"thal\": 7.0, \"num\": 0}, {\"trestbps\": 146, \"chol\": 278, \"thalach\": 152, \"thal\": 3.0, \"num\": 0}, {\"trestbps\": 138, \"chol\": 220, \"thalach\": 152, \"thal\": 3.0, \"num\": 0}, {\"trestbps\": 154, \"chol\": 232, \"thalach\": 164, \"thal\": 3.0, \"num\": 1}, {\"trestbps\": 130, \"chol\": 197, \"thalach\": 131, \"thal\": 3.0, \"num\": 0}, {\"trestbps\": 110, \"chol\": 335, \"thalach\": 143, \"thal\": 7.0, \"num\": 1}, {\"trestbps\": 130, \"chol\": 253, \"thalach\": 179, \"thal\": 3.0, \"num\": 0}, {\"trestbps\": 128, \"chol\": 205, \"thalach\": 130, \"thal\": 7.0, \"num\": 1}, {\"trestbps\": 122, \"chol\": 192, \"thalach\": 174, \"thal\": 3.0, \"num\": 0}, {\"trestbps\": 148, \"chol\": 203, \"thalach\": 161, \"thal\": 7.0, \"num\": 1}, {\"trestbps\": 114, \"chol\": 318, \"thalach\": 140, \"thal\": 6.0, \"num\": 1}, {\"trestbps\": 170, \"chol\": 225, \"thalach\": 146, \"thal\": 6.0, \"num\": 1}, {\"trestbps\": 125, \"chol\": 220, \"thalach\": 144, \"thal\": 7.0, \"num\": 0}, {\"trestbps\": 130, \"chol\": 221, \"thalach\": 163, \"thal\": 7.0, \"num\": 0}, {\"trestbps\": 120, \"chol\": 240, \"thalach\": 169, \"thal\": 3.0, \"num\": 0}, {\"trestbps\": 152, \"chol\": 212, \"thalach\": 150, \"thal\": 7.0, \"num\": 1}, {\"trestbps\": 132, \"chol\": 342, \"thalach\": 166, \"thal\": 3.0, \"num\": 0}, {\"trestbps\": 120, \"chol\": 169, \"thalach\": 144, \"thal\": 6.0, \"num\": 1}, {\"trestbps\": 140, \"chol\": 187, \"thalach\": 144, \"thal\": 7.0, \"num\": 1}, {\"trestbps\": 124, \"chol\": 197, \"thalach\": 136, \"thal\": 3.0, \"num\": 1}, {\"trestbps\": 120, \"chol\": 157, \"thalach\": 182, \"thal\": 3.0, \"num\": 0}, {\"trestbps\": 164, \"chol\": 176, \"thalach\": 90, \"thal\": 6.0, \"num\": 1}, {\"trestbps\": 140, \"chol\": 241, \"thalach\": 123, \"thal\": 7.0, \"num\": 1}, {\"trestbps\": 110, \"chol\": 264, \"thalach\": 132, \"thal\": 7.0, \"num\": 1}, {\"trestbps\": 144, \"chol\": 193, \"thalach\": 141, \"thal\": 7.0, \"num\": 1}, {\"trestbps\": 130, \"chol\": 131, \"thalach\": 115, \"thal\": 7.0, \"num\": 1}, {\"trestbps\": 130, \"chol\": 236, \"thalach\": 174, \"thal\": 3.0, \"num\": 1}, {\"trestbps\": 138, \"chol\": 175, \"thalach\": 173, \"thal\": 3.0, \"num\": 0}]}}, {\"mode\": \"vega-lite\"});\n",
       "</script>"
      ],
      "text/plain": [
       "alt.Chart(...)"
      ]
     },
     "execution_count": 125,
     "metadata": {},
     "output_type": "execute_result"
    }
   ],
   "source": [
    "#looking at other combos starting with thalach\n",
    "#exploring relationship between chol and Thalach bps for diagnosis\n",
    "\n",
    "thal_chol_plot = alt.Chart(clean_heart_disease).mark_circle(opacity =0.7).encode(\n",
    "    x=alt.X(\"thalach\").title(\"Maximum heart rate achieved(bpm\"),\n",
    "    y=alt.Y(\"chol\").title(\"Serum Cholestoral (mg/dl)\"),\n",
    "    color=alt.Color(\"num:N\").title(\"Heart Disease Symptoms\")\n",
    ").properties(title='Relationship between Serum Cholestoral and Maximum heart rate achieved')\n",
    "thal_chol_plot\n"
   ]
  },
  {
   "cell_type": "markdown",
   "id": "aeaf9958-4429-4347-9852-fa021df742b7",
   "metadata": {},
   "source": [
    "***Fig. 16***: Scatter Plot of the Relationship between Serum Cholesterol and Maximum Heart Rate Achieved colour-coded by presence/absence Heart Disease symptoms."
   ]
  },
  {
   "cell_type": "code",
   "execution_count": 127,
   "id": "f440b679-6833-4881-9edd-d2a441dee513",
   "metadata": {
    "tags": []
   },
   "outputs": [
    {
     "data": {
      "text/html": [
       "\n",
       "<style>\n",
       "  #altair-viz-924d49fc75744ea1980df0c8de0d9367.vega-embed {\n",
       "    width: 100%;\n",
       "    display: flex;\n",
       "  }\n",
       "\n",
       "  #altair-viz-924d49fc75744ea1980df0c8de0d9367.vega-embed details,\n",
       "  #altair-viz-924d49fc75744ea1980df0c8de0d9367.vega-embed details summary {\n",
       "    position: relative;\n",
       "  }\n",
       "</style>\n",
       "<div id=\"altair-viz-924d49fc75744ea1980df0c8de0d9367\"></div>\n",
       "<script type=\"text/javascript\">\n",
       "  var VEGA_DEBUG = (typeof VEGA_DEBUG == \"undefined\") ? {} : VEGA_DEBUG;\n",
       "  (function(spec, embedOpt){\n",
       "    let outputDiv = document.currentScript.previousElementSibling;\n",
       "    if (outputDiv.id !== \"altair-viz-924d49fc75744ea1980df0c8de0d9367\") {\n",
       "      outputDiv = document.getElementById(\"altair-viz-924d49fc75744ea1980df0c8de0d9367\");\n",
       "    }\n",
       "    const paths = {\n",
       "      \"vega\": \"https://cdn.jsdelivr.net/npm/vega@5?noext\",\n",
       "      \"vega-lib\": \"https://cdn.jsdelivr.net/npm/vega-lib?noext\",\n",
       "      \"vega-lite\": \"https://cdn.jsdelivr.net/npm/vega-lite@5.16.3?noext\",\n",
       "      \"vega-embed\": \"https://cdn.jsdelivr.net/npm/vega-embed@6?noext\",\n",
       "    };\n",
       "\n",
       "    function maybeLoadScript(lib, version) {\n",
       "      var key = `${lib.replace(\"-\", \"\")}_version`;\n",
       "      return (VEGA_DEBUG[key] == version) ?\n",
       "        Promise.resolve(paths[lib]) :\n",
       "        new Promise(function(resolve, reject) {\n",
       "          var s = document.createElement('script');\n",
       "          document.getElementsByTagName(\"head\")[0].appendChild(s);\n",
       "          s.async = true;\n",
       "          s.onload = () => {\n",
       "            VEGA_DEBUG[key] = version;\n",
       "            return resolve(paths[lib]);\n",
       "          };\n",
       "          s.onerror = () => reject(`Error loading script: ${paths[lib]}`);\n",
       "          s.src = paths[lib];\n",
       "        });\n",
       "    }\n",
       "\n",
       "    function showError(err) {\n",
       "      outputDiv.innerHTML = `<div class=\"error\" style=\"color:red;\">${err}</div>`;\n",
       "      throw err;\n",
       "    }\n",
       "\n",
       "    function displayChart(vegaEmbed) {\n",
       "      vegaEmbed(outputDiv, spec, embedOpt)\n",
       "        .catch(err => showError(`Javascript Error: ${err.message}<br>This usually means there's a typo in your chart specification. See the javascript console for the full traceback.`));\n",
       "    }\n",
       "\n",
       "    if(typeof define === \"function\" && define.amd) {\n",
       "      requirejs.config({paths});\n",
       "      require([\"vega-embed\"], displayChart, err => showError(`Error loading script: ${err.message}`));\n",
       "    } else {\n",
       "      maybeLoadScript(\"vega\", \"5\")\n",
       "        .then(() => maybeLoadScript(\"vega-lite\", \"5.16.3\"))\n",
       "        .then(() => maybeLoadScript(\"vega-embed\", \"6\"))\n",
       "        .catch(showError)\n",
       "        .then(() => displayChart(vegaEmbed));\n",
       "    }\n",
       "  })({\"config\": {\"view\": {\"continuousWidth\": 300, \"continuousHeight\": 300}}, \"data\": {\"name\": \"data-727cf400ba6425c270c06be88e9d8bb7\"}, \"mark\": {\"type\": \"circle\", \"opacity\": 0.7}, \"encoding\": {\"color\": {\"field\": \"num\", \"title\": \"Heart Disease Symptoms\", \"type\": \"nominal\"}, \"x\": {\"field\": \"thalach\", \"title\": \"Maximum heart rate achieved(bpm)\", \"type\": \"quantitative\"}, \"y\": {\"field\": \"trestbps\", \"title\": \"Resting blood pressure(mmHg)\", \"type\": \"quantitative\"}}, \"title\": \"Relationship between the Maximum heart rate and Resting blood pressure\", \"$schema\": \"https://vega.github.io/schema/vega-lite/v5.16.3.json\", \"datasets\": {\"data-727cf400ba6425c270c06be88e9d8bb7\": [{\"trestbps\": 145, \"chol\": 233, \"thalach\": 150, \"thal\": 6.0, \"num\": 0}, {\"trestbps\": 160, \"chol\": 286, \"thalach\": 108, \"thal\": 3.0, \"num\": 1}, {\"trestbps\": 120, \"chol\": 229, \"thalach\": 129, \"thal\": 7.0, \"num\": 1}, {\"trestbps\": 130, \"chol\": 250, \"thalach\": 187, \"thal\": 3.0, \"num\": 0}, {\"trestbps\": 130, \"chol\": 204, \"thalach\": 172, \"thal\": 3.0, \"num\": 0}, {\"trestbps\": 120, \"chol\": 236, \"thalach\": 178, \"thal\": 3.0, \"num\": 0}, {\"trestbps\": 140, \"chol\": 268, \"thalach\": 160, \"thal\": 3.0, \"num\": 1}, {\"trestbps\": 120, \"chol\": 354, \"thalach\": 163, \"thal\": 3.0, \"num\": 0}, {\"trestbps\": 130, \"chol\": 254, \"thalach\": 147, \"thal\": 7.0, \"num\": 1}, {\"trestbps\": 140, \"chol\": 203, \"thalach\": 155, \"thal\": 7.0, \"num\": 1}, {\"trestbps\": 140, \"chol\": 192, \"thalach\": 148, \"thal\": 6.0, \"num\": 0}, {\"trestbps\": 140, \"chol\": 294, \"thalach\": 153, \"thal\": 3.0, \"num\": 0}, {\"trestbps\": 130, \"chol\": 256, \"thalach\": 142, \"thal\": 6.0, \"num\": 1}, {\"trestbps\": 120, \"chol\": 263, \"thalach\": 173, \"thal\": 7.0, \"num\": 0}, {\"trestbps\": 172, \"chol\": 199, \"thalach\": 162, \"thal\": 7.0, \"num\": 0}, {\"trestbps\": 150, \"chol\": 168, \"thalach\": 174, \"thal\": 3.0, \"num\": 0}, {\"trestbps\": 110, \"chol\": 229, \"thalach\": 168, \"thal\": 7.0, \"num\": 1}, {\"trestbps\": 140, \"chol\": 239, \"thalach\": 160, \"thal\": 3.0, \"num\": 0}, {\"trestbps\": 130, \"chol\": 275, \"thalach\": 139, \"thal\": 3.0, \"num\": 0}, {\"trestbps\": 130, \"chol\": 266, \"thalach\": 171, \"thal\": 3.0, \"num\": 0}, {\"trestbps\": 110, \"chol\": 211, \"thalach\": 144, \"thal\": 3.0, \"num\": 0}, {\"trestbps\": 150, \"chol\": 283, \"thalach\": 162, \"thal\": 3.0, \"num\": 0}, {\"trestbps\": 120, \"chol\": 284, \"thalach\": 160, \"thal\": 3.0, \"num\": 1}, {\"trestbps\": 132, \"chol\": 224, \"thalach\": 173, \"thal\": 7.0, \"num\": 1}, {\"trestbps\": 130, \"chol\": 206, \"thalach\": 132, \"thal\": 7.0, \"num\": 1}, {\"trestbps\": 120, \"chol\": 219, \"thalach\": 158, \"thal\": 3.0, \"num\": 0}, {\"trestbps\": 120, \"chol\": 340, \"thalach\": 172, \"thal\": 3.0, \"num\": 0}, {\"trestbps\": 150, \"chol\": 226, \"thalach\": 114, \"thal\": 3.0, \"num\": 0}, {\"trestbps\": 150, \"chol\": 247, \"thalach\": 171, \"thal\": 3.0, \"num\": 0}, {\"trestbps\": 110, \"chol\": 167, \"thalach\": 114, \"thal\": 7.0, \"num\": 1}, {\"trestbps\": 140, \"chol\": 239, \"thalach\": 151, \"thal\": 3.0, \"num\": 0}, {\"trestbps\": 117, \"chol\": 230, \"thalach\": 160, \"thal\": 7.0, \"num\": 1}, {\"trestbps\": 140, \"chol\": 335, \"thalach\": 158, \"thal\": 3.0, \"num\": 1}, {\"trestbps\": 135, \"chol\": 234, \"thalach\": 161, \"thal\": 7.0, \"num\": 0}, {\"trestbps\": 130, \"chol\": 233, \"thalach\": 179, \"thal\": 3.0, \"num\": 0}, {\"trestbps\": 140, \"chol\": 226, \"thalach\": 178, \"thal\": 3.0, \"num\": 0}, {\"trestbps\": 120, \"chol\": 177, \"thalach\": 120, \"thal\": 7.0, \"num\": 1}, {\"trestbps\": 150, \"chol\": 276, \"thalach\": 112, \"thal\": 6.0, \"num\": 1}, {\"trestbps\": 132, \"chol\": 353, \"thalach\": 132, \"thal\": 7.0, \"num\": 1}, {\"trestbps\": 150, \"chol\": 243, \"thalach\": 137, \"thal\": 3.0, \"num\": 0}, {\"trestbps\": 150, \"chol\": 225, \"thalach\": 114, \"thal\": 7.0, \"num\": 1}, {\"trestbps\": 140, \"chol\": 199, \"thalach\": 178, \"thal\": 7.0, \"num\": 0}, {\"trestbps\": 160, \"chol\": 302, \"thalach\": 162, \"thal\": 3.0, \"num\": 0}, {\"trestbps\": 150, \"chol\": 212, \"thalach\": 157, \"thal\": 3.0, \"num\": 0}, {\"trestbps\": 130, \"chol\": 330, \"thalach\": 169, \"thal\": 3.0, \"num\": 1}, {\"trestbps\": 112, \"chol\": 230, \"thalach\": 165, \"thal\": 7.0, \"num\": 1}, {\"trestbps\": 110, \"chol\": 175, \"thalach\": 123, \"thal\": 3.0, \"num\": 0}, {\"trestbps\": 150, \"chol\": 243, \"thalach\": 128, \"thal\": 7.0, \"num\": 1}, {\"trestbps\": 140, \"chol\": 417, \"thalach\": 157, \"thal\": 3.0, \"num\": 0}, {\"trestbps\": 130, \"chol\": 197, \"thalach\": 152, \"thal\": 3.0, \"num\": 0}, {\"trestbps\": 105, \"chol\": 198, \"thalach\": 168, \"thal\": 3.0, \"num\": 0}, {\"trestbps\": 120, \"chol\": 177, \"thalach\": 140, \"thal\": 7.0, \"num\": 0}, {\"trestbps\": 112, \"chol\": 290, \"thalach\": 153, \"thal\": 3.0, \"num\": 1}, {\"trestbps\": 130, \"chol\": 219, \"thalach\": 188, \"thal\": 3.0, \"num\": 0}, {\"trestbps\": 130, \"chol\": 253, \"thalach\": 144, \"thal\": 7.0, \"num\": 1}, {\"trestbps\": 124, \"chol\": 266, \"thalach\": 109, \"thal\": 7.0, \"num\": 1}, {\"trestbps\": 140, \"chol\": 233, \"thalach\": 163, \"thal\": 7.0, \"num\": 1}, {\"trestbps\": 110, \"chol\": 172, \"thalach\": 158, \"thal\": 7.0, \"num\": 1}, {\"trestbps\": 125, \"chol\": 273, \"thalach\": 152, \"thal\": 3.0, \"num\": 0}, {\"trestbps\": 125, \"chol\": 213, \"thalach\": 125, \"thal\": 3.0, \"num\": 0}, {\"trestbps\": 130, \"chol\": 305, \"thalach\": 142, \"thal\": 7.0, \"num\": 1}, {\"trestbps\": 142, \"chol\": 177, \"thalach\": 160, \"thal\": 3.0, \"num\": 0}, {\"trestbps\": 128, \"chol\": 216, \"thalach\": 131, \"thal\": 7.0, \"num\": 1}, {\"trestbps\": 135, \"chol\": 304, \"thalach\": 170, \"thal\": 3.0, \"num\": 0}, {\"trestbps\": 120, \"chol\": 188, \"thalach\": 113, \"thal\": 7.0, \"num\": 1}, {\"trestbps\": 145, \"chol\": 282, \"thalach\": 142, \"thal\": 7.0, \"num\": 1}, {\"trestbps\": 140, \"chol\": 185, \"thalach\": 155, \"thal\": 3.0, \"num\": 1}, {\"trestbps\": 150, \"chol\": 232, \"thalach\": 165, \"thal\": 7.0, \"num\": 0}, {\"trestbps\": 170, \"chol\": 326, \"thalach\": 140, \"thal\": 7.0, \"num\": 1}, {\"trestbps\": 150, \"chol\": 231, \"thalach\": 147, \"thal\": 3.0, \"num\": 1}, {\"trestbps\": 155, \"chol\": 269, \"thalach\": 148, \"thal\": 3.0, \"num\": 0}, {\"trestbps\": 125, \"chol\": 254, \"thalach\": 163, \"thal\": 7.0, \"num\": 1}, {\"trestbps\": 120, \"chol\": 267, \"thalach\": 99, \"thal\": 7.0, \"num\": 1}, {\"trestbps\": 110, \"chol\": 248, \"thalach\": 158, \"thal\": 6.0, \"num\": 1}, {\"trestbps\": 110, \"chol\": 197, \"thalach\": 177, \"thal\": 3.0, \"num\": 1}, {\"trestbps\": 160, \"chol\": 360, \"thalach\": 151, \"thal\": 3.0, \"num\": 0}, {\"trestbps\": 125, \"chol\": 258, \"thalach\": 141, \"thal\": 7.0, \"num\": 1}, {\"trestbps\": 140, \"chol\": 308, \"thalach\": 142, \"thal\": 3.0, \"num\": 0}, {\"trestbps\": 130, \"chol\": 245, \"thalach\": 180, \"thal\": 3.0, \"num\": 0}, {\"trestbps\": 150, \"chol\": 270, \"thalach\": 111, \"thal\": 7.0, \"num\": 1}, {\"trestbps\": 104, \"chol\": 208, \"thalach\": 148, \"thal\": 3.0, \"num\": 0}, {\"trestbps\": 130, \"chol\": 264, \"thalach\": 143, \"thal\": 3.0, \"num\": 0}, {\"trestbps\": 140, \"chol\": 321, \"thalach\": 182, \"thal\": 3.0, \"num\": 0}, {\"trestbps\": 180, \"chol\": 274, \"thalach\": 150, \"thal\": 7.0, \"num\": 1}, {\"trestbps\": 120, \"chol\": 325, \"thalach\": 172, \"thal\": 3.0, \"num\": 0}, {\"trestbps\": 140, \"chol\": 235, \"thalach\": 180, \"thal\": 3.0, \"num\": 0}, {\"trestbps\": 138, \"chol\": 257, \"thalach\": 156, \"thal\": 3.0, \"num\": 0}, {\"trestbps\": 128, \"chol\": 216, \"thalach\": 115, \"thal\": null, \"num\": 0}, {\"trestbps\": 138, \"chol\": 234, \"thalach\": 160, \"thal\": 3.0, \"num\": 0}, {\"trestbps\": 130, \"chol\": 256, \"thalach\": 149, \"thal\": 3.0, \"num\": 0}, {\"trestbps\": 120, \"chol\": 302, \"thalach\": 151, \"thal\": 3.0, \"num\": 0}, {\"trestbps\": 160, \"chol\": 164, \"thalach\": 145, \"thal\": 7.0, \"num\": 1}, {\"trestbps\": 130, \"chol\": 231, \"thalach\": 146, \"thal\": 7.0, \"num\": 0}, {\"trestbps\": 108, \"chol\": 141, \"thalach\": 175, \"thal\": 3.0, \"num\": 0}, {\"trestbps\": 135, \"chol\": 252, \"thalach\": 172, \"thal\": 3.0, \"num\": 0}, {\"trestbps\": 128, \"chol\": 255, \"thalach\": 161, \"thal\": 7.0, \"num\": 1}, {\"trestbps\": 110, \"chol\": 239, \"thalach\": 142, \"thal\": 7.0, \"num\": 1}, {\"trestbps\": 150, \"chol\": 258, \"thalach\": 157, \"thal\": 7.0, \"num\": 1}, {\"trestbps\": 134, \"chol\": 201, \"thalach\": 158, \"thal\": 3.0, \"num\": 0}, {\"trestbps\": 122, \"chol\": 222, \"thalach\": 186, \"thal\": 3.0, \"num\": 0}, {\"trestbps\": 115, \"chol\": 260, \"thalach\": 185, \"thal\": 3.0, \"num\": 0}, {\"trestbps\": 118, \"chol\": 182, \"thalach\": 174, \"thal\": 3.0, \"num\": 0}, {\"trestbps\": 128, \"chol\": 303, \"thalach\": 159, \"thal\": 3.0, \"num\": 0}, {\"trestbps\": 110, \"chol\": 265, \"thalach\": 130, \"thal\": 3.0, \"num\": 0}, {\"trestbps\": 120, \"chol\": 188, \"thalach\": 139, \"thal\": 7.0, \"num\": 1}, {\"trestbps\": 108, \"chol\": 309, \"thalach\": 156, \"thal\": 7.0, \"num\": 0}, {\"trestbps\": 140, \"chol\": 177, \"thalach\": 162, \"thal\": 7.0, \"num\": 1}, {\"trestbps\": 128, \"chol\": 229, \"thalach\": 150, \"thal\": 7.0, \"num\": 1}, {\"trestbps\": 120, \"chol\": 260, \"thalach\": 140, \"thal\": 7.0, \"num\": 1}, {\"trestbps\": 118, \"chol\": 219, \"thalach\": 140, \"thal\": 7.0, \"num\": 1}, {\"trestbps\": 145, \"chol\": 307, \"thalach\": 146, \"thal\": 7.0, \"num\": 1}, {\"trestbps\": 125, \"chol\": 249, \"thalach\": 144, \"thal\": 3.0, \"num\": 1}, {\"trestbps\": 118, \"chol\": 186, \"thalach\": 190, \"thal\": 6.0, \"num\": 0}, {\"trestbps\": 132, \"chol\": 341, \"thalach\": 136, \"thal\": 7.0, \"num\": 1}, {\"trestbps\": 130, \"chol\": 263, \"thalach\": 97, \"thal\": 7.0, \"num\": 1}, {\"trestbps\": 135, \"chol\": 203, \"thalach\": 132, \"thal\": 6.0, \"num\": 0}, {\"trestbps\": 140, \"chol\": 211, \"thalach\": 165, \"thal\": 3.0, \"num\": 0}, {\"trestbps\": 138, \"chol\": 183, \"thalach\": 182, \"thal\": 3.0, \"num\": 0}, {\"trestbps\": 130, \"chol\": 330, \"thalach\": 132, \"thal\": 7.0, \"num\": 1}, {\"trestbps\": 135, \"chol\": 254, \"thalach\": 127, \"thal\": 7.0, \"num\": 1}, {\"trestbps\": 130, \"chol\": 256, \"thalach\": 150, \"thal\": 7.0, \"num\": 1}, {\"trestbps\": 150, \"chol\": 407, \"thalach\": 154, \"thal\": 7.0, \"num\": 1}, {\"trestbps\": 100, \"chol\": 222, \"thalach\": 143, \"thal\": 3.0, \"num\": 0}, {\"trestbps\": 140, \"chol\": 217, \"thalach\": 111, \"thal\": 7.0, \"num\": 1}, {\"trestbps\": 138, \"chol\": 282, \"thalach\": 174, \"thal\": 3.0, \"num\": 1}, {\"trestbps\": 130, \"chol\": 234, \"thalach\": 175, \"thal\": 3.0, \"num\": 0}, {\"trestbps\": 200, \"chol\": 288, \"thalach\": 133, \"thal\": 7.0, \"num\": 1}, {\"trestbps\": 110, \"chol\": 239, \"thalach\": 126, \"thal\": 7.0, \"num\": 1}, {\"trestbps\": 120, \"chol\": 220, \"thalach\": 170, \"thal\": 3.0, \"num\": 0}, {\"trestbps\": 124, \"chol\": 209, \"thalach\": 163, \"thal\": 3.0, \"num\": 0}, {\"trestbps\": 120, \"chol\": 258, \"thalach\": 147, \"thal\": 7.0, \"num\": 0}, {\"trestbps\": 94, \"chol\": 227, \"thalach\": 154, \"thal\": 7.0, \"num\": 0}, {\"trestbps\": 130, \"chol\": 204, \"thalach\": 202, \"thal\": 3.0, \"num\": 0}, {\"trestbps\": 140, \"chol\": 261, \"thalach\": 186, \"thal\": 3.0, \"num\": 0}, {\"trestbps\": 122, \"chol\": 213, \"thalach\": 165, \"thal\": 3.0, \"num\": 0}, {\"trestbps\": 135, \"chol\": 250, \"thalach\": 161, \"thal\": 3.0, \"num\": 0}, {\"trestbps\": 145, \"chol\": 174, \"thalach\": 125, \"thal\": 7.0, \"num\": 1}, {\"trestbps\": 120, \"chol\": 281, \"thalach\": 103, \"thal\": 7.0, \"num\": 1}, {\"trestbps\": 120, \"chol\": 198, \"thalach\": 130, \"thal\": 7.0, \"num\": 1}, {\"trestbps\": 125, \"chol\": 245, \"thalach\": 166, \"thal\": 3.0, \"num\": 0}, {\"trestbps\": 140, \"chol\": 221, \"thalach\": 164, \"thal\": 3.0, \"num\": 0}, {\"trestbps\": 170, \"chol\": 288, \"thalach\": 159, \"thal\": 7.0, \"num\": 1}, {\"trestbps\": 128, \"chol\": 205, \"thalach\": 184, \"thal\": 3.0, \"num\": 0}, {\"trestbps\": 125, \"chol\": 309, \"thalach\": 131, \"thal\": 7.0, \"num\": 1}, {\"trestbps\": 105, \"chol\": 240, \"thalach\": 154, \"thal\": 7.0, \"num\": 0}, {\"trestbps\": 108, \"chol\": 243, \"thalach\": 152, \"thal\": 3.0, \"num\": 1}, {\"trestbps\": 165, \"chol\": 289, \"thalach\": 124, \"thal\": 7.0, \"num\": 1}, {\"trestbps\": 112, \"chol\": 250, \"thalach\": 179, \"thal\": 3.0, \"num\": 0}, {\"trestbps\": 128, \"chol\": 308, \"thalach\": 170, \"thal\": 3.0, \"num\": 0}, {\"trestbps\": 102, \"chol\": 318, \"thalach\": 160, \"thal\": 3.0, \"num\": 0}, {\"trestbps\": 152, \"chol\": 298, \"thalach\": 178, \"thal\": 7.0, \"num\": 0}, {\"trestbps\": 102, \"chol\": 265, \"thalach\": 122, \"thal\": 3.0, \"num\": 0}, {\"trestbps\": 115, \"chol\": 564, \"thalach\": 160, \"thal\": 7.0, \"num\": 0}, {\"trestbps\": 160, \"chol\": 289, \"thalach\": 145, \"thal\": 7.0, \"num\": 1}, {\"trestbps\": 120, \"chol\": 246, \"thalach\": 96, \"thal\": 3.0, \"num\": 1}, {\"trestbps\": 130, \"chol\": 322, \"thalach\": 109, \"thal\": 3.0, \"num\": 1}, {\"trestbps\": 140, \"chol\": 299, \"thalach\": 173, \"thal\": 7.0, \"num\": 1}, {\"trestbps\": 125, \"chol\": 300, \"thalach\": 171, \"thal\": 7.0, \"num\": 1}, {\"trestbps\": 140, \"chol\": 293, \"thalach\": 170, \"thal\": 7.0, \"num\": 1}, {\"trestbps\": 118, \"chol\": 277, \"thalach\": 151, \"thal\": 7.0, \"num\": 0}, {\"trestbps\": 101, \"chol\": 197, \"thalach\": 156, \"thal\": 7.0, \"num\": 0}, {\"trestbps\": 125, \"chol\": 304, \"thalach\": 162, \"thal\": 3.0, \"num\": 1}, {\"trestbps\": 110, \"chol\": 214, \"thalach\": 158, \"thal\": 3.0, \"num\": 0}, {\"trestbps\": 100, \"chol\": 248, \"thalach\": 122, \"thal\": 3.0, \"num\": 0}, {\"trestbps\": 124, \"chol\": 255, \"thalach\": 175, \"thal\": 3.0, \"num\": 0}, {\"trestbps\": 132, \"chol\": 207, \"thalach\": 168, \"thal\": 7.0, \"num\": 0}, {\"trestbps\": 138, \"chol\": 223, \"thalach\": 169, \"thal\": 3.0, \"num\": 0}, {\"trestbps\": 132, \"chol\": 288, \"thalach\": 159, \"thal\": 3.0, \"num\": 0}, {\"trestbps\": 126, \"chol\": 282, \"thalach\": 156, \"thal\": 7.0, \"num\": 1}, {\"trestbps\": 112, \"chol\": 160, \"thalach\": 138, \"thal\": 3.0, \"num\": 0}, {\"trestbps\": 160, \"chol\": 269, \"thalach\": 112, \"thal\": 7.0, \"num\": 1}, {\"trestbps\": 142, \"chol\": 226, \"thalach\": 111, \"thal\": 7.0, \"num\": 0}, {\"trestbps\": 174, \"chol\": 249, \"thalach\": 143, \"thal\": 3.0, \"num\": 1}, {\"trestbps\": 140, \"chol\": 394, \"thalach\": 157, \"thal\": 3.0, \"num\": 0}, {\"trestbps\": 145, \"chol\": 212, \"thalach\": 132, \"thal\": 6.0, \"num\": 1}, {\"trestbps\": 152, \"chol\": 274, \"thalach\": 88, \"thal\": 7.0, \"num\": 1}, {\"trestbps\": 108, \"chol\": 233, \"thalach\": 147, \"thal\": 7.0, \"num\": 0}, {\"trestbps\": 132, \"chol\": 184, \"thalach\": 105, \"thal\": 6.0, \"num\": 1}, {\"trestbps\": 130, \"chol\": 315, \"thalach\": 162, \"thal\": 3.0, \"num\": 0}, {\"trestbps\": 130, \"chol\": 246, \"thalach\": 173, \"thal\": 3.0, \"num\": 0}, {\"trestbps\": 124, \"chol\": 274, \"thalach\": 166, \"thal\": 7.0, \"num\": 1}, {\"trestbps\": 134, \"chol\": 409, \"thalach\": 150, \"thal\": 7.0, \"num\": 1}, {\"trestbps\": 148, \"chol\": 244, \"thalach\": 178, \"thal\": 3.0, \"num\": 0}, {\"trestbps\": 178, \"chol\": 270, \"thalach\": 145, \"thal\": 7.0, \"num\": 0}, {\"trestbps\": 158, \"chol\": 305, \"thalach\": 161, \"thal\": 3.0, \"num\": 1}, {\"trestbps\": 140, \"chol\": 195, \"thalach\": 179, \"thal\": 3.0, \"num\": 0}, {\"trestbps\": 120, \"chol\": 240, \"thalach\": 194, \"thal\": 7.0, \"num\": 0}, {\"trestbps\": 160, \"chol\": 246, \"thalach\": 120, \"thal\": 6.0, \"num\": 1}, {\"trestbps\": 192, \"chol\": 283, \"thalach\": 195, \"thal\": 7.0, \"num\": 1}, {\"trestbps\": 140, \"chol\": 254, \"thalach\": 146, \"thal\": 7.0, \"num\": 1}, {\"trestbps\": 129, \"chol\": 196, \"thalach\": 163, \"thal\": 3.0, \"num\": 0}, {\"trestbps\": 140, \"chol\": 298, \"thalach\": 122, \"thal\": 7.0, \"num\": 1}, {\"trestbps\": 132, \"chol\": 247, \"thalach\": 143, \"thal\": 7.0, \"num\": 1}, {\"trestbps\": 138, \"chol\": 294, \"thalach\": 106, \"thal\": 3.0, \"num\": 1}, {\"trestbps\": 120, \"chol\": 211, \"thalach\": 115, \"thal\": 3.0, \"num\": 0}, {\"trestbps\": 100, \"chol\": 299, \"thalach\": 125, \"thal\": 3.0, \"num\": 1}, {\"trestbps\": 160, \"chol\": 234, \"thalach\": 131, \"thal\": 3.0, \"num\": 0}, {\"trestbps\": 138, \"chol\": 236, \"thalach\": 152, \"thal\": 3.0, \"num\": 0}, {\"trestbps\": 120, \"chol\": 244, \"thalach\": 162, \"thal\": 3.0, \"num\": 0}, {\"trestbps\": 160, \"chol\": 273, \"thalach\": 125, \"thal\": 3.0, \"num\": 1}, {\"trestbps\": 110, \"chol\": 254, \"thalach\": 159, \"thal\": 3.0, \"num\": 0}, {\"trestbps\": 180, \"chol\": 325, \"thalach\": 154, \"thal\": 3.0, \"num\": 0}, {\"trestbps\": 150, \"chol\": 126, \"thalach\": 173, \"thal\": 7.0, \"num\": 0}, {\"trestbps\": 140, \"chol\": 313, \"thalach\": 133, \"thal\": 7.0, \"num\": 0}, {\"trestbps\": 110, \"chol\": 211, \"thalach\": 161, \"thal\": 7.0, \"num\": 0}, {\"trestbps\": 142, \"chol\": 309, \"thalach\": 147, \"thal\": 7.0, \"num\": 1}, {\"trestbps\": 128, \"chol\": 259, \"thalach\": 130, \"thal\": 7.0, \"num\": 1}, {\"trestbps\": 144, \"chol\": 200, \"thalach\": 126, \"thal\": 7.0, \"num\": 1}, {\"trestbps\": 130, \"chol\": 262, \"thalach\": 155, \"thal\": 3.0, \"num\": 0}, {\"trestbps\": 150, \"chol\": 244, \"thalach\": 154, \"thal\": 3.0, \"num\": 1}, {\"trestbps\": 120, \"chol\": 215, \"thalach\": 170, \"thal\": 3.0, \"num\": 0}, {\"trestbps\": 120, \"chol\": 231, \"thalach\": 182, \"thal\": 7.0, \"num\": 1}, {\"trestbps\": 130, \"chol\": 214, \"thalach\": 168, \"thal\": 3.0, \"num\": 0}, {\"trestbps\": 178, \"chol\": 228, \"thalach\": 165, \"thal\": 7.0, \"num\": 1}, {\"trestbps\": 112, \"chol\": 230, \"thalach\": 160, \"thal\": 3.0, \"num\": 1}, {\"trestbps\": 120, \"chol\": 193, \"thalach\": 162, \"thal\": 7.0, \"num\": 0}, {\"trestbps\": 105, \"chol\": 204, \"thalach\": 172, \"thal\": 3.0, \"num\": 0}, {\"trestbps\": 138, \"chol\": 243, \"thalach\": 152, \"thal\": 3.0, \"num\": 0}, {\"trestbps\": 130, \"chol\": 303, \"thalach\": 122, \"thal\": 3.0, \"num\": 0}, {\"trestbps\": 138, \"chol\": 271, \"thalach\": 182, \"thal\": 3.0, \"num\": 0}, {\"trestbps\": 112, \"chol\": 268, \"thalach\": 172, \"thal\": 3.0, \"num\": 0}, {\"trestbps\": 108, \"chol\": 267, \"thalach\": 167, \"thal\": 3.0, \"num\": 0}, {\"trestbps\": 94, \"chol\": 199, \"thalach\": 179, \"thal\": 3.0, \"num\": 0}, {\"trestbps\": 123, \"chol\": 282, \"thalach\": 95, \"thal\": 7.0, \"num\": 1}, {\"trestbps\": 108, \"chol\": 269, \"thalach\": 169, \"thal\": 3.0, \"num\": 1}, {\"trestbps\": 118, \"chol\": 210, \"thalach\": 192, \"thal\": 3.0, \"num\": 0}, {\"trestbps\": 112, \"chol\": 204, \"thalach\": 143, \"thal\": 3.0, \"num\": 0}, {\"trestbps\": 152, \"chol\": 277, \"thalach\": 172, \"thal\": 3.0, \"num\": 0}, {\"trestbps\": 110, \"chol\": 206, \"thalach\": 108, \"thal\": 3.0, \"num\": 1}, {\"trestbps\": 112, \"chol\": 212, \"thalach\": 132, \"thal\": 3.0, \"num\": 1}, {\"trestbps\": 136, \"chol\": 196, \"thalach\": 169, \"thal\": 3.0, \"num\": 0}, {\"trestbps\": 180, \"chol\": 327, \"thalach\": 117, \"thal\": 3.0, \"num\": 1}, {\"trestbps\": 118, \"chol\": 149, \"thalach\": 126, \"thal\": 3.0, \"num\": 1}, {\"trestbps\": 120, \"chol\": 269, \"thalach\": 121, \"thal\": 3.0, \"num\": 0}, {\"trestbps\": 160, \"chol\": 201, \"thalach\": 163, \"thal\": 3.0, \"num\": 0}, {\"trestbps\": 122, \"chol\": 286, \"thalach\": 116, \"thal\": 3.0, \"num\": 1}, {\"trestbps\": 130, \"chol\": 283, \"thalach\": 103, \"thal\": 7.0, \"num\": 1}, {\"trestbps\": 120, \"chol\": 249, \"thalach\": 144, \"thal\": 7.0, \"num\": 1}, {\"trestbps\": 134, \"chol\": 271, \"thalach\": 162, \"thal\": 3.0, \"num\": 0}, {\"trestbps\": 120, \"chol\": 295, \"thalach\": 162, \"thal\": 3.0, \"num\": 0}, {\"trestbps\": 110, \"chol\": 235, \"thalach\": 153, \"thal\": 3.0, \"num\": 0}, {\"trestbps\": 126, \"chol\": 306, \"thalach\": 163, \"thal\": 3.0, \"num\": 0}, {\"trestbps\": 130, \"chol\": 269, \"thalach\": 163, \"thal\": 3.0, \"num\": 0}, {\"trestbps\": 134, \"chol\": 234, \"thalach\": 145, \"thal\": 3.0, \"num\": 1}, {\"trestbps\": 120, \"chol\": 178, \"thalach\": 96, \"thal\": 3.0, \"num\": 0}, {\"trestbps\": 120, \"chol\": 237, \"thalach\": 71, \"thal\": 3.0, \"num\": 1}, {\"trestbps\": 100, \"chol\": 234, \"thalach\": 156, \"thal\": 7.0, \"num\": 1}, {\"trestbps\": 110, \"chol\": 275, \"thalach\": 118, \"thal\": 3.0, \"num\": 1}, {\"trestbps\": 125, \"chol\": 212, \"thalach\": 168, \"thal\": 7.0, \"num\": 1}, {\"trestbps\": 128, \"chol\": 208, \"thalach\": 140, \"thal\": 3.0, \"num\": 0}, {\"trestbps\": 110, \"chol\": 201, \"thalach\": 126, \"thal\": 6.0, \"num\": 0}, {\"trestbps\": 146, \"chol\": 218, \"thalach\": 105, \"thal\": 7.0, \"num\": 1}, {\"trestbps\": 128, \"chol\": 263, \"thalach\": 105, \"thal\": 7.0, \"num\": 0}, {\"trestbps\": 120, \"chol\": 295, \"thalach\": 157, \"thal\": 3.0, \"num\": 0}, {\"trestbps\": 115, \"chol\": 303, \"thalach\": 181, \"thal\": 3.0, \"num\": 0}, {\"trestbps\": 120, \"chol\": 209, \"thalach\": 173, \"thal\": 3.0, \"num\": 0}, {\"trestbps\": 106, \"chol\": 223, \"thalach\": 142, \"thal\": 3.0, \"num\": 0}, {\"trestbps\": 140, \"chol\": 197, \"thalach\": 116, \"thal\": 3.0, \"num\": 0}, {\"trestbps\": 156, \"chol\": 245, \"thalach\": 143, \"thal\": 3.0, \"num\": 0}, {\"trestbps\": 124, \"chol\": 261, \"thalach\": 141, \"thal\": 7.0, \"num\": 1}, {\"trestbps\": 118, \"chol\": 242, \"thalach\": 149, \"thal\": 3.0, \"num\": 0}, {\"trestbps\": 136, \"chol\": 319, \"thalach\": 152, \"thal\": 3.0, \"num\": 1}, {\"trestbps\": 150, \"chol\": 240, \"thalach\": 171, \"thal\": 3.0, \"num\": 0}, {\"trestbps\": 120, \"chol\": 226, \"thalach\": 169, \"thal\": 3.0, \"num\": 0}, {\"trestbps\": 138, \"chol\": 166, \"thalach\": 125, \"thal\": 3.0, \"num\": 1}, {\"trestbps\": 136, \"chol\": 315, \"thalach\": 125, \"thal\": 6.0, \"num\": 1}, {\"trestbps\": 128, \"chol\": 204, \"thalach\": 156, \"thal\": null, \"num\": 1}, {\"trestbps\": 126, \"chol\": 218, \"thalach\": 134, \"thal\": 6.0, \"num\": 1}, {\"trestbps\": 152, \"chol\": 223, \"thalach\": 181, \"thal\": 7.0, \"num\": 1}, {\"trestbps\": 130, \"chol\": 180, \"thalach\": 150, \"thal\": 3.0, \"num\": 0}, {\"trestbps\": 140, \"chol\": 207, \"thalach\": 138, \"thal\": 7.0, \"num\": 1}, {\"trestbps\": 160, \"chol\": 228, \"thalach\": 138, \"thal\": 6.0, \"num\": 0}, {\"trestbps\": 140, \"chol\": 311, \"thalach\": 120, \"thal\": 7.0, \"num\": 1}, {\"trestbps\": 112, \"chol\": 149, \"thalach\": 125, \"thal\": 3.0, \"num\": 0}, {\"trestbps\": 134, \"chol\": 204, \"thalach\": 162, \"thal\": 3.0, \"num\": 1}, {\"trestbps\": 170, \"chol\": 227, \"thalach\": 155, \"thal\": 7.0, \"num\": 0}, {\"trestbps\": 146, \"chol\": 278, \"thalach\": 152, \"thal\": 3.0, \"num\": 0}, {\"trestbps\": 138, \"chol\": 220, \"thalach\": 152, \"thal\": 3.0, \"num\": 0}, {\"trestbps\": 154, \"chol\": 232, \"thalach\": 164, \"thal\": 3.0, \"num\": 1}, {\"trestbps\": 130, \"chol\": 197, \"thalach\": 131, \"thal\": 3.0, \"num\": 0}, {\"trestbps\": 110, \"chol\": 335, \"thalach\": 143, \"thal\": 7.0, \"num\": 1}, {\"trestbps\": 130, \"chol\": 253, \"thalach\": 179, \"thal\": 3.0, \"num\": 0}, {\"trestbps\": 128, \"chol\": 205, \"thalach\": 130, \"thal\": 7.0, \"num\": 1}, {\"trestbps\": 122, \"chol\": 192, \"thalach\": 174, \"thal\": 3.0, \"num\": 0}, {\"trestbps\": 148, \"chol\": 203, \"thalach\": 161, \"thal\": 7.0, \"num\": 1}, {\"trestbps\": 114, \"chol\": 318, \"thalach\": 140, \"thal\": 6.0, \"num\": 1}, {\"trestbps\": 170, \"chol\": 225, \"thalach\": 146, \"thal\": 6.0, \"num\": 1}, {\"trestbps\": 125, \"chol\": 220, \"thalach\": 144, \"thal\": 7.0, \"num\": 0}, {\"trestbps\": 130, \"chol\": 221, \"thalach\": 163, \"thal\": 7.0, \"num\": 0}, {\"trestbps\": 120, \"chol\": 240, \"thalach\": 169, \"thal\": 3.0, \"num\": 0}, {\"trestbps\": 152, \"chol\": 212, \"thalach\": 150, \"thal\": 7.0, \"num\": 1}, {\"trestbps\": 132, \"chol\": 342, \"thalach\": 166, \"thal\": 3.0, \"num\": 0}, {\"trestbps\": 120, \"chol\": 169, \"thalach\": 144, \"thal\": 6.0, \"num\": 1}, {\"trestbps\": 140, \"chol\": 187, \"thalach\": 144, \"thal\": 7.0, \"num\": 1}, {\"trestbps\": 124, \"chol\": 197, \"thalach\": 136, \"thal\": 3.0, \"num\": 1}, {\"trestbps\": 120, \"chol\": 157, \"thalach\": 182, \"thal\": 3.0, \"num\": 0}, {\"trestbps\": 164, \"chol\": 176, \"thalach\": 90, \"thal\": 6.0, \"num\": 1}, {\"trestbps\": 140, \"chol\": 241, \"thalach\": 123, \"thal\": 7.0, \"num\": 1}, {\"trestbps\": 110, \"chol\": 264, \"thalach\": 132, \"thal\": 7.0, \"num\": 1}, {\"trestbps\": 144, \"chol\": 193, \"thalach\": 141, \"thal\": 7.0, \"num\": 1}, {\"trestbps\": 130, \"chol\": 131, \"thalach\": 115, \"thal\": 7.0, \"num\": 1}, {\"trestbps\": 130, \"chol\": 236, \"thalach\": 174, \"thal\": 3.0, \"num\": 1}, {\"trestbps\": 138, \"chol\": 175, \"thalach\": 173, \"thal\": 3.0, \"num\": 0}]}}, {\"mode\": \"vega-lite\"});\n",
       "</script>"
      ],
      "text/plain": [
       "alt.Chart(...)"
      ]
     },
     "execution_count": 127,
     "metadata": {},
     "output_type": "execute_result"
    }
   ],
   "source": [
    "#looking at other combos starting with thalach\n",
    "#exploring relationship between trestbps and trest bps for diagnosis\n",
    "\n",
    "thal_chol_plot = alt.Chart(clean_heart_disease).mark_circle(opacity =0.7).encode(\n",
    "    x=alt.X(\"thalach\").title(\"Maximum heart rate achieved(bpm)\"),\n",
    "    y=alt.Y(\"trestbps\").title(\"Resting blood pressure(mmHg)\"),\n",
    "    color=alt.Color(\"num:N\").title(\"Heart Disease Symptoms\")\n",
    ").properties(title='Relationship between the Maximum heart rate and Resting blood pressure')\n",
    "thal_chol_plot\n"
   ]
  },
  {
   "cell_type": "markdown",
   "id": "f9ba2389-d6a9-46bd-8539-eea1ce5f2feb",
   "metadata": {},
   "source": [
    "***Fig.17***: Scatter Plot of the Relationship between the Maximum heart rate and Resting blood pressure colour-coded by presence/absence Heart Disease symptoms."
   ]
  },
  {
   "cell_type": "markdown",
   "id": "d2cb43c0-8e21-4a19-ae2f-5fb12e43eb3d",
   "metadata": {
    "tags": []
   },
   "source": [
    "We will go with thalach (Maximum Heart Rate achieved) and trestbps (Restign Blood Pressure) as they seemed the most distinct from the 3 combos tested (chol vs. trestbps, chol vs. thalach, and thalach vs. trestbps)."
   ]
  },
  {
   "cell_type": "markdown",
   "id": "834c86ba-0042-4f20-b156-a236b00054aa",
   "metadata": {},
   "source": [
    "# 5.5 preparing the thalach and trestbps variables "
   ]
  },
  {
   "cell_type": "code",
   "execution_count": 128,
   "id": "1ffe46e1-6daa-4e1b-8569-738a259d3a7d",
   "metadata": {
    "tags": []
   },
   "outputs": [],
   "source": [
    "#splitting data into training data and test data \n",
    "#split randomly with state 123\n",
    "heart_traindata, heart_testdata = train_test_split(heart_disease, test_size=0.25, random_state=123)"
   ]
  },
  {
   "cell_type": "code",
   "execution_count": 129,
   "id": "527c8d98-3830-4a69-be0d-e07ca221c12e",
   "metadata": {
    "tags": []
   },
   "outputs": [
    {
     "name": "stdout",
     "output_type": "stream",
     "text": [
      "<class 'pandas.core.frame.DataFrame'>\n",
      "Int64Index: 227 entries, 36 to 98\n",
      "Data columns (total 14 columns):\n",
      " #   Column    Non-Null Count  Dtype  \n",
      "---  ------    --------------  -----  \n",
      " 0   age       227 non-null    int64  \n",
      " 1   sex       227 non-null    int64  \n",
      " 2   cp        227 non-null    int64  \n",
      " 3   trestbps  227 non-null    int64  \n",
      " 4   chol      227 non-null    int64  \n",
      " 5   fbs       227 non-null    int64  \n",
      " 6   restecg   227 non-null    int64  \n",
      " 7   thalach   227 non-null    int64  \n",
      " 8   exang     227 non-null    int64  \n",
      " 9   oldpeak   227 non-null    float64\n",
      " 10  slope     227 non-null    int64  \n",
      " 11  ca        223 non-null    float64\n",
      " 12  thal      226 non-null    float64\n",
      " 13  num       227 non-null    int64  \n",
      "dtypes: float64(3), int64(11)\n",
      "memory usage: 26.6 KB\n"
     ]
    }
   ],
   "source": [
    "heart_traindata.info()"
   ]
  },
  {
   "cell_type": "markdown",
   "id": "967a036a-f826-4efe-a457-9151c5e2c95c",
   "metadata": {},
   "source": [
    "***Fig.18***: Summary Information of the Heart Disease Training Data: Displaying Data Types and Non-null Counts for Each Attribute."
   ]
  },
  {
   "cell_type": "code",
   "execution_count": 130,
   "id": "e6fa8ff3-0fe4-474c-b624-1c1350bf2433",
   "metadata": {
    "tags": []
   },
   "outputs": [
    {
     "name": "stdout",
     "output_type": "stream",
     "text": [
      "<class 'pandas.core.frame.DataFrame'>\n",
      "Int64Index: 76 entries, 11 to 179\n",
      "Data columns (total 14 columns):\n",
      " #   Column    Non-Null Count  Dtype  \n",
      "---  ------    --------------  -----  \n",
      " 0   age       76 non-null     int64  \n",
      " 1   sex       76 non-null     int64  \n",
      " 2   cp        76 non-null     int64  \n",
      " 3   trestbps  76 non-null     int64  \n",
      " 4   chol      76 non-null     int64  \n",
      " 5   fbs       76 non-null     int64  \n",
      " 6   restecg   76 non-null     int64  \n",
      " 7   thalach   76 non-null     int64  \n",
      " 8   exang     76 non-null     int64  \n",
      " 9   oldpeak   76 non-null     float64\n",
      " 10  slope     76 non-null     int64  \n",
      " 11  ca        76 non-null     float64\n",
      " 12  thal      75 non-null     float64\n",
      " 13  num       76 non-null     int64  \n",
      "dtypes: float64(3), int64(11)\n",
      "memory usage: 8.9 KB\n"
     ]
    }
   ],
   "source": [
    "heart_testdata.info()"
   ]
  },
  {
   "cell_type": "markdown",
   "id": "2b31824f-b272-4aae-a500-9029694b1bb1",
   "metadata": {},
   "source": [
    "***Fig.19***: Summary Information of the Heart Disease Testing Data: Displaying Data Types and Non-null Counts for Each Attribute."
   ]
  },
  {
   "cell_type": "markdown",
   "id": "ccbd1c3b-c61b-40d3-a406-b28be7a3ef5f",
   "metadata": {},
   "source": [
    "# 6. Classification with K-nearest neighbors- Building/Training the classifier"
   ]
  },
  {
   "cell_type": "markdown",
   "id": "ee42ea46-1f4a-4184-b104-7aeacbf80c80",
   "metadata": {},
   "source": [
    "# 6.1 Creating and fitting the model "
   ]
  },
  {
   "cell_type": "markdown",
   "id": "acb11768-517b-4328-9ae9-5c945443d244",
   "metadata": {},
   "source": [
    "In this step, we're aiming to build and fit the initial model using k-nearest neighbours (KNN) classifier. "
   ]
  },
  {
   "cell_type": "code",
   "execution_count": 131,
   "id": "c4b73ba4-6ae1-4dcb-8b41-06f71c0d70ed",
   "metadata": {
    "tags": []
   },
   "outputs": [
    {
     "data": {
      "text/html": [
       "<style>#sk-container-id-5 {color: black;background-color: white;}#sk-container-id-5 pre{padding: 0;}#sk-container-id-5 div.sk-toggleable {background-color: white;}#sk-container-id-5 label.sk-toggleable__label {cursor: pointer;display: block;width: 100%;margin-bottom: 0;padding: 0.3em;box-sizing: border-box;text-align: center;}#sk-container-id-5 label.sk-toggleable__label-arrow:before {content: \"▸\";float: left;margin-right: 0.25em;color: #696969;}#sk-container-id-5 label.sk-toggleable__label-arrow:hover:before {color: black;}#sk-container-id-5 div.sk-estimator:hover label.sk-toggleable__label-arrow:before {color: black;}#sk-container-id-5 div.sk-toggleable__content {max-height: 0;max-width: 0;overflow: hidden;text-align: left;background-color: #f0f8ff;}#sk-container-id-5 div.sk-toggleable__content pre {margin: 0.2em;color: black;border-radius: 0.25em;background-color: #f0f8ff;}#sk-container-id-5 input.sk-toggleable__control:checked~div.sk-toggleable__content {max-height: 200px;max-width: 100%;overflow: auto;}#sk-container-id-5 input.sk-toggleable__control:checked~label.sk-toggleable__label-arrow:before {content: \"▾\";}#sk-container-id-5 div.sk-estimator input.sk-toggleable__control:checked~label.sk-toggleable__label {background-color: #d4ebff;}#sk-container-id-5 div.sk-label input.sk-toggleable__control:checked~label.sk-toggleable__label {background-color: #d4ebff;}#sk-container-id-5 input.sk-hidden--visually {border: 0;clip: rect(1px 1px 1px 1px);clip: rect(1px, 1px, 1px, 1px);height: 1px;margin: -1px;overflow: hidden;padding: 0;position: absolute;width: 1px;}#sk-container-id-5 div.sk-estimator {font-family: monospace;background-color: #f0f8ff;border: 1px dotted black;border-radius: 0.25em;box-sizing: border-box;margin-bottom: 0.5em;}#sk-container-id-5 div.sk-estimator:hover {background-color: #d4ebff;}#sk-container-id-5 div.sk-parallel-item::after {content: \"\";width: 100%;border-bottom: 1px solid gray;flex-grow: 1;}#sk-container-id-5 div.sk-label:hover label.sk-toggleable__label {background-color: #d4ebff;}#sk-container-id-5 div.sk-serial::before {content: \"\";position: absolute;border-left: 1px solid gray;box-sizing: border-box;top: 0;bottom: 0;left: 50%;z-index: 0;}#sk-container-id-5 div.sk-serial {display: flex;flex-direction: column;align-items: center;background-color: white;padding-right: 0.2em;padding-left: 0.2em;position: relative;}#sk-container-id-5 div.sk-item {position: relative;z-index: 1;}#sk-container-id-5 div.sk-parallel {display: flex;align-items: stretch;justify-content: center;background-color: white;position: relative;}#sk-container-id-5 div.sk-item::before, #sk-container-id-5 div.sk-parallel-item::before {content: \"\";position: absolute;border-left: 1px solid gray;box-sizing: border-box;top: 0;bottom: 0;left: 50%;z-index: -1;}#sk-container-id-5 div.sk-parallel-item {display: flex;flex-direction: column;z-index: 1;position: relative;background-color: white;}#sk-container-id-5 div.sk-parallel-item:first-child::after {align-self: flex-end;width: 50%;}#sk-container-id-5 div.sk-parallel-item:last-child::after {align-self: flex-start;width: 50%;}#sk-container-id-5 div.sk-parallel-item:only-child::after {width: 0;}#sk-container-id-5 div.sk-dashed-wrapped {border: 1px dashed gray;margin: 0 0.4em 0.5em 0.4em;box-sizing: border-box;padding-bottom: 0.4em;background-color: white;}#sk-container-id-5 div.sk-label label {font-family: monospace;font-weight: bold;display: inline-block;line-height: 1.2em;}#sk-container-id-5 div.sk-label-container {text-align: center;}#sk-container-id-5 div.sk-container {/* jupyter's `normalize.less` sets `[hidden] { display: none; }` but bootstrap.min.css set `[hidden] { display: none !important; }` so we also need the `!important` here to be able to override the default hidden behavior on the sphinx rendered scikit-learn.org. See: https://github.com/scikit-learn/scikit-learn/issues/21755 */display: inline-block !important;position: relative;}#sk-container-id-5 div.sk-text-repr-fallback {display: none;}</style><div id=\"sk-container-id-5\" class=\"sk-top-container\"><div class=\"sk-text-repr-fallback\"><pre>KNeighborsClassifier(n_neighbors=80)</pre><b>In a Jupyter environment, please rerun this cell to show the HTML representation or trust the notebook. <br />On GitHub, the HTML representation is unable to render, please try loading this page with nbviewer.org.</b></div><div class=\"sk-container\" hidden><div class=\"sk-item\"><div class=\"sk-estimator sk-toggleable\"><input class=\"sk-toggleable__control sk-hidden--visually\" id=\"sk-estimator-id-22\" type=\"checkbox\" checked><label for=\"sk-estimator-id-22\" class=\"sk-toggleable__label sk-toggleable__label-arrow\">KNeighborsClassifier</label><div class=\"sk-toggleable__content\"><pre>KNeighborsClassifier(n_neighbors=80)</pre></div></div></div></div></div>"
      ],
      "text/plain": [
       "KNeighborsClassifier(n_neighbors=80)"
      ]
     },
     "execution_count": 131,
     "metadata": {},
     "output_type": "execute_result"
    }
   ],
   "source": [
    "#build and fit initial model with 80 neighbors\n",
    "#train the classifer, 3 is chosen just for now for neighbours\n",
    "hknn = KNeighborsClassifier(n_neighbors=80) \n",
    "\n",
    "X = heart_traindata[[\"trestbps\", \"thalach\"]]\n",
    "y = heart_traindata[\"num\"]\n",
    "hknn"
   ]
  },
  {
   "cell_type": "markdown",
   "id": "c68e5726-c6b3-4532-92d7-f4516d39ea50",
   "metadata": {},
   "source": [
    "***Fig.20***: Building and Fitting an Initial k-Nearest Neighbors Model: Utilizing 80 Neighbors for Classification Based on Resting Blood Pressure ('trestbps') and Maximum Heart Rate Achieved ('thalach')."
   ]
  },
  {
   "cell_type": "markdown",
   "id": "8054c132-441f-4fa8-9bc2-a98a783b3524",
   "metadata": {},
   "source": [
    "# 6.2 Prepocessing the data "
   ]
  },
  {
   "cell_type": "markdown",
   "id": "0b7c08b1-e687-4df2-9d14-79c3d26b56f1",
   "metadata": {},
   "source": [
    "Afterwards, our goal is to standardize the scale of our data so that we can transform the training and testing sets before feeding them into our machine learning and statistical modeling portion."
   ]
  },
  {
   "cell_type": "code",
   "execution_count": 132,
   "id": "6f0a4f89-a7df-4a3b-8841-d7c02abfca34",
   "metadata": {
    "tags": []
   },
   "outputs": [
    {
     "data": {
      "text/html": [
       "<style>#sk-container-id-6 {color: black;background-color: white;}#sk-container-id-6 pre{padding: 0;}#sk-container-id-6 div.sk-toggleable {background-color: white;}#sk-container-id-6 label.sk-toggleable__label {cursor: pointer;display: block;width: 100%;margin-bottom: 0;padding: 0.3em;box-sizing: border-box;text-align: center;}#sk-container-id-6 label.sk-toggleable__label-arrow:before {content: \"▸\";float: left;margin-right: 0.25em;color: #696969;}#sk-container-id-6 label.sk-toggleable__label-arrow:hover:before {color: black;}#sk-container-id-6 div.sk-estimator:hover label.sk-toggleable__label-arrow:before {color: black;}#sk-container-id-6 div.sk-toggleable__content {max-height: 0;max-width: 0;overflow: hidden;text-align: left;background-color: #f0f8ff;}#sk-container-id-6 div.sk-toggleable__content pre {margin: 0.2em;color: black;border-radius: 0.25em;background-color: #f0f8ff;}#sk-container-id-6 input.sk-toggleable__control:checked~div.sk-toggleable__content {max-height: 200px;max-width: 100%;overflow: auto;}#sk-container-id-6 input.sk-toggleable__control:checked~label.sk-toggleable__label-arrow:before {content: \"▾\";}#sk-container-id-6 div.sk-estimator input.sk-toggleable__control:checked~label.sk-toggleable__label {background-color: #d4ebff;}#sk-container-id-6 div.sk-label input.sk-toggleable__control:checked~label.sk-toggleable__label {background-color: #d4ebff;}#sk-container-id-6 input.sk-hidden--visually {border: 0;clip: rect(1px 1px 1px 1px);clip: rect(1px, 1px, 1px, 1px);height: 1px;margin: -1px;overflow: hidden;padding: 0;position: absolute;width: 1px;}#sk-container-id-6 div.sk-estimator {font-family: monospace;background-color: #f0f8ff;border: 1px dotted black;border-radius: 0.25em;box-sizing: border-box;margin-bottom: 0.5em;}#sk-container-id-6 div.sk-estimator:hover {background-color: #d4ebff;}#sk-container-id-6 div.sk-parallel-item::after {content: \"\";width: 100%;border-bottom: 1px solid gray;flex-grow: 1;}#sk-container-id-6 div.sk-label:hover label.sk-toggleable__label {background-color: #d4ebff;}#sk-container-id-6 div.sk-serial::before {content: \"\";position: absolute;border-left: 1px solid gray;box-sizing: border-box;top: 0;bottom: 0;left: 50%;z-index: 0;}#sk-container-id-6 div.sk-serial {display: flex;flex-direction: column;align-items: center;background-color: white;padding-right: 0.2em;padding-left: 0.2em;position: relative;}#sk-container-id-6 div.sk-item {position: relative;z-index: 1;}#sk-container-id-6 div.sk-parallel {display: flex;align-items: stretch;justify-content: center;background-color: white;position: relative;}#sk-container-id-6 div.sk-item::before, #sk-container-id-6 div.sk-parallel-item::before {content: \"\";position: absolute;border-left: 1px solid gray;box-sizing: border-box;top: 0;bottom: 0;left: 50%;z-index: -1;}#sk-container-id-6 div.sk-parallel-item {display: flex;flex-direction: column;z-index: 1;position: relative;background-color: white;}#sk-container-id-6 div.sk-parallel-item:first-child::after {align-self: flex-end;width: 50%;}#sk-container-id-6 div.sk-parallel-item:last-child::after {align-self: flex-start;width: 50%;}#sk-container-id-6 div.sk-parallel-item:only-child::after {width: 0;}#sk-container-id-6 div.sk-dashed-wrapped {border: 1px dashed gray;margin: 0 0.4em 0.5em 0.4em;box-sizing: border-box;padding-bottom: 0.4em;background-color: white;}#sk-container-id-6 div.sk-label label {font-family: monospace;font-weight: bold;display: inline-block;line-height: 1.2em;}#sk-container-id-6 div.sk-label-container {text-align: center;}#sk-container-id-6 div.sk-container {/* jupyter's `normalize.less` sets `[hidden] { display: none; }` but bootstrap.min.css set `[hidden] { display: none !important; }` so we also need the `!important` here to be able to override the default hidden behavior on the sphinx rendered scikit-learn.org. See: https://github.com/scikit-learn/scikit-learn/issues/21755 */display: inline-block !important;position: relative;}#sk-container-id-6 div.sk-text-repr-fallback {display: none;}</style><div id=\"sk-container-id-6\" class=\"sk-top-container\"><div class=\"sk-text-repr-fallback\"><pre>ColumnTransformer(remainder=&#x27;passthrough&#x27;,\n",
       "                  transformers=[(&#x27;standardscaler&#x27;, StandardScaler(),\n",
       "                                 [&#x27;trestbps&#x27;, &#x27;thalach&#x27;])],\n",
       "                  verbose_feature_names_out=False)</pre><b>In a Jupyter environment, please rerun this cell to show the HTML representation or trust the notebook. <br />On GitHub, the HTML representation is unable to render, please try loading this page with nbviewer.org.</b></div><div class=\"sk-container\" hidden><div class=\"sk-item sk-dashed-wrapped\"><div class=\"sk-label-container\"><div class=\"sk-label sk-toggleable\"><input class=\"sk-toggleable__control sk-hidden--visually\" id=\"sk-estimator-id-23\" type=\"checkbox\" ><label for=\"sk-estimator-id-23\" class=\"sk-toggleable__label sk-toggleable__label-arrow\">ColumnTransformer</label><div class=\"sk-toggleable__content\"><pre>ColumnTransformer(remainder=&#x27;passthrough&#x27;,\n",
       "                  transformers=[(&#x27;standardscaler&#x27;, StandardScaler(),\n",
       "                                 [&#x27;trestbps&#x27;, &#x27;thalach&#x27;])],\n",
       "                  verbose_feature_names_out=False)</pre></div></div></div><div class=\"sk-parallel\"><div class=\"sk-parallel-item\"><div class=\"sk-item\"><div class=\"sk-label-container\"><div class=\"sk-label sk-toggleable\"><input class=\"sk-toggleable__control sk-hidden--visually\" id=\"sk-estimator-id-24\" type=\"checkbox\" ><label for=\"sk-estimator-id-24\" class=\"sk-toggleable__label sk-toggleable__label-arrow\">standardscaler</label><div class=\"sk-toggleable__content\"><pre>[&#x27;trestbps&#x27;, &#x27;thalach&#x27;]</pre></div></div></div><div class=\"sk-serial\"><div class=\"sk-item\"><div class=\"sk-estimator sk-toggleable\"><input class=\"sk-toggleable__control sk-hidden--visually\" id=\"sk-estimator-id-25\" type=\"checkbox\" ><label for=\"sk-estimator-id-25\" class=\"sk-toggleable__label sk-toggleable__label-arrow\">StandardScaler</label><div class=\"sk-toggleable__content\"><pre>StandardScaler()</pre></div></div></div></div></div></div><div class=\"sk-parallel-item\"><div class=\"sk-item\"><div class=\"sk-label-container\"><div class=\"sk-label sk-toggleable\"><input class=\"sk-toggleable__control sk-hidden--visually\" id=\"sk-estimator-id-26\" type=\"checkbox\" ><label for=\"sk-estimator-id-26\" class=\"sk-toggleable__label sk-toggleable__label-arrow\">remainder</label><div class=\"sk-toggleable__content\"><pre></pre></div></div></div><div class=\"sk-serial\"><div class=\"sk-item\"><div class=\"sk-estimator sk-toggleable\"><input class=\"sk-toggleable__control sk-hidden--visually\" id=\"sk-estimator-id-27\" type=\"checkbox\" ><label for=\"sk-estimator-id-27\" class=\"sk-toggleable__label sk-toggleable__label-arrow\">passthrough</label><div class=\"sk-toggleable__content\"><pre>passthrough</pre></div></div></div></div></div></div></div></div></div></div>"
      ],
      "text/plain": [
       "ColumnTransformer(remainder='passthrough',\n",
       "                  transformers=[('standardscaler', StandardScaler(),\n",
       "                                 ['trestbps', 'thalach'])],\n",
       "                  verbose_feature_names_out=False)"
      ]
     },
     "execution_count": 132,
     "metadata": {},
     "output_type": "execute_result"
    }
   ],
   "source": [
    "#preprocess the data\n",
    "heart_preprocessor = make_column_transformer(\n",
    "    (StandardScaler(), [\"trestbps\",\"thalach\"]),\n",
    "    remainder = \"passthrough\",\n",
    "    verbose_feature_names_out=False\n",
    ")\n",
    "heart_preprocessor"
   ]
  },
  {
   "cell_type": "markdown",
   "id": "e26d58d1-e258-405c-8c5c-3128d5f360d5",
   "metadata": {},
   "source": [
    "***Fig.21***: Data Preprocessing: Standard Scaling Applied to 'trestbps' and 'thalach' Features, with Remaining Features Passed Through Unaltered."
   ]
  },
  {
   "cell_type": "markdown",
   "id": "d2c53371-9d76-4efb-9a38-091488df8f00",
   "metadata": {},
   "source": [
    "# 6.3 Putting it together in a Pipeline "
   ]
  },
  {
   "cell_type": "markdown",
   "id": "c663c176-f1b2-4abd-a2b5-76f1cd7ffdc7",
   "metadata": {},
   "source": [
    "As part of the Scikit library function, the pipeline is fitted  into our data. This is key to ensuring that our predictions are accurate. "
   ]
  },
  {
   "cell_type": "code",
   "execution_count": 133,
   "id": "0ce699f6-e00f-43e1-9031-4976307cc44f",
   "metadata": {
    "tags": []
   },
   "outputs": [
    {
     "data": {
      "text/html": [
       "<style>#sk-container-id-7 {color: black;background-color: white;}#sk-container-id-7 pre{padding: 0;}#sk-container-id-7 div.sk-toggleable {background-color: white;}#sk-container-id-7 label.sk-toggleable__label {cursor: pointer;display: block;width: 100%;margin-bottom: 0;padding: 0.3em;box-sizing: border-box;text-align: center;}#sk-container-id-7 label.sk-toggleable__label-arrow:before {content: \"▸\";float: left;margin-right: 0.25em;color: #696969;}#sk-container-id-7 label.sk-toggleable__label-arrow:hover:before {color: black;}#sk-container-id-7 div.sk-estimator:hover label.sk-toggleable__label-arrow:before {color: black;}#sk-container-id-7 div.sk-toggleable__content {max-height: 0;max-width: 0;overflow: hidden;text-align: left;background-color: #f0f8ff;}#sk-container-id-7 div.sk-toggleable__content pre {margin: 0.2em;color: black;border-radius: 0.25em;background-color: #f0f8ff;}#sk-container-id-7 input.sk-toggleable__control:checked~div.sk-toggleable__content {max-height: 200px;max-width: 100%;overflow: auto;}#sk-container-id-7 input.sk-toggleable__control:checked~label.sk-toggleable__label-arrow:before {content: \"▾\";}#sk-container-id-7 div.sk-estimator input.sk-toggleable__control:checked~label.sk-toggleable__label {background-color: #d4ebff;}#sk-container-id-7 div.sk-label input.sk-toggleable__control:checked~label.sk-toggleable__label {background-color: #d4ebff;}#sk-container-id-7 input.sk-hidden--visually {border: 0;clip: rect(1px 1px 1px 1px);clip: rect(1px, 1px, 1px, 1px);height: 1px;margin: -1px;overflow: hidden;padding: 0;position: absolute;width: 1px;}#sk-container-id-7 div.sk-estimator {font-family: monospace;background-color: #f0f8ff;border: 1px dotted black;border-radius: 0.25em;box-sizing: border-box;margin-bottom: 0.5em;}#sk-container-id-7 div.sk-estimator:hover {background-color: #d4ebff;}#sk-container-id-7 div.sk-parallel-item::after {content: \"\";width: 100%;border-bottom: 1px solid gray;flex-grow: 1;}#sk-container-id-7 div.sk-label:hover label.sk-toggleable__label {background-color: #d4ebff;}#sk-container-id-7 div.sk-serial::before {content: \"\";position: absolute;border-left: 1px solid gray;box-sizing: border-box;top: 0;bottom: 0;left: 50%;z-index: 0;}#sk-container-id-7 div.sk-serial {display: flex;flex-direction: column;align-items: center;background-color: white;padding-right: 0.2em;padding-left: 0.2em;position: relative;}#sk-container-id-7 div.sk-item {position: relative;z-index: 1;}#sk-container-id-7 div.sk-parallel {display: flex;align-items: stretch;justify-content: center;background-color: white;position: relative;}#sk-container-id-7 div.sk-item::before, #sk-container-id-7 div.sk-parallel-item::before {content: \"\";position: absolute;border-left: 1px solid gray;box-sizing: border-box;top: 0;bottom: 0;left: 50%;z-index: -1;}#sk-container-id-7 div.sk-parallel-item {display: flex;flex-direction: column;z-index: 1;position: relative;background-color: white;}#sk-container-id-7 div.sk-parallel-item:first-child::after {align-self: flex-end;width: 50%;}#sk-container-id-7 div.sk-parallel-item:last-child::after {align-self: flex-start;width: 50%;}#sk-container-id-7 div.sk-parallel-item:only-child::after {width: 0;}#sk-container-id-7 div.sk-dashed-wrapped {border: 1px dashed gray;margin: 0 0.4em 0.5em 0.4em;box-sizing: border-box;padding-bottom: 0.4em;background-color: white;}#sk-container-id-7 div.sk-label label {font-family: monospace;font-weight: bold;display: inline-block;line-height: 1.2em;}#sk-container-id-7 div.sk-label-container {text-align: center;}#sk-container-id-7 div.sk-container {/* jupyter's `normalize.less` sets `[hidden] { display: none; }` but bootstrap.min.css set `[hidden] { display: none !important; }` so we also need the `!important` here to be able to override the default hidden behavior on the sphinx rendered scikit-learn.org. See: https://github.com/scikit-learn/scikit-learn/issues/21755 */display: inline-block !important;position: relative;}#sk-container-id-7 div.sk-text-repr-fallback {display: none;}</style><div id=\"sk-container-id-7\" class=\"sk-top-container\"><div class=\"sk-text-repr-fallback\"><pre>Pipeline(steps=[(&#x27;columntransformer&#x27;,\n",
       "                 ColumnTransformer(remainder=&#x27;passthrough&#x27;,\n",
       "                                   transformers=[(&#x27;standardscaler&#x27;,\n",
       "                                                  StandardScaler(),\n",
       "                                                  [&#x27;trestbps&#x27;, &#x27;thalach&#x27;])],\n",
       "                                   verbose_feature_names_out=False)),\n",
       "                (&#x27;kneighborsclassifier&#x27;, KNeighborsClassifier(n_neighbors=80))])</pre><b>In a Jupyter environment, please rerun this cell to show the HTML representation or trust the notebook. <br />On GitHub, the HTML representation is unable to render, please try loading this page with nbviewer.org.</b></div><div class=\"sk-container\" hidden><div class=\"sk-item sk-dashed-wrapped\"><div class=\"sk-label-container\"><div class=\"sk-label sk-toggleable\"><input class=\"sk-toggleable__control sk-hidden--visually\" id=\"sk-estimator-id-28\" type=\"checkbox\" ><label for=\"sk-estimator-id-28\" class=\"sk-toggleable__label sk-toggleable__label-arrow\">Pipeline</label><div class=\"sk-toggleable__content\"><pre>Pipeline(steps=[(&#x27;columntransformer&#x27;,\n",
       "                 ColumnTransformer(remainder=&#x27;passthrough&#x27;,\n",
       "                                   transformers=[(&#x27;standardscaler&#x27;,\n",
       "                                                  StandardScaler(),\n",
       "                                                  [&#x27;trestbps&#x27;, &#x27;thalach&#x27;])],\n",
       "                                   verbose_feature_names_out=False)),\n",
       "                (&#x27;kneighborsclassifier&#x27;, KNeighborsClassifier(n_neighbors=80))])</pre></div></div></div><div class=\"sk-serial\"><div class=\"sk-item sk-dashed-wrapped\"><div class=\"sk-label-container\"><div class=\"sk-label sk-toggleable\"><input class=\"sk-toggleable__control sk-hidden--visually\" id=\"sk-estimator-id-29\" type=\"checkbox\" ><label for=\"sk-estimator-id-29\" class=\"sk-toggleable__label sk-toggleable__label-arrow\">columntransformer: ColumnTransformer</label><div class=\"sk-toggleable__content\"><pre>ColumnTransformer(remainder=&#x27;passthrough&#x27;,\n",
       "                  transformers=[(&#x27;standardscaler&#x27;, StandardScaler(),\n",
       "                                 [&#x27;trestbps&#x27;, &#x27;thalach&#x27;])],\n",
       "                  verbose_feature_names_out=False)</pre></div></div></div><div class=\"sk-parallel\"><div class=\"sk-parallel-item\"><div class=\"sk-item\"><div class=\"sk-label-container\"><div class=\"sk-label sk-toggleable\"><input class=\"sk-toggleable__control sk-hidden--visually\" id=\"sk-estimator-id-30\" type=\"checkbox\" ><label for=\"sk-estimator-id-30\" class=\"sk-toggleable__label sk-toggleable__label-arrow\">standardscaler</label><div class=\"sk-toggleable__content\"><pre>[&#x27;trestbps&#x27;, &#x27;thalach&#x27;]</pre></div></div></div><div class=\"sk-serial\"><div class=\"sk-item\"><div class=\"sk-estimator sk-toggleable\"><input class=\"sk-toggleable__control sk-hidden--visually\" id=\"sk-estimator-id-31\" type=\"checkbox\" ><label for=\"sk-estimator-id-31\" class=\"sk-toggleable__label sk-toggleable__label-arrow\">StandardScaler</label><div class=\"sk-toggleable__content\"><pre>StandardScaler()</pre></div></div></div></div></div></div><div class=\"sk-parallel-item\"><div class=\"sk-item\"><div class=\"sk-label-container\"><div class=\"sk-label sk-toggleable\"><input class=\"sk-toggleable__control sk-hidden--visually\" id=\"sk-estimator-id-32\" type=\"checkbox\" ><label for=\"sk-estimator-id-32\" class=\"sk-toggleable__label sk-toggleable__label-arrow\">remainder</label><div class=\"sk-toggleable__content\"><pre>[]</pre></div></div></div><div class=\"sk-serial\"><div class=\"sk-item\"><div class=\"sk-estimator sk-toggleable\"><input class=\"sk-toggleable__control sk-hidden--visually\" id=\"sk-estimator-id-33\" type=\"checkbox\" ><label for=\"sk-estimator-id-33\" class=\"sk-toggleable__label sk-toggleable__label-arrow\">passthrough</label><div class=\"sk-toggleable__content\"><pre>passthrough</pre></div></div></div></div></div></div></div></div><div class=\"sk-item\"><div class=\"sk-estimator sk-toggleable\"><input class=\"sk-toggleable__control sk-hidden--visually\" id=\"sk-estimator-id-34\" type=\"checkbox\" ><label for=\"sk-estimator-id-34\" class=\"sk-toggleable__label sk-toggleable__label-arrow\">KNeighborsClassifier</label><div class=\"sk-toggleable__content\"><pre>KNeighborsClassifier(n_neighbors=80)</pre></div></div></div></div></div></div></div>"
      ],
      "text/plain": [
       "Pipeline(steps=[('columntransformer',\n",
       "                 ColumnTransformer(remainder='passthrough',\n",
       "                                   transformers=[('standardscaler',\n",
       "                                                  StandardScaler(),\n",
       "                                                  ['trestbps', 'thalach'])],\n",
       "                                   verbose_feature_names_out=False)),\n",
       "                ('kneighborsclassifier', KNeighborsClassifier(n_neighbors=80))])"
      ]
     },
     "execution_count": 133,
     "metadata": {},
     "output_type": "execute_result"
    }
   ],
   "source": [
    "hknn_fit = make_pipeline(heart_preprocessor, hknn).fit(X, y)\n",
    "hknn_fit"
   ]
  },
  {
   "cell_type": "markdown",
   "id": "89feb905-75eb-41ee-b5d7-644ca0d5686c",
   "metadata": {},
   "source": [
    "***Fig.22***: Model Training: Constructing a Pipeline with Preprocessing Steps and Fitting a k-Nearest Neighbors Classifier to the Heart Disease Training Data."
   ]
  },
  {
   "cell_type": "markdown",
   "id": "1d598094-9760-427b-b474-325ed5deabb6",
   "metadata": {},
   "source": [
    "# 6.4 Choosing the most optimal k-value "
   ]
  },
  {
   "cell_type": "markdown",
   "id": "5ce332f0-e94d-467e-b253-8e01c3cf18e9",
   "metadata": {},
   "source": [
    "Cross-validation involves dividing the training data into subsets to assess the classifier's performance comprehensively. The objective is to compare various parameter values and identify the optimal one. This process includes splitting the training data into two parts, one for actual training and the other for evaluation, referred to as the validation set."
   ]
  },
  {
   "cell_type": "markdown",
   "id": "e6bfce89-a757-4078-871c-fff1f6ecd81b",
   "metadata": {},
   "source": [
    "# 6.4.1 Cross-Validation"
   ]
  },
  {
   "cell_type": "code",
   "execution_count": 134,
   "id": "a3c87f09-70f8-4445-b0dd-43d41be46d17",
   "metadata": {
    "tags": []
   },
   "outputs": [
    {
     "data": {
      "text/plain": [
       "0.7368421052631579"
      ]
     },
     "execution_count": 134,
     "metadata": {},
     "output_type": "execute_result"
    }
   ],
   "source": [
    "#cross validate\n",
    "# create the 25/75 split of the *training data* into sub-training and validation\n",
    "heart_subtrain, heart_validation = train_test_split(\n",
    "    heart_traindata, test_size=0.25, random_state=123)\n",
    "\n",
    "# fit the model on the sub-training data with 10 neighbors\n",
    "hknn = KNeighborsClassifier(n_neighbors= 10) \n",
    "X = heart_subtrain[[\"trestbps\", \"thalach\"]]\n",
    "y = heart_subtrain[\"num\"]\n",
    "hknn_fit = make_pipeline(heart_preprocessor, hknn).fit(X, y)\n",
    "\n",
    "# compute the score on validation data\n",
    "acc = hknn_fit.score(\n",
    "    heart_validation[[\"trestbps\", \"thalach\"]],\n",
    "    heart_validation[\"num\"]\n",
    ")\n",
    "acc\n",
    "#0.7368421052631579\n",
    "#so accuracy is 73.7%"
   ]
  },
  {
   "cell_type": "code",
   "execution_count": 135,
   "id": "8c3c16cf-65ef-4767-bcf0-c34460b613fe",
   "metadata": {
    "tags": []
   },
   "outputs": [
    {
     "data": {
      "text/html": [
       "<div>\n",
       "<style scoped>\n",
       "    .dataframe tbody tr th:only-of-type {\n",
       "        vertical-align: middle;\n",
       "    }\n",
       "\n",
       "    .dataframe tbody tr th {\n",
       "        vertical-align: top;\n",
       "    }\n",
       "\n",
       "    .dataframe thead th {\n",
       "        text-align: right;\n",
       "    }\n",
       "</style>\n",
       "<table border=\"1\" class=\"dataframe\">\n",
       "  <thead>\n",
       "    <tr style=\"text-align: right;\">\n",
       "      <th></th>\n",
       "      <th>fit_time</th>\n",
       "      <th>score_time</th>\n",
       "      <th>test_score</th>\n",
       "    </tr>\n",
       "  </thead>\n",
       "  <tbody>\n",
       "    <tr>\n",
       "      <th>0</th>\n",
       "      <td>0.014124</td>\n",
       "      <td>0.017580</td>\n",
       "      <td>0.500000</td>\n",
       "    </tr>\n",
       "    <tr>\n",
       "      <th>1</th>\n",
       "      <td>0.006725</td>\n",
       "      <td>0.005512</td>\n",
       "      <td>0.705882</td>\n",
       "    </tr>\n",
       "    <tr>\n",
       "      <th>2</th>\n",
       "      <td>0.007205</td>\n",
       "      <td>0.005334</td>\n",
       "      <td>0.705882</td>\n",
       "    </tr>\n",
       "    <tr>\n",
       "      <th>3</th>\n",
       "      <td>0.006945</td>\n",
       "      <td>0.005383</td>\n",
       "      <td>0.529412</td>\n",
       "    </tr>\n",
       "    <tr>\n",
       "      <th>4</th>\n",
       "      <td>0.006171</td>\n",
       "      <td>0.005168</td>\n",
       "      <td>0.617647</td>\n",
       "    </tr>\n",
       "  </tbody>\n",
       "</table>\n",
       "</div>"
      ],
      "text/plain": [
       "   fit_time  score_time  test_score\n",
       "0  0.014124    0.017580    0.500000\n",
       "1  0.006725    0.005512    0.705882\n",
       "2  0.007205    0.005334    0.705882\n",
       "3  0.006945    0.005383    0.529412\n",
       "4  0.006171    0.005168    0.617647"
      ]
     },
     "execution_count": 135,
     "metadata": {},
     "output_type": "execute_result"
    }
   ],
   "source": [
    "#5 fold cross-validate \n",
    "hknn = KNeighborsClassifier(n_neighbors=3) \n",
    "heart_pipe = make_pipeline(heart_preprocessor, hknn)\n",
    "\n",
    "cv_5_df = pd.DataFrame(\n",
    "    cross_validate(\n",
    "        estimator=heart_pipe,\n",
    "        cv=5,\n",
    "        X=X,\n",
    "        y=y\n",
    "    )\n",
    ")\n",
    "\n",
    "cv_5_df"
   ]
  },
  {
   "cell_type": "markdown",
   "id": "49f90551-9899-4ef3-b6b8-b51c39eb4ba5",
   "metadata": {},
   "source": [
    "In this step, we used cross-validation to create a 25/75 split of the training data into sub-training and validation. The resulting score of 73.7%reflects the accuracy of the model classifier. "
   ]
  },
  {
   "cell_type": "markdown",
   "id": "8293db75-2d84-412b-b1df-edb8b1c27958",
   "metadata": {},
   "source": [
    "***Table 7***: \"5-Fold Cross-Validation Results: Assessing the Performance of the Heart Disease Classifier Using a k-Nearest Neighbors Model with 3 Neighbors.\""
   ]
  },
  {
   "cell_type": "code",
   "execution_count": 136,
   "id": "c395240e-1bc7-44f2-a994-26f0422435ce",
   "metadata": {
    "tags": []
   },
   "outputs": [
    {
     "data": {
      "text/html": [
       "<div>\n",
       "<style scoped>\n",
       "    .dataframe tbody tr th:only-of-type {\n",
       "        vertical-align: middle;\n",
       "    }\n",
       "\n",
       "    .dataframe tbody tr th {\n",
       "        vertical-align: top;\n",
       "    }\n",
       "\n",
       "    .dataframe thead th {\n",
       "        text-align: right;\n",
       "    }\n",
       "</style>\n",
       "<table border=\"1\" class=\"dataframe\">\n",
       "  <thead>\n",
       "    <tr style=\"text-align: right;\">\n",
       "      <th></th>\n",
       "      <th>fit_time</th>\n",
       "      <th>score_time</th>\n",
       "      <th>test_score</th>\n",
       "    </tr>\n",
       "  </thead>\n",
       "  <tbody>\n",
       "    <tr>\n",
       "      <th>mean</th>\n",
       "      <td>0.008234</td>\n",
       "      <td>0.007795</td>\n",
       "      <td>0.611765</td>\n",
       "    </tr>\n",
       "    <tr>\n",
       "      <th>sem</th>\n",
       "      <td>0.001482</td>\n",
       "      <td>0.002447</td>\n",
       "      <td>0.043026</td>\n",
       "    </tr>\n",
       "  </tbody>\n",
       "</table>\n",
       "</div>"
      ],
      "text/plain": [
       "      fit_time  score_time  test_score\n",
       "mean  0.008234    0.007795    0.611765\n",
       "sem   0.001482    0.002447    0.043026"
      ]
     },
     "execution_count": 136,
     "metadata": {},
     "output_type": "execute_result"
    }
   ],
   "source": [
    "cv_5_metrics = cv_5_df.agg(['mean', 'sem'])\n",
    "cv_5_metrics"
   ]
  },
  {
   "cell_type": "markdown",
   "id": "f8c44e00-a024-4444-a616-6008b45a943a",
   "metadata": {},
   "source": [
    "***Table 8***: Aggregated Metrics from 5-Fold Cross-Validation: Calculating the Mean and Standard Error (SEM) Across Performance Metrics for the Heart Disease Classifier."
   ]
  },
  {
   "cell_type": "code",
   "execution_count": 137,
   "id": "3f035397-db8e-43d0-8abf-c3e3f3ef43aa",
   "metadata": {
    "tags": []
   },
   "outputs": [
    {
     "data": {
      "text/html": [
       "<div>\n",
       "<style scoped>\n",
       "    .dataframe tbody tr th:only-of-type {\n",
       "        vertical-align: middle;\n",
       "    }\n",
       "\n",
       "    .dataframe tbody tr th {\n",
       "        vertical-align: top;\n",
       "    }\n",
       "\n",
       "    .dataframe thead th {\n",
       "        text-align: right;\n",
       "    }\n",
       "</style>\n",
       "<table border=\"1\" class=\"dataframe\">\n",
       "  <thead>\n",
       "    <tr style=\"text-align: right;\">\n",
       "      <th></th>\n",
       "      <th>fit_time</th>\n",
       "      <th>score_time</th>\n",
       "      <th>test_score</th>\n",
       "    </tr>\n",
       "  </thead>\n",
       "  <tbody>\n",
       "    <tr>\n",
       "      <th>mean</th>\n",
       "      <td>0.006938</td>\n",
       "      <td>0.005414</td>\n",
       "      <td>0.600000</td>\n",
       "    </tr>\n",
       "    <tr>\n",
       "      <th>sem</th>\n",
       "      <td>0.000351</td>\n",
       "      <td>0.000285</td>\n",
       "      <td>0.039992</td>\n",
       "    </tr>\n",
       "  </tbody>\n",
       "</table>\n",
       "</div>"
      ],
      "text/plain": [
       "      fit_time  score_time  test_score\n",
       "mean  0.006938    0.005414    0.600000\n",
       "sem   0.000351    0.000285    0.039992"
      ]
     },
     "execution_count": 137,
     "metadata": {},
     "output_type": "execute_result"
    }
   ],
   "source": [
    "#testing if 10 is better for fold\n",
    "cv_10 = pd.DataFrame(\n",
    "    cross_validate(\n",
    "        estimator=heart_pipe,\n",
    "        cv=10,\n",
    "        X=X,\n",
    "        y=y\n",
    "    )\n",
    ")\n",
    "\n",
    "cv_10_df = pd.DataFrame(cv_10)\n",
    "cv_10_metrics = cv_10_df.agg(['mean', 'sem'])\n",
    "cv_10_metrics\n",
    "#did lower the std \n",
    "##remove need to record the score "
   ]
  },
  {
   "cell_type": "markdown",
   "id": "9792c3be-19de-4b72-b3ca-5536a41b03ba",
   "metadata": {},
   "source": [
    "***Table 9***: Cross-Validation Results with 10 Folds: Evaluating the Mean and Standard Error of Model Metrics, Considering the Performance of the Heart Disease Classifier."
   ]
  },
  {
   "cell_type": "markdown",
   "id": "dbaaa257-6f87-4137-bd40-0115d21a35d1",
   "metadata": {},
   "source": [
    "# 6.4.2 Parameter value selection"
   ]
  },
  {
   "cell_type": "code",
   "execution_count": 138,
   "id": "407ba74e-068f-4ded-a3dd-58a7bab2917f",
   "metadata": {
    "tags": []
   },
   "outputs": [
    {
     "data": {
      "text/html": [
       "<style>#sk-container-id-8 {color: black;background-color: white;}#sk-container-id-8 pre{padding: 0;}#sk-container-id-8 div.sk-toggleable {background-color: white;}#sk-container-id-8 label.sk-toggleable__label {cursor: pointer;display: block;width: 100%;margin-bottom: 0;padding: 0.3em;box-sizing: border-box;text-align: center;}#sk-container-id-8 label.sk-toggleable__label-arrow:before {content: \"▸\";float: left;margin-right: 0.25em;color: #696969;}#sk-container-id-8 label.sk-toggleable__label-arrow:hover:before {color: black;}#sk-container-id-8 div.sk-estimator:hover label.sk-toggleable__label-arrow:before {color: black;}#sk-container-id-8 div.sk-toggleable__content {max-height: 0;max-width: 0;overflow: hidden;text-align: left;background-color: #f0f8ff;}#sk-container-id-8 div.sk-toggleable__content pre {margin: 0.2em;color: black;border-radius: 0.25em;background-color: #f0f8ff;}#sk-container-id-8 input.sk-toggleable__control:checked~div.sk-toggleable__content {max-height: 200px;max-width: 100%;overflow: auto;}#sk-container-id-8 input.sk-toggleable__control:checked~label.sk-toggleable__label-arrow:before {content: \"▾\";}#sk-container-id-8 div.sk-estimator input.sk-toggleable__control:checked~label.sk-toggleable__label {background-color: #d4ebff;}#sk-container-id-8 div.sk-label input.sk-toggleable__control:checked~label.sk-toggleable__label {background-color: #d4ebff;}#sk-container-id-8 input.sk-hidden--visually {border: 0;clip: rect(1px 1px 1px 1px);clip: rect(1px, 1px, 1px, 1px);height: 1px;margin: -1px;overflow: hidden;padding: 0;position: absolute;width: 1px;}#sk-container-id-8 div.sk-estimator {font-family: monospace;background-color: #f0f8ff;border: 1px dotted black;border-radius: 0.25em;box-sizing: border-box;margin-bottom: 0.5em;}#sk-container-id-8 div.sk-estimator:hover {background-color: #d4ebff;}#sk-container-id-8 div.sk-parallel-item::after {content: \"\";width: 100%;border-bottom: 1px solid gray;flex-grow: 1;}#sk-container-id-8 div.sk-label:hover label.sk-toggleable__label {background-color: #d4ebff;}#sk-container-id-8 div.sk-serial::before {content: \"\";position: absolute;border-left: 1px solid gray;box-sizing: border-box;top: 0;bottom: 0;left: 50%;z-index: 0;}#sk-container-id-8 div.sk-serial {display: flex;flex-direction: column;align-items: center;background-color: white;padding-right: 0.2em;padding-left: 0.2em;position: relative;}#sk-container-id-8 div.sk-item {position: relative;z-index: 1;}#sk-container-id-8 div.sk-parallel {display: flex;align-items: stretch;justify-content: center;background-color: white;position: relative;}#sk-container-id-8 div.sk-item::before, #sk-container-id-8 div.sk-parallel-item::before {content: \"\";position: absolute;border-left: 1px solid gray;box-sizing: border-box;top: 0;bottom: 0;left: 50%;z-index: -1;}#sk-container-id-8 div.sk-parallel-item {display: flex;flex-direction: column;z-index: 1;position: relative;background-color: white;}#sk-container-id-8 div.sk-parallel-item:first-child::after {align-self: flex-end;width: 50%;}#sk-container-id-8 div.sk-parallel-item:last-child::after {align-self: flex-start;width: 50%;}#sk-container-id-8 div.sk-parallel-item:only-child::after {width: 0;}#sk-container-id-8 div.sk-dashed-wrapped {border: 1px dashed gray;margin: 0 0.4em 0.5em 0.4em;box-sizing: border-box;padding-bottom: 0.4em;background-color: white;}#sk-container-id-8 div.sk-label label {font-family: monospace;font-weight: bold;display: inline-block;line-height: 1.2em;}#sk-container-id-8 div.sk-label-container {text-align: center;}#sk-container-id-8 div.sk-container {/* jupyter's `normalize.less` sets `[hidden] { display: none; }` but bootstrap.min.css set `[hidden] { display: none !important; }` so we also need the `!important` here to be able to override the default hidden behavior on the sphinx rendered scikit-learn.org. See: https://github.com/scikit-learn/scikit-learn/issues/21755 */display: inline-block !important;position: relative;}#sk-container-id-8 div.sk-text-repr-fallback {display: none;}</style><div id=\"sk-container-id-8\" class=\"sk-top-container\"><div class=\"sk-text-repr-fallback\"><pre>GridSearchCV(cv=10,\n",
       "             estimator=Pipeline(steps=[(&#x27;columntransformer&#x27;,\n",
       "                                        ColumnTransformer(remainder=&#x27;passthrough&#x27;,\n",
       "                                                          transformers=[(&#x27;standardscaler&#x27;,\n",
       "                                                                         StandardScaler(),\n",
       "                                                                         [&#x27;trestbps&#x27;,\n",
       "                                                                          &#x27;thalach&#x27;])],\n",
       "                                                          verbose_feature_names_out=False)),\n",
       "                                       (&#x27;kneighborsclassifier&#x27;,\n",
       "                                        KNeighborsClassifier())]),\n",
       "             param_grid={&#x27;kneighborsclassifier__n_neighbors&#x27;: range(1, 30)})</pre><b>In a Jupyter environment, please rerun this cell to show the HTML representation or trust the notebook. <br />On GitHub, the HTML representation is unable to render, please try loading this page with nbviewer.org.</b></div><div class=\"sk-container\" hidden><div class=\"sk-item sk-dashed-wrapped\"><div class=\"sk-label-container\"><div class=\"sk-label sk-toggleable\"><input class=\"sk-toggleable__control sk-hidden--visually\" id=\"sk-estimator-id-35\" type=\"checkbox\" ><label for=\"sk-estimator-id-35\" class=\"sk-toggleable__label sk-toggleable__label-arrow\">GridSearchCV</label><div class=\"sk-toggleable__content\"><pre>GridSearchCV(cv=10,\n",
       "             estimator=Pipeline(steps=[(&#x27;columntransformer&#x27;,\n",
       "                                        ColumnTransformer(remainder=&#x27;passthrough&#x27;,\n",
       "                                                          transformers=[(&#x27;standardscaler&#x27;,\n",
       "                                                                         StandardScaler(),\n",
       "                                                                         [&#x27;trestbps&#x27;,\n",
       "                                                                          &#x27;thalach&#x27;])],\n",
       "                                                          verbose_feature_names_out=False)),\n",
       "                                       (&#x27;kneighborsclassifier&#x27;,\n",
       "                                        KNeighborsClassifier())]),\n",
       "             param_grid={&#x27;kneighborsclassifier__n_neighbors&#x27;: range(1, 30)})</pre></div></div></div><div class=\"sk-parallel\"><div class=\"sk-parallel-item\"><div class=\"sk-item\"><div class=\"sk-label-container\"><div class=\"sk-label sk-toggleable\"><input class=\"sk-toggleable__control sk-hidden--visually\" id=\"sk-estimator-id-36\" type=\"checkbox\" ><label for=\"sk-estimator-id-36\" class=\"sk-toggleable__label sk-toggleable__label-arrow\">estimator: Pipeline</label><div class=\"sk-toggleable__content\"><pre>Pipeline(steps=[(&#x27;columntransformer&#x27;,\n",
       "                 ColumnTransformer(remainder=&#x27;passthrough&#x27;,\n",
       "                                   transformers=[(&#x27;standardscaler&#x27;,\n",
       "                                                  StandardScaler(),\n",
       "                                                  [&#x27;trestbps&#x27;, &#x27;thalach&#x27;])],\n",
       "                                   verbose_feature_names_out=False)),\n",
       "                (&#x27;kneighborsclassifier&#x27;, KNeighborsClassifier())])</pre></div></div></div><div class=\"sk-serial\"><div class=\"sk-item\"><div class=\"sk-serial\"><div class=\"sk-item sk-dashed-wrapped\"><div class=\"sk-label-container\"><div class=\"sk-label sk-toggleable\"><input class=\"sk-toggleable__control sk-hidden--visually\" id=\"sk-estimator-id-37\" type=\"checkbox\" ><label for=\"sk-estimator-id-37\" class=\"sk-toggleable__label sk-toggleable__label-arrow\">columntransformer: ColumnTransformer</label><div class=\"sk-toggleable__content\"><pre>ColumnTransformer(remainder=&#x27;passthrough&#x27;,\n",
       "                  transformers=[(&#x27;standardscaler&#x27;, StandardScaler(),\n",
       "                                 [&#x27;trestbps&#x27;, &#x27;thalach&#x27;])],\n",
       "                  verbose_feature_names_out=False)</pre></div></div></div><div class=\"sk-parallel\"><div class=\"sk-parallel-item\"><div class=\"sk-item\"><div class=\"sk-label-container\"><div class=\"sk-label sk-toggleable\"><input class=\"sk-toggleable__control sk-hidden--visually\" id=\"sk-estimator-id-38\" type=\"checkbox\" ><label for=\"sk-estimator-id-38\" class=\"sk-toggleable__label sk-toggleable__label-arrow\">standardscaler</label><div class=\"sk-toggleable__content\"><pre>[&#x27;trestbps&#x27;, &#x27;thalach&#x27;]</pre></div></div></div><div class=\"sk-serial\"><div class=\"sk-item\"><div class=\"sk-estimator sk-toggleable\"><input class=\"sk-toggleable__control sk-hidden--visually\" id=\"sk-estimator-id-39\" type=\"checkbox\" ><label for=\"sk-estimator-id-39\" class=\"sk-toggleable__label sk-toggleable__label-arrow\">StandardScaler</label><div class=\"sk-toggleable__content\"><pre>StandardScaler()</pre></div></div></div></div></div></div><div class=\"sk-parallel-item\"><div class=\"sk-item\"><div class=\"sk-label-container\"><div class=\"sk-label sk-toggleable\"><input class=\"sk-toggleable__control sk-hidden--visually\" id=\"sk-estimator-id-40\" type=\"checkbox\" ><label for=\"sk-estimator-id-40\" class=\"sk-toggleable__label sk-toggleable__label-arrow\">remainder</label><div class=\"sk-toggleable__content\"><pre>[]</pre></div></div></div><div class=\"sk-serial\"><div class=\"sk-item\"><div class=\"sk-estimator sk-toggleable\"><input class=\"sk-toggleable__control sk-hidden--visually\" id=\"sk-estimator-id-41\" type=\"checkbox\" ><label for=\"sk-estimator-id-41\" class=\"sk-toggleable__label sk-toggleable__label-arrow\">passthrough</label><div class=\"sk-toggleable__content\"><pre>passthrough</pre></div></div></div></div></div></div></div></div><div class=\"sk-item\"><div class=\"sk-estimator sk-toggleable\"><input class=\"sk-toggleable__control sk-hidden--visually\" id=\"sk-estimator-id-42\" type=\"checkbox\" ><label for=\"sk-estimator-id-42\" class=\"sk-toggleable__label sk-toggleable__label-arrow\">KNeighborsClassifier</label><div class=\"sk-toggleable__content\"><pre>KNeighborsClassifier()</pre></div></div></div></div></div></div></div></div></div></div></div></div>"
      ],
      "text/plain": [
       "GridSearchCV(cv=10,\n",
       "             estimator=Pipeline(steps=[('columntransformer',\n",
       "                                        ColumnTransformer(remainder='passthrough',\n",
       "                                                          transformers=[('standardscaler',\n",
       "                                                                         StandardScaler(),\n",
       "                                                                         ['trestbps',\n",
       "                                                                          'thalach'])],\n",
       "                                                          verbose_feature_names_out=False)),\n",
       "                                       ('kneighborsclassifier',\n",
       "                                        KNeighborsClassifier())]),\n",
       "             param_grid={'kneighborsclassifier__n_neighbors': range(1, 30)})"
      ]
     },
     "execution_count": 138,
     "metadata": {},
     "output_type": "execute_result"
    }
   ],
   "source": [
    "#parameter value selection \n",
    "knn = KNeighborsClassifier()\n",
    "heart_tune_pipe = make_pipeline(heart_preprocessor, knn)\n",
    "\n",
    "heart_tune_pipe.get_params()\n",
    "\n",
    "parameter_grid = {\n",
    "    \"kneighborsclassifier__n_neighbors\": range(1, 30, 1),\n",
    "}\n",
    "\n",
    "heart_tune_grid = GridSearchCV(\n",
    "    estimator=heart_tune_pipe,\n",
    "    param_grid=parameter_grid,\n",
    "    cv=10\n",
    ")\n",
    "heart_tune_grid"
   ]
  },
  {
   "cell_type": "markdown",
   "id": "bae75db7-7154-4d5c-8b66-d6867b8e5f45",
   "metadata": {},
   "source": [
    "***Fig.23***: Parameter Value Selection: Performing Grid Search with 10-Fold Cross-Validation to Optimize the Number of Neighbors for the Heart Disease Classifier."
   ]
  },
  {
   "cell_type": "code",
   "execution_count": 139,
   "id": "1e57b032-a24c-4798-8eea-b18a38ce6290",
   "metadata": {
    "tags": []
   },
   "outputs": [
    {
     "name": "stdout",
     "output_type": "stream",
     "text": [
      "<class 'pandas.core.frame.DataFrame'>\n",
      "RangeIndex: 29 entries, 0 to 28\n",
      "Data columns (total 19 columns):\n",
      " #   Column                                   Non-Null Count  Dtype  \n",
      "---  ------                                   --------------  -----  \n",
      " 0   mean_fit_time                            29 non-null     float64\n",
      " 1   std_fit_time                             29 non-null     float64\n",
      " 2   mean_score_time                          29 non-null     float64\n",
      " 3   std_score_time                           29 non-null     float64\n",
      " 4   param_kneighborsclassifier__n_neighbors  29 non-null     object \n",
      " 5   params                                   29 non-null     object \n",
      " 6   split0_test_score                        29 non-null     float64\n",
      " 7   split1_test_score                        29 non-null     float64\n",
      " 8   split2_test_score                        29 non-null     float64\n",
      " 9   split3_test_score                        29 non-null     float64\n",
      " 10  split4_test_score                        29 non-null     float64\n",
      " 11  split5_test_score                        29 non-null     float64\n",
      " 12  split6_test_score                        29 non-null     float64\n",
      " 13  split7_test_score                        29 non-null     float64\n",
      " 14  split8_test_score                        29 non-null     float64\n",
      " 15  split9_test_score                        29 non-null     float64\n",
      " 16  mean_test_score                          29 non-null     float64\n",
      " 17  std_test_score                           29 non-null     float64\n",
      " 18  rank_test_score                          29 non-null     int32  \n",
      "dtypes: float64(16), int32(1), object(2)\n",
      "memory usage: 4.3+ KB\n"
     ]
    }
   ],
   "source": [
    "#Extract and visualize accuracy vs. neighbors for a smaller parameter grid\n",
    "accuracies_grid = pd.DataFrame(\n",
    "    heart_tune_grid.fit(\n",
    "        heart_traindata[[\"trestbps\", \"thalach\"]],\n",
    "        heart_traindata[\"num\"]\n",
    "    ).cv_results_\n",
    ")\n",
    "accuracies_grid.info()"
   ]
  },
  {
   "cell_type": "markdown",
   "id": "73949ab4-d31a-4d69-b38a-944e7c8794fc",
   "metadata": {},
   "source": [
    "***Fig.24***: Accuracy vs. Neighbors: Extracting and Visualizing Model Performance Across a Smaller Parameter Grid Using Grid Search and 10-Fold Cross-Validation."
   ]
  },
  {
   "cell_type": "code",
   "execution_count": 140,
   "id": "b440c0d9-daf5-4543-b28c-298f46da029d",
   "metadata": {
    "tags": []
   },
   "outputs": [
    {
     "data": {
      "text/html": [
       "<div>\n",
       "<style scoped>\n",
       "    .dataframe tbody tr th:only-of-type {\n",
       "        vertical-align: middle;\n",
       "    }\n",
       "\n",
       "    .dataframe tbody tr th {\n",
       "        vertical-align: top;\n",
       "    }\n",
       "\n",
       "    .dataframe thead th {\n",
       "        text-align: right;\n",
       "    }\n",
       "</style>\n",
       "<table border=\"1\" class=\"dataframe\">\n",
       "  <thead>\n",
       "    <tr style=\"text-align: right;\">\n",
       "      <th></th>\n",
       "      <th>n_neighbors</th>\n",
       "      <th>mean_test_score</th>\n",
       "      <th>sem_test_score</th>\n",
       "    </tr>\n",
       "  </thead>\n",
       "  <tbody>\n",
       "    <tr>\n",
       "      <th>0</th>\n",
       "      <td>1</td>\n",
       "      <td>0.545257</td>\n",
       "      <td>0.025015</td>\n",
       "    </tr>\n",
       "    <tr>\n",
       "      <th>1</th>\n",
       "      <td>2</td>\n",
       "      <td>0.540711</td>\n",
       "      <td>0.028451</td>\n",
       "    </tr>\n",
       "    <tr>\n",
       "      <th>2</th>\n",
       "      <td>3</td>\n",
       "      <td>0.620356</td>\n",
       "      <td>0.030874</td>\n",
       "    </tr>\n",
       "    <tr>\n",
       "      <th>3</th>\n",
       "      <td>4</td>\n",
       "      <td>0.593676</td>\n",
       "      <td>0.023255</td>\n",
       "    </tr>\n",
       "    <tr>\n",
       "      <th>4</th>\n",
       "      <td>5</td>\n",
       "      <td>0.643083</td>\n",
       "      <td>0.020684</td>\n",
       "    </tr>\n",
       "    <tr>\n",
       "      <th>5</th>\n",
       "      <td>6</td>\n",
       "      <td>0.638735</td>\n",
       "      <td>0.017791</td>\n",
       "    </tr>\n",
       "    <tr>\n",
       "      <th>6</th>\n",
       "      <td>7</td>\n",
       "      <td>0.669763</td>\n",
       "      <td>0.024999</td>\n",
       "    </tr>\n",
       "    <tr>\n",
       "      <th>7</th>\n",
       "      <td>8</td>\n",
       "      <td>0.665020</td>\n",
       "      <td>0.025942</td>\n",
       "    </tr>\n",
       "    <tr>\n",
       "      <th>8</th>\n",
       "      <td>9</td>\n",
       "      <td>0.669368</td>\n",
       "      <td>0.026770</td>\n",
       "    </tr>\n",
       "    <tr>\n",
       "      <th>9</th>\n",
       "      <td>10</td>\n",
       "      <td>0.674111</td>\n",
       "      <td>0.024608</td>\n",
       "    </tr>\n",
       "    <tr>\n",
       "      <th>10</th>\n",
       "      <td>11</td>\n",
       "      <td>0.678854</td>\n",
       "      <td>0.030562</td>\n",
       "    </tr>\n",
       "    <tr>\n",
       "      <th>11</th>\n",
       "      <td>12</td>\n",
       "      <td>0.674111</td>\n",
       "      <td>0.027010</td>\n",
       "    </tr>\n",
       "    <tr>\n",
       "      <th>12</th>\n",
       "      <td>13</td>\n",
       "      <td>0.674308</td>\n",
       "      <td>0.023543</td>\n",
       "    </tr>\n",
       "    <tr>\n",
       "      <th>13</th>\n",
       "      <td>14</td>\n",
       "      <td>0.669763</td>\n",
       "      <td>0.025331</td>\n",
       "    </tr>\n",
       "    <tr>\n",
       "      <th>14</th>\n",
       "      <td>15</td>\n",
       "      <td>0.669960</td>\n",
       "      <td>0.031179</td>\n",
       "    </tr>\n",
       "    <tr>\n",
       "      <th>15</th>\n",
       "      <td>16</td>\n",
       "      <td>0.669763</td>\n",
       "      <td>0.028096</td>\n",
       "    </tr>\n",
       "    <tr>\n",
       "      <th>16</th>\n",
       "      <td>17</td>\n",
       "      <td>0.678458</td>\n",
       "      <td>0.034163</td>\n",
       "    </tr>\n",
       "    <tr>\n",
       "      <th>17</th>\n",
       "      <td>18</td>\n",
       "      <td>0.661067</td>\n",
       "      <td>0.033390</td>\n",
       "    </tr>\n",
       "    <tr>\n",
       "      <th>18</th>\n",
       "      <td>19</td>\n",
       "      <td>0.678458</td>\n",
       "      <td>0.033605</td>\n",
       "    </tr>\n",
       "    <tr>\n",
       "      <th>19</th>\n",
       "      <td>20</td>\n",
       "      <td>0.682806</td>\n",
       "      <td>0.032370</td>\n",
       "    </tr>\n",
       "    <tr>\n",
       "      <th>20</th>\n",
       "      <td>21</td>\n",
       "      <td>0.691502</td>\n",
       "      <td>0.032598</td>\n",
       "    </tr>\n",
       "    <tr>\n",
       "      <th>21</th>\n",
       "      <td>22</td>\n",
       "      <td>0.691700</td>\n",
       "      <td>0.028059</td>\n",
       "    </tr>\n",
       "    <tr>\n",
       "      <th>22</th>\n",
       "      <td>23</td>\n",
       "      <td>0.691502</td>\n",
       "      <td>0.029556</td>\n",
       "    </tr>\n",
       "    <tr>\n",
       "      <th>23</th>\n",
       "      <td>24</td>\n",
       "      <td>0.709091</td>\n",
       "      <td>0.023323</td>\n",
       "    </tr>\n",
       "    <tr>\n",
       "      <th>24</th>\n",
       "      <td>25</td>\n",
       "      <td>0.709289</td>\n",
       "      <td>0.028236</td>\n",
       "    </tr>\n",
       "    <tr>\n",
       "      <th>25</th>\n",
       "      <td>26</td>\n",
       "      <td>0.700198</td>\n",
       "      <td>0.023086</td>\n",
       "    </tr>\n",
       "    <tr>\n",
       "      <th>26</th>\n",
       "      <td>27</td>\n",
       "      <td>0.704743</td>\n",
       "      <td>0.022295</td>\n",
       "    </tr>\n",
       "    <tr>\n",
       "      <th>27</th>\n",
       "      <td>28</td>\n",
       "      <td>0.691304</td>\n",
       "      <td>0.024962</td>\n",
       "    </tr>\n",
       "    <tr>\n",
       "      <th>28</th>\n",
       "      <td>29</td>\n",
       "      <td>0.700198</td>\n",
       "      <td>0.023162</td>\n",
       "    </tr>\n",
       "  </tbody>\n",
       "</table>\n",
       "</div>"
      ],
      "text/plain": [
       "   n_neighbors  mean_test_score  sem_test_score\n",
       "0            1         0.545257        0.025015\n",
       "1            2         0.540711        0.028451\n",
       "2            3         0.620356        0.030874\n",
       "3            4         0.593676        0.023255\n",
       "4            5         0.643083        0.020684\n",
       "5            6         0.638735        0.017791\n",
       "6            7         0.669763        0.024999\n",
       "7            8         0.665020        0.025942\n",
       "8            9         0.669368        0.026770\n",
       "9           10         0.674111        0.024608\n",
       "10          11         0.678854        0.030562\n",
       "11          12         0.674111        0.027010\n",
       "12          13         0.674308        0.023543\n",
       "13          14         0.669763        0.025331\n",
       "14          15         0.669960        0.031179\n",
       "15          16         0.669763        0.028096\n",
       "16          17         0.678458        0.034163\n",
       "17          18         0.661067        0.033390\n",
       "18          19         0.678458        0.033605\n",
       "19          20         0.682806        0.032370\n",
       "20          21         0.691502        0.032598\n",
       "21          22         0.691700        0.028059\n",
       "22          23         0.691502        0.029556\n",
       "23          24         0.709091        0.023323\n",
       "24          25         0.709289        0.028236\n",
       "25          26         0.700198        0.023086\n",
       "26          27         0.704743        0.022295\n",
       "27          28         0.691304        0.024962\n",
       "28          29         0.700198        0.023162"
      ]
     },
     "execution_count": 140,
     "metadata": {},
     "output_type": "execute_result"
    }
   ],
   "source": [
    "#Extract and visualize accuracy vs. neighbors for a smaller parameter grid\n",
    "accuracies_grid = (\n",
    "    accuracies_grid[[\n",
    "        \"param_kneighborsclassifier__n_neighbors\",\n",
    "        \"mean_test_score\",\n",
    "        \"std_test_score\"\n",
    "    ]]\n",
    "    .assign(sem_test_score=accuracies_grid[\"std_test_score\"] / 10**(1/2))\n",
    "    .rename(columns={\"param_kneighborsclassifier__n_neighbors\": \"n_neighbors\"})\n",
    "    .drop(columns=[\"std_test_score\"])\n",
    ")\n",
    "accuracies_grid"
   ]
  },
  {
   "cell_type": "markdown",
   "id": "2ac95d71-e831-4981-9744-d556dc90a21e",
   "metadata": {},
   "source": [
    "***Table 10***: Refined Accuracy vs. Neighbors: Extracting and Preparing Data for Visualizing Model Performance Across a Smaller Parameter Grid Using Grid Search and 10-Fold Cross-Validation."
   ]
  },
  {
   "cell_type": "code",
   "execution_count": 141,
   "id": "553046f8-886e-41c3-a319-7820197cd4a4",
   "metadata": {
    "tags": []
   },
   "outputs": [
    {
     "data": {
      "text/html": [
       "\n",
       "<style>\n",
       "  #altair-viz-e4320ce505394beebebc47a4f3a78f13.vega-embed {\n",
       "    width: 100%;\n",
       "    display: flex;\n",
       "  }\n",
       "\n",
       "  #altair-viz-e4320ce505394beebebc47a4f3a78f13.vega-embed details,\n",
       "  #altair-viz-e4320ce505394beebebc47a4f3a78f13.vega-embed details summary {\n",
       "    position: relative;\n",
       "  }\n",
       "</style>\n",
       "<div id=\"altair-viz-e4320ce505394beebebc47a4f3a78f13\"></div>\n",
       "<script type=\"text/javascript\">\n",
       "  var VEGA_DEBUG = (typeof VEGA_DEBUG == \"undefined\") ? {} : VEGA_DEBUG;\n",
       "  (function(spec, embedOpt){\n",
       "    let outputDiv = document.currentScript.previousElementSibling;\n",
       "    if (outputDiv.id !== \"altair-viz-e4320ce505394beebebc47a4f3a78f13\") {\n",
       "      outputDiv = document.getElementById(\"altair-viz-e4320ce505394beebebc47a4f3a78f13\");\n",
       "    }\n",
       "    const paths = {\n",
       "      \"vega\": \"https://cdn.jsdelivr.net/npm/vega@5?noext\",\n",
       "      \"vega-lib\": \"https://cdn.jsdelivr.net/npm/vega-lib?noext\",\n",
       "      \"vega-lite\": \"https://cdn.jsdelivr.net/npm/vega-lite@5.16.3?noext\",\n",
       "      \"vega-embed\": \"https://cdn.jsdelivr.net/npm/vega-embed@6?noext\",\n",
       "    };\n",
       "\n",
       "    function maybeLoadScript(lib, version) {\n",
       "      var key = `${lib.replace(\"-\", \"\")}_version`;\n",
       "      return (VEGA_DEBUG[key] == version) ?\n",
       "        Promise.resolve(paths[lib]) :\n",
       "        new Promise(function(resolve, reject) {\n",
       "          var s = document.createElement('script');\n",
       "          document.getElementsByTagName(\"head\")[0].appendChild(s);\n",
       "          s.async = true;\n",
       "          s.onload = () => {\n",
       "            VEGA_DEBUG[key] = version;\n",
       "            return resolve(paths[lib]);\n",
       "          };\n",
       "          s.onerror = () => reject(`Error loading script: ${paths[lib]}`);\n",
       "          s.src = paths[lib];\n",
       "        });\n",
       "    }\n",
       "\n",
       "    function showError(err) {\n",
       "      outputDiv.innerHTML = `<div class=\"error\" style=\"color:red;\">${err}</div>`;\n",
       "      throw err;\n",
       "    }\n",
       "\n",
       "    function displayChart(vegaEmbed) {\n",
       "      vegaEmbed(outputDiv, spec, embedOpt)\n",
       "        .catch(err => showError(`Javascript Error: ${err.message}<br>This usually means there's a typo in your chart specification. See the javascript console for the full traceback.`));\n",
       "    }\n",
       "\n",
       "    if(typeof define === \"function\" && define.amd) {\n",
       "      requirejs.config({paths});\n",
       "      require([\"vega-embed\"], displayChart, err => showError(`Error loading script: ${err.message}`));\n",
       "    } else {\n",
       "      maybeLoadScript(\"vega\", \"5\")\n",
       "        .then(() => maybeLoadScript(\"vega-lite\", \"5.16.3\"))\n",
       "        .then(() => maybeLoadScript(\"vega-embed\", \"6\"))\n",
       "        .catch(showError)\n",
       "        .then(() => displayChart(vegaEmbed));\n",
       "    }\n",
       "  })({\"config\": {\"view\": {\"continuousWidth\": 300, \"continuousHeight\": 300}}, \"data\": {\"name\": \"data-4ad27967b98a3692bb0cfe19dcd82eda\"}, \"mark\": {\"type\": \"line\", \"point\": true}, \"encoding\": {\"x\": {\"field\": \"n_neighbors\", \"title\": \"Neighbors\", \"type\": \"quantitative\"}, \"y\": {\"field\": \"mean_test_score\", \"scale\": {\"domain\": [0.5, 0.8]}, \"title\": \"Accuracy estimate\", \"type\": \"quantitative\"}}, \"title\": \"line plot of estimated accuracy versus the number of neighbors\", \"$schema\": \"https://vega.github.io/schema/vega-lite/v5.16.3.json\", \"datasets\": {\"data-4ad27967b98a3692bb0cfe19dcd82eda\": [{\"n_neighbors\": 1, \"mean_test_score\": 0.5452569169960474, \"sem_test_score\": 0.02501456402162338}, {\"n_neighbors\": 2, \"mean_test_score\": 0.5407114624505929, \"sem_test_score\": 0.028450536875032035}, {\"n_neighbors\": 3, \"mean_test_score\": 0.6203557312252965, \"sem_test_score\": 0.030873651630150985}, {\"n_neighbors\": 4, \"mean_test_score\": 0.5936758893280633, \"sem_test_score\": 0.02325508439347481}, {\"n_neighbors\": 5, \"mean_test_score\": 0.6430830039525692, \"sem_test_score\": 0.02068444062923668}, {\"n_neighbors\": 6, \"mean_test_score\": 0.6387351778656126, \"sem_test_score\": 0.017790513394915306}, {\"n_neighbors\": 7, \"mean_test_score\": 0.6697628458498024, \"sem_test_score\": 0.024998945438552578}, {\"n_neighbors\": 8, \"mean_test_score\": 0.6650197628458498, \"sem_test_score\": 0.02594169943536662}, {\"n_neighbors\": 9, \"mean_test_score\": 0.6693675889328063, \"sem_test_score\": 0.026769794196032634}, {\"n_neighbors\": 10, \"mean_test_score\": 0.6741106719367589, \"sem_test_score\": 0.024608433458186838}, {\"n_neighbors\": 11, \"mean_test_score\": 0.6788537549407114, \"sem_test_score\": 0.03056188489685824}, {\"n_neighbors\": 12, \"mean_test_score\": 0.6741106719367588, \"sem_test_score\": 0.027010034050603662}, {\"n_neighbors\": 13, \"mean_test_score\": 0.6743083003952569, \"sem_test_score\": 0.02354318222275872}, {\"n_neighbors\": 14, \"mean_test_score\": 0.6697628458498024, \"sem_test_score\": 0.025331081151346135}, {\"n_neighbors\": 15, \"mean_test_score\": 0.6699604743083004, \"sem_test_score\": 0.031178982013059915}, {\"n_neighbors\": 16, \"mean_test_score\": 0.6697628458498023, \"sem_test_score\": 0.02809585868185369}, {\"n_neighbors\": 17, \"mean_test_score\": 0.6784584980237154, \"sem_test_score\": 0.034162924451108294}, {\"n_neighbors\": 18, \"mean_test_score\": 0.6610671936758893, \"sem_test_score\": 0.033389560549298404}, {\"n_neighbors\": 19, \"mean_test_score\": 0.6784584980237154, \"sem_test_score\": 0.03360503271367689}, {\"n_neighbors\": 20, \"mean_test_score\": 0.6828063241106719, \"sem_test_score\": 0.03237037115356283}, {\"n_neighbors\": 21, \"mean_test_score\": 0.691501976284585, \"sem_test_score\": 0.0325978542284365}, {\"n_neighbors\": 22, \"mean_test_score\": 0.691699604743083, \"sem_test_score\": 0.028059065546953164}, {\"n_neighbors\": 23, \"mean_test_score\": 0.691501976284585, \"sem_test_score\": 0.02955645755962982}, {\"n_neighbors\": 24, \"mean_test_score\": 0.7090909090909091, \"sem_test_score\": 0.023323172579334698}, {\"n_neighbors\": 25, \"mean_test_score\": 0.7092885375494071, \"sem_test_score\": 0.028235913135713723}, {\"n_neighbors\": 26, \"mean_test_score\": 0.7001976284584981, \"sem_test_score\": 0.023086269328838997}, {\"n_neighbors\": 27, \"mean_test_score\": 0.7047430830039526, \"sem_test_score\": 0.022294732598224492}, {\"n_neighbors\": 28, \"mean_test_score\": 0.691304347826087, \"sem_test_score\": 0.02496196860385527}, {\"n_neighbors\": 29, \"mean_test_score\": 0.7001976284584981, \"sem_test_score\": 0.02316227454738501}]}}, {\"mode\": \"vega-lite\"});\n",
       "</script>"
      ],
      "text/plain": [
       "alt.Chart(...)"
      ]
     },
     "execution_count": 141,
     "metadata": {},
     "output_type": "execute_result"
    }
   ],
   "source": [
    "#Extract and visualize accuracy vs. neighbors for a smaller parameter grid\n",
    "accuracy_vs_k = alt.Chart(accuracies_grid).mark_line(point=True).encode(\n",
    "    x=alt.X(\"n_neighbors\").title(\"Neighbors\"),\n",
    "    y=alt.Y(\"mean_test_score\")\n",
    "        .scale(domain=(0.5, 0.8))\n",
    "        .title(\"Accuracy estimate\")\n",
    ").properties(title='line plot of estimated accuracy versus the number of neighbors')\n",
    "\n",
    "accuracy_vs_k"
   ]
  },
  {
   "cell_type": "markdown",
   "id": "d26be2e6-2d44-4cd6-aa1c-def34f372661",
   "metadata": {},
   "source": [
    "***Fig.25***: Visualizing Accuracy vs. Neighbors: Line Plot Illustrating the Estimated Accuracy Across a Smaller Parameter Grid Using Grid Search and 10-Fold Cross-Validation."
   ]
  },
  {
   "cell_type": "markdown",
   "id": "85dc1807-de8d-43d7-8e9e-2c5e2d4dde92",
   "metadata": {
    "tags": []
   },
   "source": [
    "***most optimal K-value is 25 neighbors***"
   ]
  },
  {
   "cell_type": "markdown",
   "id": "eb867e27-45e2-44da-9260-6633631f3229",
   "metadata": {
    "tags": []
   },
   "source": [
    "# 7. Classification with K-nearest neighbors- Evaluating the model\n",
    "\n",
    "Here, we evaluated the model accuracy on the test set by predicating the outcomes against the recorded observations. we then used two methods to find out the accuracy (checking performance from test set and using the score method).  "
   ]
  },
  {
   "cell_type": "code",
   "execution_count": null,
   "id": "0e1acb1c-0fe6-4236-8dd1-a19354e3316e",
   "metadata": {},
   "outputs": [],
   "source": [
    "# 7"
   ]
  },
  {
   "cell_type": "code",
   "execution_count": 142,
   "id": "5c582c46-3dde-4113-b756-7d8c3de0fe0a",
   "metadata": {
    "tags": []
   },
   "outputs": [
    {
     "data": {
      "text/html": [
       "<div>\n",
       "<style scoped>\n",
       "    .dataframe tbody tr th:only-of-type {\n",
       "        vertical-align: middle;\n",
       "    }\n",
       "\n",
       "    .dataframe tbody tr th {\n",
       "        vertical-align: top;\n",
       "    }\n",
       "\n",
       "    .dataframe thead th {\n",
       "        text-align: right;\n",
       "    }\n",
       "</style>\n",
       "<table border=\"1\" class=\"dataframe\">\n",
       "  <thead>\n",
       "    <tr style=\"text-align: right;\">\n",
       "      <th></th>\n",
       "      <th>num</th>\n",
       "      <th>predicted</th>\n",
       "    </tr>\n",
       "  </thead>\n",
       "  <tbody>\n",
       "    <tr>\n",
       "      <th>11</th>\n",
       "      <td>0</td>\n",
       "      <td>0</td>\n",
       "    </tr>\n",
       "    <tr>\n",
       "      <th>292</th>\n",
       "      <td>1</td>\n",
       "      <td>1</td>\n",
       "    </tr>\n",
       "    <tr>\n",
       "      <th>269</th>\n",
       "      <td>0</td>\n",
       "      <td>1</td>\n",
       "    </tr>\n",
       "    <tr>\n",
       "      <th>268</th>\n",
       "      <td>1</td>\n",
       "      <td>0</td>\n",
       "    </tr>\n",
       "    <tr>\n",
       "      <th>94</th>\n",
       "      <td>0</td>\n",
       "      <td>0</td>\n",
       "    </tr>\n",
       "  </tbody>\n",
       "</table>\n",
       "</div>"
      ],
      "text/plain": [
       "     num  predicted\n",
       "11     0          0\n",
       "292    1          1\n",
       "269    0          1\n",
       "268    1          0\n",
       "94     0          0"
      ]
     },
     "execution_count": 142,
     "metadata": {},
     "output_type": "execute_result"
    }
   ],
   "source": [
    "#Evaluate model accuracy on the test set\n",
    "#predict the labels in the test set \n",
    "heart_test_predictions = heart_testdata.assign(\n",
    "    predicted = hknn_fit.predict(heart_testdata[[\"trestbps\", \"thalach\"]])\n",
    ")\n",
    "heart_test_predictions[['num', 'predicted']].head(5)"
   ]
  },
  {
   "cell_type": "markdown",
   "id": "b982bfbb-c083-45dc-8b58-6bcab4fb458d",
   "metadata": {},
   "source": [
    "***Table 11***: Model Evaluation on Test Set: Predicted Labels vs. Actual Labels for the First 5 Samples in the Heart Disease Test Data."
   ]
  },
  {
   "cell_type": "code",
   "execution_count": 143,
   "id": "82a99597-c2d1-46a3-b53e-c57eb3ecb552",
   "metadata": {
    "tags": []
   },
   "outputs": [
    {
     "data": {
      "text/plain": [
       "0.7368421052631579"
      ]
     },
     "execution_count": 143,
     "metadata": {},
     "output_type": "execute_result"
    }
   ],
   "source": [
    "#Evaluate model accuracy on the test set\n",
    "#check performance\n",
    "correct_preds = heart_test_predictions[\n",
    "    heart_test_predictions['num'] == heart_test_predictions['predicted']\n",
    "]\n",
    "\n",
    "correct_preds.shape[0] / heart_test_predictions.shape[0]"
   ]
  },
  {
   "cell_type": "code",
   "execution_count": 144,
   "id": "a44f9a22-562b-4567-a8ae-4b0e8173c1e0",
   "metadata": {
    "tags": []
   },
   "outputs": [
    {
     "data": {
      "text/plain": [
       "0.7368421052631579"
      ]
     },
     "execution_count": 144,
     "metadata": {},
     "output_type": "execute_result"
    }
   ],
   "source": [
    "#Evaluate model accuracy using score method\n",
    "heart_acc_1 = hknn_fit.score(\n",
    "    heart_testdata[[\"trestbps\", \"thalach\"]],\n",
    "    heart_testdata[\"num\"]\n",
    ")\n",
    "heart_acc_1"
   ]
  },
  {
   "cell_type": "markdown",
   "id": "ebc4009c-a868-41e8-851c-1843c2211f44",
   "metadata": {},
   "source": [
    "Accuracy is 73.4%"
   ]
  },
  {
   "cell_type": "code",
   "execution_count": 61,
   "id": "ff0f7077-f602-4970-b6f1-7f2d81867a96",
   "metadata": {
    "tags": []
   },
   "outputs": [
    {
     "data": {
      "text/html": [
       "<div>\n",
       "<style scoped>\n",
       "    .dataframe tbody tr th:only-of-type {\n",
       "        vertical-align: middle;\n",
       "    }\n",
       "\n",
       "    .dataframe tbody tr th {\n",
       "        vertical-align: top;\n",
       "    }\n",
       "\n",
       "    .dataframe thead th {\n",
       "        text-align: right;\n",
       "    }\n",
       "</style>\n",
       "<table border=\"1\" class=\"dataframe\">\n",
       "  <thead>\n",
       "    <tr style=\"text-align: right;\">\n",
       "      <th>predicted</th>\n",
       "      <th>0</th>\n",
       "      <th>1</th>\n",
       "    </tr>\n",
       "    <tr>\n",
       "      <th>num</th>\n",
       "      <th></th>\n",
       "      <th></th>\n",
       "    </tr>\n",
       "  </thead>\n",
       "  <tbody>\n",
       "    <tr>\n",
       "      <th>0</th>\n",
       "      <td>32</td>\n",
       "      <td>10</td>\n",
       "    </tr>\n",
       "    <tr>\n",
       "      <th>1</th>\n",
       "      <td>10</td>\n",
       "      <td>24</td>\n",
       "    </tr>\n",
       "  </tbody>\n",
       "</table>\n",
       "</div>"
      ],
      "text/plain": [
       "predicted   0   1\n",
       "num              \n",
       "0          32  10\n",
       "1          10  24"
      ]
     },
     "execution_count": 61,
     "metadata": {},
     "output_type": "execute_result"
    }
   ],
   "source": [
    "pd.crosstab(\n",
    "    heart_test_predictions[\"num\"],\n",
    "    heart_test_predictions[\"predicted\"]\n",
    ")"
   ]
  },
  {
   "cell_type": "markdown",
   "id": "289e2e32-a1ff-4dd1-b9db-97cb2475a94d",
   "metadata": {},
   "source": [
    "***Table 12***: Confusion Matrix: Cross-tabulation of Predicted vs. Actual Diagnosis Categories in the Heart Disease Test Set."
   ]
  },
  {
   "cell_type": "markdown",
   "id": "159ae468-0016-4b0f-b71c-4747d6adb9ab",
   "metadata": {},
   "source": [
    "the confusion matrix shows that 32 observations where predicted correctly as 0 (no diagnosis) and 24 as 1. it also shows that the classifier wrongly classified 10 as 1 when they were truly 0 and 10 as 0 when they were truly 1\n",
    "\n",
    "\n",
    "Accuracy = 73.7%, \n",
    "Precision = 76.2%, \n",
    "Recall = 76.2%"
   ]
  },
  {
   "cell_type": "code",
   "execution_count": 62,
   "id": "db355c7e-a5fe-49b0-a47f-b8c09e91723f",
   "metadata": {
    "tags": []
   },
   "outputs": [
    {
     "data": {
      "text/html": [
       "\n",
       "<style>\n",
       "  #altair-viz-4ee68ed9be7449a4a752c0717e33cc73.vega-embed {\n",
       "    width: 100%;\n",
       "    display: flex;\n",
       "  }\n",
       "\n",
       "  #altair-viz-4ee68ed9be7449a4a752c0717e33cc73.vega-embed details,\n",
       "  #altair-viz-4ee68ed9be7449a4a752c0717e33cc73.vega-embed details summary {\n",
       "    position: relative;\n",
       "  }\n",
       "</style>\n",
       "<div id=\"altair-viz-4ee68ed9be7449a4a752c0717e33cc73\"></div>\n",
       "<script type=\"text/javascript\">\n",
       "  var VEGA_DEBUG = (typeof VEGA_DEBUG == \"undefined\") ? {} : VEGA_DEBUG;\n",
       "  (function(spec, embedOpt){\n",
       "    let outputDiv = document.currentScript.previousElementSibling;\n",
       "    if (outputDiv.id !== \"altair-viz-4ee68ed9be7449a4a752c0717e33cc73\") {\n",
       "      outputDiv = document.getElementById(\"altair-viz-4ee68ed9be7449a4a752c0717e33cc73\");\n",
       "    }\n",
       "    const paths = {\n",
       "      \"vega\": \"https://cdn.jsdelivr.net/npm/vega@5?noext\",\n",
       "      \"vega-lib\": \"https://cdn.jsdelivr.net/npm/vega-lib?noext\",\n",
       "      \"vega-lite\": \"https://cdn.jsdelivr.net/npm/vega-lite@5.16.3?noext\",\n",
       "      \"vega-embed\": \"https://cdn.jsdelivr.net/npm/vega-embed@6?noext\",\n",
       "    };\n",
       "\n",
       "    function maybeLoadScript(lib, version) {\n",
       "      var key = `${lib.replace(\"-\", \"\")}_version`;\n",
       "      return (VEGA_DEBUG[key] == version) ?\n",
       "        Promise.resolve(paths[lib]) :\n",
       "        new Promise(function(resolve, reject) {\n",
       "          var s = document.createElement('script');\n",
       "          document.getElementsByTagName(\"head\")[0].appendChild(s);\n",
       "          s.async = true;\n",
       "          s.onload = () => {\n",
       "            VEGA_DEBUG[key] = version;\n",
       "            return resolve(paths[lib]);\n",
       "          };\n",
       "          s.onerror = () => reject(`Error loading script: ${paths[lib]}`);\n",
       "          s.src = paths[lib];\n",
       "        });\n",
       "    }\n",
       "\n",
       "    function showError(err) {\n",
       "      outputDiv.innerHTML = `<div class=\"error\" style=\"color:red;\">${err}</div>`;\n",
       "      throw err;\n",
       "    }\n",
       "\n",
       "    function displayChart(vegaEmbed) {\n",
       "      vegaEmbed(outputDiv, spec, embedOpt)\n",
       "        .catch(err => showError(`Javascript Error: ${err.message}<br>This usually means there's a typo in your chart specification. See the javascript console for the full traceback.`));\n",
       "    }\n",
       "\n",
       "    if(typeof define === \"function\" && define.amd) {\n",
       "      requirejs.config({paths});\n",
       "      require([\"vega-embed\"], displayChart, err => showError(`Error loading script: ${err.message}`));\n",
       "    } else {\n",
       "      maybeLoadScript(\"vega\", \"5\")\n",
       "        .then(() => maybeLoadScript(\"vega-lite\", \"5.16.3\"))\n",
       "        .then(() => maybeLoadScript(\"vega-embed\", \"6\"))\n",
       "        .catch(showError)\n",
       "        .then(() => displayChart(vegaEmbed));\n",
       "    }\n",
       "  })({\"config\": {\"view\": {\"continuousWidth\": 300, \"continuousHeight\": 300}}, \"data\": {\"name\": \"data-e8cdb51f134d8399d02d71e9c4e6cebc\"}, \"mark\": {\"type\": \"circle\", \"opacity\": 0.7}, \"encoding\": {\"color\": {\"field\": \"num\", \"title\": \"Diagnosis\", \"type\": \"nominal\"}, \"x\": {\"field\": \"thalach\", \"title\": \"Maximum heart rate achieved (bpm)\", \"type\": \"quantitative\"}, \"y\": {\"field\": \"trestbps\", \"title\": \"Resting blood pressure (mmHg)\", \"type\": \"quantitative\"}}, \"title\": \"Relationship between the Maximum heart rate and Resting blood pressure\", \"$schema\": \"https://vega.github.io/schema/vega-lite/v5.16.3.json\", \"datasets\": {\"data-e8cdb51f134d8399d02d71e9c4e6cebc\": [{\"age\": 56, \"sex\": 0, \"cp\": 2, \"trestbps\": 140, \"chol\": 294, \"fbs\": 0, \"restecg\": 2, \"thalach\": 153, \"exang\": 0, \"oldpeak\": 1.3, \"slope\": 2, \"ca\": 0.0, \"thal\": 3.0, \"num\": 0, \"predicted\": 0}, {\"age\": 44, \"sex\": 1, \"cp\": 4, \"trestbps\": 120, \"chol\": 169, \"fbs\": 0, \"restecg\": 0, \"thalach\": 144, \"exang\": 1, \"oldpeak\": 2.8, \"slope\": 3, \"ca\": 0.0, \"thal\": 6.0, \"num\": 1, \"predicted\": 1}, {\"age\": 42, \"sex\": 1, \"cp\": 3, \"trestbps\": 130, \"chol\": 180, \"fbs\": 0, \"restecg\": 0, \"thalach\": 150, \"exang\": 0, \"oldpeak\": 0.0, \"slope\": 1, \"ca\": 0.0, \"thal\": 3.0, \"num\": 0, \"predicted\": 1}, {\"age\": 40, \"sex\": 1, \"cp\": 4, \"trestbps\": 152, \"chol\": 223, \"fbs\": 0, \"restecg\": 0, \"thalach\": 181, \"exang\": 0, \"oldpeak\": 0.0, \"slope\": 1, \"ca\": 0.0, \"thal\": 7.0, \"num\": 1, \"predicted\": 0}, {\"age\": 63, \"sex\": 0, \"cp\": 3, \"trestbps\": 135, \"chol\": 252, \"fbs\": 0, \"restecg\": 2, \"thalach\": 172, \"exang\": 0, \"oldpeak\": 0.0, \"slope\": 1, \"ca\": 0.0, \"thal\": 3.0, \"num\": 0, \"predicted\": 0}, {\"age\": 64, \"sex\": 0, \"cp\": 4, \"trestbps\": 180, \"chol\": 325, \"fbs\": 0, \"restecg\": 0, \"thalach\": 154, \"exang\": 1, \"oldpeak\": 0.0, \"slope\": 1, \"ca\": 0.0, \"thal\": 3.0, \"num\": 0, \"predicted\": 1}, {\"age\": 53, \"sex\": 0, \"cp\": 4, \"trestbps\": 130, \"chol\": 264, \"fbs\": 0, \"restecg\": 2, \"thalach\": 143, \"exang\": 0, \"oldpeak\": 0.4, \"slope\": 2, \"ca\": 0.0, \"thal\": 3.0, \"num\": 0, \"predicted\": 1}, {\"age\": 64, \"sex\": 1, \"cp\": 1, \"trestbps\": 110, \"chol\": 211, \"fbs\": 0, \"restecg\": 2, \"thalach\": 144, \"exang\": 1, \"oldpeak\": 1.8, \"slope\": 2, \"ca\": 0.0, \"thal\": 3.0, \"num\": 0, \"predicted\": 0}, {\"age\": 60, \"sex\": 1, \"cp\": 4, \"trestbps\": 130, \"chol\": 253, \"fbs\": 0, \"restecg\": 0, \"thalach\": 144, \"exang\": 1, \"oldpeak\": 1.4, \"slope\": 1, \"ca\": 1.0, \"thal\": 7.0, \"num\": 1, \"predicted\": 1}, {\"age\": 69, \"sex\": 1, \"cp\": 1, \"trestbps\": 160, \"chol\": 234, \"fbs\": 1, \"restecg\": 2, \"thalach\": 131, \"exang\": 0, \"oldpeak\": 0.1, \"slope\": 2, \"ca\": 1.0, \"thal\": 3.0, \"num\": 0, \"predicted\": 1}, {\"age\": 57, \"sex\": 1, \"cp\": 3, \"trestbps\": 150, \"chol\": 126, \"fbs\": 1, \"restecg\": 0, \"thalach\": 173, \"exang\": 0, \"oldpeak\": 0.2, \"slope\": 1, \"ca\": 1.0, \"thal\": 7.0, \"num\": 0, \"predicted\": 0}, {\"age\": 60, \"sex\": 1, \"cp\": 4, \"trestbps\": 117, \"chol\": 230, \"fbs\": 1, \"restecg\": 0, \"thalach\": 160, \"exang\": 1, \"oldpeak\": 1.4, \"slope\": 1, \"ca\": 2.0, \"thal\": 7.0, \"num\": 1, \"predicted\": 0}, {\"age\": 57, \"sex\": 1, \"cp\": 4, \"trestbps\": 110, \"chol\": 201, \"fbs\": 0, \"restecg\": 0, \"thalach\": 126, \"exang\": 1, \"oldpeak\": 1.5, \"slope\": 2, \"ca\": 0.0, \"thal\": 6.0, \"num\": 0, \"predicted\": 1}, {\"age\": 67, \"sex\": 0, \"cp\": 4, \"trestbps\": 106, \"chol\": 223, \"fbs\": 0, \"restecg\": 0, \"thalach\": 142, \"exang\": 0, \"oldpeak\": 0.3, \"slope\": 1, \"ca\": 2.0, \"thal\": 3.0, \"num\": 0, \"predicted\": 0}, {\"age\": 67, \"sex\": 1, \"cp\": 4, \"trestbps\": 120, \"chol\": 237, \"fbs\": 0, \"restecg\": 0, \"thalach\": 71, \"exang\": 0, \"oldpeak\": 1.0, \"slope\": 2, \"ca\": 0.0, \"thal\": 3.0, \"num\": 1, \"predicted\": 1}, {\"age\": 43, \"sex\": 1, \"cp\": 4, \"trestbps\": 110, \"chol\": 211, \"fbs\": 0, \"restecg\": 0, \"thalach\": 161, \"exang\": 0, \"oldpeak\": 0.0, \"slope\": 1, \"ca\": 0.0, \"thal\": 7.0, \"num\": 0, \"predicted\": 0}, {\"age\": 48, \"sex\": 1, \"cp\": 4, \"trestbps\": 130, \"chol\": 256, \"fbs\": 1, \"restecg\": 2, \"thalach\": 150, \"exang\": 1, \"oldpeak\": 0.0, \"slope\": 1, \"ca\": 2.0, \"thal\": 7.0, \"num\": 1, \"predicted\": 1}, {\"age\": 47, \"sex\": 1, \"cp\": 3, \"trestbps\": 130, \"chol\": 253, \"fbs\": 0, \"restecg\": 0, \"thalach\": 179, \"exang\": 0, \"oldpeak\": 0.0, \"slope\": 1, \"ca\": 0.0, \"thal\": 3.0, \"num\": 0, \"predicted\": 0}, {\"age\": 59, \"sex\": 1, \"cp\": 1, \"trestbps\": 160, \"chol\": 273, \"fbs\": 0, \"restecg\": 2, \"thalach\": 125, \"exang\": 0, \"oldpeak\": 0.0, \"slope\": 1, \"ca\": 0.0, \"thal\": 3.0, \"num\": 1, \"predicted\": 1}, {\"age\": 51, \"sex\": 0, \"cp\": 3, \"trestbps\": 130, \"chol\": 256, \"fbs\": 0, \"restecg\": 2, \"thalach\": 149, \"exang\": 0, \"oldpeak\": 0.5, \"slope\": 1, \"ca\": 0.0, \"thal\": 3.0, \"num\": 0, \"predicted\": 1}, {\"age\": 68, \"sex\": 1, \"cp\": 3, \"trestbps\": 118, \"chol\": 277, \"fbs\": 0, \"restecg\": 0, \"thalach\": 151, \"exang\": 0, \"oldpeak\": 1.0, \"slope\": 1, \"ca\": 1.0, \"thal\": 7.0, \"num\": 0, \"predicted\": 0}, {\"age\": 47, \"sex\": 1, \"cp\": 4, \"trestbps\": 110, \"chol\": 275, \"fbs\": 0, \"restecg\": 2, \"thalach\": 118, \"exang\": 1, \"oldpeak\": 1.0, \"slope\": 2, \"ca\": 1.0, \"thal\": 3.0, \"num\": 1, \"predicted\": 1}, {\"age\": 41, \"sex\": 1, \"cp\": 2, \"trestbps\": 135, \"chol\": 203, \"fbs\": 0, \"restecg\": 0, \"thalach\": 132, \"exang\": 0, \"oldpeak\": 0.0, \"slope\": 2, \"ca\": 0.0, \"thal\": 6.0, \"num\": 0, \"predicted\": 1}, {\"age\": 44, \"sex\": 1, \"cp\": 4, \"trestbps\": 112, \"chol\": 290, \"fbs\": 0, \"restecg\": 2, \"thalach\": 153, \"exang\": 0, \"oldpeak\": 0.0, \"slope\": 1, \"ca\": 1.0, \"thal\": 3.0, \"num\": 1, \"predicted\": 0}, {\"age\": 64, \"sex\": 0, \"cp\": 3, \"trestbps\": 140, \"chol\": 313, \"fbs\": 0, \"restecg\": 0, \"thalach\": 133, \"exang\": 0, \"oldpeak\": 0.2, \"slope\": 1, \"ca\": 0.0, \"thal\": 7.0, \"num\": 0, \"predicted\": 1}, {\"age\": 41, \"sex\": 0, \"cp\": 2, \"trestbps\": 126, \"chol\": 306, \"fbs\": 0, \"restecg\": 0, \"thalach\": 163, \"exang\": 0, \"oldpeak\": 0.0, \"slope\": 1, \"ca\": 0.0, \"thal\": 3.0, \"num\": 0, \"predicted\": 0}, {\"age\": 54, \"sex\": 0, \"cp\": 2, \"trestbps\": 132, \"chol\": 288, \"fbs\": 1, \"restecg\": 2, \"thalach\": 159, \"exang\": 1, \"oldpeak\": 0.0, \"slope\": 1, \"ca\": 1.0, \"thal\": 3.0, \"num\": 0, \"predicted\": 0}, {\"age\": 59, \"sex\": 1, \"cp\": 4, \"trestbps\": 164, \"chol\": 176, \"fbs\": 1, \"restecg\": 2, \"thalach\": 90, \"exang\": 0, \"oldpeak\": 1.0, \"slope\": 2, \"ca\": 2.0, \"thal\": 6.0, \"num\": 1, \"predicted\": 1}, {\"age\": 53, \"sex\": 1, \"cp\": 4, \"trestbps\": 123, \"chol\": 282, \"fbs\": 0, \"restecg\": 0, \"thalach\": 95, \"exang\": 1, \"oldpeak\": 2.0, \"slope\": 2, \"ca\": 2.0, \"thal\": 7.0, \"num\": 1, \"predicted\": 1}, {\"age\": 52, \"sex\": 1, \"cp\": 1, \"trestbps\": 152, \"chol\": 298, \"fbs\": 1, \"restecg\": 0, \"thalach\": 178, \"exang\": 0, \"oldpeak\": 1.2, \"slope\": 2, \"ca\": 0.0, \"thal\": 7.0, \"num\": 0, \"predicted\": 0}, {\"age\": 57, \"sex\": 1, \"cp\": 4, \"trestbps\": 132, \"chol\": 207, \"fbs\": 0, \"restecg\": 0, \"thalach\": 168, \"exang\": 1, \"oldpeak\": 0.0, \"slope\": 1, \"ca\": 0.0, \"thal\": 7.0, \"num\": 0, \"predicted\": 0}, {\"age\": 57, \"sex\": 1, \"cp\": 3, \"trestbps\": 128, \"chol\": 229, \"fbs\": 0, \"restecg\": 2, \"thalach\": 150, \"exang\": 0, \"oldpeak\": 0.4, \"slope\": 2, \"ca\": 1.0, \"thal\": 7.0, \"num\": 1, \"predicted\": 1}, {\"age\": 70, \"sex\": 1, \"cp\": 4, \"trestbps\": 130, \"chol\": 322, \"fbs\": 0, \"restecg\": 2, \"thalach\": 109, \"exang\": 0, \"oldpeak\": 2.4, \"slope\": 2, \"ca\": 3.0, \"thal\": 3.0, \"num\": 1, \"predicted\": 1}, {\"age\": 58, \"sex\": 1, \"cp\": 4, \"trestbps\": 146, \"chol\": 218, \"fbs\": 0, \"restecg\": 0, \"thalach\": 105, \"exang\": 0, \"oldpeak\": 2.0, \"slope\": 2, \"ca\": 1.0, \"thal\": 7.0, \"num\": 1, \"predicted\": 1}, {\"age\": 53, \"sex\": 1, \"cp\": 4, \"trestbps\": 142, \"chol\": 226, \"fbs\": 0, \"restecg\": 2, \"thalach\": 111, \"exang\": 1, \"oldpeak\": 0.0, \"slope\": 1, \"ca\": 0.0, \"thal\": 7.0, \"num\": 0, \"predicted\": 1}, {\"age\": 44, \"sex\": 1, \"cp\": 2, \"trestbps\": 130, \"chol\": 219, \"fbs\": 0, \"restecg\": 2, \"thalach\": 188, \"exang\": 0, \"oldpeak\": 0.0, \"slope\": 1, \"ca\": 0.0, \"thal\": 3.0, \"num\": 0, \"predicted\": 0}, {\"age\": 40, \"sex\": 1, \"cp\": 1, \"trestbps\": 140, \"chol\": 199, \"fbs\": 0, \"restecg\": 0, \"thalach\": 178, \"exang\": 1, \"oldpeak\": 1.4, \"slope\": 1, \"ca\": 0.0, \"thal\": 7.0, \"num\": 0, \"predicted\": 0}, {\"age\": 40, \"sex\": 1, \"cp\": 4, \"trestbps\": 110, \"chol\": 167, \"fbs\": 0, \"restecg\": 2, \"thalach\": 114, \"exang\": 1, \"oldpeak\": 2.0, \"slope\": 2, \"ca\": 0.0, \"thal\": 7.0, \"num\": 1, \"predicted\": 1}, {\"age\": 52, \"sex\": 1, \"cp\": 2, \"trestbps\": 128, \"chol\": 205, \"fbs\": 1, \"restecg\": 0, \"thalach\": 184, \"exang\": 0, \"oldpeak\": 0.0, \"slope\": 1, \"ca\": 0.0, \"thal\": 3.0, \"num\": 0, \"predicted\": 0}, {\"age\": 65, \"sex\": 0, \"cp\": 3, \"trestbps\": 160, \"chol\": 360, \"fbs\": 0, \"restecg\": 2, \"thalach\": 151, \"exang\": 0, \"oldpeak\": 0.8, \"slope\": 1, \"ca\": 0.0, \"thal\": 3.0, \"num\": 0, \"predicted\": 1}, {\"age\": 62, \"sex\": 1, \"cp\": 4, \"trestbps\": 120, \"chol\": 267, \"fbs\": 0, \"restecg\": 0, \"thalach\": 99, \"exang\": 1, \"oldpeak\": 1.8, \"slope\": 2, \"ca\": 2.0, \"thal\": 7.0, \"num\": 1, \"predicted\": 1}, {\"age\": 61, \"sex\": 1, \"cp\": 4, \"trestbps\": 140, \"chol\": 207, \"fbs\": 0, \"restecg\": 2, \"thalach\": 138, \"exang\": 1, \"oldpeak\": 1.9, \"slope\": 1, \"ca\": 1.0, \"thal\": 7.0, \"num\": 1, \"predicted\": 1}, {\"age\": 52, \"sex\": 1, \"cp\": 4, \"trestbps\": 128, \"chol\": 204, \"fbs\": 1, \"restecg\": 0, \"thalach\": 156, \"exang\": 1, \"oldpeak\": 1.0, \"slope\": 2, \"ca\": 0.0, \"thal\": null, \"num\": 1, \"predicted\": 0}, {\"age\": 69, \"sex\": 0, \"cp\": 1, \"trestbps\": 140, \"chol\": 239, \"fbs\": 0, \"restecg\": 0, \"thalach\": 151, \"exang\": 0, \"oldpeak\": 1.8, \"slope\": 1, \"ca\": 2.0, \"thal\": 3.0, \"num\": 0, \"predicted\": 0}, {\"age\": 49, \"sex\": 1, \"cp\": 2, \"trestbps\": 130, \"chol\": 266, \"fbs\": 0, \"restecg\": 0, \"thalach\": 171, \"exang\": 0, \"oldpeak\": 0.6, \"slope\": 1, \"ca\": 0.0, \"thal\": 3.0, \"num\": 0, \"predicted\": 0}, {\"age\": 66, \"sex\": 1, \"cp\": 4, \"trestbps\": 112, \"chol\": 212, \"fbs\": 0, \"restecg\": 2, \"thalach\": 132, \"exang\": 1, \"oldpeak\": 0.1, \"slope\": 1, \"ca\": 1.0, \"thal\": 3.0, \"num\": 1, \"predicted\": 1}, {\"age\": 51, \"sex\": 1, \"cp\": 4, \"trestbps\": 140, \"chol\": 298, \"fbs\": 0, \"restecg\": 0, \"thalach\": 122, \"exang\": 1, \"oldpeak\": 4.2, \"slope\": 2, \"ca\": 3.0, \"thal\": 7.0, \"num\": 1, \"predicted\": 1}, {\"age\": 46, \"sex\": 0, \"cp\": 2, \"trestbps\": 105, \"chol\": 204, \"fbs\": 0, \"restecg\": 0, \"thalach\": 172, \"exang\": 0, \"oldpeak\": 0.0, \"slope\": 1, \"ca\": 0.0, \"thal\": 3.0, \"num\": 0, \"predicted\": 0}, {\"age\": 66, \"sex\": 1, \"cp\": 4, \"trestbps\": 120, \"chol\": 302, \"fbs\": 0, \"restecg\": 2, \"thalach\": 151, \"exang\": 0, \"oldpeak\": 0.4, \"slope\": 2, \"ca\": 0.0, \"thal\": 3.0, \"num\": 0, \"predicted\": 0}, {\"age\": 58, \"sex\": 1, \"cp\": 2, \"trestbps\": 120, \"chol\": 284, \"fbs\": 0, \"restecg\": 2, \"thalach\": 160, \"exang\": 0, \"oldpeak\": 1.8, \"slope\": 2, \"ca\": 0.0, \"thal\": 3.0, \"num\": 1, \"predicted\": 0}, {\"age\": 60, \"sex\": 0, \"cp\": 4, \"trestbps\": 158, \"chol\": 305, \"fbs\": 0, \"restecg\": 2, \"thalach\": 161, \"exang\": 0, \"oldpeak\": 0.0, \"slope\": 1, \"ca\": 0.0, \"thal\": 3.0, \"num\": 1, \"predicted\": 0}, {\"age\": 61, \"sex\": 1, \"cp\": 4, \"trestbps\": 148, \"chol\": 203, \"fbs\": 0, \"restecg\": 0, \"thalach\": 161, \"exang\": 0, \"oldpeak\": 0.0, \"slope\": 1, \"ca\": 1.0, \"thal\": 7.0, \"num\": 1, \"predicted\": 1}, {\"age\": 45, \"sex\": 1, \"cp\": 4, \"trestbps\": 104, \"chol\": 208, \"fbs\": 0, \"restecg\": 2, \"thalach\": 148, \"exang\": 1, \"oldpeak\": 3.0, \"slope\": 2, \"ca\": 0.0, \"thal\": 3.0, \"num\": 0, \"predicted\": 0}, {\"age\": 67, \"sex\": 1, \"cp\": 4, \"trestbps\": 125, \"chol\": 254, \"fbs\": 1, \"restecg\": 0, \"thalach\": 163, \"exang\": 0, \"oldpeak\": 0.2, \"slope\": 2, \"ca\": 2.0, \"thal\": 7.0, \"num\": 1, \"predicted\": 0}, {\"age\": 68, \"sex\": 1, \"cp\": 4, \"trestbps\": 144, \"chol\": 193, \"fbs\": 1, \"restecg\": 0, \"thalach\": 141, \"exang\": 0, \"oldpeak\": 3.4, \"slope\": 2, \"ca\": 2.0, \"thal\": 7.0, \"num\": 1, \"predicted\": 1}, {\"age\": 42, \"sex\": 1, \"cp\": 4, \"trestbps\": 140, \"chol\": 226, \"fbs\": 0, \"restecg\": 0, \"thalach\": 178, \"exang\": 0, \"oldpeak\": 0.0, \"slope\": 1, \"ca\": 0.0, \"thal\": 3.0, \"num\": 0, \"predicted\": 0}, {\"age\": 52, \"sex\": 1, \"cp\": 4, \"trestbps\": 128, \"chol\": 255, \"fbs\": 0, \"restecg\": 0, \"thalach\": 161, \"exang\": 1, \"oldpeak\": 0.0, \"slope\": 1, \"ca\": 1.0, \"thal\": 7.0, \"num\": 1, \"predicted\": 0}, {\"age\": 58, \"sex\": 0, \"cp\": 3, \"trestbps\": 120, \"chol\": 340, \"fbs\": 0, \"restecg\": 0, \"thalach\": 172, \"exang\": 0, \"oldpeak\": 0.0, \"slope\": 1, \"ca\": 0.0, \"thal\": 3.0, \"num\": 0, \"predicted\": 0}, {\"age\": 57, \"sex\": 1, \"cp\": 2, \"trestbps\": 124, \"chol\": 261, \"fbs\": 0, \"restecg\": 0, \"thalach\": 141, \"exang\": 0, \"oldpeak\": 0.3, \"slope\": 1, \"ca\": 0.0, \"thal\": 7.0, \"num\": 1, \"predicted\": 1}, {\"age\": 64, \"sex\": 1, \"cp\": 3, \"trestbps\": 125, \"chol\": 309, \"fbs\": 0, \"restecg\": 0, \"thalach\": 131, \"exang\": 1, \"oldpeak\": 1.8, \"slope\": 2, \"ca\": 0.0, \"thal\": 7.0, \"num\": 1, \"predicted\": 1}, {\"age\": 71, \"sex\": 0, \"cp\": 2, \"trestbps\": 160, \"chol\": 302, \"fbs\": 0, \"restecg\": 0, \"thalach\": 162, \"exang\": 0, \"oldpeak\": 0.4, \"slope\": 1, \"ca\": 2.0, \"thal\": 3.0, \"num\": 0, \"predicted\": 0}, {\"age\": 57, \"sex\": 0, \"cp\": 4, \"trestbps\": 128, \"chol\": 303, \"fbs\": 0, \"restecg\": 2, \"thalach\": 159, \"exang\": 0, \"oldpeak\": 0.0, \"slope\": 1, \"ca\": 1.0, \"thal\": 3.0, \"num\": 0, \"predicted\": 0}, {\"age\": 58, \"sex\": 0, \"cp\": 2, \"trestbps\": 136, \"chol\": 319, \"fbs\": 1, \"restecg\": 2, \"thalach\": 152, \"exang\": 0, \"oldpeak\": 0.0, \"slope\": 1, \"ca\": 2.0, \"thal\": 3.0, \"num\": 1, \"predicted\": 0}, {\"age\": 54, \"sex\": 1, \"cp\": 4, \"trestbps\": 110, \"chol\": 206, \"fbs\": 0, \"restecg\": 2, \"thalach\": 108, \"exang\": 1, \"oldpeak\": 0.0, \"slope\": 2, \"ca\": 1.0, \"thal\": 3.0, \"num\": 1, \"predicted\": 1}, {\"age\": 56, \"sex\": 1, \"cp\": 2, \"trestbps\": 130, \"chol\": 221, \"fbs\": 0, \"restecg\": 2, \"thalach\": 163, \"exang\": 0, \"oldpeak\": 0.0, \"slope\": 1, \"ca\": 0.0, \"thal\": 7.0, \"num\": 0, \"predicted\": 0}, {\"age\": 48, \"sex\": 1, \"cp\": 2, \"trestbps\": 130, \"chol\": 245, \"fbs\": 0, \"restecg\": 2, \"thalach\": 180, \"exang\": 0, \"oldpeak\": 0.2, \"slope\": 2, \"ca\": 0.0, \"thal\": 3.0, \"num\": 0, \"predicted\": 0}, {\"age\": 65, \"sex\": 1, \"cp\": 1, \"trestbps\": 138, \"chol\": 282, \"fbs\": 1, \"restecg\": 2, \"thalach\": 174, \"exang\": 0, \"oldpeak\": 1.4, \"slope\": 2, \"ca\": 1.0, \"thal\": 3.0, \"num\": 1, \"predicted\": 0}, {\"age\": 50, \"sex\": 0, \"cp\": 4, \"trestbps\": 110, \"chol\": 254, \"fbs\": 0, \"restecg\": 2, \"thalach\": 159, \"exang\": 0, \"oldpeak\": 0.0, \"slope\": 1, \"ca\": 0.0, \"thal\": 3.0, \"num\": 0, \"predicted\": 0}, {\"age\": 45, \"sex\": 0, \"cp\": 4, \"trestbps\": 138, \"chol\": 236, \"fbs\": 0, \"restecg\": 2, \"thalach\": 152, \"exang\": 1, \"oldpeak\": 0.2, \"slope\": 2, \"ca\": 0.0, \"thal\": 3.0, \"num\": 0, \"predicted\": 0}, {\"age\": 60, \"sex\": 1, \"cp\": 4, \"trestbps\": 130, \"chol\": 206, \"fbs\": 0, \"restecg\": 2, \"thalach\": 132, \"exang\": 1, \"oldpeak\": 2.4, \"slope\": 2, \"ca\": 2.0, \"thal\": 7.0, \"num\": 1, \"predicted\": 1}, {\"age\": 64, \"sex\": 1, \"cp\": 4, \"trestbps\": 145, \"chol\": 212, \"fbs\": 0, \"restecg\": 2, \"thalach\": 132, \"exang\": 0, \"oldpeak\": 2.0, \"slope\": 2, \"ca\": 2.0, \"thal\": 6.0, \"num\": 1, \"predicted\": 1}, {\"age\": 57, \"sex\": 1, \"cp\": 4, \"trestbps\": 152, \"chol\": 274, \"fbs\": 0, \"restecg\": 0, \"thalach\": 88, \"exang\": 1, \"oldpeak\": 1.2, \"slope\": 2, \"ca\": 1.0, \"thal\": 7.0, \"num\": 1, \"predicted\": 1}, {\"age\": 54, \"sex\": 1, \"cp\": 2, \"trestbps\": 108, \"chol\": 309, \"fbs\": 0, \"restecg\": 0, \"thalach\": 156, \"exang\": 0, \"oldpeak\": 0.0, \"slope\": 1, \"ca\": 0.0, \"thal\": 7.0, \"num\": 0, \"predicted\": 0}, {\"age\": 41, \"sex\": 0, \"cp\": 3, \"trestbps\": 112, \"chol\": 268, \"fbs\": 0, \"restecg\": 2, \"thalach\": 172, \"exang\": 1, \"oldpeak\": 0.0, \"slope\": 1, \"ca\": 0.0, \"thal\": 3.0, \"num\": 0, \"predicted\": 0}, {\"age\": 46, \"sex\": 0, \"cp\": 3, \"trestbps\": 142, \"chol\": 177, \"fbs\": 0, \"restecg\": 2, \"thalach\": 160, \"exang\": 1, \"oldpeak\": 1.4, \"slope\": 3, \"ca\": 0.0, \"thal\": 3.0, \"num\": 0, \"predicted\": 0}, {\"age\": 53, \"sex\": 1, \"cp\": 3, \"trestbps\": 130, \"chol\": 246, \"fbs\": 1, \"restecg\": 2, \"thalach\": 173, \"exang\": 0, \"oldpeak\": 0.0, \"slope\": 1, \"ca\": 3.0, \"thal\": 3.0, \"num\": 0, \"predicted\": 0}]}}, {\"mode\": \"vega-lite\"});\n",
       "</script>"
      ],
      "text/plain": [
       "alt.Chart(...)"
      ]
     },
     "execution_count": 62,
     "metadata": {},
     "output_type": "execute_result"
    }
   ],
   "source": [
    "results_plot = alt.Chart(heart_test_predictions).mark_circle(opacity =0.7).encode(\n",
    "    x=alt.X(\"thalach\").title(\"Maximum heart rate achieved (bpm)\"),\n",
    "    y=alt.Y(\"trestbps\").title(\"Resting blood pressure (mmHg)\"),\n",
    "    color=alt.Color(\"num:N\").title(\"Diagnosis\")\n",
    ").properties(title='Relationship between the Maximum heart rate and Resting blood pressure')\n",
    "results_plot"
   ]
  },
  {
   "cell_type": "markdown",
   "id": "41298f42-d612-4348-a55e-ecb196508a3f",
   "metadata": {},
   "source": [
    "***Fig 26***: Result Plot: Visualizing the Relationship Between Maximum Heart Rate and Resting Blood Pressure, Color-Coded by Heart Disease Symptoms."
   ]
  },
  {
   "cell_type": "markdown",
   "id": "fe4fc908-694f-4505-a453-15b329df9279",
   "metadata": {},
   "source": [
    "# Discussion"
   ]
  },
  {
   "cell_type": "markdown",
   "id": "4b8e82dc-6796-4177-902a-73317b2da2c6",
   "metadata": {},
   "source": [
    "Our analysis focused on predicting heart disease using two key variables: resting blood pressure (trestbps) and maximum heart rate achieved (thalach). Although we began our exploratory data analysis by looking at resting blood pressure and serum cholesterol (chol), we found that these variables overlapped quite a bit with each other (see Fig. 9), and thus switched to look at  resting blood pressure (trestbps) and maximum heart rate achieved (thalach) instead. Furthermore, in the original dataset, heart disease (num) was grouped into 5 different categories (on a scale of 0-4), with a higher number indicating higher severity. However, because of the uneven distribution between categories, we decided to group 1-4 together. Therefore, we classified observations into one of two categories: no heart disease symptoms (0) and heart disease symptoms of any severity (1) (see Fig. 17).\n",
    "\n",
    "Our results indicated a tangible correlation between the chosen features and the likelihood of heart disease. We found that resting blood pressure is positively correlated with heart disease, and that maximum heart rate achieved is negatively correlated with heart disease. These results are consistent with our initial hypothesis. Overall, our analysis demonstrates the effectiveness of these features in the context of heart disease prediction.\n",
    "\n",
    "Furthermore, we discovered that the optimal k-value is 25 neighbours, which gave us an accuracy score of 73.7%, meaning that our classifier predicted 73.7% of observations correctly. To improve our classifier, we could add more observations \n",
    "\n",
    "These findings could influence future medical practice, patient education, preventative medicine, and research funding. Some future questions include: \n",
    "- What are the predictors of high blood pressure and high maximum heart rate? \n",
    "- How can high blood pressure and low maximum heart rate be prevented? \n",
    "- What biological mechanism underlies the relationship between these factors? \n",
    "- Does the duration of high blood pressure and low maximum heart rate impact heart disease? \n",
    "- Are medications aimed at treating high blood pressure and low maximum heart rate effective in preventing heart disease? \n",
    "- What other factors play a role in this relationship, such as age and sex?"
   ]
  },
  {
   "cell_type": "markdown",
   "id": "be6832d9-6386-44f0-9434-1023896e7192",
   "metadata": {
    "tags": []
   },
   "source": [
    "# Conclusion"
   ]
  },
  {
   "cell_type": "markdown",
   "id": "70026ef6-2e39-4afd-a025-a0ce2b21e8a0",
   "metadata": {},
   "source": [
    "In summary, our research aimed to uncover whether resting blood pressure and maximum heart rate can predict the presence of heart disease. Completing this exploratory data analysis, we conclude that there is a positive relationship between resting blood pressure and heart disease. On the contrary,  a negative correlation was observed between maximum heart rate and heart disease, which was congruent with our hypothesis. With the machine learning and statistical modeling portion of our analysis, our classifier achieved an accuracy score of 73.7%. While our analysis is limited to a few observations, it sheds light on the influential, ever-changing landscape of clinical research, which can shape the lives of those affected by cardiovascular diseases. With our project, we're eager to see the future of data science in medicine. "
   ]
  },
  {
   "cell_type": "markdown",
   "id": "3f8fb258-7e0a-443c-8cc3-c424375dcf42",
   "metadata": {
    "tags": []
   },
   "source": [
    "# References"
   ]
  },
  {
   "cell_type": "markdown",
   "id": "127759a1-27dd-4d51-aa4b-88f67c6695e7",
   "metadata": {},
   "source": [
    "1. Janosi, A., Steinbrunn,W., Pfisterer, M., & Detrano,R. (1988). Heart Disease. *UCI Machine Learning Repository*. doi: 10.24432/C52P4X.\n",
    "2. Sandvik L., Erikssen J., Ellestad M., Erikssen G., Thaulow E., Mundal R., & Rodahl K. (1995). Heart rate increase and maximal heart rate during exercise as predictors of cardiovascular mortality: a 16-year follow-up study of 1960 healthy men. *Coronary Artery Disease*. doi: 10.1097/00019501-199508000-00012.\n",
    "3. Wu, CY., Hu, HY., Chou YJ., Huang N., Chou YC., & Li CP. (2015). High Blood Pressure and All-Cause and Cardiovascular Disease Mortalities in Community-Dwelling Older Adults. *Medicine (Baltimore)*. doi: 10.1097/MD.0000000000002160."
   ]
  },
  {
   "cell_type": "code",
   "execution_count": null,
   "id": "03a24077-28d3-4f0b-8be0-074ddfe05849",
   "metadata": {},
   "outputs": [],
   "source": []
  }
 ],
 "metadata": {
  "kernelspec": {
   "display_name": "Python 3 (ipykernel)",
   "language": "python",
   "name": "python3"
  },
  "language_info": {
   "codemirror_mode": {
    "name": "ipython",
    "version": 3
   },
   "file_extension": ".py",
   "mimetype": "text/x-python",
   "name": "python",
   "nbconvert_exporter": "python",
   "pygments_lexer": "ipython3",
   "version": "3.11.5"
  }
 },
 "nbformat": 4,
 "nbformat_minor": 5
}
